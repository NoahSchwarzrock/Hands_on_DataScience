{
 "cells": [
  {
   "cell_type": "code",
   "execution_count": 13,
   "metadata": {},
   "outputs": [
    {
     "data": {
      "text/html": [
       "<div>\n",
       "<style scoped>\n",
       "    .dataframe tbody tr th:only-of-type {\n",
       "        vertical-align: middle;\n",
       "    }\n",
       "\n",
       "    .dataframe tbody tr th {\n",
       "        vertical-align: top;\n",
       "    }\n",
       "\n",
       "    .dataframe thead th {\n",
       "        text-align: right;\n",
       "    }\n",
       "</style>\n",
       "<table border=\"1\" class=\"dataframe\">\n",
       "  <thead>\n",
       "    <tr style=\"text-align: right;\">\n",
       "      <th></th>\n",
       "      <th>Werte</th>\n",
       "      <th>Rang_first</th>\n",
       "      <th>Rang_min</th>\n",
       "      <th>Rang_max</th>\n",
       "      <th>Rang_avg</th>\n",
       "      <th>Rang_dense</th>\n",
       "    </tr>\n",
       "  </thead>\n",
       "  <tbody>\n",
       "    <tr>\n",
       "      <th>0</th>\n",
       "      <td>10</td>\n",
       "      <td>1.0</td>\n",
       "      <td>1.0</td>\n",
       "      <td>1.0</td>\n",
       "      <td>1.0</td>\n",
       "      <td>1.0</td>\n",
       "    </tr>\n",
       "    <tr>\n",
       "      <th>1</th>\n",
       "      <td>20</td>\n",
       "      <td>2.0</td>\n",
       "      <td>2.0</td>\n",
       "      <td>2.0</td>\n",
       "      <td>2.0</td>\n",
       "      <td>2.0</td>\n",
       "    </tr>\n",
       "    <tr>\n",
       "      <th>2</th>\n",
       "      <td>30</td>\n",
       "      <td>3.0</td>\n",
       "      <td>3.0</td>\n",
       "      <td>3.0</td>\n",
       "      <td>3.0</td>\n",
       "      <td>3.0</td>\n",
       "    </tr>\n",
       "    <tr>\n",
       "      <th>3</th>\n",
       "      <td>40</td>\n",
       "      <td>4.0</td>\n",
       "      <td>4.0</td>\n",
       "      <td>5.0</td>\n",
       "      <td>4.5</td>\n",
       "      <td>4.0</td>\n",
       "    </tr>\n",
       "    <tr>\n",
       "      <th>4</th>\n",
       "      <td>40</td>\n",
       "      <td>5.0</td>\n",
       "      <td>4.0</td>\n",
       "      <td>5.0</td>\n",
       "      <td>4.5</td>\n",
       "      <td>4.0</td>\n",
       "    </tr>\n",
       "    <tr>\n",
       "      <th>5</th>\n",
       "      <td>50</td>\n",
       "      <td>6.0</td>\n",
       "      <td>6.0</td>\n",
       "      <td>6.0</td>\n",
       "      <td>6.0</td>\n",
       "      <td>5.0</td>\n",
       "    </tr>\n",
       "  </tbody>\n",
       "</table>\n",
       "</div>"
      ],
      "text/plain": [
       "   Werte  Rang_first  Rang_min  Rang_max  Rang_avg  Rang_dense\n",
       "0     10         1.0       1.0       1.0       1.0         1.0\n",
       "1     20         2.0       2.0       2.0       2.0         2.0\n",
       "2     30         3.0       3.0       3.0       3.0         3.0\n",
       "3     40         4.0       4.0       5.0       4.5         4.0\n",
       "4     40         5.0       4.0       5.0       4.5         4.0\n",
       "5     50         6.0       6.0       6.0       6.0         5.0"
      ]
     },
     "metadata": {},
     "output_type": "display_data"
    }
   ],
   "source": [
    "import pandas as pd\n",
    "\n",
    "data = {'Werte': [10, 20, 30, 40, 40, 50]}\n",
    "df = pd.DataFrame(data)\n",
    "\n",
    "df['Rang_first'] = df['Werte'].rank(method='first', ascending=True)\n",
    "df['Rang_min'] = df['Werte'].rank(method='min', ascending=True)\n",
    "df['Rang_max'] = df['Werte'].rank(method='max', ascending=True)\n",
    "df['Rang_avg'] = df['Werte'].rank(method='average', ascending=True)\n",
    "df['Rang_dense'] = df['Werte'].rank(method='dense', ascending=True)\n",
    "display(df)"
   ]
  },
  {
   "cell_type": "markdown",
   "metadata": {},
   "source": [
    "# Je nach eingetrager Methode werden die gespeicherten Ränge überschrieben. z.b. bei average:\n",
    "    # 'first': [(1, 0, 1), (2, 4, 2), (3, 1, 3), (4, 3, 3), (5, 2, 5)]\n",
    "    # 'average': [(1, 0, 1), (2, 4, 2), (3.5, 1, 3), (3.5, 3, 3), (5, 2, 5)]\n",
    "    # 'min': [(1, 0, 1), (2, 4, 2), (3, 1, 3), (3, 3, 3), (5, 2, 5)]\n",
    "    # 'max': [(1, 0, 1), (2, 4, 2), (4, 1, 3), (4, 3, 3), (5, 2, 5)]\n",
    "    # 'dense': [(1, 0, 1), (2, 4, 2), (3, 1, 3), (3, 3, 3), (4, 2, 5)]"
   ]
  },
  {
   "cell_type": "markdown",
   "metadata": {},
   "source": []
  },
  {
   "cell_type": "code",
   "execution_count": 14,
   "metadata": {},
   "outputs": [],
   "source": [
    "import pandas as pd\n",
    "from numpy import mean\n",
    "\n",
    "# D A V E W A V E is here\n",
    "# marc 4 president🦫 BOBR!\n",
    "# marc 4 president🦫 BOBR!\n",
    "# marc 4 president🦫 BOBR!\n",
    "def avg(arg):\n",
    "    return sum(arg)/len(arg)\n",
    "\n",
    "def sort_by_og_order_and_return_only_first(liste):\n",
    "    return [x[0] for x in sorted(liste, key=lambda x:x[1])]\n",
    "\n",
    "def my_rank(values, method='average', ascending=True):\n",
    "    \n",
    "    # index merken [1,3,5,3,2] -> [(0, 1), (1, 3), (2, 5), (3, 3), (4, 2)]\n",
    "    indices_values = list(enumerate(values))\n",
    "    \n",
    "    # sortieren der liste nach dem zweiten eintrag: [(0, 1), (4, 2), (1, 3), (3, 3), (2, 5)]\n",
    "    sorted_indices_values = sorted(indices_values, key=lambda x: x[1])\n",
    "    \n",
    "    # Rang hinzufügen nach der Methode first: [(1, 0, 1), (2, 4, 2), (3, 1, 3), (4, 3, 3), (5, 2, 5)]\n",
    "    # (rang, ursprünglichen index, zahl selbst)\n",
    "    ranks_indices_values = [(rank, index, number) for rank, (index, number) \n",
    "                            in enumerate(sorted_indices_values, start=1)]\n",
    "\n",
    "    # Je nach eingetrager Methode werden die gespeicherten Ränge überschrieben. z.b. bei average:\n",
    "    # 'first': [(1, 0, 1), (2, 4, 2), (3, 1, 3), (4, 3, 3), (5, 2, 5)]\n",
    "    # 'average': [(1, 0, 1), (2, 4, 2), (3.5, 1, 3), (3.5, 3, 3), (5, 2, 5)]\n",
    "    # 'min': [(1, 0, 1), (2, 4, 2), (3, 1, 3), (3, 3, 3), (5, 2, 5)]\n",
    "    # 'max': [(1, 0, 1), (2, 4, 2), (4, 1, 3), (4, 3, 3), (5, 2, 5)]\n",
    "    # 'dense': [(1, 0, 1), (2, 4, 2), (3, 1, 3), (3, 3, 3), (4, 2, 5)]\n",
    "   \n",
    "    # ranks_indices_values = [(1, 0, 1), (2, 4, 2), (3, 1, 3), (4, 3, 3), (5, 2, 5)]\n",
    "    result = []\n",
    "    for rank, index, number in ranks_indices_values:\n",
    "\n",
    "        ranks_with_same_numbers_as_number = []\n",
    "        for rank_sec, index_sec, number_sec in ranks_indices_values:\n",
    "            if number == number_sec:\n",
    "                ranks_with_same_numbers_as_number.append(rank_sec)\n",
    "\n",
    "        if method == 'max':\n",
    "            new_rank = max(ranks_with_same_numbers_as_number)\n",
    "        elif method == 'min':\n",
    "            new_rank = min(ranks_with_same_numbers_as_number)\n",
    "        elif method == 'average':\n",
    "            new_rank = avg(ranks_with_same_numbers_as_number)\n",
    "        elif method == 'first':\n",
    "            new_rank = rank\n",
    "\n",
    "        result.append((new_rank, index, number))\n",
    "\n",
    "    # Erstelle eine Liste der Ränge sortiert nach dem ursprünglichen Index\n",
    "    # result = [1, 3.5, 5, 3.5, 2]\n",
    "    return sort_by_og_order_and_return_only_first(result)\n"
   ]
  },
  {
   "cell_type": "code",
   "execution_count": 15,
   "metadata": {},
   "outputs": [
    {
     "data": {
      "text/html": [
       "<div>\n",
       "<style scoped>\n",
       "    .dataframe tbody tr th:only-of-type {\n",
       "        vertical-align: middle;\n",
       "    }\n",
       "\n",
       "    .dataframe tbody tr th {\n",
       "        vertical-align: top;\n",
       "    }\n",
       "\n",
       "    .dataframe thead th {\n",
       "        text-align: right;\n",
       "    }\n",
       "</style>\n",
       "<table border=\"1\" class=\"dataframe\">\n",
       "  <thead>\n",
       "    <tr style=\"text-align: right;\">\n",
       "      <th></th>\n",
       "      <th>Marke</th>\n",
       "      <th>Antrieb</th>\n",
       "    </tr>\n",
       "  </thead>\n",
       "  <tbody>\n",
       "    <tr>\n",
       "      <th>0</th>\n",
       "      <td>VW</td>\n",
       "      <td>Allrad</td>\n",
       "    </tr>\n",
       "    <tr>\n",
       "      <th>1</th>\n",
       "      <td>Audi</td>\n",
       "      <td>Vorderrad</td>\n",
       "    </tr>\n",
       "    <tr>\n",
       "      <th>2</th>\n",
       "      <td>Mercedes</td>\n",
       "      <td>hinterrad</td>\n",
       "    </tr>\n",
       "  </tbody>\n",
       "</table>\n",
       "</div>"
      ],
      "text/plain": [
       "      Marke    Antrieb\n",
       "0        VW     Allrad\n",
       "1      Audi  Vorderrad\n",
       "2  Mercedes  hinterrad"
      ]
     },
     "execution_count": 15,
     "metadata": {},
     "output_type": "execute_result"
    }
   ],
   "source": [
    "data = {\"Marke\": [\"VW\", \"Audi\", \"Mercedes\"],\n",
    "        \"Antrieb\": [\"Allrad\", \"Vorderrad\", \"hinterrad\"]}\n",
    "\n",
    "df = pd.DataFrame(data)\n",
    "df"
   ]
  },
  {
   "cell_type": "code",
   "execution_count": 16,
   "metadata": {},
   "outputs": [
    {
     "name": "stdout",
     "output_type": "stream",
     "text": [
      "1    2\n",
      "2    2\n",
      "3    1\n",
      "4    1\n",
      "Name: count, dtype: int64\n"
     ]
    }
   ],
   "source": [
    "series = pd.Series([1,2,1,3,2,4])\n",
    "print(series.value_counts())"
   ]
  },
  {
   "cell_type": "markdown",
   "metadata": {},
   "source": [
    "# Sortiertes Wertediagramm"
   ]
  },
  {
   "cell_type": "code",
   "execution_count": 17,
   "metadata": {},
   "outputs": [
    {
     "data": {
      "text/plain": [
       "Wert\n",
       "0    1\n",
       "1    1\n",
       "2    2\n",
       "3    2\n",
       "4    2\n",
       "5    3\n",
       "Name: count, dtype: int64"
      ]
     },
     "metadata": {},
     "output_type": "display_data"
    },
    {
     "data": {
      "text/plain": [
       "<Axes: xlabel='Wert'>"
      ]
     },
     "execution_count": 17,
     "metadata": {},
     "output_type": "execute_result"
    },
    {
     "data": {
      "image/png": "[encoded data removed]",
      "text/plain": [
       "<Figure size 640x480 with 1 Axes>"
      ]
     },
     "metadata": {},
     "output_type": "display_data"
    }
   ],
   "source": [
    "data = [5, 3, 2, 3, 4, 4, 5, 2, 1, 5, 0]\n",
    "\n",
    "df = pd.DataFrame(data, columns=[\"Wert\"])\n",
    "\n",
    "\n",
    "df = df[\"Wert\"].value_counts().sort_index()\n",
    "display(df)\n",
    "\n",
    "df.plot(kind=\"bar\")\n"
   ]
  },
  {
   "cell_type": "markdown",
   "metadata": {},
   "source": [
    "Erstelle in Pandas ein DataFrame mit den folgenden Werten in einer Spalte:\n",
    " \n",
    "daten = [1, 2, 2, 3, 4, 4, 4, 5, 6, 6, 6, 6, 7, 8, 9, 9, 9, 9, 9, 10]\n",
    " \n",
    "Erstelle ein DataFrame, dass die Daten zunächst klassiert und dann die absoluten und relativen Häufigkeiten anzeigt:\n",
    " \n",
    "Beispielausgabe:\n",
    "\n",
    "Klasse\tAbsolute Häufigkeit\tRelative Häufigkeit\n",
    "(0, 3]\t4\t0.20\n",
    "(3, 6)\t8\t0.40\n",
    "(6, 9)\t7\t0.35\n",
    "(9, 12)\t1\t0.05\n",
    " \n",
    "Beachte, dass dieses Dataframe 2 Spalten hat und als Index die Klassen genutzt werden.\n",
    " \n",
    "Nutze, um diese Aufgabe zu erfüllen pandas Funktionen (es werden keine for-schleifen benötigt)"
   ]
  },
  {
   "cell_type": "code",
   "execution_count": 18,
   "metadata": {},
   "outputs": [
    {
     "data": {
      "text/html": [
       "<div>\n",
       "<style scoped>\n",
       "    .dataframe tbody tr th:only-of-type {\n",
       "        vertical-align: middle;\n",
       "    }\n",
       "\n",
       "    .dataframe tbody tr th {\n",
       "        vertical-align: top;\n",
       "    }\n",
       "\n",
       "    .dataframe thead th {\n",
       "        text-align: right;\n",
       "    }\n",
       "</style>\n",
       "<table border=\"1\" class=\"dataframe\">\n",
       "  <thead>\n",
       "    <tr style=\"text-align: right;\">\n",
       "      <th></th>\n",
       "      <th>Absolute Häufigkeit</th>\n",
       "      <th>Relative Häufigkeit</th>\n",
       "    </tr>\n",
       "  </thead>\n",
       "  <tbody>\n",
       "    <tr>\n",
       "      <th>(3, 6]</th>\n",
       "      <td>8</td>\n",
       "      <td>0.40</td>\n",
       "    </tr>\n",
       "    <tr>\n",
       "      <th>(6, 9]</th>\n",
       "      <td>7</td>\n",
       "      <td>0.35</td>\n",
       "    </tr>\n",
       "    <tr>\n",
       "      <th>(0, 3]</th>\n",
       "      <td>4</td>\n",
       "      <td>0.20</td>\n",
       "    </tr>\n",
       "    <tr>\n",
       "      <th>(9, 12]</th>\n",
       "      <td>1</td>\n",
       "      <td>0.05</td>\n",
       "    </tr>\n",
       "  </tbody>\n",
       "</table>\n",
       "</div>"
      ],
      "text/plain": [
       "         Absolute Häufigkeit  Relative Häufigkeit\n",
       "(3, 6]                     8                 0.40\n",
       "(6, 9]                     7                 0.35\n",
       "(0, 3]                     4                 0.20\n",
       "(9, 12]                    1                 0.05"
      ]
     },
     "metadata": {},
     "output_type": "display_data"
    }
   ],
   "source": [
    "daten = [1, 2, 2, 3, 4, 4, 4, 5, 6, 6, 6, 6, 7, 8, 9, 9, 9, 9, 9, 10]\n",
    "bins = [0, 3, 6, 9, 12]\n",
    "\n",
    "series = pd.Series(daten)\n",
    "\n",
    "classiefied_series = pd.cut(series, bins=bins, right=True)\n",
    "\n",
    "abs_frequency = classiefied_series.value_counts()\n",
    "rel_frequency = abs_frequency / len(series)\n",
    "\n",
    "classified_df = pd.DataFrame({\n",
    "    \"Absolute Häufigkeit\": abs_frequency,\n",
    "    \"Relative Häufigkeit\": rel_frequency\n",
    "})\n",
    "\n",
    "display(classified_df)"
   ]
  },
  {
   "cell_type": "markdown",
   "metadata": {},
   "source": [
    "Erstelle, für die letzte Aufgabe eine Funktion 'get_counts(ser, bins)', welche eine Series erwartet und das oben angegebene DataFrame zurückgibt. Schreibe hierfür Tests. (die Funktion get_counts kann bestenfalls noch mit anderen Parametern umgehen, um das zusammenspiel mit der cut-Funktion zu ermöglichen. Überlege, wie dies mit *args und **kwargs umgesetzt wird)"
   ]
  },
  {
   "cell_type": "code",
   "execution_count": 19,
   "metadata": {},
   "outputs": [
    {
     "data": {
      "text/html": [
       "<div>\n",
       "<style scoped>\n",
       "    .dataframe tbody tr th:only-of-type {\n",
       "        vertical-align: middle;\n",
       "    }\n",
       "\n",
       "    .dataframe tbody tr th {\n",
       "        vertical-align: top;\n",
       "    }\n",
       "\n",
       "    .dataframe thead th {\n",
       "        text-align: right;\n",
       "    }\n",
       "</style>\n",
       "<table border=\"1\" class=\"dataframe\">\n",
       "  <thead>\n",
       "    <tr style=\"text-align: right;\">\n",
       "      <th></th>\n",
       "      <th>Absolute Häufigkeit</th>\n",
       "      <th>Relative Häufigkeit</th>\n",
       "    </tr>\n",
       "  </thead>\n",
       "  <tbody>\n",
       "    <tr>\n",
       "      <th>(0, 3]</th>\n",
       "      <td>4</td>\n",
       "      <td>0.20</td>\n",
       "    </tr>\n",
       "    <tr>\n",
       "      <th>(3, 6]</th>\n",
       "      <td>8</td>\n",
       "      <td>0.40</td>\n",
       "    </tr>\n",
       "    <tr>\n",
       "      <th>(6, 9]</th>\n",
       "      <td>7</td>\n",
       "      <td>0.35</td>\n",
       "    </tr>\n",
       "    <tr>\n",
       "      <th>(9, 12]</th>\n",
       "      <td>1</td>\n",
       "      <td>0.05</td>\n",
       "    </tr>\n",
       "  </tbody>\n",
       "</table>\n",
       "</div>"
      ],
      "text/plain": [
       "         Absolute Häufigkeit  Relative Häufigkeit\n",
       "(0, 3]                     4                 0.20\n",
       "(3, 6]                     8                 0.40\n",
       "(6, 9]                     7                 0.35\n",
       "(9, 12]                    1                 0.05"
      ]
     },
     "execution_count": 19,
     "metadata": {},
     "output_type": "execute_result"
    }
   ],
   "source": [
    "def get_counts(series, bins, **cut_kwargs):\n",
    "    classiefied_series = pd.cut(series, bins=bins, **cut_kwargs)\n",
    "    \n",
    "    classified_df = pd.DataFrame({\n",
    "    \"Absolute Häufigkeit\": classiefied_series.value_counts(),\n",
    "    \"Relative Häufigkeit\": classiefied_series.value_counts(normalize=True)\n",
    "    }).sort_index()\n",
    "    \n",
    "    return classified_df\n",
    "\n",
    "get_counts(pd.Series([1, 2, 2, 3, 4, 4, 4, 5, 6, 6, 6, 6, 7, 8, 9, 9, 9, 9, 9, 10]), [0, 3, 6, 9, 12], right=True)"
   ]
  },
  {
   "cell_type": "markdown",
   "metadata": {},
   "source": [
    "# Wie kann man aus der Funktion 'get_counts' eine Methode der Klasse 'Series' machen, sodass direkt ser.get_counts() aufgerufen werden kann?"
   ]
  },
  {
   "cell_type": "code",
   "execution_count": 20,
   "metadata": {},
   "outputs": [],
   "source": [
    "pd.Series.get_counts = get_counts"
   ]
  },
  {
   "cell_type": "code",
   "execution_count": 21,
   "metadata": {},
   "outputs": [
    {
     "data": {
      "text/html": [
       "<div>\n",
       "<style scoped>\n",
       "    .dataframe tbody tr th:only-of-type {\n",
       "        vertical-align: middle;\n",
       "    }\n",
       "\n",
       "    .dataframe tbody tr th {\n",
       "        vertical-align: top;\n",
       "    }\n",
       "\n",
       "    .dataframe thead th {\n",
       "        text-align: right;\n",
       "    }\n",
       "</style>\n",
       "<table border=\"1\" class=\"dataframe\">\n",
       "  <thead>\n",
       "    <tr style=\"text-align: right;\">\n",
       "      <th></th>\n",
       "      <th>Absolute Häufigkeit</th>\n",
       "      <th>Relative Häufigkeit</th>\n",
       "    </tr>\n",
       "  </thead>\n",
       "  <tbody>\n",
       "    <tr>\n",
       "      <th>(0, 3]</th>\n",
       "      <td>4</td>\n",
       "      <td>0.20</td>\n",
       "    </tr>\n",
       "    <tr>\n",
       "      <th>(3, 6]</th>\n",
       "      <td>8</td>\n",
       "      <td>0.40</td>\n",
       "    </tr>\n",
       "    <tr>\n",
       "      <th>(6, 9]</th>\n",
       "      <td>7</td>\n",
       "      <td>0.35</td>\n",
       "    </tr>\n",
       "    <tr>\n",
       "      <th>(9, 12]</th>\n",
       "      <td>1</td>\n",
       "      <td>0.05</td>\n",
       "    </tr>\n",
       "  </tbody>\n",
       "</table>\n",
       "</div>"
      ],
      "text/plain": [
       "         Absolute Häufigkeit  Relative Häufigkeit\n",
       "(0, 3]                     4                 0.20\n",
       "(3, 6]                     8                 0.40\n",
       "(6, 9]                     7                 0.35\n",
       "(9, 12]                    1                 0.05"
      ]
     },
     "execution_count": 21,
     "metadata": {},
     "output_type": "execute_result"
    }
   ],
   "source": [
    "serie = pd.Series([1, 2, 2, 3, 4, 4, 4, 5, 6, 6, 6, 6, 7, 8, 9, 9, 9, 9, 9, 10])\n",
    "\n",
    "serie.get_counts([0, 3, 6, 9, 12], right=True)"
   ]
  },
  {
   "cell_type": "markdown",
   "metadata": {},
   "source": [
    "# Pandas Treppendiagram"
   ]
  },
  {
   "cell_type": "code",
   "execution_count": 22,
   "metadata": {},
   "outputs": [
    {
     "data": {
      "text/html": [
       "<div>\n",
       "<style scoped>\n",
       "    .dataframe tbody tr th:only-of-type {\n",
       "        vertical-align: middle;\n",
       "    }\n",
       "\n",
       "    .dataframe tbody tr th {\n",
       "        vertical-align: top;\n",
       "    }\n",
       "\n",
       "    .dataframe thead th {\n",
       "        text-align: right;\n",
       "    }\n",
       "</style>\n",
       "<table border=\"1\" class=\"dataframe\">\n",
       "  <thead>\n",
       "    <tr style=\"text-align: right;\">\n",
       "      <th></th>\n",
       "      <th>Absolute Häufigkeit</th>\n",
       "      <th>Relative Häufigkeit</th>\n",
       "    </tr>\n",
       "  </thead>\n",
       "  <tbody>\n",
       "    <tr>\n",
       "      <th>80</th>\n",
       "      <td>2</td>\n",
       "      <td>0.10</td>\n",
       "    </tr>\n",
       "    <tr>\n",
       "      <th>94</th>\n",
       "      <td>2</td>\n",
       "      <td>0.10</td>\n",
       "    </tr>\n",
       "    <tr>\n",
       "      <th>106</th>\n",
       "      <td>1</td>\n",
       "      <td>0.05</td>\n",
       "    </tr>\n",
       "    <tr>\n",
       "      <th>113</th>\n",
       "      <td>2</td>\n",
       "      <td>0.10</td>\n",
       "    </tr>\n",
       "    <tr>\n",
       "      <th>120</th>\n",
       "      <td>4</td>\n",
       "      <td>0.20</td>\n",
       "    </tr>\n",
       "    <tr>\n",
       "      <th>127</th>\n",
       "      <td>1</td>\n",
       "      <td>0.05</td>\n",
       "    </tr>\n",
       "    <tr>\n",
       "      <th>133</th>\n",
       "      <td>5</td>\n",
       "      <td>0.25</td>\n",
       "    </tr>\n",
       "    <tr>\n",
       "      <th>230</th>\n",
       "      <td>2</td>\n",
       "      <td>0.10</td>\n",
       "    </tr>\n",
       "    <tr>\n",
       "      <th>250</th>\n",
       "      <td>1</td>\n",
       "      <td>0.05</td>\n",
       "    </tr>\n",
       "  </tbody>\n",
       "</table>\n",
       "</div>"
      ],
      "text/plain": [
       "     Absolute Häufigkeit  Relative Häufigkeit\n",
       "80                     2                 0.10\n",
       "94                     2                 0.10\n",
       "106                    1                 0.05\n",
       "113                    2                 0.10\n",
       "120                    4                 0.20\n",
       "127                    1                 0.05\n",
       "133                    5                 0.25\n",
       "230                    2                 0.10\n",
       "250                    1                 0.05"
      ]
     },
     "metadata": {},
     "output_type": "display_data"
    }
   ],
   "source": [
    "import ast\n",
    "\n",
    "data = \"[127; 120; 133; 94; 133; 120; 133; 133; 113; 94; 230; 120; 230; 80; 113; 80; 120; 250; 133; 106]\"\n",
    "data = data.replace(\";\", \",\")\n",
    "data_list = ast.literal_eval(data)\n",
    "data_series = pd.Series(data_list)\n",
    "\n",
    "df = pd.DataFrame({\n",
    "    \"Absolute Häufigkeit\": data_series.value_counts(),\n",
    "    \"Relative Häufigkeit\": data_series.value_counts(normalize=True)\n",
    "}).sort_index()\n",
    "\n",
    "display(df)\n"
   ]
  },
  {
   "cell_type": "code",
   "execution_count": 23,
   "metadata": {},
   "outputs": [
    {
     "data": {
      "image/png": "[encoded data removed]",
      "text/plain": [
       "<Figure size 640x480 with 1 Axes>"
      ]
     },
     "metadata": {},
     "output_type": "display_data"
    }
   ],
   "source": [
    "import matplotlib.pyplot as plt\n",
    "\n",
    "# Gegebene Daten\n",
    "data = \"[127; 120; 133; 94; 133; 120; 133; 133; 113; 94; 230; 120; 230; 80; 113; 80; 120; 250; 133; 106]\"\n",
    "data = data.replace(\";\", \",\")\n",
    "data_list = ast.literal_eval(data)\n",
    "data_series = pd.Series(data_list)\n",
    "\n",
    "# Daten in DataFrame\n",
    "df = pd.DataFrame(data_series, columns=[\"Wert\"])\n",
    "\n",
    "# Kumulative absolute Häufigkeiten berechnen\n",
    "df[\"Kumulative Häufigkeit\"] = df[\"Wert\"].rank(method=\"max\").astype(int)\n",
    "\n",
    "# Entferne Duplikate für die AEVF\n",
    "aevf_df = df.drop_duplicates(subset=[\"Wert\"]).sort_values(by=\"Wert\")\n",
    "\n",
    "# Plot der AEVF\n",
    "plt.step(aevf_df[\"Wert\"], aevf_df[\"Kumulative Häufigkeit\"], where=\"post\")\n",
    "plt.title(\"Absolute empirische Verteilungsfunktion\")\n",
    "plt.xlim(left=0)\n",
    "plt.xlabel(\"Wert\")\n",
    "plt.ylabel(\"Kumulative Häufigkeit\")\n",
    "plt.grid()\n",
    "plt.show()\n"
   ]
  },
  {
   "cell_type": "code",
   "execution_count": 24,
   "metadata": {},
   "outputs": [
    {
     "data": {
      "image/png": "[encoded data removed]",
      "text/plain": [
       "<Figure size 640x480 with 1 Axes>"
      ]
     },
     "metadata": {},
     "output_type": "display_data"
    },
    {
     "data": {
      "image/png": "[encoded data removed]",
      "text/plain": [
       "<Figure size 640x480 with 1 Axes>"
      ]
     },
     "metadata": {},
     "output_type": "display_data"
    }
   ],
   "source": [
    "import pandas as pd\n",
    "import seaborn as sns\n",
    "import matplotlib.pyplot as plt\n",
    "df=pd.DataFrame([127, 120, 133, 94, 133, 120, 133, 133, 113, 94, 230, 120, 230, 80, 113, 80, 120, 250, 133, 106])\n",
    "sns.ecdfplot(data=df)\n",
    "plt.xlim(left=0)\n",
    "plt.show()\n",
    "sns.ecdfplot(stat = \"count\", data=df)\n",
    "plt.xlim(left=0)\n",
    "plt.show()"
   ]
  },
  {
   "cell_type": "markdown",
   "metadata": {},
   "source": [
    "# Modal-Wert"
   ]
  },
  {
   "cell_type": "code",
   "execution_count": 25,
   "metadata": {},
   "outputs": [],
   "source": [
    "import numpy as np\n",
    "def my_modus(liste):    \n",
    "    if not liste:        \n",
    "        return np.nan   \n",
    "    return _my_modus(liste)\n",
    "\n",
    "def _my_modus(liste):    \n",
    "    frequency = {value: liste.count(value) for value in set(liste)}    \n",
    "    return max(frequency, key=frequency.get)"
   ]
  },
  {
   "cell_type": "code",
   "execution_count": 26,
   "metadata": {},
   "outputs": [],
   "source": [
    "def get_modal_value(data):\n",
    "    if not data:\n",
    "        raise ValueError(\"Cant calculate Modal value for empty array like sequence.\")\n",
    "    my_dict = {}\n",
    "    for num in sorted(data):\n",
    "        my_dict[num] = my_dict.get(num, 0) + 1\n",
    "\n",
    "    max_val = max(my_dict.values())\n",
    "    modal_val = [key for key, value in my_dict.items() if max_val == value]\n",
    "    return modal_val"
   ]
  },
  {
   "cell_type": "code",
   "execution_count": 27,
   "metadata": {},
   "outputs": [
    {
     "name": "stderr",
     "output_type": "stream",
     "text": [
      "........F......F\n",
      "======================================================================\n",
      "FAIL: test_p_quantil_1 (__main__.Test_p_quantil.test_p_quantil_1)\n",
      "----------------------------------------------------------------------\n",
      "Traceback (most recent call last):\n",
      "  File \"/Users/vww3imy/Library/CloudStorage/OneDrive-VolkswagenAG/Fakultät 73/Data_Science/.venv/lib/python3.13/site-packages/parameterized/parameterized.py\", line 620, in standalone_func\n",
      "    return func(*(a + p.args), **p.kwargs, **kw)\n",
      "  File \"/var/folders/00/02tsycp12q53nd49sw0v4c_00000gq/T/ipykernel_46761/2626224633.py\", line 17, in test_p_quantil\n",
      "    self.assertEqual(p_quantil(data_series, quantile_percantage), expected)\n",
      "    ~~~~~~~~~~~~~~~~^^^^^^^^^^^^^^^^^^^^^^^^^^^^^^^^^^^^^^^^^^^^^^^^^^^^^^^\n",
      "AssertionError: 4.5 != 3.5\n",
      "\n",
      "======================================================================\n",
      "FAIL: test_p_quantil_8 (__main__.Test_p_quantil.test_p_quantil_8)\n",
      "----------------------------------------------------------------------\n",
      "Traceback (most recent call last):\n",
      "  File \"/Users/vww3imy/Library/CloudStorage/OneDrive-VolkswagenAG/Fakultät 73/Data_Science/.venv/lib/python3.13/site-packages/parameterized/parameterized.py\", line 620, in standalone_func\n",
      "    return func(*(a + p.args), **p.kwargs, **kw)\n",
      "  File \"/var/folders/00/02tsycp12q53nd49sw0v4c_00000gq/T/ipykernel_46761/2626224633.py\", line 17, in test_p_quantil\n",
      "    self.assertEqual(p_quantil(data_series, quantile_percantage), expected)\n",
      "    ~~~~~~~~~~~~~~~~^^^^^^^^^^^^^^^^^^^^^^^^^^^^^^^^^^^^^^^^^^^^^^^^^^^^^^^\n",
      "AssertionError: 22.0 != 20\n",
      "\n",
      "----------------------------------------------------------------------\n",
      "Ran 16 tests in 0.004s\n",
      "\n",
      "FAILED (failures=2)\n"
     ]
    },
    {
     "name": "stdout",
     "output_type": "stream",
     "text": [
      "0 1\n",
      "3 4\n",
      "3 4\n",
      "1 2\n",
      "4 5\n",
      "1 2\n",
      "14 15\n"
     ]
    }
   ],
   "source": [
    "import unittest\n",
    "from parameterized import parameterized\n",
    "\n",
    "class TestModalValue(unittest.TestCase):\n",
    "    \n",
    "    @parameterized.expand([\n",
    "        [[127, 120, 133, 94, 133, 120, 133, 133, 113, 94, 230, 120, 230, 80, 113, 80, 120, 250, 133, 106, 44, 44, 44, 44, 44], [44, 133]],\n",
    "        [[1, 2, 3, 3, 3, 4, 5, 6, 6, 7], [3]],\n",
    "        [[1, 1, 1, 2, 3, 4, 5, 5, 5, 5], [5]],\n",
    "        [[\"pink\", \"silber\", \"pink\"], [\"pink\"]],\n",
    "        [[\"a\", \"b\", \"b\", \"a\", \"c\", \"a\"], [\"a\"]],\n",
    "        [[\"dog\", \"cat\", \"dog\", \"dog\", \"mouse\", \"cat\"], [\"dog\"]]\n",
    "    ])\n",
    "    \n",
    "    def test_modal_val_success(self, values, expected):\n",
    "        self.assertEqual(get_modal_value(values), expected)\n",
    "    \n",
    "    def test_value_error(self):\n",
    "        with self.assertRaises(ValueError) as context:\n",
    "            get_modal_value([])\n",
    "        self.assertEqual(str(context.exception), \"Cant calculate Modal value for empty array like sequence.\")\n",
    "    \n",
    "if __name__ == '__main__':\n",
    "    unittest.main(argv=[''], exit=False)"
   ]
  },
  {
   "cell_type": "markdown",
   "metadata": {},
   "source": [
    "# Mean-Wert"
   ]
  },
  {
   "cell_type": "code",
   "execution_count": 28,
   "metadata": {},
   "outputs": [],
   "source": [
    "def get_mean_value(data):\n",
    "    if not data:\n",
    "        raise ValueError(\"The input data is empty. Cannot calculate mean value.\")\n",
    "\n",
    "    if not isinstance(data, (list, tuple, set)):\n",
    "        raise TypeError(\"Input data must be a list, tuple, or set.\")\n",
    "\n",
    "    if not all(isinstance(x, (int, float)) for x in data):\n",
    "        raise ValueError(\"All elements in the input data must be numeric.\")\n",
    "    \n",
    "    return sum(data) / len(data)"
   ]
  },
  {
   "cell_type": "code",
   "execution_count": 29,
   "metadata": {},
   "outputs": [
    {
     "name": "stderr",
     "output_type": "stream",
     "text": [
      "..............F......F\n",
      "======================================================================\n",
      "FAIL: test_p_quantil_1 (__main__.Test_p_quantil.test_p_quantil_1)\n",
      "----------------------------------------------------------------------\n",
      "Traceback (most recent call last):\n",
      "  File \"/Users/vww3imy/Library/CloudStorage/OneDrive-VolkswagenAG/Fakultät 73/Data_Science/.venv/lib/python3.13/site-packages/parameterized/parameterized.py\", line 620, in standalone_func\n",
      "    return func(*(a + p.args), **p.kwargs, **kw)\n",
      "  File \"/var/folders/00/02tsycp12q53nd49sw0v4c_00000gq/T/ipykernel_46761/2626224633.py\", line 17, in test_p_quantil\n",
      "    self.assertEqual(p_quantil(data_series, quantile_percantage), expected)\n",
      "    ~~~~~~~~~~~~~~~~^^^^^^^^^^^^^^^^^^^^^^^^^^^^^^^^^^^^^^^^^^^^^^^^^^^^^^^\n",
      "AssertionError: 4.5 != 3.5\n",
      "\n",
      "======================================================================\n",
      "FAIL: test_p_quantil_8 (__main__.Test_p_quantil.test_p_quantil_8)\n",
      "----------------------------------------------------------------------\n",
      "Traceback (most recent call last):\n",
      "  File \"/Users/vww3imy/Library/CloudStorage/OneDrive-VolkswagenAG/Fakultät 73/Data_Science/.venv/lib/python3.13/site-packages/parameterized/parameterized.py\", line 620, in standalone_func\n",
      "    return func(*(a + p.args), **p.kwargs, **kw)\n",
      "  File \"/var/folders/00/02tsycp12q53nd49sw0v4c_00000gq/T/ipykernel_46761/2626224633.py\", line 17, in test_p_quantil\n",
      "    self.assertEqual(p_quantil(data_series, quantile_percantage), expected)\n",
      "    ~~~~~~~~~~~~~~~~^^^^^^^^^^^^^^^^^^^^^^^^^^^^^^^^^^^^^^^^^^^^^^^^^^^^^^^\n",
      "AssertionError: 22.0 != 20\n",
      "\n",
      "----------------------------------------------------------------------\n",
      "Ran 22 tests in 0.005s\n",
      "\n",
      "FAILED (failures=2)\n"
     ]
    },
    {
     "name": "stdout",
     "output_type": "stream",
     "text": [
      "0 1\n",
      "3 4\n",
      "3 4\n",
      "1 2\n",
      "4 5\n",
      "1 2\n",
      "14 15\n"
     ]
    }
   ],
   "source": [
    "import unittest\n",
    "from parameterized import parameterized\n",
    "\n",
    "class TestMeanValue(unittest.TestCase):\n",
    "    \n",
    "    @parameterized.expand([\n",
    "        [[1, 2, 3, 4, 5], 3.0],\n",
    "        [[10, 10, 10, 10], 10.0],\n",
    "        [[0], 0.0]\n",
    "    ])\n",
    "    def test_mean_value_success(self, values, expected):\n",
    "        self.assertAlmostEqual(get_mean_value(values), expected)\n",
    "\n",
    "    def test_empty_data(self):\n",
    "        with self.assertRaises(ValueError) as context:\n",
    "            get_mean_value([])\n",
    "        self.assertEqual(str(context.exception), \"The input data is empty. Cannot calculate mean value.\")\n",
    "        \n",
    "    def test_invalid_type(self):\n",
    "        with self.assertRaises(TypeError) as context:\n",
    "            get_mean_value(\"string instead of list\")\n",
    "        self.assertEqual(str(context.exception), \"Input data must be a list, tuple, or set.\")\n",
    "        \n",
    "    def test_non_numeric_values(self):\n",
    "        with self.assertRaises(ValueError) as context:\n",
    "            get_mean_value([1, 2, \"three\", 4])\n",
    "        self.assertEqual(str(context.exception), \"All elements in the input data must be numeric.\")\n",
    "\n",
    "if __name__ == '__main__':\n",
    "    unittest.main(argv=[''], exit=False)"
   ]
  },
  {
   "cell_type": "markdown",
   "metadata": {},
   "source": [
    "# Median-Wert"
   ]
  },
  {
   "cell_type": "code",
   "execution_count": 30,
   "metadata": {},
   "outputs": [],
   "source": [
    "def get_median_value(data):\n",
    "    if not data:\n",
    "        raise ValueError(\"The input data is empty. Cannot calculate median value.\")\n",
    "    \n",
    "    if not isinstance(data, (list, tuple, set)):\n",
    "        raise TypeError(\"Input data must be a list, tuple, or set.\")\n",
    "    \n",
    "    if not all(isinstance(x, (int, float)) for x in data):\n",
    "        raise ValueError(\"All elements in the input data must be numeric.\")\n",
    "\n",
    "    data = sorted(data)\n",
    "    n = len(data)\n",
    "    \n",
    "    if n % 2 != 0:\n",
    "        return data[n // 2]\n",
    "    else:\n",
    "        return 0.5 * (data[(n // 2) - 1] + data[n // 2])"
   ]
  },
  {
   "cell_type": "code",
   "execution_count": 31,
   "metadata": {},
   "outputs": [
    {
     "name": "stderr",
     "output_type": "stream",
     "text": [
      ".......................F......F\n",
      "======================================================================\n",
      "FAIL: test_p_quantil_1 (__main__.Test_p_quantil.test_p_quantil_1)\n",
      "----------------------------------------------------------------------\n",
      "Traceback (most recent call last):\n",
      "  File \"/Users/vww3imy/Library/CloudStorage/OneDrive-VolkswagenAG/Fakultät 73/Data_Science/.venv/lib/python3.13/site-packages/parameterized/parameterized.py\", line 620, in standalone_func\n",
      "    return func(*(a + p.args), **p.kwargs, **kw)\n",
      "  File \"/var/folders/00/02tsycp12q53nd49sw0v4c_00000gq/T/ipykernel_46761/2626224633.py\", line 17, in test_p_quantil\n",
      "    self.assertEqual(p_quantil(data_series, quantile_percantage), expected)\n",
      "    ~~~~~~~~~~~~~~~~^^^^^^^^^^^^^^^^^^^^^^^^^^^^^^^^^^^^^^^^^^^^^^^^^^^^^^^\n",
      "AssertionError: 4.5 != 3.5\n",
      "\n",
      "======================================================================\n",
      "FAIL: test_p_quantil_8 (__main__.Test_p_quantil.test_p_quantil_8)\n",
      "----------------------------------------------------------------------\n",
      "Traceback (most recent call last):\n",
      "  File \"/Users/vww3imy/Library/CloudStorage/OneDrive-VolkswagenAG/Fakultät 73/Data_Science/.venv/lib/python3.13/site-packages/parameterized/parameterized.py\", line 620, in standalone_func\n",
      "    return func(*(a + p.args), **p.kwargs, **kw)\n",
      "  File \"/var/folders/00/02tsycp12q53nd49sw0v4c_00000gq/T/ipykernel_46761/2626224633.py\", line 17, in test_p_quantil\n",
      "    self.assertEqual(p_quantil(data_series, quantile_percantage), expected)\n",
      "    ~~~~~~~~~~~~~~~~^^^^^^^^^^^^^^^^^^^^^^^^^^^^^^^^^^^^^^^^^^^^^^^^^^^^^^^\n",
      "AssertionError: 22.0 != 20\n",
      "\n",
      "----------------------------------------------------------------------\n",
      "Ran 31 tests in 0.007s\n",
      "\n",
      "FAILED (failures=2)\n"
     ]
    },
    {
     "name": "stdout",
     "output_type": "stream",
     "text": [
      "0 1\n",
      "3 4\n",
      "3 4\n",
      "1 2\n",
      "4 5\n",
      "1 2\n",
      "14 15\n"
     ]
    }
   ],
   "source": [
    "import unittest\n",
    "from parameterized import parameterized\n",
    "\n",
    "class TestMedianValue(unittest.TestCase):\n",
    "    \n",
    "    @parameterized.expand([\n",
    "        [[1, 2, 3, 4, 5], 3],\n",
    "        [[1, 2, 3, 4, 5, 6], 3.5],\n",
    "        [[10], 10],\n",
    "        [[2, 8, 4, 6], 5.0],\n",
    "        [[0, 0, 0, 0], 0],\n",
    "        [[-5, -10, -3], -5]\n",
    "    ])\n",
    "    def test_median_value_success(self, values, expected):\n",
    "        self.assertEqual(get_median_value(values), expected)\n",
    "\n",
    "    def test_empty_data(self):\n",
    "        with self.assertRaises(ValueError) as context:\n",
    "            get_median_value([])\n",
    "        self.assertEqual(str(context.exception), \"The input data is empty. Cannot calculate median value.\")\n",
    "\n",
    "    def test_invalid_type(self):\n",
    "        with self.assertRaises(TypeError) as context:\n",
    "            get_median_value(\"string instead of list\")\n",
    "        self.assertEqual(str(context.exception), \"Input data must be a list, tuple, or set.\")\n",
    "\n",
    "    def test_non_numeric_values(self):\n",
    "        with self.assertRaises(ValueError) as context:\n",
    "            get_median_value([1, 2, \"three\", 4])\n",
    "        self.assertEqual(str(context.exception), \"All elements in the input data must be numeric.\")\n",
    "\n",
    "if __name__ == '__main__':\n",
    "    unittest.main(argv=[''], exit=False)"
   ]
  },
  {
   "cell_type": "markdown",
   "metadata": {},
   "source": [
    "# Modal, Mean und Median in pandas"
   ]
  },
  {
   "cell_type": "code",
   "execution_count": 32,
   "metadata": {},
   "outputs": [
    {
     "name": "stdout",
     "output_type": "stream",
     "text": [
      "Modalwert: 133\n",
      "Mean: 133.1\n",
      "Median: 120.0\n"
     ]
    }
   ],
   "source": [
    "import pandas as pd\n",
    "\n",
    "data = {'Wert': [127, 120, 133, 94, 133, 120, 133, 133, 113, 94, 230, 120, 230, 80, 113, 80, 120, 250, 133, 106]}\n",
    "df = pd.DataFrame(data)\n",
    "\n",
    "modal_value = df['Wert'].mode()[0]\n",
    "mean_value = df['Wert'].mean()\n",
    "median_value = df['Wert'].median()\n",
    "\n",
    "# Ausgabe\n",
    "print(f\"Modalwert: {modal_value}\")\n",
    "print(f\"Mean: {mean_value}\")\n",
    "print(f\"Median: {median_value}\")"
   ]
  },
  {
   "cell_type": "markdown",
   "metadata": {},
   "source": [
    "# Varianz"
   ]
  },
  {
   "cell_type": "code",
   "execution_count": 33,
   "metadata": {},
   "outputs": [],
   "source": [
    "def variance(data):\n",
    "    if not isinstance(data, (list, tuple)):\n",
    "        raise TypeError(\"Data must be a list or tuple of numbers.\")\n",
    "    if not data:\n",
    "        raise ValueError(\"Cannot calculate variance of an empty dataset.\")\n",
    "    if not all(isinstance(num, (int, float)) for num in data):\n",
    "        raise ValueError(\"All elements in the dataset must be numeric.\")\n",
    "    \n",
    "    arithmetic_mean = sum(data) / len(data)\n",
    "    return sum([(num - arithmetic_mean)**2 for num in data]) / len(data)"
   ]
  },
  {
   "cell_type": "code",
   "execution_count": 34,
   "metadata": {},
   "outputs": [],
   "source": [
    "def standard_deviation(data):\n",
    "    if not isinstance(data, (list, tuple)):\n",
    "        raise TypeError(\"Data must be a list or tuple of numbers.\")\n",
    "    if not data:\n",
    "        raise ValueError(\"Cannot calculate standard deviation of an empty dataset.\")\n",
    "    if not all(isinstance(num, (int, float)) for num in data):\n",
    "        raise ValueError(\"All elements in the dataset must be numeric.\")\n",
    "    \n",
    "    return variance(data)**0.5"
   ]
  },
  {
   "cell_type": "code",
   "execution_count": 35,
   "metadata": {},
   "outputs": [
    {
     "name": "stderr",
     "output_type": "stream",
     "text": [
      ".....................................F......F\n",
      "======================================================================\n",
      "FAIL: test_p_quantil_1 (__main__.Test_p_quantil.test_p_quantil_1)\n",
      "----------------------------------------------------------------------\n",
      "Traceback (most recent call last):\n",
      "  File \"/Users/vww3imy/Library/CloudStorage/OneDrive-VolkswagenAG/Fakultät 73/Data_Science/.venv/lib/python3.13/site-packages/parameterized/parameterized.py\", line 620, in standalone_func\n",
      "    return func(*(a + p.args), **p.kwargs, **kw)\n",
      "  File \"/var/folders/00/02tsycp12q53nd49sw0v4c_00000gq/T/ipykernel_46761/2626224633.py\", line 17, in test_p_quantil\n",
      "    self.assertEqual(p_quantil(data_series, quantile_percantage), expected)\n",
      "    ~~~~~~~~~~~~~~~~^^^^^^^^^^^^^^^^^^^^^^^^^^^^^^^^^^^^^^^^^^^^^^^^^^^^^^^\n",
      "AssertionError: 4.5 != 3.5\n",
      "\n",
      "======================================================================\n",
      "FAIL: test_p_quantil_8 (__main__.Test_p_quantil.test_p_quantil_8)\n",
      "----------------------------------------------------------------------\n",
      "Traceback (most recent call last):\n",
      "  File \"/Users/vww3imy/Library/CloudStorage/OneDrive-VolkswagenAG/Fakultät 73/Data_Science/.venv/lib/python3.13/site-packages/parameterized/parameterized.py\", line 620, in standalone_func\n",
      "    return func(*(a + p.args), **p.kwargs, **kw)\n",
      "  File \"/var/folders/00/02tsycp12q53nd49sw0v4c_00000gq/T/ipykernel_46761/2626224633.py\", line 17, in test_p_quantil\n",
      "    self.assertEqual(p_quantil(data_series, quantile_percantage), expected)\n",
      "    ~~~~~~~~~~~~~~~~^^^^^^^^^^^^^^^^^^^^^^^^^^^^^^^^^^^^^^^^^^^^^^^^^^^^^^^\n",
      "AssertionError: 22.0 != 20\n",
      "\n",
      "----------------------------------------------------------------------\n",
      "Ran 45 tests in 0.010s\n",
      "\n",
      "FAILED (failures=2)\n"
     ]
    },
    {
     "name": "stdout",
     "output_type": "stream",
     "text": [
      "0 1\n",
      "3 4\n",
      "3 4\n",
      "1 2\n",
      "4 5\n",
      "1 2\n",
      "14 15\n"
     ]
    }
   ],
   "source": [
    "import unittest\n",
    "from parameterized import parameterized\n",
    "\n",
    "class TestVariance(unittest.TestCase):\n",
    "    \n",
    "    @parameterized.expand([\n",
    "        [[23, 16, 18, 17, 22, 28, 26, 22, 20, 8], 29],\n",
    "        [[27, 22, 21, 26, 27, 35, 31, 24, 22, 15], 28],\n",
    "        [[27, 27, 27], 0],\n",
    "        [[10], 0]\n",
    "    ])\n",
    "    def test_variance_success(self, values, expected):\n",
    "        self.assertEqual(variance(values), expected)\n",
    "    \n",
    "    @parameterized.expand([\n",
    "        [[23, 16, 18, 17, 22, 28, 26, 22, 20, 8], 5.39],\n",
    "        [[27, 22, 21, 26, 27, 35, 31, 24, 22, 15], 5.29],\n",
    "        [[4, 4, 4], 0.0],\n",
    "        [[10], 0]\n",
    "    ])\n",
    "    def test_standard_deviation_success(self, values, expected):\n",
    "        self.assertAlmostEqual(standard_deviation(values), expected, delta=0.01)\n",
    "    \n",
    "    # Tests für Fehlerfälle\n",
    "    def test_variance_empty_dataset(self):\n",
    "        with self.assertRaises(ValueError) as context:\n",
    "            variance([])\n",
    "        self.assertEqual(str(context.exception), \"Cannot calculate variance of an empty dataset.\")\n",
    "    \n",
    "    def test_variance_non_numeric(self):\n",
    "        with self.assertRaises(ValueError) as context:\n",
    "            variance([1, \"a\", 3])\n",
    "        self.assertEqual(str(context.exception), \"All elements in the dataset must be numeric.\")\n",
    "    \n",
    "    def test_variance_invalid_type(self):\n",
    "        with self.assertRaises(TypeError) as context:\n",
    "            variance(\"not a list\")\n",
    "        self.assertEqual(str(context.exception), \"Data must be a list or tuple of numbers.\")\n",
    "    \n",
    "    def test_standard_deviation_empty_dataset(self):\n",
    "        with self.assertRaises(ValueError) as context:\n",
    "            standard_deviation([])\n",
    "        self.assertEqual(str(context.exception), \"Cannot calculate standard deviation of an empty dataset.\")\n",
    "    \n",
    "    def test_standard_deviation_non_numeric(self):\n",
    "        with self.assertRaises(ValueError) as context:\n",
    "            standard_deviation([1, \"a\", 3])\n",
    "        self.assertEqual(str(context.exception), \"All elements in the dataset must be numeric.\")\n",
    "    \n",
    "    def test_standard_deviation_invalid_type(self):\n",
    "        with self.assertRaises(TypeError) as context:\n",
    "            standard_deviation({\"a\": 1})\n",
    "        self.assertEqual(str(context.exception), \"Data must be a list or tuple of numbers.\")\n",
    "\n",
    "if __name__ == '__main__':\n",
    "    unittest.main(argv=[''], exit=False)"
   ]
  },
  {
   "cell_type": "markdown",
   "metadata": {},
   "source": [
    "# Lineare Regression"
   ]
  },
  {
   "cell_type": "code",
   "execution_count": 36,
   "metadata": {},
   "outputs": [],
   "source": [
    "import numpy as np\n",
    "\n",
    "def linear_regression(data):\n",
    "    if not isinstance(data, list):\n",
    "        raise TypeError(\"Input data must be a list of tuples.\")\n",
    "    if len([x for x, y in data]) != len([y for x, y in data]):\n",
    "        raise ValueError(\"The number of values for x and y must be the same.\")\n",
    "    if len(data) < 2:\n",
    "        raise ValueError(\"At least two data points are required for linear regression.\")\n",
    "    if not all(isinstance(point, tuple) and len(point) == 2 for point in data):\n",
    "        raise ValueError(\"Each element in the data list must be a tuple with exactly two numeric values.\")\n",
    "    if not all(isinstance(x, (int, float)) and isinstance(y, (int, float)) for x, y in data):\n",
    "        raise ValueError(\"All elements in the tuples must be numeric values.\")\n",
    "    \n",
    "    x_vals = [x[0] for x in data]\n",
    "    y_vals = [y[1] for y in data]\n",
    "    \n",
    "    if len(set(x_vals)) == 1:\n",
    "        raise ValueError(\"All x-values are the same. Linear regression is undefined.\")\n",
    "    \n",
    "    x_mean, y_mean = np.mean(x_vals), np.mean(y_vals)\n",
    "    nominator = sum((xi - x_mean) * (yi - y_mean) for xi, yi in data)\n",
    "    denominator = sum((xi - x_mean) ** 2 for xi in x_vals)\n",
    "    byx = nominator / denominator\n",
    "    ayx = y_mean - byx * x_mean\n",
    "    \n",
    "    return ayx, byx\n",
    "\n",
    "def calculate_y(data, value):\n",
    "    if not isinstance(value, (int, float)):\n",
    "        raise TypeError(\"The x-value must be a numeric value.\")\n",
    "    ayx, byx = linear_regression(data)\n",
    "    return ayx + byx * value\n"
   ]
  },
  {
   "cell_type": "code",
   "execution_count": 37,
   "metadata": {},
   "outputs": [
    {
     "name": "stderr",
     "output_type": "stream",
     "text": [
      "......................................................F......F\n",
      "======================================================================\n",
      "FAIL: test_p_quantil_1 (__main__.Test_p_quantil.test_p_quantil_1)\n",
      "----------------------------------------------------------------------\n",
      "Traceback (most recent call last):\n",
      "  File \"/Users/vww3imy/Library/CloudStorage/OneDrive-VolkswagenAG/Fakultät 73/Data_Science/.venv/lib/python3.13/site-packages/parameterized/parameterized.py\", line 620, in standalone_func\n",
      "    return func(*(a + p.args), **p.kwargs, **kw)\n",
      "  File \"/var/folders/00/02tsycp12q53nd49sw0v4c_00000gq/T/ipykernel_46761/2626224633.py\", line 17, in test_p_quantil\n",
      "    self.assertEqual(p_quantil(data_series, quantile_percantage), expected)\n",
      "    ~~~~~~~~~~~~~~~~^^^^^^^^^^^^^^^^^^^^^^^^^^^^^^^^^^^^^^^^^^^^^^^^^^^^^^^\n",
      "AssertionError: 4.5 != 3.5\n",
      "\n",
      "======================================================================\n",
      "FAIL: test_p_quantil_8 (__main__.Test_p_quantil.test_p_quantil_8)\n",
      "----------------------------------------------------------------------\n",
      "Traceback (most recent call last):\n",
      "  File \"/Users/vww3imy/Library/CloudStorage/OneDrive-VolkswagenAG/Fakultät 73/Data_Science/.venv/lib/python3.13/site-packages/parameterized/parameterized.py\", line 620, in standalone_func\n",
      "    return func(*(a + p.args), **p.kwargs, **kw)\n",
      "  File \"/var/folders/00/02tsycp12q53nd49sw0v4c_00000gq/T/ipykernel_46761/2626224633.py\", line 17, in test_p_quantil\n",
      "    self.assertEqual(p_quantil(data_series, quantile_percantage), expected)\n",
      "    ~~~~~~~~~~~~~~~~^^^^^^^^^^^^^^^^^^^^^^^^^^^^^^^^^^^^^^^^^^^^^^^^^^^^^^^\n",
      "AssertionError: 22.0 != 20\n",
      "\n",
      "----------------------------------------------------------------------\n",
      "Ran 62 tests in 0.019s\n",
      "\n",
      "FAILED (failures=2)\n"
     ]
    },
    {
     "name": "stdout",
     "output_type": "stream",
     "text": [
      "0 1\n",
      "3 4\n",
      "3 4\n",
      "1 2\n",
      "4 5\n",
      "1 2\n",
      "14 15\n"
     ]
    }
   ],
   "source": [
    "class TestLinearRegression(unittest.TestCase):\n",
    "\n",
    "    @parameterized.expand([\n",
    "        [[(4, 50), (7, 80), (11, 70), (2, 45)], (41.68, 3.26)],\n",
    "        [[(1, 2), (2, 4), (3, 6), (4, 8)], (0, 2)],\n",
    "        [[(10, 20), (20, 40)], (0, 2)],\n",
    "    ])\n",
    "    def test_linear_regression_success(self, data, expected):\n",
    "        ayx, byx = linear_regression(data)\n",
    "        self.assertAlmostEqual(ayx, expected[0], delta=0.01)\n",
    "        self.assertAlmostEqual(byx, expected[1], delta=0.01)\n",
    "\n",
    "    def test_empty_data(self):\n",
    "        with self.assertRaises(ValueError) as context:\n",
    "            linear_regression([])\n",
    "        self.assertEqual(str(context.exception), \"At least two data points are required for linear regression.\")\n",
    "\n",
    "    def test_one_data_point(self):\n",
    "        with self.assertRaises(ValueError) as context:\n",
    "            linear_regression([(1, 2)])\n",
    "        self.assertEqual(str(context.exception), \"At least two data points are required for linear regression.\")\n",
    "\n",
    "    def test_same_x_values(self):\n",
    "        with self.assertRaises(ValueError) as context:\n",
    "            linear_regression([(1, 2), (1, 3)])\n",
    "        self.assertEqual(str(context.exception), \"All x-values are the same. Linear regression is undefined.\")\n",
    "\n",
    "    def test_non_numeric_values(self):\n",
    "        with self.assertRaises(ValueError) as context:\n",
    "            linear_regression([(\"a\", 2), (3, 4)])\n",
    "        self.assertEqual(str(context.exception), \"All elements in the tuples must be numeric values.\")\n",
    "\n",
    "    def test_invalid_data_format(self):\n",
    "        with self.assertRaises(ValueError) as context:\n",
    "            linear_regression([(1, 2), [3, 4]])\n",
    "        self.assertEqual(str(context.exception), \"Each element in the data list must be a tuple with exactly two numeric values.\")\n",
    "\n",
    "\n",
    "class TestCalculateY(unittest.TestCase):\n",
    "\n",
    "    @parameterized.expand([\n",
    "        [[(1, 2), (2, 4)], 3, 6.0],\n",
    "        [[(10, 20), (20, 40)], 15, 30.0],\n",
    "        [[(1, 2), (2, 4), (3, 6), (4, 8), (5, 10)], 6, 12.0],\n",
    "        [[(0, 0), (1, 1), (2, 2), (3, 3), (4, 4), (5, 5)], 10, 10.0],\n",
    "        [[(1, 1), (2, 3)], 1.5, 2.0],\n",
    "        [[(1, 1), (2, 2), (3, 3)], -1, -1.0],\n",
    "        [[(1, 1), (2, 2), (3, 3)], 0, 0.0],\n",
    "    ])\n",
    "    def test_calculate_y_success(self, test_list, value, expected):\n",
    "        self.assertAlmostEqual(calculate_y(test_list, value), expected, delta=0.01)\n",
    "\n",
    "    def test_empty_data(self):\n",
    "        with self.assertRaises(ValueError) as context:\n",
    "            calculate_y([], 5)\n",
    "        self.assertEqual(str(context.exception), \"At least two data points are required for linear regression.\")\n",
    "\n",
    "    def test_invalid_x_value(self):\n",
    "        with self.assertRaises(TypeError) as context:\n",
    "            calculate_y([(4, 50), (7, 80)], \"five\")\n",
    "        self.assertEqual(str(context.exception), \"The x-value must be a numeric value.\")\n",
    "\n",
    "if __name__ == '__main__':\n",
    "    unittest.main(argv=[''], exit=False)"
   ]
  },
  {
   "cell_type": "markdown",
   "metadata": {},
   "source": [
    "# Eindimensionale lineare Regression"
   ]
  },
  {
   "cell_type": "code",
   "execution_count": 38,
   "metadata": {},
   "outputs": [
    {
     "name": "stderr",
     "output_type": "stream",
     "text": [
      ".............................................................F......F\n",
      "======================================================================\n",
      "FAIL: test_p_quantil_1 (__main__.Test_p_quantil.test_p_quantil_1)\n",
      "----------------------------------------------------------------------\n",
      "Traceback (most recent call last):\n",
      "  File \"/Users/vww3imy/Library/CloudStorage/OneDrive-VolkswagenAG/Fakultät 73/Data_Science/.venv/lib/python3.13/site-packages/parameterized/parameterized.py\", line 620, in standalone_func\n",
      "    return func(*(a + p.args), **p.kwargs, **kw)\n",
      "  File \"/var/folders/00/02tsycp12q53nd49sw0v4c_00000gq/T/ipykernel_46761/2626224633.py\", line 17, in test_p_quantil\n",
      "    self.assertEqual(p_quantil(data_series, quantile_percantage), expected)\n",
      "    ~~~~~~~~~~~~~~~~^^^^^^^^^^^^^^^^^^^^^^^^^^^^^^^^^^^^^^^^^^^^^^^^^^^^^^^\n",
      "AssertionError: 4.5 != 3.5\n",
      "\n",
      "======================================================================\n",
      "FAIL: test_p_quantil_8 (__main__.Test_p_quantil.test_p_quantil_8)\n",
      "----------------------------------------------------------------------\n",
      "Traceback (most recent call last):\n",
      "  File \"/Users/vww3imy/Library/CloudStorage/OneDrive-VolkswagenAG/Fakultät 73/Data_Science/.venv/lib/python3.13/site-packages/parameterized/parameterized.py\", line 620, in standalone_func\n",
      "    return func(*(a + p.args), **p.kwargs, **kw)\n",
      "  File \"/var/folders/00/02tsycp12q53nd49sw0v4c_00000gq/T/ipykernel_46761/2626224633.py\", line 17, in test_p_quantil\n",
      "    self.assertEqual(p_quantil(data_series, quantile_percantage), expected)\n",
      "    ~~~~~~~~~~~~~~~~^^^^^^^^^^^^^^^^^^^^^^^^^^^^^^^^^^^^^^^^^^^^^^^^^^^^^^^\n",
      "AssertionError: 22.0 != 20\n",
      "\n",
      "----------------------------------------------------------------------\n",
      "Ran 69 tests in 0.017s\n",
      "\n",
      "FAILED (failures=2)\n"
     ]
    },
    {
     "name": "stdout",
     "output_type": "stream",
     "text": [
      "0 1\n",
      "3 4\n",
      "3 4\n",
      "1 2\n",
      "4 5\n",
      "1 2\n",
      "14 15\n"
     ]
    }
   ],
   "source": [
    "import numpy as np\n",
    "from unittest import TestCase, main\n",
    "from parameterized import parameterized\n",
    "\n",
    "def one_dimensional_regression(x, y):\n",
    "    ones_x = np.vstack((\n",
    "        np.ones(len(x)),  # Erste Zeile: Einsen\n",
    "        x  # Zweite Zeile: Die unabhängige Variable\n",
    "    ))\n",
    "\n",
    "    return np.linalg.inv(ones_x @ ones_x.T) @ ones_x @ np.array(y).T\n",
    "\n",
    "\n",
    "\n",
    "class TestDeviation(TestCase):\n",
    "    @parameterized.expand([\n",
    "        ([1, 2, 3], [1, 2, 3], 0, 1),  # no bias\n",
    "        ([1, 2, 3], [2, 4, 6], 0, 2),  # no bias\n",
    "        ([0, 1, 2], [3, 2, 1], 3, -1),  # negative\n",
    "        ([0, 1, 2], [1, 2, 3], 1, 1),  # basic\n",
    "        ([1, 2, 3], [3, 5, 7], 1, 2),  # basic\n",
    "        ([0, 1, 2], [1, 1, 1], 1, 0),  # constant function\n",
    "        ([1, 2, 3], [3, 3, 3], 3, 0),  # contant function\n",
    "    ])\n",
    "    def test_basic_lin_reg(self, x, y, a, b):\n",
    "        result = one_dimensional_regression(x, y)\n",
    "        self.assertAlmostEqual(float(result[0]), a)\n",
    "        self.assertAlmostEqual(float(result[1]), b)\n",
    "\n",
    "if __name__ == '__main__':\n",
    "    unittest.main(argv=[''], exit=False)"
   ]
  },
  {
   "cell_type": "markdown",
   "metadata": {},
   "source": [
    "# Multiple lineare Regression"
   ]
  },
  {
   "cell_type": "code",
   "execution_count": 39,
   "metadata": {},
   "outputs": [
    {
     "name": "stderr",
     "output_type": "stream",
     "text": [
      ".........E.............................................F......F\n",
      "======================================================================\n",
      "ERROR: test_basic_lin_reg_0 (__main__.TestDeviation.test_basic_lin_reg_0)\n",
      "----------------------------------------------------------------------\n",
      "Traceback (most recent call last):\n",
      "  File \"/Users/vww3imy/Library/CloudStorage/OneDrive-VolkswagenAG/Fakultät 73/Data_Science/.venv/lib/python3.13/site-packages/parameterized/parameterized.py\", line 620, in standalone_func\n",
      "    return func(*(a + p.args), **p.kwargs, **kw)\n",
      "  File \"/var/folders/00/02tsycp12q53nd49sw0v4c_00000gq/T/ipykernel_46761/2264101851.py\", line 19, in test_basic_lin_reg\n",
      "    result = one_dimensional_regression(x, y)\n",
      "  File \"/var/folders/00/02tsycp12q53nd49sw0v4c_00000gq/T/ipykernel_46761/293602746.py\", line 6, in one_dimensional_regression\n",
      "    ones_x = np.vstack((\n",
      "        np.ones(len(x)),  # Erste Zeile: Einsen\n",
      "        x  # Zweite Zeile: Die unabhängige Variable\n",
      "    ))\n",
      "  File \"/Users/vww3imy/Library/CloudStorage/OneDrive-VolkswagenAG/Fakultät 73/Data_Science/.venv/lib/python3.13/site-packages/numpy/_core/shape_base.py\", line 291, in vstack\n",
      "    return _nx.concatenate(arrs, 0, dtype=dtype, casting=casting)\n",
      "           ~~~~~~~~~~~~~~~^^^^^^^^^^^^^^^^^^^^^^^^^^^^^^^^^^^^^^^\n",
      "ValueError: all the input array dimensions except for the concatenation axis must match exactly, but along dimension 1, the array at index 0 has size 3 and the array at index 1 has size 1\n",
      "\n",
      "======================================================================\n",
      "FAIL: test_p_quantil_1 (__main__.Test_p_quantil.test_p_quantil_1)\n",
      "----------------------------------------------------------------------\n",
      "Traceback (most recent call last):\n",
      "  File \"/Users/vww3imy/Library/CloudStorage/OneDrive-VolkswagenAG/Fakultät 73/Data_Science/.venv/lib/python3.13/site-packages/parameterized/parameterized.py\", line 620, in standalone_func\n",
      "    return func(*(a + p.args), **p.kwargs, **kw)\n",
      "  File \"/var/folders/00/02tsycp12q53nd49sw0v4c_00000gq/T/ipykernel_46761/2626224633.py\", line 17, in test_p_quantil\n",
      "    self.assertEqual(p_quantil(data_series, quantile_percantage), expected)\n",
      "    ~~~~~~~~~~~~~~~~^^^^^^^^^^^^^^^^^^^^^^^^^^^^^^^^^^^^^^^^^^^^^^^^^^^^^^^\n",
      "AssertionError: 4.5 != 3.5\n",
      "\n",
      "======================================================================\n",
      "FAIL: test_p_quantil_8 (__main__.Test_p_quantil.test_p_quantil_8)\n",
      "----------------------------------------------------------------------\n",
      "Traceback (most recent call last):\n",
      "  File \"/Users/vww3imy/Library/CloudStorage/OneDrive-VolkswagenAG/Fakultät 73/Data_Science/.venv/lib/python3.13/site-packages/parameterized/parameterized.py\", line 620, in standalone_func\n",
      "    return func(*(a + p.args), **p.kwargs, **kw)\n",
      "  File \"/var/folders/00/02tsycp12q53nd49sw0v4c_00000gq/T/ipykernel_46761/2626224633.py\", line 17, in test_p_quantil\n",
      "    self.assertEqual(p_quantil(data_series, quantile_percantage), expected)\n",
      "    ~~~~~~~~~~~~~~~~^^^^^^^^^^^^^^^^^^^^^^^^^^^^^^^^^^^^^^^^^^^^^^^^^^^^^^^\n",
      "AssertionError: 22.0 != 20\n",
      "\n",
      "----------------------------------------------------------------------\n",
      "Ran 63 tests in 0.016s\n",
      "\n",
      "FAILED (failures=2, errors=1)\n"
     ]
    },
    {
     "name": "stdout",
     "output_type": "stream",
     "text": [
      "0 1\n",
      "3 4\n",
      "3 4\n",
      "1 2\n",
      "4 5\n",
      "1 2\n",
      "14 15\n"
     ]
    }
   ],
   "source": [
    "import numpy as np\n",
    "from unittest import TestCase, main\n",
    "from parameterized import parameterized\n",
    "\n",
    "def multiple_regression(x, y):\n",
    "    ones_x = np.vstack((\n",
    "        np.ones(len(x[0])),\n",
    "        x\n",
    "    ))\n",
    "    \n",
    "    return np.linalg.inv(ones_x @ ones_x.T) @ ones_x @ np.array(y).T\n",
    "    \n",
    "\n",
    "class TestDeviation(TestCase):\n",
    "    @parameterized.expand([\n",
    "        ([[1], [2], [3]], [2, 4, 6], 0, 2),\n",
    "    ])\n",
    "    def test_basic_lin_reg(self, x, y, a, b):\n",
    "        result = one_dimensional_regression(x, y)\n",
    "        self.assertAlmostEqual(float(result[0]), a)\n",
    "        self.assertAlmostEqual(float(result[1]), b)\n",
    "\n",
    "if __name__ == '__main__':\n",
    "    unittest.main(argv=[''], exit=False)"
   ]
  },
  {
   "cell_type": "markdown",
   "metadata": {},
   "source": []
  },
  {
   "cell_type": "code",
   "execution_count": 40,
   "metadata": {},
   "outputs": [
    {
     "name": "stdout",
     "output_type": "stream",
     "text": [
      "[3, 8, 13]\n",
      "[2, 4, 6, 8]\n",
      "[0, 1, 1, 2]\n"
     ]
    }
   ],
   "source": [
    "def own_quantiles(parts, number_list):\n",
    "    if not number_list:\n",
    "        raise ValueError(\"Liste darf nicht leer sein.\")\n",
    "    if parts < 1:\n",
    "        raise ValueError(\"Mind. ein Quantil.\")\n",
    "    \n",
    "    sorted_number_list = sorted(number_list)\n",
    "    n = len(sorted_number_list)\n",
    "    \n",
    "    quantiles = []\n",
    "    \n",
    "    for i in range(1, parts):\n",
    "        p_quantil = i / parts\n",
    "        pos = n * p_quantil - 1 # -1 weil Listen bei 0 starten\n",
    "        if pos % 1 == 0:\n",
    "            pos = int(pos + 1)\n",
    "            quantiles.append(0.5*(number_list[pos]+ number_list[pos+1]))\n",
    "        else:\n",
    "            quantiles.append(number_list[int(pos+1)])\n",
    "        \n",
    "    return quantiles\n",
    "        \n",
    "\n",
    "print(own_quantiles(4, [1, 3, 7, 8, 9, 13, 15]))\n",
    "print(own_quantiles(5, [0,1,2,3,4,5,6,7,8,9,10]))\n",
    "print(own_quantiles(5, [0,1,2]))"
   ]
  },
  {
   "cell_type": "markdown",
   "metadata": {},
   "source": [
    "# Zeitreihenanalyse"
   ]
  },
  {
   "cell_type": "code",
   "execution_count": 41,
   "metadata": {},
   "outputs": [],
   "source": [
    "hourly_time = [num for num in range(0, 24)]\n",
    "temperature = [6, 5, 5, 4, 4, 5, 7, 8, 9, 10, 12, 14, 16, 19, 21, 21, 20, 18, 16, 14, 12, 10, 8, 7]\n",
    "\n",
    "time_row_temp_df = pd.DataFrame({\"hourly_time\": hourly_time, \"temperature\": temperature})"
   ]
  },
  {
   "cell_type": "code",
   "execution_count": 42,
   "metadata": {},
   "outputs": [
    {
     "data": {
      "text/plain": [
       "<Axes: xlabel='hourly_time', ylabel='temperature'>"
      ]
     },
     "execution_count": 42,
     "metadata": {},
     "output_type": "execute_result"
    },
    {
     "data": {
      "image/png": "[encoded data removed]",
      "text/plain": [
       "<Figure size 640x480 with 1 Axes>"
      ]
     },
     "metadata": {},
     "output_type": "display_data"
    }
   ],
   "source": [
    "sns.scatterplot(time_row_temp_df, x=\"hourly_time\", y=\"temperature\")"
   ]
  },
  {
   "cell_type": "code",
   "execution_count": 43,
   "metadata": {},
   "outputs": [
    {
     "data": {
      "text/plain": [
       "<Axes: xlabel='hourly_time', ylabel='temperature'>"
      ]
     },
     "execution_count": 43,
     "metadata": {},
     "output_type": "execute_result"
    },
    {
     "data": {
      "image/png": "[encoded data removed]",
      "text/plain": [
       "<Figure size 640x480 with 1 Axes>"
      ]
     },
     "metadata": {},
     "output_type": "display_data"
    }
   ],
   "source": [
    "sns.lineplot(time_row_temp_df, x=\"hourly_time\", y=\"temperature\")"
   ]
  },
  {
   "cell_type": "code",
   "execution_count": 44,
   "metadata": {},
   "outputs": [
    {
     "data": {
      "text/plain": [
       "<Axes: xlabel='hourly_time', ylabel='temperature'>"
      ]
     },
     "execution_count": 44,
     "metadata": {},
     "output_type": "execute_result"
    },
    {
     "data": {
      "image/png": "[encoded data removed]",
      "text/plain": [
       "<Figure size 640x480 with 1 Axes>"
      ]
     },
     "metadata": {},
     "output_type": "display_data"
    }
   ],
   "source": [
    "sns.barplot(time_row_temp_df, x=\"hourly_time\", y=\"temperature\")"
   ]
  },
  {
   "cell_type": "markdown",
   "metadata": {},
   "source": [
    "# Regressionsrechnerische Zeitreihenmodellierung"
   ]
  },
  {
   "cell_type": "code",
   "execution_count": 45,
   "metadata": {},
   "outputs": [
    {
     "data": {
      "text/plain": [
       "<Axes: >"
      ]
     },
     "execution_count": 45,
     "metadata": {},
     "output_type": "execute_result"
    },
    {
     "data": {
      "image/png": "[encoded data removed]",
      "text/plain": [
       "<Figure size 640x480 with 1 Axes>"
      ]
     },
     "metadata": {},
     "output_type": "display_data"
    }
   ],
   "source": [
    "# Abonennten eines Streaminganbieters in Millionen über einen Zeitraum von 10 Jahren\n",
    "yt = [4.179, 6.316, 7.479, 9.390, 12.268, 20.010, 26.253, 33.267, 44.350, 57.390]\n",
    "\n",
    "df = pd.DataFrame({\"t\": range(1, len(yt) + 1), \"yt\":yt})\n",
    "\n",
    "sns.scatterplot(df)"
   ]
  },
  {
   "cell_type": "code",
   "execution_count": 46,
   "metadata": {},
   "outputs": [],
   "source": [
    "# Erkennbare überproportionalität = exponentieller Ansatz \n",
    "# y(t) = a*b^t\n",
    "# um die Lineare Regression zu nutzen wird der Term mit dem logarhitmus linearisiert\n",
    "# jetzt kann die Formel y = ln(a) + ln(b) * t genutzt werden \n",
    "# hierfür schreibe ich einfachhalber y_ = a_ +b_ * t \n",
    "# Nach der Anwendung der Linearen Regression werden die logarhitmierten Koeffizienten mit der e-Funktion zurückgerechnet\n",
    "# Werte in Formel einsetzen"
   ]
  },
  {
   "cell_type": "code",
   "execution_count": 47,
   "metadata": {},
   "outputs": [
    {
     "data": {
      "text/html": [
       "<div>\n",
       "<style scoped>\n",
       "    .dataframe tbody tr th:only-of-type {\n",
       "        vertical-align: middle;\n",
       "    }\n",
       "\n",
       "    .dataframe tbody tr th {\n",
       "        vertical-align: top;\n",
       "    }\n",
       "\n",
       "    .dataframe thead th {\n",
       "        text-align: right;\n",
       "    }\n",
       "</style>\n",
       "<table border=\"1\" class=\"dataframe\">\n",
       "  <thead>\n",
       "    <tr style=\"text-align: right;\">\n",
       "      <th></th>\n",
       "      <th>t</th>\n",
       "      <th>yt</th>\n",
       "      <th>ln_y(t)</th>\n",
       "      <th>t_ln_y(t)</th>\n",
       "      <th>t^2</th>\n",
       "    </tr>\n",
       "  </thead>\n",
       "  <tbody>\n",
       "    <tr>\n",
       "      <th>0</th>\n",
       "      <td>1</td>\n",
       "      <td>4.179</td>\n",
       "      <td>1.430</td>\n",
       "      <td>1.430</td>\n",
       "      <td>1</td>\n",
       "    </tr>\n",
       "    <tr>\n",
       "      <th>1</th>\n",
       "      <td>2</td>\n",
       "      <td>6.316</td>\n",
       "      <td>1.843</td>\n",
       "      <td>3.686</td>\n",
       "      <td>4</td>\n",
       "    </tr>\n",
       "    <tr>\n",
       "      <th>2</th>\n",
       "      <td>3</td>\n",
       "      <td>7.479</td>\n",
       "      <td>2.012</td>\n",
       "      <td>6.036</td>\n",
       "      <td>9</td>\n",
       "    </tr>\n",
       "    <tr>\n",
       "      <th>3</th>\n",
       "      <td>4</td>\n",
       "      <td>9.390</td>\n",
       "      <td>2.240</td>\n",
       "      <td>8.960</td>\n",
       "      <td>16</td>\n",
       "    </tr>\n",
       "    <tr>\n",
       "      <th>4</th>\n",
       "      <td>5</td>\n",
       "      <td>12.268</td>\n",
       "      <td>2.507</td>\n",
       "      <td>12.535</td>\n",
       "      <td>25</td>\n",
       "    </tr>\n",
       "    <tr>\n",
       "      <th>5</th>\n",
       "      <td>6</td>\n",
       "      <td>20.010</td>\n",
       "      <td>2.996</td>\n",
       "      <td>17.976</td>\n",
       "      <td>36</td>\n",
       "    </tr>\n",
       "    <tr>\n",
       "      <th>6</th>\n",
       "      <td>7</td>\n",
       "      <td>26.253</td>\n",
       "      <td>3.268</td>\n",
       "      <td>22.876</td>\n",
       "      <td>49</td>\n",
       "    </tr>\n",
       "    <tr>\n",
       "      <th>7</th>\n",
       "      <td>8</td>\n",
       "      <td>33.267</td>\n",
       "      <td>3.505</td>\n",
       "      <td>28.040</td>\n",
       "      <td>64</td>\n",
       "    </tr>\n",
       "    <tr>\n",
       "      <th>8</th>\n",
       "      <td>9</td>\n",
       "      <td>44.350</td>\n",
       "      <td>3.792</td>\n",
       "      <td>34.128</td>\n",
       "      <td>81</td>\n",
       "    </tr>\n",
       "    <tr>\n",
       "      <th>9</th>\n",
       "      <td>10</td>\n",
       "      <td>57.390</td>\n",
       "      <td>4.050</td>\n",
       "      <td>40.500</td>\n",
       "      <td>100</td>\n",
       "    </tr>\n",
       "  </tbody>\n",
       "</table>\n",
       "</div>"
      ],
      "text/plain": [
       "    t      yt  ln_y(t)  t_ln_y(t)  t^2\n",
       "0   1   4.179    1.430      1.430    1\n",
       "1   2   6.316    1.843      3.686    4\n",
       "2   3   7.479    2.012      6.036    9\n",
       "3   4   9.390    2.240      8.960   16\n",
       "4   5  12.268    2.507     12.535   25\n",
       "5   6  20.010    2.996     17.976   36\n",
       "6   7  26.253    3.268     22.876   49\n",
       "7   8  33.267    3.505     28.040   64\n",
       "8   9  44.350    3.792     34.128   81\n",
       "9  10  57.390    4.050     40.500  100"
      ]
     },
     "execution_count": 47,
     "metadata": {},
     "output_type": "execute_result"
    }
   ],
   "source": [
    "# ln y(t) = ln(a*b^t) = ln(a) + ln(b) * t\n",
    "df[\"ln_y(t)\"] = np.log(df[\"yt\"]).round(3)\n",
    "df[\"t_ln_y(t)\"] = df[\"t\"] * np.log(df[\"yt\"]).round(3)\n",
    "df[\"t^2\"] = df[\"t\"]**2\n",
    "df"
   ]
  },
  {
   "cell_type": "code",
   "execution_count": 48,
   "metadata": {},
   "outputs": [
    {
     "data": {
      "text/html": [
       "<div>\n",
       "<style scoped>\n",
       "    .dataframe tbody tr th:only-of-type {\n",
       "        vertical-align: middle;\n",
       "    }\n",
       "\n",
       "    .dataframe tbody tr th {\n",
       "        vertical-align: top;\n",
       "    }\n",
       "\n",
       "    .dataframe thead th {\n",
       "        text-align: right;\n",
       "    }\n",
       "</style>\n",
       "<table border=\"1\" class=\"dataframe\">\n",
       "  <thead>\n",
       "    <tr style=\"text-align: right;\">\n",
       "      <th></th>\n",
       "      <th>t</th>\n",
       "      <th>yt</th>\n",
       "      <th>ln_y(t)</th>\n",
       "      <th>t_ln_y(t)</th>\n",
       "      <th>t^2</th>\n",
       "      <th>lin_reg</th>\n",
       "    </tr>\n",
       "  </thead>\n",
       "  <tbody>\n",
       "    <tr>\n",
       "      <th>0</th>\n",
       "      <td>1</td>\n",
       "      <td>4.179</td>\n",
       "      <td>1.430</td>\n",
       "      <td>1.430</td>\n",
       "      <td>1</td>\n",
       "      <td>4.254984</td>\n",
       "    </tr>\n",
       "    <tr>\n",
       "      <th>1</th>\n",
       "      <td>2</td>\n",
       "      <td>6.316</td>\n",
       "      <td>1.843</td>\n",
       "      <td>3.686</td>\n",
       "      <td>4</td>\n",
       "      <td>5.700659</td>\n",
       "    </tr>\n",
       "    <tr>\n",
       "      <th>2</th>\n",
       "      <td>3</td>\n",
       "      <td>7.479</td>\n",
       "      <td>2.012</td>\n",
       "      <td>6.036</td>\n",
       "      <td>9</td>\n",
       "      <td>7.637518</td>\n",
       "    </tr>\n",
       "    <tr>\n",
       "      <th>3</th>\n",
       "      <td>4</td>\n",
       "      <td>9.390</td>\n",
       "      <td>2.240</td>\n",
       "      <td>8.960</td>\n",
       "      <td>16</td>\n",
       "      <td>10.232446</td>\n",
       "    </tr>\n",
       "    <tr>\n",
       "      <th>4</th>\n",
       "      <td>5</td>\n",
       "      <td>12.268</td>\n",
       "      <td>2.507</td>\n",
       "      <td>12.535</td>\n",
       "      <td>25</td>\n",
       "      <td>13.709027</td>\n",
       "    </tr>\n",
       "    <tr>\n",
       "      <th>5</th>\n",
       "      <td>6</td>\n",
       "      <td>20.010</td>\n",
       "      <td>2.996</td>\n",
       "      <td>17.976</td>\n",
       "      <td>36</td>\n",
       "      <td>18.366814</td>\n",
       "    </tr>\n",
       "    <tr>\n",
       "      <th>6</th>\n",
       "      <td>7</td>\n",
       "      <td>26.253</td>\n",
       "      <td>3.268</td>\n",
       "      <td>22.876</td>\n",
       "      <td>49</td>\n",
       "      <td>24.607133</td>\n",
       "    </tr>\n",
       "    <tr>\n",
       "      <th>7</th>\n",
       "      <td>8</td>\n",
       "      <td>33.267</td>\n",
       "      <td>3.505</td>\n",
       "      <td>28.040</td>\n",
       "      <td>64</td>\n",
       "      <td>32.967666</td>\n",
       "    </tr>\n",
       "    <tr>\n",
       "      <th>8</th>\n",
       "      <td>9</td>\n",
       "      <td>44.350</td>\n",
       "      <td>3.792</td>\n",
       "      <td>34.128</td>\n",
       "      <td>81</td>\n",
       "      <td>44.168779</td>\n",
       "    </tr>\n",
       "    <tr>\n",
       "      <th>9</th>\n",
       "      <td>10</td>\n",
       "      <td>57.390</td>\n",
       "      <td>4.050</td>\n",
       "      <td>40.500</td>\n",
       "      <td>100</td>\n",
       "      <td>59.175588</td>\n",
       "    </tr>\n",
       "  </tbody>\n",
       "</table>\n",
       "</div>"
      ],
      "text/plain": [
       "    t      yt  ln_y(t)  t_ln_y(t)  t^2    lin_reg\n",
       "0   1   4.179    1.430      1.430    1   4.254984\n",
       "1   2   6.316    1.843      3.686    4   5.700659\n",
       "2   3   7.479    2.012      6.036    9   7.637518\n",
       "3   4   9.390    2.240      8.960   16  10.232446\n",
       "4   5  12.268    2.507     12.535   25  13.709027\n",
       "5   6  20.010    2.996     17.976   36  18.366814\n",
       "6   7  26.253    3.268     22.876   49  24.607133\n",
       "7   8  33.267    3.505     28.040   64  32.967666\n",
       "8   9  44.350    3.792     34.128   81  44.168779\n",
       "9  10  57.390    4.050     40.500  100  59.175588"
      ]
     },
     "metadata": {},
     "output_type": "display_data"
    },
    {
     "name": "stdout",
     "output_type": "stream",
     "text": [
      "79.28111864696902\n"
     ]
    }
   ],
   "source": [
    "t_max = max(df[\"t\"])\n",
    "t_sum = sum(df[\"t\"])\n",
    "ln_yt = sum(df[\"ln_y(t)\"])\n",
    "t_ln_yt_ = sum(df[\"t_ln_y(t)\"])\n",
    "t_quad = sum(df[\"t^2\"])\n",
    "\n",
    "b_ = (t_max * t_ln_yt_ - t_sum * ln_yt) / (t_max * t_quad - t_sum**2)\n",
    "\n",
    "a_ = (ln_yt - b_ * t_sum) / t_max\n",
    "\n",
    "a = np.e**a_\n",
    "b = np.e**b_\n",
    "\n",
    "year_11 = a * b**11\n",
    "year_11\n",
    "\n",
    "df[\"lin_reg\"] = a * b**df[\"t\"]\n",
    "\n",
    "display(df)\n",
    "\n",
    "print(year_11)"
   ]
  },
  {
   "cell_type": "code",
   "execution_count": 49,
   "metadata": {},
   "outputs": [
    {
     "name": "stdout",
     "output_type": "stream",
     "text": [
      "a = 3.176, b = 1.340, Schätzung für Jahr 11 = 79.267\n",
      "\n",
      "DataFrame mit Werten:\n",
      "    t      yt     ln_yt  lin_reg\n",
      "0   1   4.179  1.430072    4.255\n",
      "1   2   6.316  1.843086    5.701\n",
      "2   3   7.479  2.012099    7.638\n",
      "3   4   9.390  2.239645   10.232\n",
      "4   5  12.268  2.506994   13.708\n",
      "5   6  20.010  2.996232   18.366\n",
      "6   7  26.253  3.267780   24.605\n",
      "7   8  33.267  3.504566   32.964\n",
      "8   9  44.350  3.792113   44.163\n",
      "9  10  57.390  4.049870   59.166\n"
     ]
    }
   ],
   "source": [
    "from scipy.stats import linregress\n",
    "\n",
    "# Daten\n",
    "yt = [4.179, 6.316, 7.479, 9.390, 12.268, 20.010, 26.253, 33.267, 44.350, 57.390]\n",
    "df = pd.DataFrame({\"t\": range(1, len(yt) + 1), \"yt\": yt})\n",
    "\n",
    "# Logarithmische Transformation\n",
    "df[\"ln_yt\"] = np.log(df[\"yt\"])\n",
    "\n",
    "# Lineare Regression mit scipy\n",
    "slope, intercept, _, _, _ = linregress(df[\"t\"], df[\"ln_yt\"])\n",
    "\n",
    "# Koeffizienten berechnen\n",
    "a = np.exp(intercept)  # a = exp(intercept)\n",
    "b = np.exp(slope)      # b = exp(slope)\n",
    "\n",
    "# Lineare Regression berechnen\n",
    "df[\"lin_reg\"] = (a * b**df[\"t\"]).round(3)\n",
    "\n",
    "# Schätzung für Jahr 11\n",
    "year_11 = round(a * b**11, 3)\n",
    "\n",
    "# Ergebnisse anzeigen\n",
    "print(f\"a = {a:.3f}, b = {b:.3f}, Schätzung für Jahr 11 = {year_11:.3f}\")\n",
    "print(\"\\nDataFrame mit Werten:\")\n",
    "print(df)\n"
   ]
  },
  {
   "cell_type": "code",
   "execution_count": 50,
   "metadata": {},
   "outputs": [
    {
     "name": "stdout",
     "output_type": "stream",
     "text": [
      "a = 3.176, b = 1.340, Schätzung für Jahr 11 = 79.267\n",
      "\n",
      "DataFrame mit Werten:\n",
      "    t      yt     ln_yt  lin_reg\n",
      "0   1   4.179  1.430072    4.255\n",
      "1   2   6.316  1.843086    5.701\n",
      "2   3   7.479  2.012099    7.638\n",
      "3   4   9.390  2.239645   10.232\n",
      "4   5  12.268  2.506994   13.708\n",
      "5   6  20.010  2.996232   18.366\n",
      "6   7  26.253  3.267780   24.605\n",
      "7   8  33.267  3.504566   32.964\n",
      "8   9  44.350  3.792113   44.163\n",
      "9  10  57.390  4.049870   59.166\n"
     ]
    }
   ],
   "source": [
    "from sklearn.linear_model import LinearRegression\n",
    "\n",
    "# Daten\n",
    "yt = [4.179, 6.316, 7.479, 9.390, 12.268, 20.010, 26.253, 33.267, 44.350, 57.390]\n",
    "df = pd.DataFrame({\"t\": range(1, len(yt) + 1), \"yt\": yt})\n",
    "\n",
    "# Logarithmische Transformation\n",
    "df[\"ln_yt\"] = np.log(df[\"yt\"])\n",
    "\n",
    "# Feature und Target definieren\n",
    "X = df[\"t\"].values.reshape(-1, 1)  # t als Feature (2D-Array für scikit-learn)\n",
    "y = df[\"ln_yt\"].values            # ln(yt) als Zielvariable\n",
    "\n",
    "# Lineares Regressionsmodell trainieren\n",
    "model = LinearRegression()\n",
    "model.fit(X, y)\n",
    "\n",
    "# Koeffizienten berechnen\n",
    "slope = model.coef_[0]  # Steigung\n",
    "intercept = model.intercept_  # Achsenabschnitt\n",
    "a = np.exp(intercept)  # a = exp(intercept)\n",
    "b = np.exp(slope)      # b = exp(slope)\n",
    "\n",
    "# Vorhersage für Jahr 11\n",
    "t_11 = np.array([[11]])  # Jahr 11 als Eingabe\n",
    "ln_y11_pred = model.predict(t_11)  # Vorhersage von ln(y(11))\n",
    "y11_pred = np.exp(ln_y11_pred)     # Rücktransformation zu y(11)\n",
    "\n",
    "# Lineare Regressionsergebnisse hinzufügen\n",
    "df[\"lin_reg\"] = np.exp(model.predict(X)).round(3)\n",
    "\n",
    "# Ergebnisse anzeigen\n",
    "print(f\"a = {a:.3f}, b = {b:.3f}, Schätzung für Jahr 11 = {y11_pred[0]:.3f}\")\n",
    "print(\"\\nDataFrame mit Werten:\")\n",
    "print(df)\n"
   ]
  },
  {
   "cell_type": "markdown",
   "metadata": {},
   "source": [
    "# Schätzung Siedler Würfel wahrscheinlichkeit der Ereignisse\n",
    "Die Zahlen in der Mitte werden durch die häufigsten Kombinationen am wahrscheinlichsten gewürfelt.\n",
    "\n",
    "# Händische Rechnung\n",
    "2: Anzahl der Kombinationen  = 1 (1,1)\n",
    "3: Anzahl der Kombinationen  = 2 (1,2), (2,1)\n",
    "4: Anzahl der Kombinationen  = 3 (1,3), (2,2), (3,1)\n",
    "5: Anzahl der Kombinationen  = 4 usw. \n",
    "6: Anzahl der Kombinationen  = 5 \n",
    "7: Anzahl der Kombinationen  = 6\n",
    "8: Anzahl der Kombinationen  = 5\n",
    "9: Anzahl der Kombinationen  = 4\n",
    "10: Anzahl der Kombinationen = 3\n",
    "11: Anzahl der Kombinationen = 2\n",
    "12: Anzahl der Kombinationen = 1\n",
    "\n",
    "P(Anzahl der Kombinationen) = Anzahl der Kombinationen / Anzahl der Ergebnisse\n",
    "\n",
    "z.B. für die Zahl 2\n",
    "\n",
    "P(2) = 1 / 36\n",
    "P(3) = 2 / 36 = 1/18\n",
    "P(4) = 3 / 36 = 1/12\n",
    "P(5) = 4 / 36 = 1/9\n",
    "usw."
   ]
  },
  {
   "cell_type": "markdown",
   "metadata": {},
   "source": [
    "# Siedler von Catan Würfelergebnis wahrscheinlichkeit"
   ]
  },
  {
   "cell_type": "code",
   "execution_count": 51,
   "metadata": {},
   "outputs": [
    {
     "name": "stdout",
     "output_type": "stream",
     "text": [
      "{2: 0.02, 3: 0.08, 4: 0.13, 5: 0.15, 6: 0.15, 7: 0.19, 8: 0.14, 9: 0.05, 10: 0.09}\n"
     ]
    }
   ],
   "source": [
    "from random import randint\n",
    "\n",
    "def get_posibilities(tosses, cube_1=(1, 6), cube_2=(1, 6)):\n",
    "    frequency = {}\n",
    "    for _ in range(tosses):\n",
    "        res = randint(cube_1[0], cube_1[1]) + randint(cube_2[0], cube_2[1])\n",
    "        frequency[res] = frequency.get(res, 0) + 1\n",
    "            \n",
    "    sorted_frequency = dict(sorted(frequency.items()))\n",
    "    \n",
    "    relative_frequency = {key: value / tosses for key, value in sorted_frequency.items()}\n",
    "     \n",
    "    return relative_frequency\n",
    "\n",
    "print(get_posibilities(100, (1, 6), (1, 4)))"
   ]
  },
  {
   "cell_type": "markdown",
   "metadata": {},
   "source": [
    "# Monty Hall Simulation"
   ]
  },
  {
   "cell_type": "code",
   "execution_count": 52,
   "metadata": {},
   "outputs": [
    {
     "name": "stdout",
     "output_type": "stream",
     "text": [
      "0.33677\n",
      "0.66559\n"
     ]
    }
   ],
   "source": [
    "import random\n",
    "\n",
    "def monty_hall_simulation(num_simulations, switch=True):\n",
    "    win_count = 0\n",
    "\n",
    "    for _ in range(num_simulations):\n",
    "        doors = [0, 1, 2]\n",
    "        winning_door = random.choice(doors)\n",
    "        player_choice = random.choice(doors)\n",
    "\n",
    "        doors_to_open = [door for door in doors if door != winning_door and door != player_choice]\n",
    "        door_opened = random.choice(doors_to_open)\n",
    "\n",
    "        if switch:\n",
    "            remaining_door = [door for door in doors if door != player_choice and door != door_opened][0]\n",
    "            player_choice = remaining_door\n",
    "            \n",
    "        if player_choice == winning_door:\n",
    "            win_count += 1\n",
    "\n",
    "    return win_count\n",
    "\n",
    "simulations = 100000\n",
    "\n",
    "print(monty_hall_simulation(simulations, switch=False)/simulations)\n",
    "\n",
    "print(monty_hall_simulation(simulations, switch=True)/simulations)"
   ]
  },
  {
   "cell_type": "markdown",
   "metadata": {},
   "source": [
    "# Boxplots"
   ]
  },
  {
   "cell_type": "code",
   "execution_count": 53,
   "metadata": {},
   "outputs": [
    {
     "data": {
      "image/png": "[encoded data removed]",
      "text/plain": [
       "<Figure size 800x600 with 1 Axes>"
      ]
     },
     "metadata": {},
     "output_type": "display_data"
    }
   ],
   "source": [
    "import pandas as pd\n",
    "import matplotlib.pyplot as plt\n",
    "\n",
    "my_l = [15, 21, 62, 33, 23, 40, 30, 40, 48, 23, 25, 23, 24, 18, 17, 18, \n",
    "        15, 16, 19, 14, 15, 19, 24, 39, 43, 15, 35, 49, 23, 12, 16, 15]\n",
    "\n",
    "df = pd.DataFrame(my_l, columns=[\"Werte\"])\n",
    "\n",
    "plt.figure(figsize=(8, 6))\n",
    "df.boxplot(column=[\"Werte\"])\n",
    "plt.title(\"Boxplot der Daten\")\n",
    "plt.ylabel(\"Werte\")\n",
    "plt.grid(True)\n",
    "plt.show()"
   ]
  },
  {
   "cell_type": "code",
   "execution_count": 1,
   "metadata": {},
   "outputs": [],
   "source": [
    "def p_quantil(data_series, quantile_percantage):\n",
    "    if len(data_series) == 0:\n",
    "        raise ValueError(\"Die Datenserie darf nicht leer sein.\")\n",
    "    if not isinstance(quantile_percantage, (int, float)) or not (0 <= quantile_percantage <= 1):\n",
    "        raise ValueError(\"Der Quantil-Prozentsatz muss eine Zahl zwischen 0 und 1 sein.\")\n",
    "        \n",
    "    sorted_data = sorted(data_series)\n",
    "    \n",
    "    if quantile_percantage == 0:\n",
    "        return sorted_data[0]\n",
    "    elif quantile_percantage == 1:\n",
    "        return sorted_data[-1]\n",
    "    \n",
    "    quantile_index = (len(sorted_data) - 1) * quantile_percantage\n",
    "    lower_index = int(quantile_index)\n",
    "    upper_index = lower_index + 1\n",
    "    print(lower_index, upper_index)\n",
    "    \n",
    "    if len(sorted_data) % 2 !=0:\n",
    "        return sorted_data[lower_index]\n",
    "    else:\n",
    "        return (sorted_data[lower_index] + sorted_data[upper_index]) / 2"
   ]
  },
  {
   "cell_type": "code",
   "execution_count": 2,
   "metadata": {},
   "outputs": [
    {
     "name": "stderr",
     "output_type": "stream",
     "text": [
      ".........\n",
      "----------------------------------------------------------------------\n",
      "Ran 9 tests in 0.004s\n",
      "\n",
      "OK\n"
     ]
    },
    {
     "name": "stdout",
     "output_type": "stream",
     "text": [
      "0 1\n",
      "2 3\n",
      "3 4\n",
      "1 2\n",
      "4 5\n",
      "1 2\n",
      "13 14\n"
     ]
    }
   ],
   "source": [
    "from parameterized import parameterized\n",
    "import unittest\n",
    "class Test_p_quantil(unittest.TestCase):\n",
    "\n",
    "    @parameterized.expand([\n",
    "        ([1], 0.5, 1),\n",
    "        ([1, 2, 3, 4, 5, 6], 0.5, 3.5),\n",
    "        ([1, 2, 3, 4, 5, 6], 1, 6),\n",
    "        ([1, 2, 3, 4, 5, 6], 0, 1),\n",
    "        ([1, 2, 3, 4, 5, 6, 7], 0.5, 4),\n",
    "        ([1, 2, 3, 4, 5, 6], 0.3, 2.5),\n",
    "        ([1, 2, 3, 4, 5, 6, 7], 0.7, 5),\n",
    "        ([10, 30, 20, 40, 50], 0.25, 20),\n",
    "        ([15, 21, 62, 33, 23, 40, 30, 40, 48, 23, 25, 23, 24, 18, 17, 18, 15, 16, 19, 14, 15, 19, 24, 39, 43, 15, 35, 49, 23, 12, 16, 15], 0.45, 20)\n",
    "    ])\n",
    "    def test_p_quantil(self, data_series, quantile_percantage, expected):\n",
    "        self.assertEqual(p_quantil(data_series, quantile_percantage), expected)\n",
    "\n",
    "if __name__ == \"__main__\":\n",
    "    unittest.main(argv=[''], exit=False)"
   ]
  },
  {
   "cell_type": "markdown",
   "metadata": {},
   "source": [
    "## Aufgaben"
   ]
  },
  {
   "cell_type": "code",
   "execution_count": 3,
   "metadata": {},
   "outputs": [],
   "source": [
    "def calculate_statistics(data):\n",
    "    sorted_data = sorted(data)\n",
    "\n",
    "    minimum = sorted_data[0]\n",
    "    maximum = sorted_data[-1]\n",
    "\n",
    "    n = len(sorted_data)\n",
    "    q1_index = n * 0.25\n",
    "    q3_index = n * 0.75\n",
    "    \n",
    "    q1_lower = int(q1_index)\n",
    "    q1_upper = q1_lower + 1\n",
    "    \n",
    "    q3_lower = int(q3_index)\n",
    "    q3_upper = q3_lower + 1\n",
    "    \n",
    "    if n % 2 == 0:\n",
    "        median = (sorted_data[n // 2 - 1] + sorted_data[n // 2]) / 2\n",
    "        q1 = (sorted_data[q1_lower] + sorted_data[q1_upper]) / 2\n",
    "        q3 = (sorted_data[q3_lower] + sorted_data[q3_upper]) / 2\n",
    "    else:\n",
    "        median = sorted_data[n // 2]\n",
    "        q1 = sorted_data[q1_lower]\n",
    "        q3 = sorted_data[q3_lower]\n",
    "\n",
    "    range_width = maximum - minimum\n",
    "    \n",
    "    return {\n",
    "        \"Minimum\": minimum,\n",
    "        \"1. Quartil (Q1)\": q1,\n",
    "        \"Median\": median,\n",
    "        \"3. Quartil (Q3)\": q3,\n",
    "        \"Maximum\": maximum,\n",
    "        \"Spannweite\": range_width\n",
    "    }"
   ]
  },
  {
   "cell_type": "markdown",
   "metadata": {},
   "source": [
    "Methode 1:\n",
    "77,77,78,79,79,81,81,82,82,85,85,85,86,86,86,87,87,87,90\n",
    "Methode 2:\n",
    "66,66,66,67,68,70,72,75,75,78,83,86,88,89,90,93,94,95,98"
   ]
  },
  {
   "cell_type": "code",
   "execution_count": 5,
   "metadata": {},
   "outputs": [
    {
     "name": "stdout",
     "output_type": "stream",
     "text": [
      "{'Minimum': 77, '1. Quartil (Q1)': 79, 'Median': 85, '3. Quartil (Q3)': 86, 'Maximum': 90, 'Spannweite': 13}\n",
      "{'Minimum': 66, '1. Quartil (Q1)': 68, 'Median': 78, '3. Quartil (Q3)': 90, 'Maximum': 98, 'Spannweite': 32}\n"
     ]
    }
   ],
   "source": [
    "import seaborn as sns\n",
    "import plotly.express as px\n",
    "\n",
    "method_1 = [77,77,78,79,79,81,81,82,82,85,85,85,86,86,86,87,87,87,90]\n",
    "method_2 = [66,66,66,67,68,70,72,75,75,78,83,86,88,89,90,93,94,95,98]\n",
    "\n",
    "print(calculate_statistics(method_1))\n",
    "print(calculate_statistics(method_2))"
   ]
  },
  {
   "cell_type": "code",
   "execution_count": 59,
   "metadata": {},
   "outputs": [
    {
     "data": {
      "text/plain": [
       "<Axes: >"
      ]
     },
     "execution_count": 59,
     "metadata": {},
     "output_type": "execute_result"
    },
    {
     "data": {
      "image/png": "[encoded data removed]",
      "text/plain": [
       "<Figure size 640x480 with 1 Axes>"
      ]
     },
     "metadata": {},
     "output_type": "display_data"
    }
   ],
   "source": [
    "sns.boxplot(method_1)"
   ]
  },
  {
   "cell_type": "code",
   "execution_count": 60,
   "metadata": {},
   "outputs": [
    {
     "data": {
      "application/vnd.plotly.v1+json": {
       "config": {
        "plotlyServerURL": "https://plot.ly"
       },
       "data": [
        {
         "alignmentgroup": "True",
         "hovertemplate": "variable=%{x}<br>value=%{y}<extra></extra>",
         "legendgroup": "",
         "marker": {
          "color": "#636efa"
         },
         "name": "",
         "notched": false,
         "offsetgroup": "",
         "orientation": "v",
         "showlegend": false,
         "type": "box",
         "x": [
          "0",
          "0",
          "0",
          "0",
          "0",
          "0",
          "0",
          "0",
          "0",
          "0",
          "0",
          "0",
          "0",
          "0",
          "0",
          "0",
          "0",
          "0",
          "0"
         ],
         "x0": " ",
         "xaxis": "x",
         "y": [
          66,
          66,
          66,
          67,
          68,
          70,
          72,
          75,
          75,
          78,
          83,
          86,
          88,
          89,
          90,
          93,
          94,
          95,
          98
         ],
         "y0": " ",
         "yaxis": "y"
        }
       ],
       "layout": {
        "boxmode": "group",
        "legend": {
         "tracegroupgap": 0
        },
        "margin": {
         "t": 60
        },
        "template": {
         "data": {
          "bar": [
           {
            "error_x": {
             "color": "#2a3f5f"
            },
            "error_y": {
             "color": "#2a3f5f"
            },
            "marker": {
             "line": {
              "color": "#E5ECF6",
              "width": 0.5
             },
             "pattern": {
              "fillmode": "overlay",
              "size": 10,
              "solidity": 0.2
             }
            },
            "type": "bar"
           }
          ],
          "barpolar": [
           {
            "marker": {
             "line": {
              "color": "#E5ECF6",
              "width": 0.5
             },
             "pattern": {
              "fillmode": "overlay",
              "size": 10,
              "solidity": 0.2
             }
            },
            "type": "barpolar"
           }
          ],
          "carpet": [
           {
            "aaxis": {
             "endlinecolor": "#2a3f5f",
             "gridcolor": "white",
             "linecolor": "white",
             "minorgridcolor": "white",
             "startlinecolor": "#2a3f5f"
            },
            "baxis": {
             "endlinecolor": "#2a3f5f",
             "gridcolor": "white",
             "linecolor": "white",
             "minorgridcolor": "white",
             "startlinecolor": "#2a3f5f"
            },
            "type": "carpet"
           }
          ],
          "choropleth": [
           {
            "colorbar": {
             "outlinewidth": 0,
             "ticks": ""
            },
            "type": "choropleth"
           }
          ],
          "contour": [
           {
            "colorbar": {
             "outlinewidth": 0,
             "ticks": ""
            },
            "colorscale": [
             [
              0,
              "#0d0887"
             ],
             [
              0.1111111111111111,
              "#46039f"
             ],
             [
              0.2222222222222222,
              "#7201a8"
             ],
             [
              0.3333333333333333,
              "#9c179e"
             ],
             [
              0.4444444444444444,
              "#bd3786"
             ],
             [
              0.5555555555555556,
              "#d8576b"
             ],
             [
              0.6666666666666666,
              "#ed7953"
             ],
             [
              0.7777777777777778,
              "#fb9f3a"
             ],
             [
              0.8888888888888888,
              "#fdca26"
             ],
             [
              1,
              "#f0f921"
             ]
            ],
            "type": "contour"
           }
          ],
          "contourcarpet": [
           {
            "colorbar": {
             "outlinewidth": 0,
             "ticks": ""
            },
            "type": "contourcarpet"
           }
          ],
          "heatmap": [
           {
            "colorbar": {
             "outlinewidth": 0,
             "ticks": ""
            },
            "colorscale": [
             [
              0,
              "#0d0887"
             ],
             [
              0.1111111111111111,
              "#46039f"
             ],
             [
              0.2222222222222222,
              "#7201a8"
             ],
             [
              0.3333333333333333,
              "#9c179e"
             ],
             [
              0.4444444444444444,
              "#bd3786"
             ],
             [
              0.5555555555555556,
              "#d8576b"
             ],
             [
              0.6666666666666666,
              "#ed7953"
             ],
             [
              0.7777777777777778,
              "#fb9f3a"
             ],
             [
              0.8888888888888888,
              "#fdca26"
             ],
             [
              1,
              "#f0f921"
             ]
            ],
            "type": "heatmap"
           }
          ],
          "heatmapgl": [
           {
            "colorbar": {
             "outlinewidth": 0,
             "ticks": ""
            },
            "colorscale": [
             [
              0,
              "#0d0887"
             ],
             [
              0.1111111111111111,
              "#46039f"
             ],
             [
              0.2222222222222222,
              "#7201a8"
             ],
             [
              0.3333333333333333,
              "#9c179e"
             ],
             [
              0.4444444444444444,
              "#bd3786"
             ],
             [
              0.5555555555555556,
              "#d8576b"
             ],
             [
              0.6666666666666666,
              "#ed7953"
             ],
             [
              0.7777777777777778,
              "#fb9f3a"
             ],
             [
              0.8888888888888888,
              "#fdca26"
             ],
             [
              1,
              "#f0f921"
             ]
            ],
            "type": "heatmapgl"
           }
          ],
          "histogram": [
           {
            "marker": {
             "pattern": {
              "fillmode": "overlay",
              "size": 10,
              "solidity": 0.2
             }
            },
            "type": "histogram"
           }
          ],
          "histogram2d": [
           {
            "colorbar": {
             "outlinewidth": 0,
             "ticks": ""
            },
            "colorscale": [
             [
              0,
              "#0d0887"
             ],
             [
              0.1111111111111111,
              "#46039f"
             ],
             [
              0.2222222222222222,
              "#7201a8"
             ],
             [
              0.3333333333333333,
              "#9c179e"
             ],
             [
              0.4444444444444444,
              "#bd3786"
             ],
             [
              0.5555555555555556,
              "#d8576b"
             ],
             [
              0.6666666666666666,
              "#ed7953"
             ],
             [
              0.7777777777777778,
              "#fb9f3a"
             ],
             [
              0.8888888888888888,
              "#fdca26"
             ],
             [
              1,
              "#f0f921"
             ]
            ],
            "type": "histogram2d"
           }
          ],
          "histogram2dcontour": [
           {
            "colorbar": {
             "outlinewidth": 0,
             "ticks": ""
            },
            "colorscale": [
             [
              0,
              "#0d0887"
             ],
             [
              0.1111111111111111,
              "#46039f"
             ],
             [
              0.2222222222222222,
              "#7201a8"
             ],
             [
              0.3333333333333333,
              "#9c179e"
             ],
             [
              0.4444444444444444,
              "#bd3786"
             ],
             [
              0.5555555555555556,
              "#d8576b"
             ],
             [
              0.6666666666666666,
              "#ed7953"
             ],
             [
              0.7777777777777778,
              "#fb9f3a"
             ],
             [
              0.8888888888888888,
              "#fdca26"
             ],
             [
              1,
              "#f0f921"
             ]
            ],
            "type": "histogram2dcontour"
           }
          ],
          "mesh3d": [
           {
            "colorbar": {
             "outlinewidth": 0,
             "ticks": ""
            },
            "type": "mesh3d"
           }
          ],
          "parcoords": [
           {
            "line": {
             "colorbar": {
              "outlinewidth": 0,
              "ticks": ""
             }
            },
            "type": "parcoords"
           }
          ],
          "pie": [
           {
            "automargin": true,
            "type": "pie"
           }
          ],
          "scatter": [
           {
            "fillpattern": {
             "fillmode": "overlay",
             "size": 10,
             "solidity": 0.2
            },
            "type": "scatter"
           }
          ],
          "scatter3d": [
           {
            "line": {
             "colorbar": {
              "outlinewidth": 0,
              "ticks": ""
             }
            },
            "marker": {
             "colorbar": {
              "outlinewidth": 0,
              "ticks": ""
             }
            },
            "type": "scatter3d"
           }
          ],
          "scattercarpet": [
           {
            "marker": {
             "colorbar": {
              "outlinewidth": 0,
              "ticks": ""
             }
            },
            "type": "scattercarpet"
           }
          ],
          "scattergeo": [
           {
            "marker": {
             "colorbar": {
              "outlinewidth": 0,
              "ticks": ""
             }
            },
            "type": "scattergeo"
           }
          ],
          "scattergl": [
           {
            "marker": {
             "colorbar": {
              "outlinewidth": 0,
              "ticks": ""
             }
            },
            "type": "scattergl"
           }
          ],
          "scattermapbox": [
           {
            "marker": {
             "colorbar": {
              "outlinewidth": 0,
              "ticks": ""
             }
            },
            "type": "scattermapbox"
           }
          ],
          "scatterpolar": [
           {
            "marker": {
             "colorbar": {
              "outlinewidth": 0,
              "ticks": ""
             }
            },
            "type": "scatterpolar"
           }
          ],
          "scatterpolargl": [
           {
            "marker": {
             "colorbar": {
              "outlinewidth": 0,
              "ticks": ""
             }
            },
            "type": "scatterpolargl"
           }
          ],
          "scatterternary": [
           {
            "marker": {
             "colorbar": {
              "outlinewidth": 0,
              "ticks": ""
             }
            },
            "type": "scatterternary"
           }
          ],
          "surface": [
           {
            "colorbar": {
             "outlinewidth": 0,
             "ticks": ""
            },
            "colorscale": [
             [
              0,
              "#0d0887"
             ],
             [
              0.1111111111111111,
              "#46039f"
             ],
             [
              0.2222222222222222,
              "#7201a8"
             ],
             [
              0.3333333333333333,
              "#9c179e"
             ],
             [
              0.4444444444444444,
              "#bd3786"
             ],
             [
              0.5555555555555556,
              "#d8576b"
             ],
             [
              0.6666666666666666,
              "#ed7953"
             ],
             [
              0.7777777777777778,
              "#fb9f3a"
             ],
             [
              0.8888888888888888,
              "#fdca26"
             ],
             [
              1,
              "#f0f921"
             ]
            ],
            "type": "surface"
           }
          ],
          "table": [
           {
            "cells": {
             "fill": {
              "color": "#EBF0F8"
             },
             "line": {
              "color": "white"
             }
            },
            "header": {
             "fill": {
              "color": "#C8D4E3"
             },
             "line": {
              "color": "white"
             }
            },
            "type": "table"
           }
          ]
         },
         "layout": {
          "annotationdefaults": {
           "arrowcolor": "#2a3f5f",
           "arrowhead": 0,
           "arrowwidth": 1
          },
          "autotypenumbers": "strict",
          "coloraxis": {
           "colorbar": {
            "outlinewidth": 0,
            "ticks": ""
           }
          },
          "colorscale": {
           "diverging": [
            [
             0,
             "#8e0152"
            ],
            [
             0.1,
             "#c51b7d"
            ],
            [
             0.2,
             "#de77ae"
            ],
            [
             0.3,
             "#f1b6da"
            ],
            [
             0.4,
             "#fde0ef"
            ],
            [
             0.5,
             "#f7f7f7"
            ],
            [
             0.6,
             "#e6f5d0"
            ],
            [
             0.7,
             "#b8e186"
            ],
            [
             0.8,
             "#7fbc41"
            ],
            [
             0.9,
             "#4d9221"
            ],
            [
             1,
             "#276419"
            ]
           ],
           "sequential": [
            [
             0,
             "#0d0887"
            ],
            [
             0.1111111111111111,
             "#46039f"
            ],
            [
             0.2222222222222222,
             "#7201a8"
            ],
            [
             0.3333333333333333,
             "#9c179e"
            ],
            [
             0.4444444444444444,
             "#bd3786"
            ],
            [
             0.5555555555555556,
             "#d8576b"
            ],
            [
             0.6666666666666666,
             "#ed7953"
            ],
            [
             0.7777777777777778,
             "#fb9f3a"
            ],
            [
             0.8888888888888888,
             "#fdca26"
            ],
            [
             1,
             "#f0f921"
            ]
           ],
           "sequentialminus": [
            [
             0,
             "#0d0887"
            ],
            [
             0.1111111111111111,
             "#46039f"
            ],
            [
             0.2222222222222222,
             "#7201a8"
            ],
            [
             0.3333333333333333,
             "#9c179e"
            ],
            [
             0.4444444444444444,
             "#bd3786"
            ],
            [
             0.5555555555555556,
             "#d8576b"
            ],
            [
             0.6666666666666666,
             "#ed7953"
            ],
            [
             0.7777777777777778,
             "#fb9f3a"
            ],
            [
             0.8888888888888888,
             "#fdca26"
            ],
            [
             1,
             "#f0f921"
            ]
           ]
          },
          "colorway": [
           "#636efa",
           "#EF553B",
           "#00cc96",
           "#ab63fa",
           "#FFA15A",
           "#19d3f3",
           "#FF6692",
           "#B6E880",
           "#FF97FF",
           "#FECB52"
          ],
          "font": {
           "color": "#2a3f5f"
          },
          "geo": {
           "bgcolor": "white",
           "lakecolor": "white",
           "landcolor": "#E5ECF6",
           "showlakes": true,
           "showland": true,
           "subunitcolor": "white"
          },
          "hoverlabel": {
           "align": "left"
          },
          "hovermode": "closest",
          "mapbox": {
           "style": "light"
          },
          "paper_bgcolor": "white",
          "plot_bgcolor": "#E5ECF6",
          "polar": {
           "angularaxis": {
            "gridcolor": "white",
            "linecolor": "white",
            "ticks": ""
           },
           "bgcolor": "#E5ECF6",
           "radialaxis": {
            "gridcolor": "white",
            "linecolor": "white",
            "ticks": ""
           }
          },
          "scene": {
           "xaxis": {
            "backgroundcolor": "#E5ECF6",
            "gridcolor": "white",
            "gridwidth": 2,
            "linecolor": "white",
            "showbackground": true,
            "ticks": "",
            "zerolinecolor": "white"
           },
           "yaxis": {
            "backgroundcolor": "#E5ECF6",
            "gridcolor": "white",
            "gridwidth": 2,
            "linecolor": "white",
            "showbackground": true,
            "ticks": "",
            "zerolinecolor": "white"
           },
           "zaxis": {
            "backgroundcolor": "#E5ECF6",
            "gridcolor": "white",
            "gridwidth": 2,
            "linecolor": "white",
            "showbackground": true,
            "ticks": "",
            "zerolinecolor": "white"
           }
          },
          "shapedefaults": {
           "line": {
            "color": "#2a3f5f"
           }
          },
          "ternary": {
           "aaxis": {
            "gridcolor": "white",
            "linecolor": "white",
            "ticks": ""
           },
           "baxis": {
            "gridcolor": "white",
            "linecolor": "white",
            "ticks": ""
           },
           "bgcolor": "#E5ECF6",
           "caxis": {
            "gridcolor": "white",
            "linecolor": "white",
            "ticks": ""
           }
          },
          "title": {
           "x": 0.05
          },
          "xaxis": {
           "automargin": true,
           "gridcolor": "white",
           "linecolor": "white",
           "ticks": "",
           "title": {
            "standoff": 15
           },
           "zerolinecolor": "white",
           "zerolinewidth": 2
          },
          "yaxis": {
           "automargin": true,
           "gridcolor": "white",
           "linecolor": "white",
           "ticks": "",
           "title": {
            "standoff": 15
           },
           "zerolinecolor": "white",
           "zerolinewidth": 2
          }
         }
        },
        "xaxis": {
         "anchor": "y",
         "domain": [
          0,
          1
         ],
         "title": {
          "text": "variable"
         }
        },
        "yaxis": {
         "anchor": "x",
         "domain": [
          0,
          1
         ],
         "title": {
          "text": "value"
         }
        }
       }
      }
     },
     "metadata": {},
     "output_type": "display_data"
    }
   ],
   "source": [
    "px.box(method_2)"
   ]
  },
  {
   "cell_type": "markdown",
   "metadata": {},
   "source": [
    "3,10,21,23,25,26,29,35,36,38,45,53,72\n",
    "1,5,6,5,3,3,4,3,4,2,1,2,1"
   ]
  },
  {
   "cell_type": "code",
   "execution_count": 14,
   "metadata": {},
   "outputs": [
    {
     "data": {
      "text/html": [
       "<div>\n",
       "<style scoped>\n",
       "    .dataframe tbody tr th:only-of-type {\n",
       "        vertical-align: middle;\n",
       "    }\n",
       "\n",
       "    .dataframe tbody tr th {\n",
       "        vertical-align: top;\n",
       "    }\n",
       "\n",
       "    .dataframe thead th {\n",
       "        text-align: right;\n",
       "    }\n",
       "</style>\n",
       "<table border=\"1\" class=\"dataframe\">\n",
       "  <thead>\n",
       "    <tr style=\"text-align: right;\">\n",
       "      <th></th>\n",
       "      <th>umsaetze</th>\n",
       "      <th>vertreter</th>\n",
       "      <th>vertreter_kummuliert</th>\n",
       "    </tr>\n",
       "  </thead>\n",
       "  <tbody>\n",
       "    <tr>\n",
       "      <th>0</th>\n",
       "      <td>3</td>\n",
       "      <td>1</td>\n",
       "      <td>1</td>\n",
       "    </tr>\n",
       "    <tr>\n",
       "      <th>1</th>\n",
       "      <td>10</td>\n",
       "      <td>5</td>\n",
       "      <td>6</td>\n",
       "    </tr>\n",
       "    <tr>\n",
       "      <th>2</th>\n",
       "      <td>21</td>\n",
       "      <td>6</td>\n",
       "      <td>12</td>\n",
       "    </tr>\n",
       "    <tr>\n",
       "      <th>3</th>\n",
       "      <td>23</td>\n",
       "      <td>5</td>\n",
       "      <td>17</td>\n",
       "    </tr>\n",
       "    <tr>\n",
       "      <th>4</th>\n",
       "      <td>25</td>\n",
       "      <td>3</td>\n",
       "      <td>20</td>\n",
       "    </tr>\n",
       "    <tr>\n",
       "      <th>5</th>\n",
       "      <td>26</td>\n",
       "      <td>3</td>\n",
       "      <td>23</td>\n",
       "    </tr>\n",
       "    <tr>\n",
       "      <th>6</th>\n",
       "      <td>29</td>\n",
       "      <td>4</td>\n",
       "      <td>27</td>\n",
       "    </tr>\n",
       "    <tr>\n",
       "      <th>7</th>\n",
       "      <td>35</td>\n",
       "      <td>3</td>\n",
       "      <td>30</td>\n",
       "    </tr>\n",
       "    <tr>\n",
       "      <th>8</th>\n",
       "      <td>36</td>\n",
       "      <td>4</td>\n",
       "      <td>34</td>\n",
       "    </tr>\n",
       "    <tr>\n",
       "      <th>9</th>\n",
       "      <td>38</td>\n",
       "      <td>2</td>\n",
       "      <td>36</td>\n",
       "    </tr>\n",
       "    <tr>\n",
       "      <th>10</th>\n",
       "      <td>45</td>\n",
       "      <td>1</td>\n",
       "      <td>37</td>\n",
       "    </tr>\n",
       "    <tr>\n",
       "      <th>11</th>\n",
       "      <td>53</td>\n",
       "      <td>2</td>\n",
       "      <td>39</td>\n",
       "    </tr>\n",
       "    <tr>\n",
       "      <th>12</th>\n",
       "      <td>72</td>\n",
       "      <td>1</td>\n",
       "      <td>40</td>\n",
       "    </tr>\n",
       "  </tbody>\n",
       "</table>\n",
       "</div>"
      ],
      "text/plain": [
       "    umsaetze  vertreter  vertreter_kummuliert\n",
       "0          3          1                     1\n",
       "1         10          5                     6\n",
       "2         21          6                    12\n",
       "3         23          5                    17\n",
       "4         25          3                    20\n",
       "5         26          3                    23\n",
       "6         29          4                    27\n",
       "7         35          3                    30\n",
       "8         36          4                    34\n",
       "9         38          2                    36\n",
       "10        45          1                    37\n",
       "11        53          2                    39\n",
       "12        72          1                    40"
      ]
     },
     "execution_count": 14,
     "metadata": {},
     "output_type": "execute_result"
    }
   ],
   "source": [
    "import pandas as pd\n",
    "umsaetze = [3,10,21,23,25,26,29,35,36,38,45,53,72]\n",
    "vertreter = [1,5,6,5,3,3,4,3,4,2,1,2,1]\n",
    "\n",
    "df = pd.DataFrame({\n",
    "    \"umsaetze\": umsaetze,\n",
    "    \"vertreter\": vertreter\n",
    "})\n",
    "\n",
    "df[\"vertreter_kummuliert\"] = df[\"vertreter\"].cumsum()\n",
    "\n",
    "df"
   ]
  },
  {
   "cell_type": "code",
   "execution_count": 16,
   "metadata": {},
   "outputs": [
    {
     "data": {
      "text/html": [
       "<div>\n",
       "<style scoped>\n",
       "    .dataframe tbody tr th:only-of-type {\n",
       "        vertical-align: middle;\n",
       "    }\n",
       "\n",
       "    .dataframe tbody tr th {\n",
       "        vertical-align: top;\n",
       "    }\n",
       "\n",
       "    .dataframe thead th {\n",
       "        text-align: right;\n",
       "    }\n",
       "</style>\n",
       "<table border=\"1\" class=\"dataframe\">\n",
       "  <thead>\n",
       "    <tr style=\"text-align: right;\">\n",
       "      <th></th>\n",
       "      <th>umsaetze</th>\n",
       "      <th>vertreter</th>\n",
       "      <th>vertreter_kummuliert</th>\n",
       "    </tr>\n",
       "  </thead>\n",
       "  <tbody>\n",
       "    <tr>\n",
       "      <th>2</th>\n",
       "      <td>21</td>\n",
       "      <td>6</td>\n",
       "      <td>12</td>\n",
       "    </tr>\n",
       "    <tr>\n",
       "      <th>3</th>\n",
       "      <td>23</td>\n",
       "      <td>5</td>\n",
       "      <td>17</td>\n",
       "    </tr>\n",
       "    <tr>\n",
       "      <th>4</th>\n",
       "      <td>25</td>\n",
       "      <td>3</td>\n",
       "      <td>20</td>\n",
       "    </tr>\n",
       "    <tr>\n",
       "      <th>5</th>\n",
       "      <td>26</td>\n",
       "      <td>3</td>\n",
       "      <td>23</td>\n",
       "    </tr>\n",
       "    <tr>\n",
       "      <th>6</th>\n",
       "      <td>29</td>\n",
       "      <td>4</td>\n",
       "      <td>27</td>\n",
       "    </tr>\n",
       "    <tr>\n",
       "      <th>7</th>\n",
       "      <td>35</td>\n",
       "      <td>3</td>\n",
       "      <td>30</td>\n",
       "    </tr>\n",
       "    <tr>\n",
       "      <th>8</th>\n",
       "      <td>36</td>\n",
       "      <td>4</td>\n",
       "      <td>34</td>\n",
       "    </tr>\n",
       "    <tr>\n",
       "      <th>9</th>\n",
       "      <td>38</td>\n",
       "      <td>2</td>\n",
       "      <td>36</td>\n",
       "    </tr>\n",
       "    <tr>\n",
       "      <th>10</th>\n",
       "      <td>45</td>\n",
       "      <td>1</td>\n",
       "      <td>37</td>\n",
       "    </tr>\n",
       "    <tr>\n",
       "      <th>11</th>\n",
       "      <td>53</td>\n",
       "      <td>2</td>\n",
       "      <td>39</td>\n",
       "    </tr>\n",
       "    <tr>\n",
       "      <th>12</th>\n",
       "      <td>72</td>\n",
       "      <td>1</td>\n",
       "      <td>40</td>\n",
       "    </tr>\n",
       "  </tbody>\n",
       "</table>\n",
       "</div>"
      ],
      "text/plain": [
       "    umsaetze  vertreter  vertreter_kummuliert\n",
       "2         21          6                    12\n",
       "3         23          5                    17\n",
       "4         25          3                    20\n",
       "5         26          3                    23\n",
       "6         29          4                    27\n",
       "7         35          3                    30\n",
       "8         36          4                    34\n",
       "9         38          2                    36\n",
       "10        45          1                    37\n",
       "11        53          2                    39\n",
       "12        72          1                    40"
      ]
     },
     "execution_count": 16,
     "metadata": {},
     "output_type": "execute_result"
    }
   ],
   "source": [
    "q1_val = sum(df[\"vertreter\"]/4)\n",
    "q1 = df[df[\"vertreter_kummuliert\"] >= q1_val]\n",
    "q1"
   ]
  },
  {
   "cell_type": "code",
   "execution_count": 42,
   "metadata": {},
   "outputs": [
    {
     "name": "stdout",
     "output_type": "stream",
     "text": [
      "               0\n",
      "count  40.000000\n",
      "mean   27.775000\n",
      "std    13.187966\n",
      "min     3.000000\n",
      "25%    21.000000\n",
      "50%    25.500000\n",
      "75%    35.250000\n",
      "max    72.000000\n",
      "0    14.25\n",
      "dtype: float64\n"
     ]
    }
   ],
   "source": [
    "umsatz= [3,10,21,23,25,26,29,35,36,38,45,53,72]\n",
    "anzahl=  [1,5,6,5,3,3,4,3,4,2,1,2,1]"
   ]
  },
  {
   "cell_type": "code",
   "execution_count": 31,
   "metadata": {},
   "outputs": [
    {
     "data": {
      "application/vnd.plotly.v1+json": {
       "config": {
        "plotlyServerURL": "https://plot.ly"
       },
       "data": [
        {
         "alignmentgroup": "True",
         "hovertemplate": "variable=%{x}<br>value=%{y}<extra></extra>",
         "legendgroup": "",
         "marker": {
          "color": "#636efa"
         },
         "name": "",
         "notched": false,
         "offsetgroup": "",
         "orientation": "v",
         "showlegend": false,
         "type": "box",
         "x": [
          "0",
          "0",
          "0",
          "0",
          "0",
          "0",
          "0",
          "0",
          "0",
          "0",
          "0",
          "0",
          "0"
         ],
         "x0": " ",
         "xaxis": "x",
         "y": [
          3,
          10,
          21,
          23,
          25,
          26,
          29,
          35,
          36,
          38,
          45,
          53,
          72
         ],
         "y0": " ",
         "yaxis": "y"
        }
       ],
       "layout": {
        "boxmode": "group",
        "legend": {
         "tracegroupgap": 0
        },
        "margin": {
         "t": 60
        },
        "template": {
         "data": {
          "bar": [
           {
            "error_x": {
             "color": "#2a3f5f"
            },
            "error_y": {
             "color": "#2a3f5f"
            },
            "marker": {
             "line": {
              "color": "#E5ECF6",
              "width": 0.5
             },
             "pattern": {
              "fillmode": "overlay",
              "size": 10,
              "solidity": 0.2
             }
            },
            "type": "bar"
           }
          ],
          "barpolar": [
           {
            "marker": {
             "line": {
              "color": "#E5ECF6",
              "width": 0.5
             },
             "pattern": {
              "fillmode": "overlay",
              "size": 10,
              "solidity": 0.2
             }
            },
            "type": "barpolar"
           }
          ],
          "carpet": [
           {
            "aaxis": {
             "endlinecolor": "#2a3f5f",
             "gridcolor": "white",
             "linecolor": "white",
             "minorgridcolor": "white",
             "startlinecolor": "#2a3f5f"
            },
            "baxis": {
             "endlinecolor": "#2a3f5f",
             "gridcolor": "white",
             "linecolor": "white",
             "minorgridcolor": "white",
             "startlinecolor": "#2a3f5f"
            },
            "type": "carpet"
           }
          ],
          "choropleth": [
           {
            "colorbar": {
             "outlinewidth": 0,
             "ticks": ""
            },
            "type": "choropleth"
           }
          ],
          "contour": [
           {
            "colorbar": {
             "outlinewidth": 0,
             "ticks": ""
            },
            "colorscale": [
             [
              0,
              "#0d0887"
             ],
             [
              0.1111111111111111,
              "#46039f"
             ],
             [
              0.2222222222222222,
              "#7201a8"
             ],
             [
              0.3333333333333333,
              "#9c179e"
             ],
             [
              0.4444444444444444,
              "#bd3786"
             ],
             [
              0.5555555555555556,
              "#d8576b"
             ],
             [
              0.6666666666666666,
              "#ed7953"
             ],
             [
              0.7777777777777778,
              "#fb9f3a"
             ],
             [
              0.8888888888888888,
              "#fdca26"
             ],
             [
              1,
              "#f0f921"
             ]
            ],
            "type": "contour"
           }
          ],
          "contourcarpet": [
           {
            "colorbar": {
             "outlinewidth": 0,
             "ticks": ""
            },
            "type": "contourcarpet"
           }
          ],
          "heatmap": [
           {
            "colorbar": {
             "outlinewidth": 0,
             "ticks": ""
            },
            "colorscale": [
             [
              0,
              "#0d0887"
             ],
             [
              0.1111111111111111,
              "#46039f"
             ],
             [
              0.2222222222222222,
              "#7201a8"
             ],
             [
              0.3333333333333333,
              "#9c179e"
             ],
             [
              0.4444444444444444,
              "#bd3786"
             ],
             [
              0.5555555555555556,
              "#d8576b"
             ],
             [
              0.6666666666666666,
              "#ed7953"
             ],
             [
              0.7777777777777778,
              "#fb9f3a"
             ],
             [
              0.8888888888888888,
              "#fdca26"
             ],
             [
              1,
              "#f0f921"
             ]
            ],
            "type": "heatmap"
           }
          ],
          "heatmapgl": [
           {
            "colorbar": {
             "outlinewidth": 0,
             "ticks": ""
            },
            "colorscale": [
             [
              0,
              "#0d0887"
             ],
             [
              0.1111111111111111,
              "#46039f"
             ],
             [
              0.2222222222222222,
              "#7201a8"
             ],
             [
              0.3333333333333333,
              "#9c179e"
             ],
             [
              0.4444444444444444,
              "#bd3786"
             ],
             [
              0.5555555555555556,
              "#d8576b"
             ],
             [
              0.6666666666666666,
              "#ed7953"
             ],
             [
              0.7777777777777778,
              "#fb9f3a"
             ],
             [
              0.8888888888888888,
              "#fdca26"
             ],
             [
              1,
              "#f0f921"
             ]
            ],
            "type": "heatmapgl"
           }
          ],
          "histogram": [
           {
            "marker": {
             "pattern": {
              "fillmode": "overlay",
              "size": 10,
              "solidity": 0.2
             }
            },
            "type": "histogram"
           }
          ],
          "histogram2d": [
           {
            "colorbar": {
             "outlinewidth": 0,
             "ticks": ""
            },
            "colorscale": [
             [
              0,
              "#0d0887"
             ],
             [
              0.1111111111111111,
              "#46039f"
             ],
             [
              0.2222222222222222,
              "#7201a8"
             ],
             [
              0.3333333333333333,
              "#9c179e"
             ],
             [
              0.4444444444444444,
              "#bd3786"
             ],
             [
              0.5555555555555556,
              "#d8576b"
             ],
             [
              0.6666666666666666,
              "#ed7953"
             ],
             [
              0.7777777777777778,
              "#fb9f3a"
             ],
             [
              0.8888888888888888,
              "#fdca26"
             ],
             [
              1,
              "#f0f921"
             ]
            ],
            "type": "histogram2d"
           }
          ],
          "histogram2dcontour": [
           {
            "colorbar": {
             "outlinewidth": 0,
             "ticks": ""
            },
            "colorscale": [
             [
              0,
              "#0d0887"
             ],
             [
              0.1111111111111111,
              "#46039f"
             ],
             [
              0.2222222222222222,
              "#7201a8"
             ],
             [
              0.3333333333333333,
              "#9c179e"
             ],
             [
              0.4444444444444444,
              "#bd3786"
             ],
             [
              0.5555555555555556,
              "#d8576b"
             ],
             [
              0.6666666666666666,
              "#ed7953"
             ],
             [
              0.7777777777777778,
              "#fb9f3a"
             ],
             [
              0.8888888888888888,
              "#fdca26"
             ],
             [
              1,
              "#f0f921"
             ]
            ],
            "type": "histogram2dcontour"
           }
          ],
          "mesh3d": [
           {
            "colorbar": {
             "outlinewidth": 0,
             "ticks": ""
            },
            "type": "mesh3d"
           }
          ],
          "parcoords": [
           {
            "line": {
             "colorbar": {
              "outlinewidth": 0,
              "ticks": ""
             }
            },
            "type": "parcoords"
           }
          ],
          "pie": [
           {
            "automargin": true,
            "type": "pie"
           }
          ],
          "scatter": [
           {
            "fillpattern": {
             "fillmode": "overlay",
             "size": 10,
             "solidity": 0.2
            },
            "type": "scatter"
           }
          ],
          "scatter3d": [
           {
            "line": {
             "colorbar": {
              "outlinewidth": 0,
              "ticks": ""
             }
            },
            "marker": {
             "colorbar": {
              "outlinewidth": 0,
              "ticks": ""
             }
            },
            "type": "scatter3d"
           }
          ],
          "scattercarpet": [
           {
            "marker": {
             "colorbar": {
              "outlinewidth": 0,
              "ticks": ""
             }
            },
            "type": "scattercarpet"
           }
          ],
          "scattergeo": [
           {
            "marker": {
             "colorbar": {
              "outlinewidth": 0,
              "ticks": ""
             }
            },
            "type": "scattergeo"
           }
          ],
          "scattergl": [
           {
            "marker": {
             "colorbar": {
              "outlinewidth": 0,
              "ticks": ""
             }
            },
            "type": "scattergl"
           }
          ],
          "scattermapbox": [
           {
            "marker": {
             "colorbar": {
              "outlinewidth": 0,
              "ticks": ""
             }
            },
            "type": "scattermapbox"
           }
          ],
          "scatterpolar": [
           {
            "marker": {
             "colorbar": {
              "outlinewidth": 0,
              "ticks": ""
             }
            },
            "type": "scatterpolar"
           }
          ],
          "scatterpolargl": [
           {
            "marker": {
             "colorbar": {
              "outlinewidth": 0,
              "ticks": ""
             }
            },
            "type": "scatterpolargl"
           }
          ],
          "scatterternary": [
           {
            "marker": {
             "colorbar": {
              "outlinewidth": 0,
              "ticks": ""
             }
            },
            "type": "scatterternary"
           }
          ],
          "surface": [
           {
            "colorbar": {
             "outlinewidth": 0,
             "ticks": ""
            },
            "colorscale": [
             [
              0,
              "#0d0887"
             ],
             [
              0.1111111111111111,
              "#46039f"
             ],
             [
              0.2222222222222222,
              "#7201a8"
             ],
             [
              0.3333333333333333,
              "#9c179e"
             ],
             [
              0.4444444444444444,
              "#bd3786"
             ],
             [
              0.5555555555555556,
              "#d8576b"
             ],
             [
              0.6666666666666666,
              "#ed7953"
             ],
             [
              0.7777777777777778,
              "#fb9f3a"
             ],
             [
              0.8888888888888888,
              "#fdca26"
             ],
             [
              1,
              "#f0f921"
             ]
            ],
            "type": "surface"
           }
          ],
          "table": [
           {
            "cells": {
             "fill": {
              "color": "#EBF0F8"
             },
             "line": {
              "color": "white"
             }
            },
            "header": {
             "fill": {
              "color": "#C8D4E3"
             },
             "line": {
              "color": "white"
             }
            },
            "type": "table"
           }
          ]
         },
         "layout": {
          "annotationdefaults": {
           "arrowcolor": "#2a3f5f",
           "arrowhead": 0,
           "arrowwidth": 1
          },
          "autotypenumbers": "strict",
          "coloraxis": {
           "colorbar": {
            "outlinewidth": 0,
            "ticks": ""
           }
          },
          "colorscale": {
           "diverging": [
            [
             0,
             "#8e0152"
            ],
            [
             0.1,
             "#c51b7d"
            ],
            [
             0.2,
             "#de77ae"
            ],
            [
             0.3,
             "#f1b6da"
            ],
            [
             0.4,
             "#fde0ef"
            ],
            [
             0.5,
             "#f7f7f7"
            ],
            [
             0.6,
             "#e6f5d0"
            ],
            [
             0.7,
             "#b8e186"
            ],
            [
             0.8,
             "#7fbc41"
            ],
            [
             0.9,
             "#4d9221"
            ],
            [
             1,
             "#276419"
            ]
           ],
           "sequential": [
            [
             0,
             "#0d0887"
            ],
            [
             0.1111111111111111,
             "#46039f"
            ],
            [
             0.2222222222222222,
             "#7201a8"
            ],
            [
             0.3333333333333333,
             "#9c179e"
            ],
            [
             0.4444444444444444,
             "#bd3786"
            ],
            [
             0.5555555555555556,
             "#d8576b"
            ],
            [
             0.6666666666666666,
             "#ed7953"
            ],
            [
             0.7777777777777778,
             "#fb9f3a"
            ],
            [
             0.8888888888888888,
             "#fdca26"
            ],
            [
             1,
             "#f0f921"
            ]
           ],
           "sequentialminus": [
            [
             0,
             "#0d0887"
            ],
            [
             0.1111111111111111,
             "#46039f"
            ],
            [
             0.2222222222222222,
             "#7201a8"
            ],
            [
             0.3333333333333333,
             "#9c179e"
            ],
            [
             0.4444444444444444,
             "#bd3786"
            ],
            [
             0.5555555555555556,
             "#d8576b"
            ],
            [
             0.6666666666666666,
             "#ed7953"
            ],
            [
             0.7777777777777778,
             "#fb9f3a"
            ],
            [
             0.8888888888888888,
             "#fdca26"
            ],
            [
             1,
             "#f0f921"
            ]
           ]
          },
          "colorway": [
           "#636efa",
           "#EF553B",
           "#00cc96",
           "#ab63fa",
           "#FFA15A",
           "#19d3f3",
           "#FF6692",
           "#B6E880",
           "#FF97FF",
           "#FECB52"
          ],
          "font": {
           "color": "#2a3f5f"
          },
          "geo": {
           "bgcolor": "white",
           "lakecolor": "white",
           "landcolor": "#E5ECF6",
           "showlakes": true,
           "showland": true,
           "subunitcolor": "white"
          },
          "hoverlabel": {
           "align": "left"
          },
          "hovermode": "closest",
          "mapbox": {
           "style": "light"
          },
          "paper_bgcolor": "white",
          "plot_bgcolor": "#E5ECF6",
          "polar": {
           "angularaxis": {
            "gridcolor": "white",
            "linecolor": "white",
            "ticks": ""
           },
           "bgcolor": "#E5ECF6",
           "radialaxis": {
            "gridcolor": "white",
            "linecolor": "white",
            "ticks": ""
           }
          },
          "scene": {
           "xaxis": {
            "backgroundcolor": "#E5ECF6",
            "gridcolor": "white",
            "gridwidth": 2,
            "linecolor": "white",
            "showbackground": true,
            "ticks": "",
            "zerolinecolor": "white"
           },
           "yaxis": {
            "backgroundcolor": "#E5ECF6",
            "gridcolor": "white",
            "gridwidth": 2,
            "linecolor": "white",
            "showbackground": true,
            "ticks": "",
            "zerolinecolor": "white"
           },
           "zaxis": {
            "backgroundcolor": "#E5ECF6",
            "gridcolor": "white",
            "gridwidth": 2,
            "linecolor": "white",
            "showbackground": true,
            "ticks": "",
            "zerolinecolor": "white"
           }
          },
          "shapedefaults": {
           "line": {
            "color": "#2a3f5f"
           }
          },
          "ternary": {
           "aaxis": {
            "gridcolor": "white",
            "linecolor": "white",
            "ticks": ""
           },
           "baxis": {
            "gridcolor": "white",
            "linecolor": "white",
            "ticks": ""
           },
           "bgcolor": "#E5ECF6",
           "caxis": {
            "gridcolor": "white",
            "linecolor": "white",
            "ticks": ""
           }
          },
          "title": {
           "x": 0.05
          },
          "xaxis": {
           "automargin": true,
           "gridcolor": "white",
           "linecolor": "white",
           "ticks": "",
           "title": {
            "standoff": 15
           },
           "zerolinecolor": "white",
           "zerolinewidth": 2
          },
          "yaxis": {
           "automargin": true,
           "gridcolor": "white",
           "linecolor": "white",
           "ticks": "",
           "title": {
            "standoff": 15
           },
           "zerolinecolor": "white",
           "zerolinewidth": 2
          }
         }
        },
        "xaxis": {
         "anchor": "y",
         "domain": [
          0,
          1
         ],
         "title": {
          "text": "variable"
         }
        },
        "yaxis": {
         "anchor": "x",
         "domain": [
          0,
          1
         ],
         "title": {
          "text": "value"
         }
        }
       }
      }
     },
     "metadata": {},
     "output_type": "display_data"
    }
   ],
   "source": [
    "px.box(pd.Series(umsaetze))"
   ]
  },
  {
   "cell_type": "code",
   "execution_count": 57,
   "metadata": {},
   "outputs": [
    {
     "name": "stdout",
     "output_type": "stream",
     "text": [
      "{'Q1 (Unteres Quartil)': np.float64(21.0), 'Q2 (Median)': np.float64(25.5), 'Q3 (Oberes Quartil)': np.float64(35.25), 'IQR (Interquartilsabstand)': np.float64(14.25), 'Untere Whisker-Grenze': np.float64(-0.375), 'Obere Whisker-Grenze': np.float64(56.625)}\n"
     ]
    },
    {
     "data": {
      "application/vnd.plotly.v1+json": {
       "config": {
        "plotlyServerURL": "https://plot.ly"
       },
       "data": [
        {
         "alignmentgroup": "True",
         "hovertemplate": "variable=%{x}<br>value=%{y}<extra></extra>",
         "legendgroup": "",
         "marker": {
          "color": "#636efa"
         },
         "name": "",
         "notched": false,
         "offsetgroup": "",
         "orientation": "v",
         "showlegend": false,
         "type": "box",
         "x": [
          "0",
          "0",
          "0",
          "0",
          "0",
          "0",
          "0",
          "0",
          "0",
          "0",
          "0",
          "0",
          "0",
          "0",
          "0",
          "0",
          "0",
          "0",
          "0",
          "0",
          "0",
          "0",
          "0",
          "0",
          "0",
          "0",
          "0",
          "0",
          "0",
          "0",
          "0",
          "0",
          "0",
          "0",
          "0",
          "0",
          "0",
          "0",
          "0",
          "0"
         ],
         "x0": " ",
         "xaxis": "x",
         "y": [
          3,
          10,
          10,
          10,
          10,
          10,
          21,
          21,
          21,
          21,
          21,
          21,
          23,
          23,
          23,
          23,
          23,
          25,
          25,
          25,
          26,
          26,
          26,
          29,
          29,
          29,
          29,
          35,
          35,
          35,
          36,
          36,
          36,
          36,
          38,
          38,
          45,
          53,
          53,
          72
         ],
         "y0": " ",
         "yaxis": "y"
        }
       ],
       "layout": {
        "boxmode": "group",
        "legend": {
         "tracegroupgap": 0
        },
        "margin": {
         "t": 60
        },
        "template": {
         "data": {
          "bar": [
           {
            "error_x": {
             "color": "#2a3f5f"
            },
            "error_y": {
             "color": "#2a3f5f"
            },
            "marker": {
             "line": {
              "color": "#E5ECF6",
              "width": 0.5
             },
             "pattern": {
              "fillmode": "overlay",
              "size": 10,
              "solidity": 0.2
             }
            },
            "type": "bar"
           }
          ],
          "barpolar": [
           {
            "marker": {
             "line": {
              "color": "#E5ECF6",
              "width": 0.5
             },
             "pattern": {
              "fillmode": "overlay",
              "size": 10,
              "solidity": 0.2
             }
            },
            "type": "barpolar"
           }
          ],
          "carpet": [
           {
            "aaxis": {
             "endlinecolor": "#2a3f5f",
             "gridcolor": "white",
             "linecolor": "white",
             "minorgridcolor": "white",
             "startlinecolor": "#2a3f5f"
            },
            "baxis": {
             "endlinecolor": "#2a3f5f",
             "gridcolor": "white",
             "linecolor": "white",
             "minorgridcolor": "white",
             "startlinecolor": "#2a3f5f"
            },
            "type": "carpet"
           }
          ],
          "choropleth": [
           {
            "colorbar": {
             "outlinewidth": 0,
             "ticks": ""
            },
            "type": "choropleth"
           }
          ],
          "contour": [
           {
            "colorbar": {
             "outlinewidth": 0,
             "ticks": ""
            },
            "colorscale": [
             [
              0,
              "#0d0887"
             ],
             [
              0.1111111111111111,
              "#46039f"
             ],
             [
              0.2222222222222222,
              "#7201a8"
             ],
             [
              0.3333333333333333,
              "#9c179e"
             ],
             [
              0.4444444444444444,
              "#bd3786"
             ],
             [
              0.5555555555555556,
              "#d8576b"
             ],
             [
              0.6666666666666666,
              "#ed7953"
             ],
             [
              0.7777777777777778,
              "#fb9f3a"
             ],
             [
              0.8888888888888888,
              "#fdca26"
             ],
             [
              1,
              "#f0f921"
             ]
            ],
            "type": "contour"
           }
          ],
          "contourcarpet": [
           {
            "colorbar": {
             "outlinewidth": 0,
             "ticks": ""
            },
            "type": "contourcarpet"
           }
          ],
          "heatmap": [
           {
            "colorbar": {
             "outlinewidth": 0,
             "ticks": ""
            },
            "colorscale": [
             [
              0,
              "#0d0887"
             ],
             [
              0.1111111111111111,
              "#46039f"
             ],
             [
              0.2222222222222222,
              "#7201a8"
             ],
             [
              0.3333333333333333,
              "#9c179e"
             ],
             [
              0.4444444444444444,
              "#bd3786"
             ],
             [
              0.5555555555555556,
              "#d8576b"
             ],
             [
              0.6666666666666666,
              "#ed7953"
             ],
             [
              0.7777777777777778,
              "#fb9f3a"
             ],
             [
              0.8888888888888888,
              "#fdca26"
             ],
             [
              1,
              "#f0f921"
             ]
            ],
            "type": "heatmap"
           }
          ],
          "heatmapgl": [
           {
            "colorbar": {
             "outlinewidth": 0,
             "ticks": ""
            },
            "colorscale": [
             [
              0,
              "#0d0887"
             ],
             [
              0.1111111111111111,
              "#46039f"
             ],
             [
              0.2222222222222222,
              "#7201a8"
             ],
             [
              0.3333333333333333,
              "#9c179e"
             ],
             [
              0.4444444444444444,
              "#bd3786"
             ],
             [
              0.5555555555555556,
              "#d8576b"
             ],
             [
              0.6666666666666666,
              "#ed7953"
             ],
             [
              0.7777777777777778,
              "#fb9f3a"
             ],
             [
              0.8888888888888888,
              "#fdca26"
             ],
             [
              1,
              "#f0f921"
             ]
            ],
            "type": "heatmapgl"
           }
          ],
          "histogram": [
           {
            "marker": {
             "pattern": {
              "fillmode": "overlay",
              "size": 10,
              "solidity": 0.2
             }
            },
            "type": "histogram"
           }
          ],
          "histogram2d": [
           {
            "colorbar": {
             "outlinewidth": 0,
             "ticks": ""
            },
            "colorscale": [
             [
              0,
              "#0d0887"
             ],
             [
              0.1111111111111111,
              "#46039f"
             ],
             [
              0.2222222222222222,
              "#7201a8"
             ],
             [
              0.3333333333333333,
              "#9c179e"
             ],
             [
              0.4444444444444444,
              "#bd3786"
             ],
             [
              0.5555555555555556,
              "#d8576b"
             ],
             [
              0.6666666666666666,
              "#ed7953"
             ],
             [
              0.7777777777777778,
              "#fb9f3a"
             ],
             [
              0.8888888888888888,
              "#fdca26"
             ],
             [
              1,
              "#f0f921"
             ]
            ],
            "type": "histogram2d"
           }
          ],
          "histogram2dcontour": [
           {
            "colorbar": {
             "outlinewidth": 0,
             "ticks": ""
            },
            "colorscale": [
             [
              0,
              "#0d0887"
             ],
             [
              0.1111111111111111,
              "#46039f"
             ],
             [
              0.2222222222222222,
              "#7201a8"
             ],
             [
              0.3333333333333333,
              "#9c179e"
             ],
             [
              0.4444444444444444,
              "#bd3786"
             ],
             [
              0.5555555555555556,
              "#d8576b"
             ],
             [
              0.6666666666666666,
              "#ed7953"
             ],
             [
              0.7777777777777778,
              "#fb9f3a"
             ],
             [
              0.8888888888888888,
              "#fdca26"
             ],
             [
              1,
              "#f0f921"
             ]
            ],
            "type": "histogram2dcontour"
           }
          ],
          "mesh3d": [
           {
            "colorbar": {
             "outlinewidth": 0,
             "ticks": ""
            },
            "type": "mesh3d"
           }
          ],
          "parcoords": [
           {
            "line": {
             "colorbar": {
              "outlinewidth": 0,
              "ticks": ""
             }
            },
            "type": "parcoords"
           }
          ],
          "pie": [
           {
            "automargin": true,
            "type": "pie"
           }
          ],
          "scatter": [
           {
            "fillpattern": {
             "fillmode": "overlay",
             "size": 10,
             "solidity": 0.2
            },
            "type": "scatter"
           }
          ],
          "scatter3d": [
           {
            "line": {
             "colorbar": {
              "outlinewidth": 0,
              "ticks": ""
             }
            },
            "marker": {
             "colorbar": {
              "outlinewidth": 0,
              "ticks": ""
             }
            },
            "type": "scatter3d"
           }
          ],
          "scattercarpet": [
           {
            "marker": {
             "colorbar": {
              "outlinewidth": 0,
              "ticks": ""
             }
            },
            "type": "scattercarpet"
           }
          ],
          "scattergeo": [
           {
            "marker": {
             "colorbar": {
              "outlinewidth": 0,
              "ticks": ""
             }
            },
            "type": "scattergeo"
           }
          ],
          "scattergl": [
           {
            "marker": {
             "colorbar": {
              "outlinewidth": 0,
              "ticks": ""
             }
            },
            "type": "scattergl"
           }
          ],
          "scattermapbox": [
           {
            "marker": {
             "colorbar": {
              "outlinewidth": 0,
              "ticks": ""
             }
            },
            "type": "scattermapbox"
           }
          ],
          "scatterpolar": [
           {
            "marker": {
             "colorbar": {
              "outlinewidth": 0,
              "ticks": ""
             }
            },
            "type": "scatterpolar"
           }
          ],
          "scatterpolargl": [
           {
            "marker": {
             "colorbar": {
              "outlinewidth": 0,
              "ticks": ""
             }
            },
            "type": "scatterpolargl"
           }
          ],
          "scatterternary": [
           {
            "marker": {
             "colorbar": {
              "outlinewidth": 0,
              "ticks": ""
             }
            },
            "type": "scatterternary"
           }
          ],
          "surface": [
           {
            "colorbar": {
             "outlinewidth": 0,
             "ticks": ""
            },
            "colorscale": [
             [
              0,
              "#0d0887"
             ],
             [
              0.1111111111111111,
              "#46039f"
             ],
             [
              0.2222222222222222,
              "#7201a8"
             ],
             [
              0.3333333333333333,
              "#9c179e"
             ],
             [
              0.4444444444444444,
              "#bd3786"
             ],
             [
              0.5555555555555556,
              "#d8576b"
             ],
             [
              0.6666666666666666,
              "#ed7953"
             ],
             [
              0.7777777777777778,
              "#fb9f3a"
             ],
             [
              0.8888888888888888,
              "#fdca26"
             ],
             [
              1,
              "#f0f921"
             ]
            ],
            "type": "surface"
           }
          ],
          "table": [
           {
            "cells": {
             "fill": {
              "color": "#EBF0F8"
             },
             "line": {
              "color": "white"
             }
            },
            "header": {
             "fill": {
              "color": "#C8D4E3"
             },
             "line": {
              "color": "white"
             }
            },
            "type": "table"
           }
          ]
         },
         "layout": {
          "annotationdefaults": {
           "arrowcolor": "#2a3f5f",
           "arrowhead": 0,
           "arrowwidth": 1
          },
          "autotypenumbers": "strict",
          "coloraxis": {
           "colorbar": {
            "outlinewidth": 0,
            "ticks": ""
           }
          },
          "colorscale": {
           "diverging": [
            [
             0,
             "#8e0152"
            ],
            [
             0.1,
             "#c51b7d"
            ],
            [
             0.2,
             "#de77ae"
            ],
            [
             0.3,
             "#f1b6da"
            ],
            [
             0.4,
             "#fde0ef"
            ],
            [
             0.5,
             "#f7f7f7"
            ],
            [
             0.6,
             "#e6f5d0"
            ],
            [
             0.7,
             "#b8e186"
            ],
            [
             0.8,
             "#7fbc41"
            ],
            [
             0.9,
             "#4d9221"
            ],
            [
             1,
             "#276419"
            ]
           ],
           "sequential": [
            [
             0,
             "#0d0887"
            ],
            [
             0.1111111111111111,
             "#46039f"
            ],
            [
             0.2222222222222222,
             "#7201a8"
            ],
            [
             0.3333333333333333,
             "#9c179e"
            ],
            [
             0.4444444444444444,
             "#bd3786"
            ],
            [
             0.5555555555555556,
             "#d8576b"
            ],
            [
             0.6666666666666666,
             "#ed7953"
            ],
            [
             0.7777777777777778,
             "#fb9f3a"
            ],
            [
             0.8888888888888888,
             "#fdca26"
            ],
            [
             1,
             "#f0f921"
            ]
           ],
           "sequentialminus": [
            [
             0,
             "#0d0887"
            ],
            [
             0.1111111111111111,
             "#46039f"
            ],
            [
             0.2222222222222222,
             "#7201a8"
            ],
            [
             0.3333333333333333,
             "#9c179e"
            ],
            [
             0.4444444444444444,
             "#bd3786"
            ],
            [
             0.5555555555555556,
             "#d8576b"
            ],
            [
             0.6666666666666666,
             "#ed7953"
            ],
            [
             0.7777777777777778,
             "#fb9f3a"
            ],
            [
             0.8888888888888888,
             "#fdca26"
            ],
            [
             1,
             "#f0f921"
            ]
           ]
          },
          "colorway": [
           "#636efa",
           "#EF553B",
           "#00cc96",
           "#ab63fa",
           "#FFA15A",
           "#19d3f3",
           "#FF6692",
           "#B6E880",
           "#FF97FF",
           "#FECB52"
          ],
          "font": {
           "color": "#2a3f5f"
          },
          "geo": {
           "bgcolor": "white",
           "lakecolor": "white",
           "landcolor": "#E5ECF6",
           "showlakes": true,
           "showland": true,
           "subunitcolor": "white"
          },
          "hoverlabel": {
           "align": "left"
          },
          "hovermode": "closest",
          "mapbox": {
           "style": "light"
          },
          "paper_bgcolor": "white",
          "plot_bgcolor": "#E5ECF6",
          "polar": {
           "angularaxis": {
            "gridcolor": "white",
            "linecolor": "white",
            "ticks": ""
           },
           "bgcolor": "#E5ECF6",
           "radialaxis": {
            "gridcolor": "white",
            "linecolor": "white",
            "ticks": ""
           }
          },
          "scene": {
           "xaxis": {
            "backgroundcolor": "#E5ECF6",
            "gridcolor": "white",
            "gridwidth": 2,
            "linecolor": "white",
            "showbackground": true,
            "ticks": "",
            "zerolinecolor": "white"
           },
           "yaxis": {
            "backgroundcolor": "#E5ECF6",
            "gridcolor": "white",
            "gridwidth": 2,
            "linecolor": "white",
            "showbackground": true,
            "ticks": "",
            "zerolinecolor": "white"
           },
           "zaxis": {
            "backgroundcolor": "#E5ECF6",
            "gridcolor": "white",
            "gridwidth": 2,
            "linecolor": "white",
            "showbackground": true,
            "ticks": "",
            "zerolinecolor": "white"
           }
          },
          "shapedefaults": {
           "line": {
            "color": "#2a3f5f"
           }
          },
          "ternary": {
           "aaxis": {
            "gridcolor": "white",
            "linecolor": "white",
            "ticks": ""
           },
           "baxis": {
            "gridcolor": "white",
            "linecolor": "white",
            "ticks": ""
           },
           "bgcolor": "#E5ECF6",
           "caxis": {
            "gridcolor": "white",
            "linecolor": "white",
            "ticks": ""
           }
          },
          "title": {
           "x": 0.05
          },
          "xaxis": {
           "automargin": true,
           "gridcolor": "white",
           "linecolor": "white",
           "ticks": "",
           "title": {
            "standoff": 15
           },
           "zerolinecolor": "white",
           "zerolinewidth": 2
          },
          "yaxis": {
           "automargin": true,
           "gridcolor": "white",
           "linecolor": "white",
           "ticks": "",
           "title": {
            "standoff": 15
           },
           "zerolinecolor": "white",
           "zerolinewidth": 2
          }
         }
        },
        "xaxis": {
         "anchor": "y",
         "domain": [
          0,
          1
         ],
         "title": {
          "text": "variable"
         }
        },
        "yaxis": {
         "anchor": "x",
         "domain": [
          0,
          1
         ],
         "title": {
          "text": "value"
         }
        }
       }
      }
     },
     "metadata": {},
     "output_type": "display_data"
    }
   ],
   "source": [
    "umsatz = [3, 10, 21, 23, 25, 26, 29, 35, 36, 38, 45, 53, 72]\n",
    "anzahl = [1, 5, 6, 5, 3, 3, 4, 3, 4, 2, 1, 2, 1]\n",
    "\n",
    "expanded_data = []\n",
    "for value, freq in zip(umsatz, anzahl):\n",
    "    expanded_data.extend([value] * freq)\n",
    "\n",
    "expanded_data = pd.Series(expanded_data)\n",
    "\n",
    "q1 = expanded_data.quantile(0.25)\n",
    "meadian_val = expanded_data.median()\n",
    "q3 = expanded_data.quantile(0.75)\n",
    "    \n",
    "iQr = q3 - q1\n",
    "\n",
    "lower_whisker = q1 - iQr * 1.5\n",
    "upper_whisker = q3 + iQr * 1.5\n",
    "\n",
    "print({\n",
    "    \"Q1 (Unteres Quartil)\": q1,\n",
    "    \"Q2 (Median)\": meadian_val,\n",
    "    \"Q3 (Oberes Quartil)\": q3,\n",
    "    \"IQR (Interquartilsabstand)\": iQr,\n",
    "    \"Untere Whisker-Grenze\": lower_whisker,\n",
    "    \"Obere Whisker-Grenze\": upper_whisker\n",
    "})\n",
    "    \n",
    "px.box(expanded_data)"
   ]
  },
  {
   "cell_type": "markdown",
   "metadata": {},
   "source": [
    "### Vektor normieren"
   ]
  },
  {
   "cell_type": "code",
   "execution_count": 14,
   "metadata": {},
   "outputs": [
    {
     "data": {
      "text/plain": [
       "12.727922061357855"
      ]
     },
     "execution_count": 14,
     "metadata": {},
     "output_type": "execute_result"
    }
   ],
   "source": [
    "def norm(v):\n",
    "    return (sum(num**2 for num in v))**0.5\n",
    "\n",
    "norm((9, 9))"
   ]
  },
  {
   "cell_type": "code",
   "execution_count": 6,
   "metadata": {},
   "outputs": [
    {
     "name": "stderr",
     "output_type": "stream",
     "text": [
      "test_norm_0 (__main__.TestNormFunction.test_norm_0) ... ok\n",
      "test_norm_1 (__main__.TestNormFunction.test_norm_1) ... ok\n",
      "test_norm_2 (__main__.TestNormFunction.test_norm_2) ... ok\n",
      "\n",
      "----------------------------------------------------------------------\n",
      "Ran 3 tests in 0.003s\n",
      "\n",
      "OK\n"
     ]
    }
   ],
   "source": [
    "import unittest\n",
    "from parameterized import parameterized\n",
    "\n",
    "class TestNormFunction(unittest.TestCase):\n",
    "    \n",
    "    @parameterized.expand([\n",
    "        ((3,4), 5.0),\n",
    "        ((0,0), 0.0),\n",
    "        ((-1, -1, -1), (3)**0.5) \n",
    "    ])\n",
    "    \n",
    "    def test_norm(self, vector, expected):\n",
    "        self.assertAlmostEqual(norm(vector), expected, places=2)\n",
    "        \n",
    "if __name__ == '__main__':\n",
    "    unittest.main(argv=[''], verbosity=2, exit=False)"
   ]
  },
  {
   "cell_type": "code",
   "execution_count": 8,
   "metadata": {},
   "outputs": [
    {
     "data": {
      "text/plain": [
       "[0.5773502691896258, 0.5773502691896258, 0.5773502691896258]"
      ]
     },
     "execution_count": 8,
     "metadata": {},
     "output_type": "execute_result"
    }
   ],
   "source": [
    "def normalize(v):\n",
    "    div = norm(v)\n",
    "    return [num/div for num in v]\n",
    "\n",
    "normalize((2,2,2))"
   ]
  },
  {
   "cell_type": "code",
   "execution_count": 9,
   "metadata": {},
   "outputs": [
    {
     "data": {
      "text/plain": [
       "['The two vectors (2, -1, 0), (1, 2, -2) are perpendicular.', 0]"
      ]
     },
     "execution_count": 9,
     "metadata": {},
     "output_type": "execute_result"
    }
   ],
   "source": [
    "def perpendicular(v, w):\n",
    "    vt_x_w = sum(v*w for v,w in zip(v,w))\n",
    "    if vt_x_w == 0:\n",
    "        return [f\"The two vectors {v}, {w} are perpendicular.\", vt_x_w]\n",
    "    else:\n",
    "        return [f\"The two vectors {v}, {w} are NOT perpendicular.\", vt_x_w]\n",
    "\n",
    "perpendicular((2,-1, 0), (1,2,-2))"
   ]
  },
  {
   "cell_type": "code",
   "execution_count": 10,
   "metadata": {},
   "outputs": [
    {
     "data": {
      "text/plain": [
       "0.12"
      ]
     },
     "execution_count": 10,
     "metadata": {},
     "output_type": "execute_result"
    }
   ],
   "source": [
    "def projection_factor(v, w):\n",
    "    return perpendicular(v, w)[1] / (norm(v)**2)\n",
    "\n",
    "projection_factor((3,4), (1,0))"
   ]
  },
  {
   "cell_type": "code",
   "execution_count": 35,
   "metadata": {},
   "outputs": [
    {
     "data": {
      "text/plain": [
       "[0.36, 0.48]"
      ]
     },
     "execution_count": 35,
     "metadata": {},
     "output_type": "execute_result"
    }
   ],
   "source": [
    "def projection_parallel_component(v, w):\n",
    "    factor = projection_factor(v, w)\n",
    "    return [factor*num for num in v]\n",
    "\n",
    "\n",
    "projection_parallel_component((3,4), (1,0))"
   ]
  },
  {
   "cell_type": "code",
   "execution_count": 36,
   "metadata": {},
   "outputs": [
    {
     "data": {
      "text/plain": [
       "array([ 0.64, -0.48])"
      ]
     },
     "execution_count": 36,
     "metadata": {},
     "output_type": "execute_result"
    }
   ],
   "source": [
    "import numpy as np\n",
    "\n",
    "def projection_level_component(n, w):\n",
    "    proj_w_n = w - projection_factor(n, w) * n\n",
    "    return proj_w_n\n",
    "\n",
    "projection_level_component(np.array([3,4]), np.array([1,0]))"
   ]
  },
  {
   "cell_type": "code",
   "execution_count": 23,
   "metadata": {},
   "outputs": [
    {
     "name": "stderr",
     "output_type": "stream",
     "text": [
      "test_norm_0 (__main__.TestNormFunction.test_norm_0) ... ok\n",
      "test_norm_1 (__main__.TestNormFunction.test_norm_1) ... ok\n",
      "test_norm_2 (__main__.TestNormFunction.test_norm_2) ... ok\n",
      "test_norm_0 (__main__.TestVectorOperations.test_norm_0) ... ok\n",
      "test_norm_1 (__main__.TestVectorOperations.test_norm_1) ... ok\n",
      "test_norm_2 (__main__.TestVectorOperations.test_norm_2) ... ok\n",
      "test_normalize_0 (__main__.TestVectorOperations.test_normalize_0) ... ok\n",
      "test_normalize_1 (__main__.TestVectorOperations.test_normalize_1) ... ok\n",
      "test_normalize_2 (__main__.TestVectorOperations.test_normalize_2) ... ok\n",
      "test_perpendicular_0 (__main__.TestVectorOperations.test_perpendicular_0) ... ok\n",
      "test_perpendicular_1 (__main__.TestVectorOperations.test_perpendicular_1) ... ok\n",
      "test_projection_factor_0 (__main__.TestVectorOperations.test_projection_factor_0) ... ok\n",
      "test_projection_factor_1 (__main__.TestVectorOperations.test_projection_factor_1) ... ok\n",
      "\n",
      "----------------------------------------------------------------------\n",
      "Ran 13 tests in 0.008s\n",
      "\n",
      "OK\n"
     ]
    }
   ],
   "source": [
    "class TestVectorOperations(unittest.TestCase):\n",
    "\n",
    "    @parameterized.expand([\n",
    "        ((3, 4), 5.0),\n",
    "        ((0, 0), 0.0),\n",
    "        ((-1, -1, -1), (3)**0.5)\n",
    "    ])\n",
    "    def test_norm(self, vector, expected):\n",
    "        self.assertAlmostEqual(norm(vector), expected, places=5)\n",
    "    \n",
    "    @parameterized.expand([\n",
    "        ((3, 4), [3/5, 4/5]),\n",
    "        ((1, 0), [1.0, 0.0]),\n",
    "        ((0, 5), [0.0, 1.0])\n",
    "    ])\n",
    "    def test_normalize(self, vector, expected):\n",
    "        result = normalize(vector)\n",
    "        for a, b in zip(result, expected):\n",
    "            self.assertAlmostEqual(a, b, places=5)\n",
    "    \n",
    "    @parameterized.expand([\n",
    "        (((1, 0), (0, 1)), 0),\n",
    "        (((3, 4), (1, 2)), 11)\n",
    "    ])\n",
    "    def test_perpendicular(self, vectors, expected_dot):\n",
    "        v, w = vectors\n",
    "        message, dot = perpendicular(v, w)\n",
    "        self.assertEqual(dot, expected_dot)\n",
    "        if expected_dot == 0:\n",
    "            self.assertIn(\"perpendicular\", message)\n",
    "        else:\n",
    "            self.assertIn(\"NOT perpendicular\", message)\n",
    "    \n",
    "    @parameterized.expand([\n",
    "        (((3, 4), (1, 0)), 3/(5**2)),\n",
    "        (((3, 4), (1, 2)), 11/(5**2))\n",
    "    ])\n",
    "    def test_projection_factor(self, vectors, expected_factor):\n",
    "        v, w = vectors\n",
    "        self.assertAlmostEqual(projection_factor(v, w), expected_factor, places=5)\n",
    "        \n",
    "if __name__ == '__main__':\n",
    "    unittest.main(argv=[''], verbosity=2, exit=False)"
   ]
  },
  {
   "cell_type": "markdown",
   "metadata": {},
   "source": [
    "## Kovarianz"
   ]
  },
  {
   "cell_type": "code",
   "execution_count": 9,
   "metadata": {},
   "outputs": [],
   "source": [
    "x1 = [2,4,2,7,1,1,2,1,4,6]\n",
    "x2 = [7,8,6,6,5,4,6,8,6,4]\n",
    "x3 = [2,6,1,3,9,6,8,3,7,5]"
   ]
  },
  {
   "cell_type": "code",
   "execution_count": 10,
   "metadata": {},
   "outputs": [
    {
     "data": {
      "text/plain": [
       "-0.30000000000000004"
      ]
     },
     "execution_count": 10,
     "metadata": {},
     "output_type": "execute_result"
    }
   ],
   "source": [
    "def covariance(arr1, arr2):\n",
    "    print(arr1, arr2)\n",
    "    arr1_mean = sum(arr1)/len(arr1)\n",
    "    arr2_mean = sum(arr2)/len(arr2)\n",
    "    return 1/len(arr1) * (sum((arr1_i - arr1_mean)*(arr2_i - arr2_mean) for arr1_i, arr2_i in zip(arr1, arr2)))\n",
    "    \n",
    "covariance([2,4,2,7,1,1,2,1,4,6], [7,8,6,6,5,4,6,8,6,4])"
   ]
  },
  {
   "cell_type": "code",
   "execution_count": 16,
   "metadata": {},
   "outputs": [
    {
     "data": {
      "text/plain": [
       "array([[ 4.2, -0.3, -0.7],\n",
       "       [-0.3,  1.8, -1.1],\n",
       "       [-0.7, -1.1,  6.4]])"
      ]
     },
     "execution_count": 16,
     "metadata": {},
     "output_type": "execute_result"
    }
   ],
   "source": [
    "def covariance_matrix(*arrays):\n",
    "    num_arrays = len(arrays)\n",
    "    cov_matrix = np.zeros((num_arrays, num_arrays))\n",
    "    for i in range(num_arrays):\n",
    "        for j in range(num_arrays):\n",
    "            cov_value = covariance(arrays[i], arrays[j])\n",
    "            cov_matrix[i][j] = cov_value\n",
    "    \n",
    "    return cov_matrix\n",
    "        \n",
    "        \n",
    "covariance_matrix(x1, x2, x3)"
   ]
  },
  {
   "cell_type": "markdown",
   "metadata": {},
   "source": [
    "## Geschlossene Covarianzmatrix"
   ]
  },
  {
   "cell_type": "code",
   "execution_count": 24,
   "metadata": {},
   "outputs": [
    {
     "name": "stdout",
     "output_type": "stream",
     "text": [
      "[[ 4.2 -0.3 -0.7]\n",
      " [-0.3  1.8 -1.1]\n",
      " [-0.7 -1.1  6.4]]\n"
     ]
    }
   ],
   "source": [
    "import numpy as np\n",
    "\n",
    "# Gegebene Datenmatrix\n",
    "x = np.array([[2, 7, 2],\n",
    "              [4, 8, 6],\n",
    "              [2, 6, 1],\n",
    "              [7, 6, 3],\n",
    "              [1, 5, 9],\n",
    "              [1, 4, 6],\n",
    "              [2, 6, 8],\n",
    "              [1, 8, 3],\n",
    "              [4, 6, 7],\n",
    "              [6, 4, 5]])\n",
    "\n",
    "x_mean = np.mean(x, axis=0)\n",
    "\n",
    "x_centered = x - x_mean\n",
    "\n",
    "cov_mat_closed = (x_centered.T @ x_centered) / len(x)\n",
    "print(cov_mat_closed)\n"
   ]
  },
  {
   "cell_type": "markdown",
   "metadata": {},
   "source": [
    "### Projizieren"
   ]
  },
  {
   "cell_type": "code",
   "execution_count": 37,
   "metadata": {},
   "outputs": [
    {
     "ename": "ModuleNotFoundError",
     "evalue": "No module named 'simpy'",
     "output_type": "error",
     "traceback": [
      "\u001b[0;31m---------------------------------------------------------------------------\u001b[0m",
      "\u001b[0;31mModuleNotFoundError\u001b[0m                       Traceback (most recent call last)",
      "Cell \u001b[0;32mIn[37], line 1\u001b[0m\n\u001b[0;32m----> 1\u001b[0m \u001b[38;5;28;01mimport\u001b[39;00m\u001b[38;5;250m \u001b[39m\u001b[38;5;21;01msimpy\u001b[39;00m\u001b[38;5;250m \u001b[39m\u001b[38;5;28;01mas\u001b[39;00m\u001b[38;5;250m \u001b[39m\u001b[38;5;21;01msp\u001b[39;00m\n\u001b[1;32m      3\u001b[0m x \u001b[38;5;241m=\u001b[39m np\u001b[38;5;241m.\u001b[39marray([[\u001b[38;5;241m2\u001b[39m, \u001b[38;5;241m7\u001b[39m, \u001b[38;5;241m2\u001b[39m],\n\u001b[1;32m      4\u001b[0m               [\u001b[38;5;241m4\u001b[39m, \u001b[38;5;241m8\u001b[39m, \u001b[38;5;241m6\u001b[39m],\n\u001b[1;32m      5\u001b[0m               [\u001b[38;5;241m2\u001b[39m, \u001b[38;5;241m6\u001b[39m, \u001b[38;5;241m1\u001b[39m],\n\u001b[0;32m   (...)\u001b[0m\n\u001b[1;32m     11\u001b[0m               [\u001b[38;5;241m4\u001b[39m, \u001b[38;5;241m6\u001b[39m, \u001b[38;5;241m7\u001b[39m],\n\u001b[1;32m     12\u001b[0m               [\u001b[38;5;241m6\u001b[39m, \u001b[38;5;241m4\u001b[39m, \u001b[38;5;241m5\u001b[39m]])\n\u001b[1;32m     14\u001b[0m v1 \u001b[38;5;241m=\u001b[39m np\u001b[38;5;241m.\u001b[39marray([\u001b[38;5;241m1\u001b[39m, \u001b[38;5;241m0\u001b[39m, \u001b[38;5;241m0\u001b[39m])\n",
      "\u001b[0;31mModuleNotFoundError\u001b[0m: No module named 'simpy'"
     ]
    }
   ],
   "source": [
    "import simpy as sp\n",
    "\n",
    "x = np.array([[2, 7, 2],\n",
    "              [4, 8, 6],\n",
    "              [2, 6, 1],\n",
    "              [7, 6, 3],\n",
    "              [1, 5, 9],\n",
    "              [1, 4, 6],\n",
    "              [2, 6, 8],\n",
    "              [1, 8, 3],\n",
    "              [4, 6, 7],\n",
    "              [6, 4, 5]])\n",
    "\n",
    "v1 = np.array([1, 0, 0])\n",
    "v2 = np.array([2, 0, 0])\n",
    "v3 = np.array([1, -2, 0.5])\n",
    "\n",
    "def proj_factor(v, w):\n",
    "    return w.T @ v / (v.T @ v)\n",
    "\n",
    "proj_factor(np.array([1,0]), np.array([2,3]))"
   ]
  },
  {
   "cell_type": "markdown",
   "metadata": {},
   "source": [
    "## Full PCA \n"
   ]
  },
  {
   "cell_type": "code",
   "execution_count": 29,
   "metadata": {},
   "outputs": [
    {
     "name": "stdout",
     "output_type": "stream",
     "text": [
      "[[ 2.02027019 -0.91840258 -0.27394352]\n",
      " [ 0.27129904  0.32674839  0.90533548]\n",
      " [-2.33268629 -0.73403206 -0.1406116 ]\n",
      " [ 0.04111706  1.32568625 -0.49078035]]\n"
     ]
    }
   ],
   "source": [
    "import numpy as np\n",
    "\n",
    "# Gegebene Matrix x\n",
    "x = np.array([[1, 1, 0],\n",
    "              [2, 3, 1],\n",
    "              [4, 4, -1],\n",
    "              [1, 4, 0]])\n",
    "\n",
    "x_mean = np.mean(x, axis=0)\n",
    "\n",
    "x_centered = x-x_mean\n",
    "\n",
    "cov_matrix = (x_centered.T @ x_centered) / len(x_centered)\n",
    "\n",
    "eigenvalues, eigenvectors = np.linalg.eig(cov_matrix)\n",
    "\n",
    "sorted_indicies = np.argsort(eigenvalues)[::-1]\n",
    "eigenvalues = eigenvalues[sorted_indicies]\n",
    "eigenvectors = eigenvectors[:, sorted_indicies]\n",
    "\n",
    "pca_matrix = x_centered @ eigenvectors\n",
    "print(pca_matrix)"
   ]
  },
  {
   "cell_type": "code",
   "execution_count": 35,
   "metadata": {},
   "outputs": [],
   "source": [
    "import numpy as np\n",
    "from sklearn.base import BaseEstimator, TransformerMixin\n",
    "\n",
    "class CustomPCA(BaseEstimator, TransformerMixin):\n",
    "    def __init__(self, n_components):\n",
    "        self.n_components = n_components  # Anzahl der Hauptkomponenten\n",
    "        \n",
    "    def fit(self, X, y=None):\n",
    "        \"\"\"\n",
    "        Berechnet die Eigenwerte und Eigenvektoren der Kovarianzmatrix.\n",
    "        \"\"\"\n",
    "        # Mittelwert der Spalten berechnen\n",
    "        self.mean = np.mean(X, axis=0)\n",
    "\n",
    "        # Daten zentrieren\n",
    "        X_centered = X - self.mean\n",
    "\n",
    "        # Kovarianzmatrix berechnen\n",
    "        cov_matrix = (X_centered.T @ X_centered) / len(X_centered)\n",
    "\n",
    "        # Eigenwerte und Eigenvektoren berechnen\n",
    "        self.eigenvalues, self.eigenvectors = np.linalg.eig(cov_matrix)\n",
    "\n",
    "        # Eigenwerte und zugehörige Eigenvektoren sortieren (absteigend nach Varianz)\n",
    "        sorted_indices = np.argsort(self.eigenvalues)[::-1]\n",
    "        self.eigenvalues = self.eigenvalues[sorted_indices]\n",
    "        self.eigenvectors = self.eigenvectors[:, sorted_indices]\n",
    "\n",
    "        # Wähle die ersten n_components Hauptkomponenten\n",
    "        self.components_ = self.eigenvectors[:, :self.n_components]\n",
    "\n",
    "        return self\n",
    "        \n",
    "    def transform(self, X, y=None):\n",
    "        \"\"\"\n",
    "        Transformiert die Daten in den neuen Raum der Hauptkomponenten.\n",
    "        \"\"\"\n",
    "        # Zentriere die neuen Daten\n",
    "        X_centered = X - self.mean\n",
    "\n",
    "        # Projektion auf die Hauptkomponenten\n",
    "        return X_centered @ self.components_\n",
    "\n",
    "    def fit_transform(self, X, y=None):\n",
    "        \"\"\"\n",
    "        Kombiniert fit() und transform().\n",
    "        \"\"\"\n",
    "        return self.fit(X).transform(X)\n"
   ]
  },
  {
   "cell_type": "code",
   "execution_count": 36,
   "metadata": {},
   "outputs": [
    {
     "name": "stdout",
     "output_type": "stream",
     "text": [
      "Eigenwerte:\n",
      "[2.39955269 0.81161873 0.28882859]\n",
      "\n",
      "Eigenvektoren:\n",
      "[[-0.70083477 -0.57765664  0.41850141]\n",
      " [-0.65971771  0.74802961 -0.07227894]\n",
      " [ 0.27129904  0.32674839  0.90533548]]\n",
      "\n",
      "Transformierte Daten:\n",
      "[[ 2.02027019 -0.91840258]\n",
      " [ 0.27129904  0.32674839]\n",
      " [-2.33268629 -0.73403206]\n",
      " [ 0.04111706  1.32568625]]\n"
     ]
    }
   ],
   "source": [
    "# Beispiel-Datenmatrix\n",
    "X = np.array([[1, 1, 0],\n",
    "              [2, 3, 1],\n",
    "              [4, 4, -1],\n",
    "              [1, 4, 0]])\n",
    "\n",
    "# PCA-Instanz mit 2 Hauptkomponenten\n",
    "pca = CustomPCA(n_components=2)\n",
    "\n",
    "# PCA an den Daten anpassen und transformieren\n",
    "X_transformed = pca.fit_transform(X)\n",
    "\n",
    "# Ergebnisse ausgeben\n",
    "print(\"Eigenwerte:\")\n",
    "print(pca.eigenvalues)\n",
    "\n",
    "print(\"\\nEigenvektoren:\")\n",
    "print(pca.eigenvectors)\n",
    "\n",
    "print(\"\\nTransformierte Daten:\")\n",
    "print(X_transformed)"
   ]
  }
 ],
 "metadata": {
  "kernelspec": {
   "display_name": ".venv",
   "language": "python",
   "name": "python3"
  },
  "language_info": {
   "codemirror_mode": {
    "name": "ipython",
    "version": 3
   },
   "file_extension": ".py",
   "mimetype": "text/x-python",
   "name": "python",
   "nbconvert_exporter": "python",
   "pygments_lexer": "ipython3",
   "version": "3.12.7"
  }
 },
 "nbformat": 4,
 "nbformat_minor": 2
}
