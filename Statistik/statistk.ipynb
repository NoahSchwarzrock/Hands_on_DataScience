{
 "cells": [
  {
   "cell_type": "code",
   "execution_count": 6,
   "metadata": {},
   "outputs": [
    {
     "data": {
      "text/html": [
       "<div>\n",
       "<style scoped>\n",
       "    .dataframe tbody tr th:only-of-type {\n",
       "        vertical-align: middle;\n",
       "    }\n",
       "\n",
       "    .dataframe tbody tr th {\n",
       "        vertical-align: top;\n",
       "    }\n",
       "\n",
       "    .dataframe thead th {\n",
       "        text-align: right;\n",
       "    }\n",
       "</style>\n",
       "<table border=\"1\" class=\"dataframe\">\n",
       "  <thead>\n",
       "    <tr style=\"text-align: right;\">\n",
       "      <th></th>\n",
       "      <th>Werte</th>\n",
       "      <th>Rang_first</th>\n",
       "      <th>Rang_min</th>\n",
       "      <th>Rang_max</th>\n",
       "      <th>Rang_avg</th>\n",
       "      <th>Rang_dense</th>\n",
       "    </tr>\n",
       "  </thead>\n",
       "  <tbody>\n",
       "    <tr>\n",
       "      <th>0</th>\n",
       "      <td>10</td>\n",
       "      <td>1.0</td>\n",
       "      <td>1.0</td>\n",
       "      <td>1.0</td>\n",
       "      <td>1.0</td>\n",
       "      <td>1.0</td>\n",
       "    </tr>\n",
       "    <tr>\n",
       "      <th>1</th>\n",
       "      <td>20</td>\n",
       "      <td>2.0</td>\n",
       "      <td>2.0</td>\n",
       "      <td>2.0</td>\n",
       "      <td>2.0</td>\n",
       "      <td>2.0</td>\n",
       "    </tr>\n",
       "    <tr>\n",
       "      <th>2</th>\n",
       "      <td>30</td>\n",
       "      <td>3.0</td>\n",
       "      <td>3.0</td>\n",
       "      <td>3.0</td>\n",
       "      <td>3.0</td>\n",
       "      <td>3.0</td>\n",
       "    </tr>\n",
       "    <tr>\n",
       "      <th>3</th>\n",
       "      <td>40</td>\n",
       "      <td>4.0</td>\n",
       "      <td>4.0</td>\n",
       "      <td>5.0</td>\n",
       "      <td>4.5</td>\n",
       "      <td>4.0</td>\n",
       "    </tr>\n",
       "    <tr>\n",
       "      <th>4</th>\n",
       "      <td>40</td>\n",
       "      <td>5.0</td>\n",
       "      <td>4.0</td>\n",
       "      <td>5.0</td>\n",
       "      <td>4.5</td>\n",
       "      <td>4.0</td>\n",
       "    </tr>\n",
       "    <tr>\n",
       "      <th>5</th>\n",
       "      <td>50</td>\n",
       "      <td>6.0</td>\n",
       "      <td>6.0</td>\n",
       "      <td>6.0</td>\n",
       "      <td>6.0</td>\n",
       "      <td>5.0</td>\n",
       "    </tr>\n",
       "  </tbody>\n",
       "</table>\n",
       "</div>"
      ],
      "text/plain": [
       "   Werte  Rang_first  Rang_min  Rang_max  Rang_avg  Rang_dense\n",
       "0     10         1.0       1.0       1.0       1.0         1.0\n",
       "1     20         2.0       2.0       2.0       2.0         2.0\n",
       "2     30         3.0       3.0       3.0       3.0         3.0\n",
       "3     40         4.0       4.0       5.0       4.5         4.0\n",
       "4     40         5.0       4.0       5.0       4.5         4.0\n",
       "5     50         6.0       6.0       6.0       6.0         5.0"
      ]
     },
     "metadata": {},
     "output_type": "display_data"
    }
   ],
   "source": [
    "import pandas as pd\n",
    "\n",
    "data = {'Werte': [10, 20, 30, 40, 40, 50]}\n",
    "df = pd.DataFrame(data)\n",
    "\n",
    "df['Rang_first'] = df['Werte'].rank(method='first', ascending=True)\n",
    "df['Rang_min'] = df['Werte'].rank(method='min', ascending=True)\n",
    "df['Rang_max'] = df['Werte'].rank(method='max', ascending=True)\n",
    "df['Rang_avg'] = df['Werte'].rank(method='average', ascending=True)\n",
    "df['Rang_dense'] = df['Werte'].rank(method='dense', ascending=True)\n",
    "display(df)"
   ]
  },
  {
   "cell_type": "markdown",
   "metadata": {},
   "source": [
    "# Je nach eingetrager Methode werden die gespeicherten Ränge überschrieben. z.b. bei average:\n",
    "    # 'first': [(1, 0, 1), (2, 4, 2), (3, 1, 3), (4, 3, 3), (5, 2, 5)]\n",
    "    # 'average': [(1, 0, 1), (2, 4, 2), (3.5, 1, 3), (3.5, 3, 3), (5, 2, 5)]\n",
    "    # 'min': [(1, 0, 1), (2, 4, 2), (3, 1, 3), (3, 3, 3), (5, 2, 5)]\n",
    "    # 'max': [(1, 0, 1), (2, 4, 2), (4, 1, 3), (4, 3, 3), (5, 2, 5)]\n",
    "    # 'dense': [(1, 0, 1), (2, 4, 2), (3, 1, 3), (3, 3, 3), (4, 2, 5)]"
   ]
  },
  {
   "cell_type": "markdown",
   "metadata": {},
   "source": []
  },
  {
   "cell_type": "code",
   "execution_count": 7,
   "metadata": {},
   "outputs": [],
   "source": [
    "import pandas as pd\n",
    "from numpy import mean\n",
    "\n",
    "# D A V E W A V E is here\n",
    "# marc 4 president🦫 BOBR!\n",
    "# marc 4 president🦫 BOBR!\n",
    "# marc 4 president🦫 BOBR!\n",
    "def avg(arg):\n",
    "    return sum(arg)/len(arg)\n",
    "\n",
    "def sort_by_og_order_and_return_only_first(liste):\n",
    "    return [x[0] for x in sorted(liste, key=lambda x:x[1])]\n",
    "\n",
    "def my_rank(values, method='average', ascending=True):\n",
    "    \n",
    "    # index merken [1,3,5,3,2] -> [(0, 1), (1, 3), (2, 5), (3, 3), (4, 2)]\n",
    "    indices_values = list(enumerate(values))\n",
    "    \n",
    "    # sortieren der liste nach dem zweiten eintrag: [(0, 1), (4, 2), (1, 3), (3, 3), (2, 5)]\n",
    "    sorted_indices_values = sorted(indices_values, key=lambda x: x[1])\n",
    "    \n",
    "    # Rang hinzufügen nach der Methode first: [(1, 0, 1), (2, 4, 2), (3, 1, 3), (4, 3, 3), (5, 2, 5)]\n",
    "    # (rang, ursprünglichen index, zahl selbst)\n",
    "    ranks_indices_values = [(rank, index, number) for rank, (index, number) \n",
    "                            in enumerate(sorted_indices_values, start=1)]\n",
    "\n",
    "    # Je nach eingetrager Methode werden die gespeicherten Ränge überschrieben. z.b. bei average:\n",
    "    # 'first': [(1, 0, 1), (2, 4, 2), (3, 1, 3), (4, 3, 3), (5, 2, 5)]\n",
    "    # 'average': [(1, 0, 1), (2, 4, 2), (3.5, 1, 3), (3.5, 3, 3), (5, 2, 5)]\n",
    "    # 'min': [(1, 0, 1), (2, 4, 2), (3, 1, 3), (3, 3, 3), (5, 2, 5)]\n",
    "    # 'max': [(1, 0, 1), (2, 4, 2), (4, 1, 3), (4, 3, 3), (5, 2, 5)]\n",
    "    # 'dense': [(1, 0, 1), (2, 4, 2), (3, 1, 3), (3, 3, 3), (4, 2, 5)]\n",
    "   \n",
    "    # ranks_indices_values = [(1, 0, 1), (2, 4, 2), (3, 1, 3), (4, 3, 3), (5, 2, 5)]\n",
    "    result = []\n",
    "    for rank, index, number in ranks_indices_values:\n",
    "\n",
    "        ranks_with_same_numbers_as_number = []\n",
    "        for rank_sec, index_sec, number_sec in ranks_indices_values:\n",
    "            if number == number_sec:\n",
    "                ranks_with_same_numbers_as_number.append(rank_sec)\n",
    "\n",
    "        if method == 'max':\n",
    "            new_rank = max(ranks_with_same_numbers_as_number)\n",
    "        elif method == 'min':\n",
    "            new_rank = min(ranks_with_same_numbers_as_number)\n",
    "        elif method == 'average':\n",
    "            new_rank = avg(ranks_with_same_numbers_as_number)\n",
    "        elif method == 'first':\n",
    "            new_rank = rank\n",
    "\n",
    "        result.append((new_rank, index, number))\n",
    "\n",
    "    # Erstelle eine Liste der Ränge sortiert nach dem ursprünglichen Index\n",
    "    # result = [1, 3.5, 5, 3.5, 2]\n",
    "    return sort_by_og_order_and_return_only_first(result)\n"
   ]
  },
  {
   "cell_type": "code",
   "execution_count": 8,
   "metadata": {},
   "outputs": [
    {
     "data": {
      "text/html": [
       "<div>\n",
       "<style scoped>\n",
       "    .dataframe tbody tr th:only-of-type {\n",
       "        vertical-align: middle;\n",
       "    }\n",
       "\n",
       "    .dataframe tbody tr th {\n",
       "        vertical-align: top;\n",
       "    }\n",
       "\n",
       "    .dataframe thead th {\n",
       "        text-align: right;\n",
       "    }\n",
       "</style>\n",
       "<table border=\"1\" class=\"dataframe\">\n",
       "  <thead>\n",
       "    <tr style=\"text-align: right;\">\n",
       "      <th></th>\n",
       "      <th>Marke</th>\n",
       "      <th>Antrieb</th>\n",
       "    </tr>\n",
       "  </thead>\n",
       "  <tbody>\n",
       "    <tr>\n",
       "      <th>0</th>\n",
       "      <td>VW</td>\n",
       "      <td>Allrad</td>\n",
       "    </tr>\n",
       "    <tr>\n",
       "      <th>1</th>\n",
       "      <td>Audi</td>\n",
       "      <td>Vorderrad</td>\n",
       "    </tr>\n",
       "    <tr>\n",
       "      <th>2</th>\n",
       "      <td>Mercedes</td>\n",
       "      <td>hinterrad</td>\n",
       "    </tr>\n",
       "  </tbody>\n",
       "</table>\n",
       "</div>"
      ],
      "text/plain": [
       "      Marke    Antrieb\n",
       "0        VW     Allrad\n",
       "1      Audi  Vorderrad\n",
       "2  Mercedes  hinterrad"
      ]
     },
     "execution_count": 8,
     "metadata": {},
     "output_type": "execute_result"
    }
   ],
   "source": [
    "data = {\"Marke\": [\"VW\", \"Audi\", \"Mercedes\"],\n",
    "        \"Antrieb\": [\"Allrad\", \"Vorderrad\", \"hinterrad\"]}\n",
    "\n",
    "df = pd.DataFrame(data)\n",
    "df"
   ]
  },
  {
   "cell_type": "code",
   "execution_count": 9,
   "metadata": {},
   "outputs": [
    {
     "name": "stdout",
     "output_type": "stream",
     "text": [
      "1    2\n",
      "2    2\n",
      "3    1\n",
      "4    1\n",
      "Name: count, dtype: int64\n"
     ]
    }
   ],
   "source": [
    "series = pd.Series([1,2,1,3,2,4])\n",
    "print(series.value_counts())"
   ]
  },
  {
   "cell_type": "markdown",
   "metadata": {},
   "source": [
    "# Sortiertes Wertediagramm"
   ]
  },
  {
   "cell_type": "code",
   "execution_count": 10,
   "metadata": {},
   "outputs": [
    {
     "data": {
      "text/plain": [
       "Wert\n",
       "0    1\n",
       "1    1\n",
       "2    2\n",
       "3    2\n",
       "4    2\n",
       "5    3\n",
       "Name: count, dtype: int64"
      ]
     },
     "metadata": {},
     "output_type": "display_data"
    },
    {
     "data": {
      "text/plain": [
       "<Axes: xlabel='Wert'>"
      ]
     },
     "execution_count": 10,
     "metadata": {},
     "output_type": "execute_result"
    },
    {
     "data": {
      "image/png": "[encoded data removed]",
      "text/plain": [
       "<Figure size 640x480 with 1 Axes>"
      ]
     },
     "metadata": {},
     "output_type": "display_data"
    }
   ],
   "source": [
    "data = [5, 3, 2, 3, 4, 4, 5, 2, 1, 5, 0]\n",
    "\n",
    "df = pd.DataFrame(data, columns=[\"Wert\"])\n",
    "\n",
    "\n",
    "df = df[\"Wert\"].value_counts().sort_index()\n",
    "display(df)\n",
    "\n",
    "df.plot(kind=\"bar\")\n"
   ]
  },
  {
   "cell_type": "markdown",
   "metadata": {},
   "source": [
    "Erstelle in Pandas ein DataFrame mit den folgenden Werten in einer Spalte:\n",
    " \n",
    "daten = [1, 2, 2, 3, 4, 4, 4, 5, 6, 6, 6, 6, 7, 8, 9, 9, 9, 9, 9, 10]\n",
    " \n",
    "Erstelle ein DataFrame, dass die Daten zunächst klassiert und dann die absoluten und relativen Häufigkeiten anzeigt:\n",
    " \n",
    "Beispielausgabe:\n",
    "\n",
    "Klasse\tAbsolute Häufigkeit\tRelative Häufigkeit\n",
    "(0, 3]\t4\t0.20\n",
    "(3, 6)\t8\t0.40\n",
    "(6, 9)\t7\t0.35\n",
    "(9, 12)\t1\t0.05\n",
    " \n",
    "Beachte, dass dieses Dataframe 2 Spalten hat und als Index die Klassen genutzt werden.\n",
    " \n",
    "Nutze, um diese Aufgabe zu erfüllen pandas Funktionen (es werden keine for-schleifen benötigt)"
   ]
  },
  {
   "cell_type": "code",
   "execution_count": 11,
   "metadata": {},
   "outputs": [
    {
     "data": {
      "text/html": [
       "<div>\n",
       "<style scoped>\n",
       "    .dataframe tbody tr th:only-of-type {\n",
       "        vertical-align: middle;\n",
       "    }\n",
       "\n",
       "    .dataframe tbody tr th {\n",
       "        vertical-align: top;\n",
       "    }\n",
       "\n",
       "    .dataframe thead th {\n",
       "        text-align: right;\n",
       "    }\n",
       "</style>\n",
       "<table border=\"1\" class=\"dataframe\">\n",
       "  <thead>\n",
       "    <tr style=\"text-align: right;\">\n",
       "      <th></th>\n",
       "      <th>Absolute Häufigkeit</th>\n",
       "      <th>Relative Häufigkeit</th>\n",
       "    </tr>\n",
       "  </thead>\n",
       "  <tbody>\n",
       "    <tr>\n",
       "      <th>(3, 6]</th>\n",
       "      <td>8</td>\n",
       "      <td>0.40</td>\n",
       "    </tr>\n",
       "    <tr>\n",
       "      <th>(6, 9]</th>\n",
       "      <td>7</td>\n",
       "      <td>0.35</td>\n",
       "    </tr>\n",
       "    <tr>\n",
       "      <th>(0, 3]</th>\n",
       "      <td>4</td>\n",
       "      <td>0.20</td>\n",
       "    </tr>\n",
       "    <tr>\n",
       "      <th>(9, 12]</th>\n",
       "      <td>1</td>\n",
       "      <td>0.05</td>\n",
       "    </tr>\n",
       "  </tbody>\n",
       "</table>\n",
       "</div>"
      ],
      "text/plain": [
       "         Absolute Häufigkeit  Relative Häufigkeit\n",
       "(3, 6]                     8                 0.40\n",
       "(6, 9]                     7                 0.35\n",
       "(0, 3]                     4                 0.20\n",
       "(9, 12]                    1                 0.05"
      ]
     },
     "metadata": {},
     "output_type": "display_data"
    }
   ],
   "source": [
    "daten = [1, 2, 2, 3, 4, 4, 4, 5, 6, 6, 6, 6, 7, 8, 9, 9, 9, 9, 9, 10]\n",
    "bins = [0, 3, 6, 9, 12]\n",
    "\n",
    "series = pd.Series(daten)\n",
    "\n",
    "classiefied_series = pd.cut(series, bins=bins, right=True)\n",
    "\n",
    "abs_frequency = classiefied_series.value_counts()\n",
    "rel_frequency = abs_frequency / len(series)\n",
    "\n",
    "classified_df = pd.DataFrame({\n",
    "    \"Absolute Häufigkeit\": abs_frequency,\n",
    "    \"Relative Häufigkeit\": rel_frequency\n",
    "})\n",
    "\n",
    "display(classified_df)"
   ]
  },
  {
   "cell_type": "markdown",
   "metadata": {},
   "source": [
    "Erstelle, für die letzte Aufgabe eine Funktion 'get_counts(ser, bins)', welche eine Series erwartet und das oben angegebene DataFrame zurückgibt. Schreibe hierfür Tests. (die Funktion get_counts kann bestenfalls noch mit anderen Parametern umgehen, um das zusammenspiel mit der cut-Funktion zu ermöglichen. Überlege, wie dies mit *args und **kwargs umgesetzt wird)"
   ]
  },
  {
   "cell_type": "code",
   "execution_count": 12,
   "metadata": {},
   "outputs": [
    {
     "data": {
      "text/html": [
       "<div>\n",
       "<style scoped>\n",
       "    .dataframe tbody tr th:only-of-type {\n",
       "        vertical-align: middle;\n",
       "    }\n",
       "\n",
       "    .dataframe tbody tr th {\n",
       "        vertical-align: top;\n",
       "    }\n",
       "\n",
       "    .dataframe thead th {\n",
       "        text-align: right;\n",
       "    }\n",
       "</style>\n",
       "<table border=\"1\" class=\"dataframe\">\n",
       "  <thead>\n",
       "    <tr style=\"text-align: right;\">\n",
       "      <th></th>\n",
       "      <th>Absolute Häufigkeit</th>\n",
       "      <th>Relative Häufigkeit</th>\n",
       "    </tr>\n",
       "  </thead>\n",
       "  <tbody>\n",
       "    <tr>\n",
       "      <th>(0, 3]</th>\n",
       "      <td>4</td>\n",
       "      <td>0.20</td>\n",
       "    </tr>\n",
       "    <tr>\n",
       "      <th>(3, 6]</th>\n",
       "      <td>8</td>\n",
       "      <td>0.40</td>\n",
       "    </tr>\n",
       "    <tr>\n",
       "      <th>(6, 9]</th>\n",
       "      <td>7</td>\n",
       "      <td>0.35</td>\n",
       "    </tr>\n",
       "    <tr>\n",
       "      <th>(9, 12]</th>\n",
       "      <td>1</td>\n",
       "      <td>0.05</td>\n",
       "    </tr>\n",
       "  </tbody>\n",
       "</table>\n",
       "</div>"
      ],
      "text/plain": [
       "         Absolute Häufigkeit  Relative Häufigkeit\n",
       "(0, 3]                     4                 0.20\n",
       "(3, 6]                     8                 0.40\n",
       "(6, 9]                     7                 0.35\n",
       "(9, 12]                    1                 0.05"
      ]
     },
     "execution_count": 12,
     "metadata": {},
     "output_type": "execute_result"
    }
   ],
   "source": [
    "def get_counts(series, bins, **cut_kwargs):\n",
    "    classiefied_series = pd.cut(series, bins=bins, **cut_kwargs)\n",
    "    \n",
    "    classified_df = pd.DataFrame({\n",
    "    \"Absolute Häufigkeit\": classiefied_series.value_counts(),\n",
    "    \"Relative Häufigkeit\": classiefied_series.value_counts(normalize=True)\n",
    "    }).sort_index()\n",
    "    \n",
    "    return classified_df\n",
    "\n",
    "get_counts(pd.Series([1, 2, 2, 3, 4, 4, 4, 5, 6, 6, 6, 6, 7, 8, 9, 9, 9, 9, 9, 10]), [0, 3, 6, 9, 12], right=True)"
   ]
  },
  {
   "cell_type": "markdown",
   "metadata": {},
   "source": [
    "# Wie kann man aus der Funktion 'get_counts' eine Methode der Klasse 'Series' machen, sodass direkt ser.get_counts() aufgerufen werden kann?"
   ]
  },
  {
   "cell_type": "code",
   "execution_count": 13,
   "metadata": {},
   "outputs": [],
   "source": [
    "pd.Series.get_counts = get_counts"
   ]
  },
  {
   "cell_type": "code",
   "execution_count": 14,
   "metadata": {},
   "outputs": [
    {
     "data": {
      "text/html": [
       "<div>\n",
       "<style scoped>\n",
       "    .dataframe tbody tr th:only-of-type {\n",
       "        vertical-align: middle;\n",
       "    }\n",
       "\n",
       "    .dataframe tbody tr th {\n",
       "        vertical-align: top;\n",
       "    }\n",
       "\n",
       "    .dataframe thead th {\n",
       "        text-align: right;\n",
       "    }\n",
       "</style>\n",
       "<table border=\"1\" class=\"dataframe\">\n",
       "  <thead>\n",
       "    <tr style=\"text-align: right;\">\n",
       "      <th></th>\n",
       "      <th>Absolute Häufigkeit</th>\n",
       "      <th>Relative Häufigkeit</th>\n",
       "    </tr>\n",
       "  </thead>\n",
       "  <tbody>\n",
       "    <tr>\n",
       "      <th>(0, 3]</th>\n",
       "      <td>4</td>\n",
       "      <td>0.20</td>\n",
       "    </tr>\n",
       "    <tr>\n",
       "      <th>(3, 6]</th>\n",
       "      <td>8</td>\n",
       "      <td>0.40</td>\n",
       "    </tr>\n",
       "    <tr>\n",
       "      <th>(6, 9]</th>\n",
       "      <td>7</td>\n",
       "      <td>0.35</td>\n",
       "    </tr>\n",
       "    <tr>\n",
       "      <th>(9, 12]</th>\n",
       "      <td>1</td>\n",
       "      <td>0.05</td>\n",
       "    </tr>\n",
       "  </tbody>\n",
       "</table>\n",
       "</div>"
      ],
      "text/plain": [
       "         Absolute Häufigkeit  Relative Häufigkeit\n",
       "(0, 3]                     4                 0.20\n",
       "(3, 6]                     8                 0.40\n",
       "(6, 9]                     7                 0.35\n",
       "(9, 12]                    1                 0.05"
      ]
     },
     "execution_count": 14,
     "metadata": {},
     "output_type": "execute_result"
    }
   ],
   "source": [
    "serie = pd.Series([1, 2, 2, 3, 4, 4, 4, 5, 6, 6, 6, 6, 7, 8, 9, 9, 9, 9, 9, 10])\n",
    "\n",
    "serie.get_counts([0, 3, 6, 9, 12], right=True)"
   ]
  },
  {
   "cell_type": "markdown",
   "metadata": {},
   "source": [
    "# Pandas Treppendiagram"
   ]
  },
  {
   "cell_type": "code",
   "execution_count": 15,
   "metadata": {},
   "outputs": [
    {
     "data": {
      "text/html": [
       "<div>\n",
       "<style scoped>\n",
       "    .dataframe tbody tr th:only-of-type {\n",
       "        vertical-align: middle;\n",
       "    }\n",
       "\n",
       "    .dataframe tbody tr th {\n",
       "        vertical-align: top;\n",
       "    }\n",
       "\n",
       "    .dataframe thead th {\n",
       "        text-align: right;\n",
       "    }\n",
       "</style>\n",
       "<table border=\"1\" class=\"dataframe\">\n",
       "  <thead>\n",
       "    <tr style=\"text-align: right;\">\n",
       "      <th></th>\n",
       "      <th>Absolute Häufigkeit</th>\n",
       "      <th>Relative Häufigkeit</th>\n",
       "    </tr>\n",
       "  </thead>\n",
       "  <tbody>\n",
       "    <tr>\n",
       "      <th>80</th>\n",
       "      <td>2</td>\n",
       "      <td>0.10</td>\n",
       "    </tr>\n",
       "    <tr>\n",
       "      <th>94</th>\n",
       "      <td>2</td>\n",
       "      <td>0.10</td>\n",
       "    </tr>\n",
       "    <tr>\n",
       "      <th>106</th>\n",
       "      <td>1</td>\n",
       "      <td>0.05</td>\n",
       "    </tr>\n",
       "    <tr>\n",
       "      <th>113</th>\n",
       "      <td>2</td>\n",
       "      <td>0.10</td>\n",
       "    </tr>\n",
       "    <tr>\n",
       "      <th>120</th>\n",
       "      <td>4</td>\n",
       "      <td>0.20</td>\n",
       "    </tr>\n",
       "    <tr>\n",
       "      <th>127</th>\n",
       "      <td>1</td>\n",
       "      <td>0.05</td>\n",
       "    </tr>\n",
       "    <tr>\n",
       "      <th>133</th>\n",
       "      <td>5</td>\n",
       "      <td>0.25</td>\n",
       "    </tr>\n",
       "    <tr>\n",
       "      <th>230</th>\n",
       "      <td>2</td>\n",
       "      <td>0.10</td>\n",
       "    </tr>\n",
       "    <tr>\n",
       "      <th>250</th>\n",
       "      <td>1</td>\n",
       "      <td>0.05</td>\n",
       "    </tr>\n",
       "  </tbody>\n",
       "</table>\n",
       "</div>"
      ],
      "text/plain": [
       "     Absolute Häufigkeit  Relative Häufigkeit\n",
       "80                     2                 0.10\n",
       "94                     2                 0.10\n",
       "106                    1                 0.05\n",
       "113                    2                 0.10\n",
       "120                    4                 0.20\n",
       "127                    1                 0.05\n",
       "133                    5                 0.25\n",
       "230                    2                 0.10\n",
       "250                    1                 0.05"
      ]
     },
     "metadata": {},
     "output_type": "display_data"
    }
   ],
   "source": [
    "import ast\n",
    "\n",
    "data = \"[127; 120; 133; 94; 133; 120; 133; 133; 113; 94; 230; 120; 230; 80; 113; 80; 120; 250; 133; 106]\"\n",
    "data = data.replace(\";\", \",\")\n",
    "data_list = ast.literal_eval(data)\n",
    "data_series = pd.Series(data_list)\n",
    "\n",
    "df = pd.DataFrame({\n",
    "    \"Absolute Häufigkeit\": data_series.value_counts(),\n",
    "    \"Relative Häufigkeit\": data_series.value_counts(normalize=True)\n",
    "}).sort_index()\n",
    "\n",
    "display(df)\n"
   ]
  },
  {
   "cell_type": "code",
   "execution_count": 16,
   "metadata": {},
   "outputs": [
    {
     "data": {
      "image/png": "[encoded data removed]",
      "text/plain": [
       "<Figure size 640x480 with 1 Axes>"
      ]
     },
     "metadata": {},
     "output_type": "display_data"
    }
   ],
   "source": [
    "import matplotlib.pyplot as plt\n",
    "\n",
    "# Gegebene Daten\n",
    "data = \"[127; 120; 133; 94; 133; 120; 133; 133; 113; 94; 230; 120; 230; 80; 113; 80; 120; 250; 133; 106]\"\n",
    "data = data.replace(\";\", \",\")\n",
    "data_list = ast.literal_eval(data)\n",
    "data_series = pd.Series(data_list)\n",
    "\n",
    "# Daten in DataFrame\n",
    "df = pd.DataFrame(data_series, columns=[\"Wert\"])\n",
    "\n",
    "# Kumulative absolute Häufigkeiten berechnen\n",
    "df[\"Kumulative Häufigkeit\"] = df[\"Wert\"].rank(method=\"max\").astype(int)\n",
    "\n",
    "# Entferne Duplikate für die AEVF\n",
    "aevf_df = df.drop_duplicates(subset=[\"Wert\"]).sort_values(by=\"Wert\")\n",
    "\n",
    "# Plot der AEVF\n",
    "plt.step(aevf_df[\"Wert\"], aevf_df[\"Kumulative Häufigkeit\"], where=\"post\")\n",
    "plt.title(\"Absolute empirische Verteilungsfunktion\")\n",
    "plt.xlim(left=0)\n",
    "plt.xlabel(\"Wert\")\n",
    "plt.ylabel(\"Kumulative Häufigkeit\")\n",
    "plt.grid()\n",
    "plt.show()\n"
   ]
  },
  {
   "cell_type": "code",
   "execution_count": 17,
   "metadata": {},
   "outputs": [
    {
     "ename": "ModuleNotFoundError",
     "evalue": "No module named 'seaborn'",
     "output_type": "error",
     "traceback": [
      "\u001b[0;31m---------------------------------------------------------------------------\u001b[0m",
      "\u001b[0;31mModuleNotFoundError\u001b[0m                       Traceback (most recent call last)",
      "Cell \u001b[0;32mIn[17], line 2\u001b[0m\n\u001b[1;32m      1\u001b[0m \u001b[38;5;28;01mimport\u001b[39;00m \u001b[38;5;21;01mpandas\u001b[39;00m \u001b[38;5;28;01mas\u001b[39;00m \u001b[38;5;21;01mpd\u001b[39;00m\n\u001b[0;32m----> 2\u001b[0m \u001b[38;5;28;01mimport\u001b[39;00m \u001b[38;5;21;01mseaborn\u001b[39;00m \u001b[38;5;28;01mas\u001b[39;00m \u001b[38;5;21;01msns\u001b[39;00m\n\u001b[1;32m      3\u001b[0m \u001b[38;5;28;01mimport\u001b[39;00m \u001b[38;5;21;01mmatplotlib\u001b[39;00m\u001b[38;5;21;01m.\u001b[39;00m\u001b[38;5;21;01mpyplot\u001b[39;00m \u001b[38;5;28;01mas\u001b[39;00m \u001b[38;5;21;01mplt\u001b[39;00m\n\u001b[1;32m      4\u001b[0m df\u001b[38;5;241m=\u001b[39mpd\u001b[38;5;241m.\u001b[39mDataFrame([\u001b[38;5;241m127\u001b[39m, \u001b[38;5;241m120\u001b[39m, \u001b[38;5;241m133\u001b[39m, \u001b[38;5;241m94\u001b[39m, \u001b[38;5;241m133\u001b[39m, \u001b[38;5;241m120\u001b[39m, \u001b[38;5;241m133\u001b[39m, \u001b[38;5;241m133\u001b[39m, \u001b[38;5;241m113\u001b[39m, \u001b[38;5;241m94\u001b[39m, \u001b[38;5;241m230\u001b[39m, \u001b[38;5;241m120\u001b[39m, \u001b[38;5;241m230\u001b[39m, \u001b[38;5;241m80\u001b[39m, \u001b[38;5;241m113\u001b[39m, \u001b[38;5;241m80\u001b[39m, \u001b[38;5;241m120\u001b[39m, \u001b[38;5;241m250\u001b[39m, \u001b[38;5;241m133\u001b[39m, \u001b[38;5;241m106\u001b[39m])\n",
      "\u001b[0;31mModuleNotFoundError\u001b[0m: No module named 'seaborn'"
     ]
    }
   ],
   "source": [
    "import pandas as pd\n",
    "import seaborn as sns\n",
    "import matplotlib.pyplot as plt\n",
    "df=pd.DataFrame([127, 120, 133, 94, 133, 120, 133, 133, 113, 94, 230, 120, 230, 80, 113, 80, 120, 250, 133, 106])\n",
    "sns.ecdfplot(data=df)\n",
    "plt.xlim(left=0)\n",
    "plt.show()\n",
    "sns.ecdfplot(stat = \"count\", data=df)\n",
    "plt.xlim(left=0)\n",
    "plt.show()"
   ]
  },
  {
   "cell_type": "markdown",
   "metadata": {},
   "source": [
    "# Modal-Wert"
   ]
  },
  {
   "cell_type": "code",
   "execution_count": null,
   "metadata": {},
   "outputs": [],
   "source": [
    "import numpy as np\n",
    "def my_modus(liste):    \n",
    "    if not liste:        \n",
    "        return np.nan   \n",
    "    return _my_modus(liste)\n",
    "\n",
    "def _my_modus(liste):    \n",
    "    frequency = {value: liste.count(value) for value in set(liste)}    \n",
    "    return max(frequency, key=frequency.get)"
   ]
  },
  {
   "cell_type": "code",
   "execution_count": null,
   "metadata": {},
   "outputs": [],
   "source": [
    "def get_modal_value(data):\n",
    "    if not data:\n",
    "        raise ValueError(\"Cant calculate Modal value for empty array like sequence.\")\n",
    "    my_dict = {}\n",
    "    for num in sorted(data):\n",
    "        my_dict[num] = my_dict.get(num, 0) + 1\n",
    "\n",
    "    max_val = max(my_dict.values())\n",
    "    modal_val = [key for key, value in my_dict.items() if max_val == value]\n",
    "    return modal_val"
   ]
  },
  {
   "cell_type": "code",
   "execution_count": null,
   "metadata": {},
   "outputs": [
    {
     "name": "stderr",
     "output_type": "stream",
     "text": [
      ".......\n",
      "----------------------------------------------------------------------\n",
      "Ran 7 tests in 0.003s\n",
      "\n",
      "OK\n"
     ]
    }
   ],
   "source": [
    "import unittest\n",
    "from parameterized import parameterized\n",
    "\n",
    "class TestModalValue(unittest.TestCase):\n",
    "    \n",
    "    @parameterized.expand([\n",
    "        [[127, 120, 133, 94, 133, 120, 133, 133, 113, 94, 230, 120, 230, 80, 113, 80, 120, 250, 133, 106, 44, 44, 44, 44, 44], [44, 133]],\n",
    "        [[1, 2, 3, 3, 3, 4, 5, 6, 6, 7], [3]],\n",
    "        [[1, 1, 1, 2, 3, 4, 5, 5, 5, 5], [5]],\n",
    "        [[\"pink\", \"silber\", \"pink\"], [\"pink\"]],\n",
    "        [[\"a\", \"b\", \"b\", \"a\", \"c\", \"a\"], [\"a\"]],\n",
    "        [[\"dog\", \"cat\", \"dog\", \"dog\", \"mouse\", \"cat\"], [\"dog\"]]\n",
    "    ])\n",
    "    \n",
    "    def test_modal_val_success(self, values, expected):\n",
    "        self.assertEqual(get_modal_value(values), expected)\n",
    "    \n",
    "    def test_value_error(self):\n",
    "        with self.assertRaises(ValueError) as context:\n",
    "            get_modal_value([])\n",
    "        self.assertEqual(str(context.exception), \"Cant calculate Modal value for empty array like sequence.\")\n",
    "    \n",
    "if __name__ == '__main__':\n",
    "    unittest.main(argv=[''], exit=False)"
   ]
  },
  {
   "cell_type": "markdown",
   "metadata": {},
   "source": [
    "# Mean-Wert"
   ]
  },
  {
   "cell_type": "code",
   "execution_count": null,
   "metadata": {},
   "outputs": [],
   "source": [
    "def get_mean_value(data):\n",
    "    if not data:\n",
    "        raise ValueError(\"The input data is empty. Cannot calculate mean value.\")\n",
    "\n",
    "    if not isinstance(data, (list, tuple, set)):\n",
    "        raise TypeError(\"Input data must be a list, tuple, or set.\")\n",
    "\n",
    "    if not all(isinstance(x, (int, float)) for x in data):\n",
    "        raise ValueError(\"All elements in the input data must be numeric.\")\n",
    "    \n",
    "    return sum(data) / len(data)"
   ]
  },
  {
   "cell_type": "code",
   "execution_count": null,
   "metadata": {},
   "outputs": [
    {
     "name": "stderr",
     "output_type": "stream",
     "text": [
      ".E....................\n",
      "======================================================================\n",
      "ERROR: test_invalid_type (__main__.TestMeanValue.test_invalid_type)\n",
      "----------------------------------------------------------------------\n",
      "Traceback (most recent call last):\n",
      "  File \"/var/folders/1x/40xjqqbn4g972c4cp7dpn0qr0000gs/T/ipykernel_7796/3568944900.py\", line 21, in test_invalid_type\n",
      "    get_mean_value(\"string instead of list\")\n",
      "  File \"/var/folders/1x/40xjqqbn4g972c4cp7dpn0qr0000gs/T/ipykernel_7796/2585380614.py\", line 11, in get_mean_value\n",
      "    raise ValueError(\"All elements in the input data must be numeric.\")\n",
      "ValueError: All elements in the input data must be numeric.\n",
      "\n",
      "----------------------------------------------------------------------\n",
      "Ran 22 tests in 0.006s\n",
      "\n",
      "FAILED (errors=1)\n"
     ]
    }
   ],
   "source": [
    "import unittest\n",
    "from parameterized import parameterized\n",
    "\n",
    "class TestMeanValue(unittest.TestCase):\n",
    "    \n",
    "    @parameterized.expand([\n",
    "        [[1, 2, 3, 4, 5], 3.0],\n",
    "        [[10, 10, 10, 10], 10.0],\n",
    "        [[0], 0.0]\n",
    "    ])\n",
    "    def test_mean_value_success(self, values, expected):\n",
    "        self.assertAlmostEqual(get_mean_value(values), expected)\n",
    "\n",
    "    def test_empty_data(self):\n",
    "        with self.assertRaises(ValueError) as context:\n",
    "            get_mean_value([])\n",
    "        self.assertEqual(str(context.exception), \"The input data is empty. Cannot calculate mean value.\")\n",
    "        \n",
    "    def test_invalid_type(self):\n",
    "        with self.assertRaises(TypeError) as context:\n",
    "            get_mean_value(\"string instead of list\")\n",
    "        self.assertEqual(str(context.exception), \"Input data must be a list, tuple, or set.\")\n",
    "        \n",
    "    def test_non_numeric_values(self):\n",
    "        with self.assertRaises(ValueError) as context:\n",
    "            get_mean_value([1, 2, \"three\", 4])\n",
    "        self.assertEqual(str(context.exception), \"All elements in the input data must be numeric.\")\n",
    "\n",
    "if __name__ == '__main__':\n",
    "    unittest.main(argv=[''], exit=False)"
   ]
  },
  {
   "cell_type": "markdown",
   "metadata": {},
   "source": [
    "# Median-Wert"
   ]
  },
  {
   "cell_type": "code",
   "execution_count": null,
   "metadata": {},
   "outputs": [],
   "source": [
    "def get_median_value(data):\n",
    "    if not data:\n",
    "        raise ValueError(\"The input data is empty. Cannot calculate median value.\")\n",
    "    \n",
    "    if not isinstance(data, (list, tuple, set)):\n",
    "        raise TypeError(\"Input data must be a list, tuple, or set.\")\n",
    "    \n",
    "    if not all(isinstance(x, (int, float)) for x in data):\n",
    "        raise ValueError(\"All elements in the input data must be numeric.\")\n",
    "\n",
    "    data = sorted(data)\n",
    "    n = len(data)\n",
    "    \n",
    "    if n % 2 != 0:\n",
    "        return data[n // 2]\n",
    "    else:\n",
    "        return 0.5 * (data[(n // 2) - 1] + data[n // 2])"
   ]
  },
  {
   "cell_type": "code",
   "execution_count": null,
   "metadata": {},
   "outputs": [
    {
     "name": "stderr",
     "output_type": "stream",
     "text": [
      ".........\n",
      "----------------------------------------------------------------------\n",
      "Ran 9 tests in 0.005s\n",
      "\n",
      "OK\n"
     ]
    }
   ],
   "source": [
    "import unittest\n",
    "from parameterized import parameterized\n",
    "\n",
    "class TestMedianValue(unittest.TestCase):\n",
    "    \n",
    "    @parameterized.expand([\n",
    "        [[1, 2, 3, 4, 5], 3],\n",
    "        [[1, 2, 3, 4, 5, 6], 3.5],\n",
    "        [[10], 10],\n",
    "        [[2, 8, 4, 6], 5.0],\n",
    "        [[0, 0, 0, 0], 0],\n",
    "        [[-5, -10, -3], -5]\n",
    "    ])\n",
    "    def test_median_value_success(self, values, expected):\n",
    "        self.assertEqual(get_median_value(values), expected)\n",
    "\n",
    "    def test_empty_data(self):\n",
    "        with self.assertRaises(ValueError) as context:\n",
    "            get_median_value([])\n",
    "        self.assertEqual(str(context.exception), \"The input data is empty. Cannot calculate median value.\")\n",
    "\n",
    "    def test_invalid_type(self):\n",
    "        with self.assertRaises(TypeError) as context:\n",
    "            get_median_value(\"string instead of list\")\n",
    "        self.assertEqual(str(context.exception), \"Input data must be a list, tuple, or set.\")\n",
    "\n",
    "    def test_non_numeric_values(self):\n",
    "        with self.assertRaises(ValueError) as context:\n",
    "            get_median_value([1, 2, \"three\", 4])\n",
    "        self.assertEqual(str(context.exception), \"All elements in the input data must be numeric.\")\n",
    "\n",
    "if __name__ == '__main__':\n",
    "    unittest.main(argv=[''], exit=False)"
   ]
  },
  {
   "cell_type": "markdown",
   "metadata": {},
   "source": [
    "# Modal, Mean und Median in pandas"
   ]
  },
  {
   "cell_type": "code",
   "execution_count": null,
   "metadata": {},
   "outputs": [
    {
     "name": "stdout",
     "output_type": "stream",
     "text": [
      "Modalwert: 133\n",
      "Mean: 133.1\n",
      "Median: 120.0\n"
     ]
    },
    {
     "data": {
      "text/html": [
       "<div>\n",
       "<style scoped>\n",
       "    .dataframe tbody tr th:only-of-type {\n",
       "        vertical-align: middle;\n",
       "    }\n",
       "\n",
       "    .dataframe tbody tr th {\n",
       "        vertical-align: top;\n",
       "    }\n",
       "\n",
       "    .dataframe thead th {\n",
       "        text-align: right;\n",
       "    }\n",
       "</style>\n",
       "<table border=\"1\" class=\"dataframe\">\n",
       "  <thead>\n",
       "    <tr style=\"text-align: right;\">\n",
       "      <th></th>\n",
       "      <th>Wert</th>\n",
       "    </tr>\n",
       "  </thead>\n",
       "  <tbody>\n",
       "    <tr>\n",
       "      <th>count</th>\n",
       "      <td>20.00000</td>\n",
       "    </tr>\n",
       "    <tr>\n",
       "      <th>mean</th>\n",
       "      <td>133.10000</td>\n",
       "    </tr>\n",
       "    <tr>\n",
       "      <th>std</th>\n",
       "      <td>47.79771</td>\n",
       "    </tr>\n",
       "    <tr>\n",
       "      <th>min</th>\n",
       "      <td>80.00000</td>\n",
       "    </tr>\n",
       "    <tr>\n",
       "      <th>25%</th>\n",
       "      <td>111.25000</td>\n",
       "    </tr>\n",
       "    <tr>\n",
       "      <th>50%</th>\n",
       "      <td>120.00000</td>\n",
       "    </tr>\n",
       "    <tr>\n",
       "      <th>75%</th>\n",
       "      <td>133.00000</td>\n",
       "    </tr>\n",
       "    <tr>\n",
       "      <th>max</th>\n",
       "      <td>250.00000</td>\n",
       "    </tr>\n",
       "  </tbody>\n",
       "</table>\n",
       "</div>"
      ],
      "text/plain": [
       "            Wert\n",
       "count   20.00000\n",
       "mean   133.10000\n",
       "std     47.79771\n",
       "min     80.00000\n",
       "25%    111.25000\n",
       "50%    120.00000\n",
       "75%    133.00000\n",
       "max    250.00000"
      ]
     },
     "execution_count": 13,
     "metadata": {},
     "output_type": "execute_result"
    }
   ],
   "source": [
    "import pandas as pd\n",
    "\n",
    "data = {'Wert': [127, 120, 133, 94, 133, 120, 133, 133, 113, 94, 230, 120, 230, 80, 113, 80, 120, 250, 133, 106]}\n",
    "df = pd.DataFrame(data)\n",
    "\n",
    "modal_value = df['Wert'].mode()[0]\n",
    "mean_value = df['Wert'].mean()\n",
    "median_value = df['Wert'].median()\n",
    "\n",
    "# Ausgabe\n",
    "print(f\"Modalwert: {modal_value}\")\n",
    "print(f\"Mean: {mean_value}\")\n",
    "print(f\"Median: {median_value}\")"
   ]
  },
  {
   "cell_type": "markdown",
   "metadata": {},
   "source": [
    "# Varianz"
   ]
  },
  {
   "cell_type": "code",
   "execution_count": null,
   "metadata": {},
   "outputs": [
    {
     "name": "stdout",
     "output_type": "stream",
     "text": [
      "0.0\n"
     ]
    }
   ],
   "source": [
    "def variance(data):\n",
    "    if not isinstance(data, (list, tuple)):\n",
    "        raise TypeError(\"Data must be a list or tuple of numbers.\")\n",
    "    if not data:\n",
    "        raise ValueError(\"Cannot calculate variance of an empty dataset.\")\n",
    "    if not all(isinstance(num, (int, float)) for num in data):\n",
    "        raise ValueError(\"All elements in the dataset must be numeric.\")\n",
    "    \n",
    "    arithmetic_mean = sum(data) / len(data)\n",
    "    return sum([(num - arithmetic_mean)**2 for num in data]) / len(data)"
   ]
  },
  {
   "cell_type": "code",
   "execution_count": null,
   "metadata": {},
   "outputs": [],
   "source": [
    "def standard_deviation(data):\n",
    "    if not isinstance(data, (list, tuple)):\n",
    "        raise TypeError(\"Data must be a list or tuple of numbers.\")\n",
    "    if not data:\n",
    "        raise ValueError(\"Cannot calculate standard deviation of an empty dataset.\")\n",
    "    if not all(isinstance(num, (int, float)) for num in data):\n",
    "        raise ValueError(\"All elements in the dataset must be numeric.\")\n",
    "    \n",
    "    return variance(data)**0.5"
   ]
  },
  {
   "cell_type": "code",
   "execution_count": null,
   "metadata": {},
   "outputs": [
    {
     "name": "stderr",
     "output_type": "stream",
     "text": [
      ".......................\n",
      "----------------------------------------------------------------------\n",
      "Ran 23 tests in 0.007s\n",
      "\n",
      "OK\n"
     ]
    }
   ],
   "source": [
    "import unittest\n",
    "from parameterized import parameterized\n",
    "\n",
    "class TestVariance(unittest.TestCase):\n",
    "    \n",
    "    @parameterized.expand([\n",
    "        [[23, 16, 18, 17, 22, 28, 26, 22, 20, 8], 29],\n",
    "        [[27, 22, 21, 26, 27, 35, 31, 24, 22, 15], 28],\n",
    "        [[27, 27, 27], 0],\n",
    "        [[10], 0]\n",
    "    ])\n",
    "    def test_variance_success(self, values, expected):\n",
    "        self.assertEqual(variance(values), expected)\n",
    "    \n",
    "    @parameterized.expand([\n",
    "        [[23, 16, 18, 17, 22, 28, 26, 22, 20, 8], 5.39],\n",
    "        [[27, 22, 21, 26, 27, 35, 31, 24, 22, 15], 5.29],\n",
    "        [[4, 4, 4], 0.0],\n",
    "        [[10], 0]\n",
    "    ])\n",
    "    def test_standard_deviation_success(self, values, expected):\n",
    "        self.assertAlmostEqual(standard_deviation(values), expected, delta=0.01)\n",
    "    \n",
    "    # Tests für Fehlerfälle\n",
    "    def test_variance_empty_dataset(self):\n",
    "        with self.assertRaises(ValueError) as context:\n",
    "            variance([])\n",
    "        self.assertEqual(str(context.exception), \"Cannot calculate variance of an empty dataset.\")\n",
    "    \n",
    "    def test_variance_non_numeric(self):\n",
    "        with self.assertRaises(ValueError) as context:\n",
    "            variance([1, \"a\", 3])\n",
    "        self.assertEqual(str(context.exception), \"All elements in the dataset must be numeric.\")\n",
    "    \n",
    "    def test_variance_invalid_type(self):\n",
    "        with self.assertRaises(TypeError) as context:\n",
    "            variance(\"not a list\")\n",
    "        self.assertEqual(str(context.exception), \"Data must be a list or tuple of numbers.\")\n",
    "    \n",
    "    def test_standard_deviation_empty_dataset(self):\n",
    "        with self.assertRaises(ValueError) as context:\n",
    "            standard_deviation([])\n",
    "        self.assertEqual(str(context.exception), \"Cannot calculate standard deviation of an empty dataset.\")\n",
    "    \n",
    "    def test_standard_deviation_non_numeric(self):\n",
    "        with self.assertRaises(ValueError) as context:\n",
    "            standard_deviation([1, \"a\", 3])\n",
    "        self.assertEqual(str(context.exception), \"All elements in the dataset must be numeric.\")\n",
    "    \n",
    "    def test_standard_deviation_invalid_type(self):\n",
    "        with self.assertRaises(TypeError) as context:\n",
    "            standard_deviation({\"a\": 1})\n",
    "        self.assertEqual(str(context.exception), \"Data must be a list or tuple of numbers.\")\n",
    "\n",
    "if __name__ == '__main__':\n",
    "    unittest.main(argv=[''], exit=False)"
   ]
  },
  {
   "cell_type": "markdown",
   "metadata": {},
   "source": [
    "# Lineare Regression"
   ]
  },
  {
   "cell_type": "code",
   "execution_count": 76,
   "metadata": {},
   "outputs": [],
   "source": [
    "import numpy as np\n",
    "\n",
    "def linear_regression(data):\n",
    "    if not isinstance(data, list):\n",
    "        raise TypeError(\"Input data must be a list of tuples.\")\n",
    "    if len([x for x, y in data]) != len([y for x, y in data]):\n",
    "        raise ValueError(\"The number of values for x and y must be the same.\")\n",
    "    if len(data) < 2:\n",
    "        raise ValueError(\"At least two data points are required for linear regression.\")\n",
    "    if not all(isinstance(point, tuple) and len(point) == 2 for point in data):\n",
    "        raise ValueError(\"Each element in the data list must be a tuple with exactly two numeric values.\")\n",
    "    if not all(isinstance(x, (int, float)) and isinstance(y, (int, float)) for x, y in data):\n",
    "        raise ValueError(\"All elements in the tuples must be numeric values.\")\n",
    "    \n",
    "    x_vals = [x[0] for x in data]\n",
    "    y_vals = [y[1] for y in data]\n",
    "    \n",
    "    if len(set(x_vals)) == 1:\n",
    "        raise ValueError(\"All x-values are the same. Linear regression is undefined.\")\n",
    "    \n",
    "    x_mean, y_mean = np.mean(x_vals), np.mean(y_vals)\n",
    "    nominator = sum((xi - x_mean) * (yi - y_mean) for xi, yi in data)\n",
    "    denominator = sum((xi - x_mean) ** 2 for xi in x_vals)\n",
    "    byx = nominator / denominator\n",
    "    ayx = y_mean - byx * x_mean\n",
    "    \n",
    "    return ayx, byx\n",
    "\n",
    "def calculate_y(data, value):\n",
    "    if not isinstance(value, (int, float)):\n",
    "        raise TypeError(\"The x-value must be a numeric value.\")\n",
    "    ayx, byx = linear_regression(data)\n",
    "    return ayx + byx * value\n"
   ]
  },
  {
   "cell_type": "code",
   "execution_count": 77,
   "metadata": {},
   "outputs": [
    {
     "name": "stderr",
     "output_type": "stream",
     "text": [
      ".................\n",
      "----------------------------------------------------------------------\n",
      "Ran 17 tests in 0.008s\n",
      "\n",
      "OK\n"
     ]
    }
   ],
   "source": [
    "class TestLinearRegression(unittest.TestCase):\n",
    "\n",
    "    @parameterized.expand([\n",
    "        [[(4, 50), (7, 80), (11, 70), (2, 45)], (41.68, 3.26)],\n",
    "        [[(1, 2), (2, 4), (3, 6), (4, 8)], (0, 2)],\n",
    "        [[(10, 20), (20, 40)], (0, 2)],\n",
    "    ])\n",
    "    def test_linear_regression_success(self, data, expected):\n",
    "        ayx, byx = linear_regression(data)\n",
    "        self.assertAlmostEqual(ayx, expected[0], delta=0.01)\n",
    "        self.assertAlmostEqual(byx, expected[1], delta=0.01)\n",
    "\n",
    "    def test_empty_data(self):\n",
    "        with self.assertRaises(ValueError) as context:\n",
    "            linear_regression([])\n",
    "        self.assertEqual(str(context.exception), \"At least two data points are required for linear regression.\")\n",
    "\n",
    "    def test_one_data_point(self):\n",
    "        with self.assertRaises(ValueError) as context:\n",
    "            linear_regression([(1, 2)])\n",
    "        self.assertEqual(str(context.exception), \"At least two data points are required for linear regression.\")\n",
    "\n",
    "    def test_same_x_values(self):\n",
    "        with self.assertRaises(ValueError) as context:\n",
    "            linear_regression([(1, 2), (1, 3)])\n",
    "        self.assertEqual(str(context.exception), \"All x-values are the same. Linear regression is undefined.\")\n",
    "\n",
    "    def test_non_numeric_values(self):\n",
    "        with self.assertRaises(ValueError) as context:\n",
    "            linear_regression([(\"a\", 2), (3, 4)])\n",
    "        self.assertEqual(str(context.exception), \"All elements in the tuples must be numeric values.\")\n",
    "\n",
    "    def test_invalid_data_format(self):\n",
    "        with self.assertRaises(ValueError) as context:\n",
    "            linear_regression([(1, 2), [3, 4]])\n",
    "        self.assertEqual(str(context.exception), \"Each element in the data list must be a tuple with exactly two numeric values.\")\n",
    "\n",
    "\n",
    "class TestCalculateY(unittest.TestCase):\n",
    "\n",
    "    @parameterized.expand([\n",
    "        [[(1, 2), (2, 4)], 3, 6.0],\n",
    "        [[(10, 20), (20, 40)], 15, 30.0],\n",
    "        [[(1, 2), (2, 4), (3, 6), (4, 8), (5, 10)], 6, 12.0],\n",
    "        [[(0, 0), (1, 1), (2, 2), (3, 3), (4, 4), (5, 5)], 10, 10.0],\n",
    "        [[(1, 1), (2, 3)], 1.5, 2.0],\n",
    "        [[(1, 1), (2, 2), (3, 3)], -1, -1.0],\n",
    "        [[(1, 1), (2, 2), (3, 3)], 0, 0.0],\n",
    "    ])\n",
    "    def test_calculate_y_success(self, test_list, value, expected):\n",
    "        self.assertAlmostEqual(calculate_y(test_list, value), expected, delta=0.01)\n",
    "\n",
    "    def test_empty_data(self):\n",
    "        with self.assertRaises(ValueError) as context:\n",
    "            calculate_y([], 5)\n",
    "        self.assertEqual(str(context.exception), \"At least two data points are required for linear regression.\")\n",
    "\n",
    "    def test_invalid_x_value(self):\n",
    "        with self.assertRaises(TypeError) as context:\n",
    "            calculate_y([(4, 50), (7, 80)], \"five\")\n",
    "        self.assertEqual(str(context.exception), \"The x-value must be a numeric value.\")\n",
    "\n",
    "if __name__ == '__main__':\n",
    "    unittest.main(argv=[''], exit=False)"
   ]
  },
  {
   "cell_type": "markdown",
   "metadata": {},
   "source": [
    "# Eindimensionale lineare Regression"
   ]
  },
  {
   "cell_type": "code",
   "execution_count": 82,
   "metadata": {},
   "outputs": [
    {
     "name": "stderr",
     "output_type": "stream",
     "text": [
      "........................\n",
      "----------------------------------------------------------------------\n",
      "Ran 24 tests in 0.009s\n",
      "\n",
      "OK\n"
     ]
    }
   ],
   "source": [
    "import numpy as np\n",
    "from unittest import TestCase, main\n",
    "from parameterized import parameterized\n",
    "\n",
    "def one_dimensional_regression(x, y):\n",
    "    ones_x = np.vstack((\n",
    "        np.ones(len(x)),  # Erste Zeile: Einsen\n",
    "        x  # Zweite Zeile: Die unabhängige Variable\n",
    "    ))\n",
    "\n",
    "    return np.linalg.inv(ones_x @ ones_x.T) @ ones_x @ np.array(y).T\n",
    "\n",
    "\n",
    "\n",
    "class TestDeviation(TestCase):\n",
    "    @parameterized.expand([\n",
    "        ([1, 2, 3], [1, 2, 3], 0, 1),  # no bias\n",
    "        ([1, 2, 3], [2, 4, 6], 0, 2),  # no bias\n",
    "        ([0, 1, 2], [3, 2, 1], 3, -1),  # negative\n",
    "        ([0, 1, 2], [1, 2, 3], 1, 1),  # basic\n",
    "        ([1, 2, 3], [3, 5, 7], 1, 2),  # basic\n",
    "        ([0, 1, 2], [1, 1, 1], 1, 0),  # constant function\n",
    "        ([1, 2, 3], [3, 3, 3], 3, 0),  # contant function\n",
    "    ])\n",
    "    def test_basic_lin_reg(self, x, y, a, b):\n",
    "        result = one_dimensional_regression(x, y)\n",
    "        self.assertAlmostEqual(float(result[0]), a)\n",
    "        self.assertAlmostEqual(float(result[1]), b)\n",
    "\n",
    "if __name__ == '__main__':\n",
    "    unittest.main(argv=[''], exit=False)"
   ]
  }
 ],
 "metadata": {
  "kernelspec": {
   "display_name": "Python 3",
   "language": "python",
   "name": "python3"
  },
  "language_info": {
   "codemirror_mode": {
    "name": "ipython",
    "version": 3
   },
   "file_extension": ".py",
   "mimetype": "text/x-python",
   "name": "python",
   "nbconvert_exporter": "python",
   "pygments_lexer": "ipython3",
   "version": "3.11.10"
  }
 },
 "nbformat": 4,
 "nbformat_minor": 2
}
