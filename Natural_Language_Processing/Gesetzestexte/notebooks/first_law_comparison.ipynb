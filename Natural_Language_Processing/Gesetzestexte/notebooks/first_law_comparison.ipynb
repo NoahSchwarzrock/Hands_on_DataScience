{
 "cells": [
  {
   "cell_type": "code",
   "execution_count": 160,
   "metadata": {},
   "outputs": [],
   "source": [
    "import pypdf\n",
    "from sklearn.cluster import KMeans, DBSCAN\n",
    "from sklearn.feature_extraction.text import TfidfVectorizer\n",
    "from sklearn.metrics.pairwise import cosine_similarity\n",
    "\n",
    "geg_1 = \"../data/Gebäudeenergiegesetz/2006415.pdf\"\n",
    "soli_1 = \"../data/Abschaffung_des_Solidaritätszuschlags/1904898.pdf\""
   ]
  },
  {
   "cell_type": "code",
   "execution_count": 161,
   "metadata": {},
   "outputs": [],
   "source": [
    "def extract_pages(path):\n",
    "    reader = pypdf.PdfReader(path)\n",
    "    return \" \".join([page.extract_text() for page in reader.pages])"
   ]
  },
  {
   "cell_type": "code",
   "execution_count": 162,
   "metadata": {},
   "outputs": [],
   "source": [
    "text_geg = extract_pages(geg_1)\n",
    "text_soli = extract_pages(soli_1)"
   ]
  },
  {
   "cell_type": "code",
   "execution_count": 163,
   "metadata": {},
   "outputs": [],
   "source": [
    "texts = [text_geg, text_soli]"
   ]
  },
  {
   "cell_type": "code",
   "execution_count": 164,
   "metadata": {},
   "outputs": [
    {
     "name": "stdout",
     "output_type": "stream",
     "text": [
      "[[1.         0.60626706]\n",
      " [0.60626706 1.        ]]\n"
     ]
    }
   ],
   "source": [
    "vectorizer = TfidfVectorizer()\n",
    "tfidf_matrix = vectorizer.fit_transform(texts)\n",
    "similarity_matrix = cosine_similarity(tfidf_matrix, tfidf_matrix)\n",
    "\n",
    "print(similarity_matrix)"
   ]
  },
  {
   "cell_type": "code",
   "execution_count": 165,
   "metadata": {},
   "outputs": [],
   "source": [
    "num_clusters = 2\n",
    "km = KMeans(n_clusters=num_clusters, random_state=42)\n",
    "clusters = km.fit_predict(tfidf_matrix)"
   ]
  },
  {
   "cell_type": "code",
   "execution_count": 166,
   "metadata": {},
   "outputs": [],
   "source": [
    "import spacy\n",
    "\n",
    "nlp = spacy.load(\"de_core_news_lg\")"
   ]
  },
  {
   "cell_type": "code",
   "execution_count": 177,
   "metadata": {},
   "outputs": [
    {
     "data": {
      "text/plain": [
       "'Deutscher Bundestag Drucksache 20/6415 \\n20. Wahlperiode 18.04.2023 \\n \\nAntrag \\nder Abgeordneten Marc Bernhard, Roger Beckamp, Carolin Bachmann, \\nSebastian Münzenmaier, René Bochmann, Dr. Christina Baum, Dirk Brandes, \\nMarcus Bühl, Dietmar Friedhoff, Dr. Malte Kaufmann, Dr. Michael Kaufmann, \\nJörn König, Barbara Lenk, Edgar Naujok, Bernd Schattner, Jan Wenzel \\nSchmidt, Dr. Dirk Spaniel und der Fraktion der AfD \\nVerbot von Öl- und Gasheizungen verhindern – Priorisierung der \\nWärmepumpen beenden  \\nDer Bundestag wolle beschließen: \\nI. Der Deutsche Bundestag stellt fest:  \\nDer Wohnungsneubau in Deutschland kommt immer mehr zum Erliegen. Die Presse \\nspricht mittlerweile von einer „Schockstarre“ 1. Auf den Weckruf durch die größte \\ndeutsche Wohnungsbaugesellschaft Vonovia mit der Ankündigung in 2023 keine \\nneuen Bauvorhaben zu beginnen2, reagierte die Politik nicht.  \\nDer Referentenentwurf für die zweite Novellierung des Gebäudeenergiegesetzes aus \\ndem Ministerium für Wirtschaft und Klimaschutz zeigt ein weiteres Mal, dass die Bür-\\nger kein Vertrauen in bestehende gesetzliche Regelungen haben können. Ab 2024 \\nmüssen neue eingebaute Heizungen mindestens 65 % der bereitgestellten Wärme mit \\nerneuerbaren Energien erzeugen. Heizungen die älter als 30 Jahre sind dürfen nicht \\nmehr betrieben werden. Ab 2045 sind Heizkessel, die mit fossilen Brennstoffen betrie-\\nben werden, verboten. 3 Es gibt nur eine Ausnahmeregelung für besonders effektive \\nGas- und Ölheizkessel, sowie Ein- und Zweifamilienhausbesitzer, die seit Februar \\n2002 in ihrem Eigentum leben. Diese Ausnahmeregelung gilt nicht für die ca. 3,3 Mio. \\nMehrfamilienhausbesitzer und die vielen Millionen Eigentümer, die ihr Einfamilien-\\nhaus nach 2002 erworben haben. \\nLaut Statista gab es in Deutschland 2021 noch 19,2 Mio. Öl- und Gasheizungen, damit \\nwurden etwa 30 Mio. Wohnungen auf diese Weise beheizt. 4 Bis Ende 2024 werden \\n33 % aller Gasheizungen und 44 % aller Ölheizungen älter als 30 Jahre sein.5 \\n                                                        \\n1 https://www.welt.de/finanzen/immobilien/plus244353343/Wohnungsbau-Januar-Kollaps-leitet-die-\\nnaechste-Phase-der-Baukrise-ein.html, Zugriff am 28.03.2023. \\n2 https://www.wiwo.de/finanzen/immobilien/explodierende-baukosten-vonovias-neubau-aus-ist-ein-weck-\\nruf/28956424.html, Zugriff am 28.03.2023. \\n3 http://www.bmwk.de/Redaktion/DE/Downloads/P-R/20230331-referentenentwurf-2-geg-no-\\nvelle.pdf?__blob=publicationFile&v=4, Zugriff am 06.04.2023. \\n4 https://de.statista.com/infografik/27327/anteil-der-energietraeger-beim-heizen-des-wohnungsbestandes-in-\\ndeutschland/, Zugriff am 28.03.2023. \\n5 https://de.statista.com/statistik/daten/studie/165282/umfrage/gesamtbestand-der-zentralen-waermeerzeuger- Drucksache 20/6415 – 2 – Deutscher Bundestag – 20. Wahlperiode \\n \\n \\nEnde 2044 sollen alle Heizungen auf regenerative Energien umgestellt sein.3 Dies ent-\\nspricht einem Betriebsverbot für alle Heizungen mit fossilen Energieträgern unabhän-\\ngig vom technischen Zustand.  \\nDie Verabschiedung einer Novelle der EU -Gebäudeenergiegesetzes (EPBD) ist ein \\nweiterer Baustein der Drangsalierung von Hauseigentümern. Die Hauseigentümer \\nwerden also nicht nur gezwungen die Heizung zu tauschen, sondern sie müssen auch \\nihr Haus energetisch sanieren. Nach Schätzungen müssen in Deutschland etwa 58 % \\nder Wohnimmobilien bis 2033 saniert werden. Bei einem Einfamilienhaus mit 160 m² \\ngeht der Verband Haus & Grund von Kosten in Höhe von ca. 100.000 € für Dämmung, \\nneue Fenster und eine Wärmepumpe aus. 6 Dies stellt die Bürger nicht nur vor kaum \\nzu bewältigende organisatorische und technische Umbauprobleme, sondern bedroht \\nauch deren finanzielle Existenz bzw. Altersvorsorge. Es droht eine Welle der Enteig-\\nnung. Hinzu kommt eine weitere Verschärfung der Wohnungsnot, weil die Mieter die \\nMieten für die zwangssanierten Wohnungen nicht mehr zahlen können. \\nDie finanziellen Belastungen sind enorm. Der Referentenentwurf geht bis 2028 von \\njährlichen Belastungen für den Bürger von 9 Mrd. Euro aus.3 Die ersten Experten cha-\\nrakterisieren das Vorhaben als unzulässigen Eingriff in die Eigentumsrechte. Manuel \\nFrondel (RWI Essen) sieht Deutschland auf dem Weg in die Öko-Diktatur.7  \\nDie einseitige Fokussierung der Bundesregierung auf Wärmepumpen hat dabei gleich \\nmehrere Nachteile.  \\n1. Die nötigen Fachkräfte zum Umbau von Millionen Heizungen jährlich stehen \\nnicht zur Verfügung. Der Zentralverband Sanitär, Heizung und Klima beklagt \\nzehntausende fehlende Monteure.8 Diese wären auch nicht etwa aus dem Ausland \\nverfügbar, wie es manche in der Regierung herbeisehnen. \\n2. Die notwendigen Wärmepumpen werden nicht rechtzeitig am Markt verfügbar \\nsein. Die im „F ahrplan für 2023 zum Wärmepumpenhochlauf“   9 angestrebten \\n500.000 Wärmepumpen reichen schlichtweg nicht für den vorgesehenen Umbau. \\nSchon gegenwärtig klagen modernisierungswillige Wohnungsunternehmen über \\nfehlende oder fehlerhafte Wärmepumpen.10  \\n3. Hinzu kommt, dass in den meisten bisher verbauten Wärmepumpen ein hochgif-\\ntiges Kältemittel eingesetzt wird. Die Per- und polyfluorierte Alkylsubstanzen \\n(PFAS) gehören zu den persistenten Chemikalien. Gelangen sie einmal in die \\nUmwelt, verschwinden sie vermutlich nie wieder. Die Stoffe sind auch in Blut \\nund Gewebe nachzuweisen und stehen im Verdacht, bei Menschen Krebs zu ver-\\nursachen, unfruchtbar zu machen und das Immunsystem zu schwächen 11. Alter-\\nnativen stehen praktisch im Moment nicht zur Verfügung oder haben andere \\nNachteile. Es gibt konkrete Bestrebungen in der EU diese Substanzen zu verbie-\\nten12. Welche Konsequenzen das für die Besitzer von Wärmepumpen hat, ist bis-\\nher noch nicht absehbar. \\n                                                        \\nin-deutschland/, Zugriff am 28.03.2023. \\n6 https://www.hna.de/wirtschaft/eu-sanierung-klimaschutz-plaene-energiewende-immobilien-kosten-\\n92157757.html, Zugriff am 11.04.2023. \\n7 https://www.focus.de/politik/deutschland/geplante-heizungs-verbote-experte-erhebt-schwerem-vorwurf-ge-\\ngen-habecks-oeko-diktatur_id_188213208.html, Zugriff am 28.03.2023. \\n8 https://www.deutsche-handwerks-zeitung.de/im-shk-handwerk-fehlen-60-000-fachkraefte-230910/, Zugriff \\nam 28.03.2023. \\n9 https://www.bmwk.de/Redaktion/DE/Downloads/F/20230215-fahrplan-wp-hochlauf-2023.pdf, Zugriff am \\n04.04.2023. \\n10 https://www.faz.net/aktuell/wirtschaft/robert-habeck-will-den-einbau-neuer-oel-und-gasheizungen-verbie-\\nten-18711585.html, Zugriff am 28.03.2023. \\n11 https://www.fr.de/verbraucher/gefaehrliche-jahrhundertgift-pfas-energiewende-in-waermepumpen-\\n92117674.html, Zugriff am 28.03.2023. \\n12 https://www.baua.de/DE/Services/Presse/Pressemitteilungen/2023/02/pm08-23.html, Zugriff am \\n28.03.2023.  Deutscher Bundestag – 20. Wahlperiode – 3 – Drucksache 20/6415 \\n \\n \\n4. Ein weiteres technisches Problem ist der mit der Anzahl der Wärmepumpen stetig \\nwachsende Energiebedarf. Die einseitige Fokussierung der Bundesregierung auf \\nstrombetriebene Wärmepumpen und E-Autos als Massenverbraucher auf der ei-\\nnen Seite und der volatilen Stromerzeugung durch Wind- und Solaranlangen auf \\nder anderen Seite, stellen die Stromversorger vor große Herausforderungen. Es \\nist absehbar, dass die Stromnetze nicht dem stark wachsenden Strombedarf ent-\\nsprechend schnell ausgebaut werden können. Die Gefahr der Notwendigkeit ge-\\nzielt Stromverbraucher abschalten zu müssen (Brownout), um den Zusammen-\\nbruch des Stromnetzes zu verhindern (Blackout), steigt stetig. 13 Diese Gefahr ist \\nder Bundesregierung bekannt und wird ignoriert bzw. als für die Bevölkerung \\nhinnehmbar angesehen. \\nII. Der Deutsche Bundestag fordert die Bundesregierung auf,  \\n1. die vom EU-Parlament beschlossene Novellierung des EPBD abzulehnen; \\n2. die Mietpreisexplosion nicht zusätzlich durch ein generelles Betriebsverbot für \\nsichere und technisch einwandfreie Heizsysteme zu forcieren; \\n3. keinerlei über Sicherheitsbedenken hinausgehende Pflichten zum Austausch von \\nHeizungen zu erlassen; \\n4. zu verhindern, dass durch die hohen Kosten für einen Heizungstausch und ener-\\ngetische Sanierung Bürger in wirtschaftliche Not geraten und/ oder ihre Alters-\\nvorsorge auflösen müssen; \\n5. die Vielfalt an Heizungstechn ologien zu erhalten, um einen funktionierenden \\nMarkt für Heizungssysteme zu gewährleisten, der einen Wettbewerb der Systeme \\nund damit niedrige, marktgerechte Preise für Eigentümer schafft; \\n6. die gesamtgesellschaftlichen und individuellen Kosten für den Bürge r, die aus \\ndem Gesetz entstehen, mit realistischen Ansätzen zu eruieren und transparent zu \\nveröffentlichen; \\n7. bei jedem Gesetzentwurf zu prüfen, ob die im Gesetz gestellten Forderungen \\ndurch das Handwerk umsetzbar ist und dabei besonders den Fachkräftemangel zu \\nberücksichtigen; \\n8. bei jedem Gesetzentwurf zu prüfen, ob die im Gesetz gestellten Forderungen hin-\\nsichtlich der Lieferung technischer Systeme, insbesondere der Verfügbarkeit von \\nImportprodukten und -material, durch die Industrie umsetzbar sind; \\n9. den Gesetzentwurf auf technische Umsetzbarkeit hinsichtlich einer sicheren nati-\\nonalen Energieversorgung zu prüfen; \\n10. einen sofortigen Stopp des Einbaus von Wärmepumpen mit den gesundheitlichen \\nHochrisikostoffen Per- und polyfluorierte Alkylsubstanzen (PFAS) zu beschli e-\\nßen. \\nBerlin, den 18. April 2023 \\nDr. Alice Weidel, Tino Chrupalla und Fraktion \\n                                                        \\n13 https://www.bild.de/bild-plus/politik/inland/politik-inland/strom-in-deutschland-drohen-brownouts-90-mi-\\nnuten-alles-aus-82194176.bild.html, Zugriff am 28.03.2023.  Gesamtherstellung: H. Heenemann GmbH & Co. KG, Buch- und Offsetdruckerei, Bessemerstraße 83–91, 12103 Berlin, www.heenemann-druck.de\\nVertrieb: Bundesanzeiger Verlag GmbH, Postfach 10 05 34, 50445 Köln, Telefon (02 21) 97 66 83 40, Fax (02 21) 97 66 83 44, www.bundesanzeiger-verlag.de\\nISSN 0722-8333'"
      ]
     },
     "execution_count": 177,
     "metadata": {},
     "output_type": "execute_result"
    }
   ],
   "source": [
    "text_geg"
   ]
  },
  {
   "cell_type": "code",
   "execution_count": 167,
   "metadata": {},
   "outputs": [],
   "source": [
    "def lemma_no_punct_no_stop(text):\n",
    "    return \" \".join([token.lemma_ for token in nlp(text) if not (token.is_punct or token.is_stop)]).replace(\"\\n\", \"\")"
   ]
  },
  {
   "cell_type": "code",
   "execution_count": 168,
   "metadata": {},
   "outputs": [
    {
     "name": "stdout",
     "output_type": "stream",
     "text": [
      "deutsch Bundestag Drucksache 20 6415  20. Wahlperiode 18.04.2023   Antrag  abgeordneter Marc Bernhard Roger Beckamp Carolin Bachmann  Sebastian Münzenmaier René Bochmann Dr. Christina Baum Dirk Brandes  Marcus Bühl Dietmar Friedhoff Dr. Malte Kaufmann Dr. Michael Kaufmann  Jörn König Barbara Lenk Edgar Naujok Bernd Schattner Jan Wenzel  Schmidt Dr. Dirk Spaniel Fraktion AfD  Verbot Öl Gasheizung verhindern Priorisierung  Wärmepumpe beenden   Bundestag wollen beschließen  I. deutsch Bundestag stellen fest   Wohnungsneubau Deutschland erliegen Presse  sprechen mittlerweile Schockstarre 1. Weckruf groß  deutsch Wohnungsbaugesellschaft Vonovia Ankündigung 2023  Bauvorhaben beginnen2 reagieren Politik   Referentenentwurf Novellierung Gebäudeenergiegesetz  Ministerium Wirtschaft Klimaschutz zeigen Mal Bür-  ger vertrauen bestehend gesetzlich Regelung 2024  eingebaut Heizung mindestens 65 bereitgestellt Wärme  erneuerbar Energie erzeugen Heizung alt 30  betreiben 2045 Heizkessel fossil Brennstoff betrie  Be verbieten 3 Ausnahmeregelung effektiv  Gas Ölheizkessel Ein Zweifamilienhausbesitzer Februar  2002 Eigentum leben Ausnahmeregelung gelten ca. 3,3 Mio.  Mehrfamilienhausbesitzer Million Eigentümer Einfamilie  Haus 2002 erwerben  laut Statista Deutschland 2021 19,2 Mio. Öl Gasheizung  30 Mio. Wohnung Weise beheizen 4 2024  33 Gasheizung 44 Ölheizung alt 30 sein.5                                                          1 Https://www.welt.de/finanzen/immobilien/plus244353343/Wohnungsbau-Januar-Kollaps-leitet-die-  naechste-Phase-der-Baukrise-ein.html Zugriff 28.03.2023.  2 https://www.wiwo.de/finanzen/immobilien/explodierende-baukosten-vonovias-neubau-aus-ist-ein-weck-  Ruf 28956424.html Zugriff 28.03.2023.  3 http://www.bmwk.de/Redaktion/DE/Downloads/P-R/20230331-referentenentwurf-2-geg-no-  velle.pdf?__blob=publicationFile&v=4 Zugriff 06.04.2023.  4 Https://de.statista.com/infografik/27327/anteil-der-energietraeger-beim-heizen-des-wohnungsbestandes-in-  Deutschland Zugriff 28.03.2023.  5 Https://de.statista.com/statistik/daten/studie/165282/umfrage/gesamtbestand-der-zentralen-waermeerzeuger- Drucksache 20 6415 2 deutsch Bundestag 20. Wahlperiode    2044 Heizung regenerativ Energie umstellen sein.3 ent-  sprechen Betriebsverbot Heizung fossil Energieträg unabhän  Gig technisch Zustand   Verabschiedung Novelle EU -Gebäudeenergiegesetz EPBD  weit Baustein Drangsalierung Hauseigentümer Hauseigentümer  zwingen Heizung tauschen  Haus energetisch sanieren Schätzung Deutschland 58  Wohnimmobilie 2033 sanieren Einfamilienhaus 160 m²  Verband Haus Grund Kosten Höhe ca. 100.000 € Dämmung  Fenster Wärmepumpe 6 stellen Bürger  bewältigend organisatorisch technisch Umbauproblem bedrohen  finanziell Existenz bzw. Altersvorsorge drohen Welle Enteig  Nung hinzu Verschärfung Wohnungsnot Mieter  Miete zwangssaniert Wohnung zahlen  finanziell Belastung enorm Referentenentwurf 2028  jährlich Belastung Bürger 9 Mrd. Euro aus.3 Experte cha  Rakterisier Vorhaben unzulässig Eingriff Eigentumsrecht Manuel  Frondel RWI Essen sehen Deutschland Weg Öko-Diktatur.7   einseitig Fokussierung Bundesregierung Wärmepumpe  mehrere Nachteil   1. nötig Fachkraft Umbau Million Heizung jährlich stehen  Verfügung Zentralverband Sanitär Heizung Klima beklagen  zehntausend fehlend Monteure.8 sein Ausland  verfügbar Regierung herbeisehnen  2. notwendig Wärmepumpe rechtzeitig Markt verfügbar  F Ahrplan 2023 Wärmepumpenhochlauf    9 angestreben  500.000 Wärmepumpe reichen schlichtweg vorgesehen Umbau  gegenwärtig klagen modernisierungswillig Wohnungsunternehmen  fehlend fehlerhaft Wärmepumpen.10   3. hinzu meister verbaut Wärmepumpe hochgif-  tig Kältemittel einsetzen Per polyfluoriert Alkylsubstanz  PFAS gehören persistent Chemikalie Gelangen  Umwelt verschwinden vermutlich Stoff Blut  Gewebe nachweisen stehen Verdacht Mensch Krebs ver  Ursache unfruchtbar Immunsystem schwächen 11. Alter  nativ stehen praktisch Moment Verfügung  Nachteil konkret Bestrebung EU Substanze verbie-  Ten12. Konsequenz Besitzer Wärmepumpe bis-  absehbar                                                          in-deutschland Zugriff 28.03.2023.  6 https://www.hna.de/wirtschaft/eu-sanierung-klimaschutz-plaene-energiewende-immobilien-kost  92157757.html Zugriff 11.04.2023.  7 Https://www.focus.de/politik/deutschland/geplante-heizungs-verbote-experte-erhebt-schwerem-vorwurf-ge-  gen-habecks-oeko-diktatur_id_188213208.html Zugriff 28.03.2023.  8 https://www.deutsche-handwerks-zeitung.de/im-shk-handwerk-fehlen-60-000-fachkraefte-230910 Zugriff  28.03.2023.  9 https://www.bmwk.de/Redaktion/DE/Downloads/F/20230215-fahrplan-wp-hochlauf-2023.pdf Zugriff  04.04.2023.  10 Https://www.faz.net/aktuell/wirtschaft/robert-habeck-will-den-einbau-neuer-oel-und-gasheizungen-verbie-  Ten-18711585.html Zugriff 28.03.2023.  11 Https://www.fr.de/verbraucher/gefaehrliche-jahrhundertgift-pfas-energiewende-in-waermepumpen-  92117674.html Zugriff 28.03.2023.  12 https://www.baua.de/DE/Services/Presse/Pressemitteilungen/2023/02/pm08-23.html Zugriff  28.03.2023.   deutsch Bundestag 20. Wahlperiode 3 Drucksache 20 6415    4. technisch Problem Anzahl Wärmepumpe stetig  wachsend Energiebedarf einseitig Fokussierung Bundesregierung  strombetrieben Wärmepumpe E-Auto Massenverbraucher ei  nen Seite volatil Stromerzeugung Wind Solaranlange  Seite stellen Stromversorger Herausforderung  absehbar Stromnetze stark wachsend Strombedarf Ent  sprechend schnell ausbauen Gefahr Notwendigkeit ge  zielen Stromverbraucher abschalten Brownout Zusamme  Bruch Stromnetz verhindern Blackout steigen stetig 13 Gefahr  Bundesregierung ignorieren bzw. Bevölkerung  hinnehmbar ansehen  II. deutsch Bundestag fordern Bundesregierung   1. EU-Parlament beschlossen Novellierung EPBD ablehnen  2. Mietpreisexplosion zusätzlich generell Betriebsverbot  sicher technisch einwandfrei Heizsystem forcieren  3. keinerlei Sicherheitsbedenko hinausgehend Pflicht Austausch  Heizung erlassen  4. verhindern hoch Kosten Heizungstausch ener  getisch Sanierung Bürger wirtschaftlich Not geraten Alter  Vorsorge auflösen  5. Vielfalt Heizungstechn ologien erhalten funktionierend  Markt Heizungssystem gewährleisten Wettbewerb System  niedrig marktgerecht Preis Eigentümer schaffen  6. gesamtgesellschaftlich individuell Kosten Bürge r  Gesetz entstehen realistisch Ansatz eruieren transparent  veröffentlichen  7. Gesetzentwurf prüfen Gesetz gestellt Forderung  Handwerk umsetzbar Fachkräftemangel  berücksichtigen  8. Gesetzentwurf prüfen Gesetz gestellt Forderung hin  sichtlich Lieferung technisch System insbesondere Verfügbarkeit  Importprodukt -material Industrie umsetzbar  9. Gesetzentwurf technisch Umsetzbarkeit hinsichtlich sicher nati  onal Energieversorgung prüfen  10. sofortig Stopp Einbau Wärmepumpe gesundheitlich  Hochrisikostoffen Per- polyfluoriert Alkylsubstanz PFAS Beschli E-  ßen  Berlin 18. April 2023  Dr. Alice Weidel Tino Chrupalla Fraktion                                                          13 https://www.bild.de/bild-plus/politik/inland/politik-inland/strom-in-deutschland-drohen-brownouts-90-mi-  nuten-alles-aus-82194176.bild.html Zugriff 28.03.2023.   Gesamtherstellung H. Heenemann GmbH Co. KG Buch Offsetdruckerei Bessemerstraße 83–91 12103 Berlin www.heenemann-druck.de  Vertrieb Bundesanzeiger Verlag GmbH Postfach 10 05 34 50445 Köln Telefon 02 21 97 66 83 40 Fax 02 21 97 66 83 44 www.bundesanzeiger-verlag.de  ISSN 0722 8333\n"
     ]
    }
   ],
   "source": [
    "lemma_text_geg = lemma_no_punct_no_stop(text_geg)\n",
    "lemma_text_soli = lemma_no_punct_no_stop(text_soli)\n",
    "\n",
    "print(lemma_text_geg)"
   ]
  },
  {
   "cell_type": "code",
   "execution_count": 169,
   "metadata": {},
   "outputs": [
    {
     "name": "stdout",
     "output_type": "stream",
     "text": [
      "[[1.         0.07759371]\n",
      " [0.07759371 1.        ]]\n"
     ]
    }
   ],
   "source": [
    "vectorizer = TfidfVectorizer()\n",
    "tfidf_matrix = vectorizer.fit_transform([lemma_text_geg, lemma_text_soli])\n",
    "similarity_matrix = cosine_similarity(tfidf_matrix, tfidf_matrix)\n",
    "\n",
    "print(similarity_matrix)"
   ]
  },
  {
   "cell_type": "code",
   "execution_count": 170,
   "metadata": {},
   "outputs": [
    {
     "data": {
      "text/plain": [
       "0.1513122"
      ]
     },
     "execution_count": 170,
     "metadata": {},
     "output_type": "execute_result"
    }
   ],
   "source": [
    "import numpy as np\n",
    "\n",
    "def vectorize_spacy(text):\n",
    "    word_vectors = [token.vector for token in nlp(text)]\n",
    "    if not word_vectors:\n",
    "        return np.zeros(word_vectors.vector_size)\n",
    "    \n",
    "    return np.mean(word_vectors[0], axis=0)\n",
    "\n",
    "vectorize_spacy(lemma_text_geg)"
   ]
  },
  {
   "cell_type": "markdown",
   "metadata": {},
   "source": [
    "## Splitting the texts into sections"
   ]
  },
  {
   "cell_type": "code",
   "execution_count": 171,
   "metadata": {},
   "outputs": [
    {
     "name": "stdout",
     "output_type": "stream",
     "text": [
      "Deutscher Bundestag Drucksache 20/6415 \n",
      "20. Wahlperiode 18.04.2023 \n",
      " \n",
      "Antrag \n",
      "der Abgeordneten Marc Bernhard, Roger Beckamp, Carolin Bachmann, \n",
      "Sebastian Münzenmaier, René Bochmann, Dr. Christina Baum, Dirk Brandes, \n",
      "Marcus Bühl, Dietmar Friedhoff, Dr. Malte Kaufmann, Dr. Michael Kaufmann, \n",
      "Jörn König, Barbara Lenk, Edgar Naujok, Bernd Schattner, Jan Wenzel \n",
      "Schmidt, Dr. Dirk Spaniel und der Fraktion der AfD \n",
      "Verbot von Öl- und Gasheizungen verhindern – Priorisierung der \n",
      "Wärmepumpen beenden  \n",
      "Der Bundestag wolle beschließen: \n",
      "I. Der Deutsche Bundestag stellt fest:  \n",
      "Der Wohnungsneubau in Deutschland kommt immer mehr zum Erliegen. Die Presse \n",
      "spricht mittlerweile von einer „Schockstarre“ 1. Auf den Weckruf durch die größte \n",
      "deutsche Wohnungsbaugesellschaft Vonovia mit der Ankündigung in 2023 keine \n",
      "neuen Bauvorhaben zu beginnen2, reagierte die Politik nicht.  \n",
      "Der Referentenentwurf für die zweite Novellierung des Gebäudeenergiegesetzes aus \n",
      "dem Ministerium für Wirtschaft und Klimaschutz zeigt ein weiteres Mal, dass die Bür-\n",
      "ger kein Vertrauen in bestehende gesetzliche Regelungen haben können. Ab 2024 \n",
      "müssen neue eingebaute Heizungen mindestens 65 % der bereitgestellten Wärme mit \n",
      "erneuerbaren Energien erzeugen. Heizungen die älter als 30 Jahre sind dürfen nicht \n",
      "mehr betrieben werden. Ab 2045 sind Heizkessel, die mit fossilen Brennstoffen betrie-\n",
      "ben werden, verboten. 3 Es gibt nur eine Ausnahmeregelung für besonders effektive \n",
      "Gas- und Ölheizkessel, sowie Ein- und Zweifamilienhausbesitzer, die seit Februar \n",
      "2002 in ihrem Eigentum leben. Diese Ausnahmeregelung gilt nicht für die ca. 3,3 Mio. \n",
      "Mehrfamilienhausbesitzer und die vielen Millionen Eigentümer, die ihr Einfamilien-\n",
      "haus nach 2002 erworben haben. \n",
      "Laut Statista gab es in Deutschland 2021 noch 19,2 Mio. Öl- und Gasheizungen, damit \n",
      "wurden etwa 30 Mio. Wohnungen auf diese Weise beheizt. 4 Bis Ende 2024 werden \n",
      "33 % aller Gasheizungen und 44 % aller Ölheizungen älter als 30 Jahre sein.5 \n",
      "                                                        \n",
      "1 https://www.welt.de/finanzen/immobilien/plus244353343/Wohnungsbau-Januar-Kollaps-leitet-die-\n",
      "naechste-Phase-der-Baukrise-ein.html, Zugriff am 28.03.2023. \n",
      "2 https://www.wiwo.de/finanzen/immobilien/explodierende-baukosten-vonovias-neubau-aus-ist-ein-weck-\n",
      "ruf/28956424.html, Zugriff am 28.03.2023. \n",
      "3 http://www.bmwk.de/Redaktion/DE/Downloads/P-R/20230331-referentenentwurf-2-geg-no-\n",
      "velle.pdf?__blob=publicationFile&v=4, Zugriff am 06.04.2023. \n",
      "4 https://de.statista.com/infografik/27327/anteil-der-energietraeger-beim-heizen-des-wohnungsbestandes-in-\n",
      "deutschland/, Zugriff am 28.03.2023. \n",
      "5 https://de.statista.com/statistik/daten/studie/165282/umfrage/gesamtbestand-der-zentralen-waermeerzeuger- Drucksache 20/6415 – 2 – Deutscher Bundestag – 20. Wahlperiode \n",
      " \n",
      " \n",
      "Ende 2044 sollen alle Heizungen auf regenerative Energien umgestellt sein.3 Dies ent-\n",
      "spricht einem Betriebsverbot für alle Heizungen mit fossilen Energieträgern unabhän-\n",
      "gig vom technischen Zustand.  \n",
      "Die Verabschiedung einer Novelle der EU -Gebäudeenergiegesetzes (EPBD) ist ein \n",
      "weiterer Baustein der Drangsalierung von Hauseigentümern. Die Hauseigentümer \n",
      "werden also nicht nur gezwungen die Heizung zu tauschen, sondern sie müssen auch \n",
      "ihr Haus energetisch sanieren. Nach Schätzungen müssen in Deutschland etwa 58 % \n",
      "der Wohnimmobilien bis 2033 saniert werden. Bei einem Einfamilienhaus mit 160 m² \n",
      "geht der Verband Haus & Grund von Kosten in Höhe von ca. 100.000 € für Dämmung, \n",
      "neue Fenster und eine Wärmepumpe aus. 6 Dies stellt die Bürger nicht nur vor kaum \n",
      "zu bewältigende organisatorische und technische Umbauprobleme, sondern bedroht \n",
      "auch deren finanzielle Existenz bzw. Altersvorsorge. Es droht eine Welle der Enteig-\n",
      "nung. Hinzu kommt eine weitere Verschärfung der Wohnungsnot, weil die Mieter die \n",
      "Mieten für die zwangssanierten Wohnungen nicht mehr zahlen können. \n",
      "Die finanziellen Belastungen sind enorm. Der Referentenentwurf geht bis 2028 von \n",
      "jährlichen Belastungen für den Bürger von 9 Mrd. Euro aus.3 Die ersten Experten cha-\n",
      "rakterisieren das Vorhaben als unzulässigen Eingriff in die Eigentumsrechte. Manuel \n",
      "Frondel (RWI Essen) sieht Deutschland auf dem Weg in die Öko-Diktatur.7  \n",
      "Die einseitige Fokussierung der Bundesregierung auf Wärmepumpen hat dabei gleich \n",
      "mehrere Nachteile.  \n",
      "1. Die nötigen Fachkräfte zum Umbau von Millionen Heizungen jährlich stehen \n",
      "nicht zur Verfügung. Der Zentralverband Sanitär, Heizung und Klima beklagt \n",
      "zehntausende fehlende Monteure.8 Diese wären auch nicht etwa aus dem Ausland \n",
      "verfügbar, wie es manche in der Regierung herbeisehnen. \n",
      "2. Die notwendigen Wärmepumpen werden nicht rechtzeitig am Markt verfügbar \n",
      "sein. Die im „F ahrplan für 2023 zum Wärmepumpenhochlauf“   9 angestrebten \n",
      "500.000 Wärmepumpen reichen schlichtweg nicht für den vorgesehenen Umbau. \n",
      "Schon gegenwärtig klagen modernisierungswillige Wohnungsunternehmen über \n",
      "fehlende oder fehlerhafte Wärmepumpen.10  \n",
      "3. Hinzu kommt, dass in den meisten bisher verbauten Wärmepumpen ein hochgif-\n",
      "tiges Kältemittel eingesetzt wird. Die Per- und polyfluorierte Alkylsubstanzen \n",
      "(PFAS) gehören zu den persistenten Chemikalien. Gelangen sie einmal in die \n",
      "Umwelt, verschwinden sie vermutlich nie wieder. Die Stoffe sind auch in Blut \n",
      "und Gewebe nachzuweisen und stehen im Verdacht, bei Menschen Krebs zu ver-\n",
      "ursachen, unfruchtbar zu machen und das Immunsystem zu schwächen 11. Alter-\n",
      "nativen stehen praktisch im Moment nicht zur Verfügung oder haben andere \n",
      "Nachteile. Es gibt konkrete Bestrebungen in der EU diese Substanzen zu verbie-\n",
      "ten12. Welche Konsequenzen das für die Besitzer von Wärmepumpen hat, ist bis-\n",
      "her noch nicht absehbar. \n",
      "                                                        \n",
      "in-deutschland/, Zugriff am 28.03.2023. \n",
      "6 https://www.hna.de/wirtschaft/eu-sanierung-klimaschutz-plaene-energiewende-immobilien-kosten-\n",
      "92157757.html, Zugriff am 11.04.2023. \n",
      "7 https://www.focus.de/politik/deutschland/geplante-heizungs-verbote-experte-erhebt-schwerem-vorwurf-ge-\n",
      "gen-habecks-oeko-diktatur_id_188213208.html, Zugriff am 28.03.2023. \n",
      "8 https://www.deutsche-handwerks-zeitung.de/im-shk-handwerk-fehlen-60-000-fachkraefte-230910/, Zugriff \n",
      "am 28.03.2023. \n",
      "9 https://www.bmwk.de/Redaktion/DE/Downloads/F/20230215-fahrplan-wp-hochlauf-2023.pdf, Zugriff am \n",
      "04.04.2023. \n",
      "10 https://www.faz.net/aktuell/wirtschaft/robert-habeck-will-den-einbau-neuer-oel-und-gasheizungen-verbie-\n",
      "ten-18711585.html, Zugriff am 28.03.2023. \n",
      "11 https://www.fr.de/verbraucher/gefaehrliche-jahrhundertgift-pfas-energiewende-in-waermepumpen-\n",
      "92117674.html, Zugriff am 28.03.2023. \n",
      "12 https://www.baua.de/DE/Services/Presse/Pressemitteilungen/2023/02/pm08-23.html, Zugriff am \n",
      "28.03.2023.  Deutscher Bundestag – 20. Wahlperiode – 3 – Drucksache 20/6415 \n",
      " \n",
      " \n",
      "4. Ein weiteres technisches Problem ist der mit der Anzahl der Wärmepumpen stetig \n",
      "wachsende Energiebedarf. Die einseitige Fokussierung der Bundesregierung auf \n",
      "strombetriebene Wärmepumpen und E-Autos als Massenverbraucher auf der ei-\n",
      "nen Seite und der volatilen Stromerzeugung durch Wind- und Solaranlangen auf \n",
      "der anderen Seite, stellen die Stromversorger vor große Herausforderungen. Es \n",
      "ist absehbar, dass die Stromnetze nicht dem stark wachsenden Strombedarf ent-\n",
      "sprechend schnell ausgebaut werden können. Die Gefahr der Notwendigkeit ge-\n",
      "zielt Stromverbraucher abschalten zu müssen (Brownout), um den Zusammen-\n",
      "bruch des Stromnetzes zu verhindern (Blackout), steigt stetig. 13 Diese Gefahr ist \n",
      "der Bundesregierung bekannt und wird ignoriert bzw. als für die Bevölkerung \n",
      "hinnehmbar angesehen. \n",
      "II. Der Deutsche Bundestag fordert die Bundesregierung auf,  \n",
      "1. die vom EU-Parlament beschlossene Novellierung des EPBD abzulehnen; \n",
      "2. die Mietpreisexplosion nicht zusätzlich durch ein generelles Betriebsverbot für \n",
      "sichere und technisch einwandfreie Heizsysteme zu forcieren; \n",
      "3. keinerlei über Sicherheitsbedenken hinausgehende Pflichten zum Austausch von \n",
      "Heizungen zu erlassen; \n",
      "4. zu verhindern, dass durch die hohen Kosten für einen Heizungstausch und ener-\n",
      "getische Sanierung Bürger in wirtschaftliche Not geraten und/ oder ihre Alters-\n",
      "vorsorge auflösen müssen; \n",
      "5. die Vielfalt an Heizungstechn ologien zu erhalten, um einen funktionierenden \n",
      "Markt für Heizungssysteme zu gewährleisten, der einen Wettbewerb der Systeme \n",
      "und damit niedrige, marktgerechte Preise für Eigentümer schafft; \n",
      "6. die gesamtgesellschaftlichen und individuellen Kosten für den Bürge r, die aus \n",
      "dem Gesetz entstehen, mit realistischen Ansätzen zu eruieren und transparent zu \n",
      "veröffentlichen; \n",
      "7. bei jedem Gesetzentwurf zu prüfen, ob die im Gesetz gestellten Forderungen \n",
      "durch das Handwerk umsetzbar ist und dabei besonders den Fachkräftemangel zu \n",
      "berücksichtigen; \n",
      "8. bei jedem Gesetzentwurf zu prüfen, ob die im Gesetz gestellten Forderungen hin-\n",
      "sichtlich der Lieferung technischer Systeme, insbesondere der Verfügbarkeit von \n",
      "Importprodukten und -material, durch die Industrie umsetzbar sind; \n",
      "9. den Gesetzentwurf auf technische Umsetzbarkeit hinsichtlich einer sicheren nati-\n",
      "onalen Energieversorgung zu prüfen; \n",
      "10. einen sofortigen Stopp des Einbaus von Wärmepumpen mit den gesundheitlichen \n",
      "Hochrisikostoffen Per- und polyfluorierte Alkylsubstanzen (PFAS) zu beschli e-\n",
      "ßen. \n",
      "Berlin, den 18. April 2023 \n",
      "Dr. Alice Weidel, Tino Chrupalla und Fraktion \n",
      "                                                        \n",
      "13 https://www.bild.de/bild-plus/politik/inland/politik-inland/strom-in-deutschland-drohen-brownouts-90-mi-\n",
      "nuten-alles-aus-82194176.bild.html, Zugriff am 28.03.2023.  Gesamtherstellung: H. Heenemann GmbH & Co. KG, Buch- und Offsetdruckerei, Bessemerstraße 83–91, 12103 Berlin, www.heenemann-druck.de\n",
      "Vertrieb: Bundesanzeiger Verlag GmbH, Postfach 10 05 34, 50445 Köln, Telefon (02 21) 97 66 83 40, Fax (02 21) 97 66 83 44, www.bundesanzeiger-verlag.de\n",
      "ISSN 0722-8333\n"
     ]
    }
   ],
   "source": [
    "print(text_geg)"
   ]
  },
  {
   "cell_type": "code",
   "execution_count": 172,
   "metadata": {},
   "outputs": [],
   "source": [
    "def split_by_sentence(text):\n",
    "    doc = nlp(text)\n",
    "    return [sent.text.strip() for sent in doc.sents if sent.text.strip()]\n",
    "\n",
    "sentences_geg = split_by_sentence(text_geg)\n",
    "sentences_soli = split_by_sentence(text_soli)"
   ]
  },
  {
   "cell_type": "code",
   "execution_count": 301,
   "metadata": {},
   "outputs": [],
   "source": [
    "def remove_small_sentences(text_list):\n",
    "    return [text for text in text_list if len(text.split()) > 10]"
   ]
  },
  {
   "cell_type": "code",
   "execution_count": 302,
   "metadata": {},
   "outputs": [],
   "source": [
    "sentences_geg_no_small_sentences = remove_small_sentences(sentences_geg)\n",
    "sentences_soli_no_small_sentences = remove_small_sentences(sentences_soli)"
   ]
  },
  {
   "cell_type": "code",
   "execution_count": 303,
   "metadata": {},
   "outputs": [],
   "source": [
    "geg_list_lemmatized = [lemma_no_punct_no_stop(sentence) for sentence in sentences_geg_no_small_sentences]\n",
    "soli_list_lemmatized = [lemma_no_punct_no_stop(sentence) for sentence in sentences_soli_no_small_sentences]"
   ]
  },
  {
   "cell_type": "code",
   "execution_count": 304,
   "metadata": {},
   "outputs": [
    {
     "data": {
      "text/html": [
       "<div>\n",
       "<style scoped>\n",
       "    .dataframe tbody tr th:only-of-type {\n",
       "        vertical-align: middle;\n",
       "    }\n",
       "\n",
       "    .dataframe tbody tr th {\n",
       "        vertical-align: top;\n",
       "    }\n",
       "\n",
       "    .dataframe thead th {\n",
       "        text-align: right;\n",
       "    }\n",
       "</style>\n",
       "<table border=\"1\" class=\"dataframe\">\n",
       "  <thead>\n",
       "    <tr style=\"text-align: right;\">\n",
       "      <th></th>\n",
       "      <th>Sätze</th>\n",
       "      <th>Cluster</th>\n",
       "    </tr>\n",
       "  </thead>\n",
       "  <tbody>\n",
       "    <tr>\n",
       "      <th>0</th>\n",
       "      <td>18.04.2023   Antrag  abgeordneter Marc Bernhar...</td>\n",
       "      <td>Geg</td>\n",
       "    </tr>\n",
       "    <tr>\n",
       "      <th>1</th>\n",
       "      <td>Weckruf groß  deutsch Wohnungsbaugesellschaft ...</td>\n",
       "      <td>Geg</td>\n",
       "    </tr>\n",
       "    <tr>\n",
       "      <th>2</th>\n",
       "      <td>Referentenentwurf Novellierung Gebäudeenergieg...</td>\n",
       "      <td>Geg</td>\n",
       "    </tr>\n",
       "    <tr>\n",
       "      <th>3</th>\n",
       "      <td>2024  eingebaut Heizung mindestens 65 bereitge...</td>\n",
       "      <td>Geg</td>\n",
       "    </tr>\n",
       "    <tr>\n",
       "      <th>4</th>\n",
       "      <td>Heizung alt 30  betreiben</td>\n",
       "      <td>Geg</td>\n",
       "    </tr>\n",
       "    <tr>\n",
       "      <th>...</th>\n",
       "      <td>...</td>\n",
       "      <td>...</td>\n",
       "    </tr>\n",
       "    <tr>\n",
       "      <th>116</th>\n",
       "      <td>2018 laut Bunderegierung mehrere Instit ution ...</td>\n",
       "      <td>Soli</td>\n",
       "    </tr>\n",
       "    <tr>\n",
       "      <th>117</th>\n",
       "      <td>Koalitionsvertrag festgeschrieben Verabredung...</td>\n",
       "      <td>Soli</td>\n",
       "    </tr>\n",
       "    <tr>\n",
       "      <th>118</th>\n",
       "      <td>Prof. Dr. Hanno  Kube Lehrstuhl Steuerrecht Un...</td>\n",
       "      <td>Soli</td>\n",
       "    </tr>\n",
       "    <tr>\n",
       "      <th>119</th>\n",
       "      <td>sprechen ebenfalls selektiv  Abschaffung besti...</td>\n",
       "      <td>Soli</td>\n",
       "    </tr>\n",
       "    <tr>\n",
       "      <th>120</th>\n",
       "      <td>Satz Satzweiss.com Print Web Software GmbH Mai...</td>\n",
       "      <td>Soli</td>\n",
       "    </tr>\n",
       "  </tbody>\n",
       "</table>\n",
       "<p>121 rows × 2 columns</p>\n",
       "</div>"
      ],
      "text/plain": [
       "                                                 Sätze Cluster\n",
       "0    18.04.2023   Antrag  abgeordneter Marc Bernhar...     Geg\n",
       "1    Weckruf groß  deutsch Wohnungsbaugesellschaft ...     Geg\n",
       "2    Referentenentwurf Novellierung Gebäudeenergieg...     Geg\n",
       "3    2024  eingebaut Heizung mindestens 65 bereitge...     Geg\n",
       "4                            Heizung alt 30  betreiben     Geg\n",
       "..                                                 ...     ...\n",
       "116  2018 laut Bunderegierung mehrere Instit ution ...    Soli\n",
       "117   Koalitionsvertrag festgeschrieben Verabredung...    Soli\n",
       "118  Prof. Dr. Hanno  Kube Lehrstuhl Steuerrecht Un...    Soli\n",
       "119  sprechen ebenfalls selektiv  Abschaffung besti...    Soli\n",
       "120  Satz Satzweiss.com Print Web Software GmbH Mai...    Soli\n",
       "\n",
       "[121 rows x 2 columns]"
      ]
     },
     "execution_count": 304,
     "metadata": {},
     "output_type": "execute_result"
    }
   ],
   "source": [
    "import pandas as pd\n",
    "df = pd.DataFrame({\n",
    "    \"Sätze\": geg_list_lemmatized + soli_list_lemmatized,\n",
    "    \"Cluster\": [\"Geg\"] * len(geg_list_lemmatized) + [\"Soli\"] * len(soli_list_lemmatized)\n",
    "})\n",
    "df"
   ]
  },
  {
   "cell_type": "code",
   "execution_count": 314,
   "metadata": {},
   "outputs": [],
   "source": [
    "def vectorize(sentence):\n",
    "    return nlp(sentence).vector"
   ]
  },
  {
   "cell_type": "code",
   "execution_count": 315,
   "metadata": {},
   "outputs": [],
   "source": [
    "df[\"Sätze_vektorisiert\"] = df[\"Sätze\"].apply(vectorize)"
   ]
  },
  {
   "cell_type": "code",
   "execution_count": 316,
   "metadata": {},
   "outputs": [
    {
     "ename": "ValueError",
     "evalue": "setting an array element with a sequence.",
     "output_type": "error",
     "traceback": [
      "\u001b[0;31m---------------------------------------------------------------------------\u001b[0m",
      "\u001b[0;31mTypeError\u001b[0m                                 Traceback (most recent call last)",
      "\u001b[0;31mTypeError\u001b[0m: only length-1 arrays can be converted to Python scalars",
      "\nThe above exception was the direct cause of the following exception:\n",
      "\u001b[0;31mValueError\u001b[0m                                Traceback (most recent call last)",
      "Cell \u001b[0;32mIn[316], line 3\u001b[0m\n\u001b[1;32m      1\u001b[0m num_clusters \u001b[38;5;241m=\u001b[39m \u001b[38;5;241m2\u001b[39m\n\u001b[1;32m      2\u001b[0m km \u001b[38;5;241m=\u001b[39m KMeans(n_clusters\u001b[38;5;241m=\u001b[39mnum_clusters, random_state\u001b[38;5;241m=\u001b[39m\u001b[38;5;241m42\u001b[39m)\n\u001b[0;32m----> 3\u001b[0m clusters \u001b[38;5;241m=\u001b[39m \u001b[43mkm\u001b[49m\u001b[38;5;241;43m.\u001b[39;49m\u001b[43mfit_predict\u001b[49m\u001b[43m(\u001b[49m\u001b[43mdf\u001b[49m\u001b[43m[\u001b[49m\u001b[38;5;124;43m\"\u001b[39;49m\u001b[38;5;124;43mSätze_vektorisiert\u001b[39;49m\u001b[38;5;124;43m\"\u001b[39;49m\u001b[43m]\u001b[49m\u001b[43m)\u001b[49m\n",
      "File \u001b[0;32m~/Library/CloudStorage/OneDrive-VolkswagenAG/Fakultät 73/Data_Science/Hands_on_DataScience/Natural_Language_Processing/.venv/lib/python3.12/site-packages/sklearn/cluster/_kmeans.py:1064\u001b[0m, in \u001b[0;36m_BaseKMeans.fit_predict\u001b[0;34m(self, X, y, sample_weight)\u001b[0m\n\u001b[1;32m   1041\u001b[0m \u001b[38;5;28;01mdef\u001b[39;00m\u001b[38;5;250m \u001b[39m\u001b[38;5;21mfit_predict\u001b[39m(\u001b[38;5;28mself\u001b[39m, X, y\u001b[38;5;241m=\u001b[39m\u001b[38;5;28;01mNone\u001b[39;00m, sample_weight\u001b[38;5;241m=\u001b[39m\u001b[38;5;28;01mNone\u001b[39;00m):\n\u001b[1;32m   1042\u001b[0m \u001b[38;5;250m    \u001b[39m\u001b[38;5;124;03m\"\"\"Compute cluster centers and predict cluster index for each sample.\u001b[39;00m\n\u001b[1;32m   1043\u001b[0m \n\u001b[1;32m   1044\u001b[0m \u001b[38;5;124;03m    Convenience method; equivalent to calling fit(X) followed by\u001b[39;00m\n\u001b[0;32m   (...)\u001b[0m\n\u001b[1;32m   1062\u001b[0m \u001b[38;5;124;03m        Index of the cluster each sample belongs to.\u001b[39;00m\n\u001b[1;32m   1063\u001b[0m \u001b[38;5;124;03m    \"\"\"\u001b[39;00m\n\u001b[0;32m-> 1064\u001b[0m     \u001b[38;5;28;01mreturn\u001b[39;00m \u001b[38;5;28;43mself\u001b[39;49m\u001b[38;5;241;43m.\u001b[39;49m\u001b[43mfit\u001b[49m\u001b[43m(\u001b[49m\u001b[43mX\u001b[49m\u001b[43m,\u001b[49m\u001b[43m \u001b[49m\u001b[43msample_weight\u001b[49m\u001b[38;5;241;43m=\u001b[39;49m\u001b[43msample_weight\u001b[49m\u001b[43m)\u001b[49m\u001b[38;5;241m.\u001b[39mlabels_\n",
      "File \u001b[0;32m~/Library/CloudStorage/OneDrive-VolkswagenAG/Fakultät 73/Data_Science/Hands_on_DataScience/Natural_Language_Processing/.venv/lib/python3.12/site-packages/sklearn/base.py:1389\u001b[0m, in \u001b[0;36m_fit_context.<locals>.decorator.<locals>.wrapper\u001b[0;34m(estimator, *args, **kwargs)\u001b[0m\n\u001b[1;32m   1382\u001b[0m     estimator\u001b[38;5;241m.\u001b[39m_validate_params()\n\u001b[1;32m   1384\u001b[0m \u001b[38;5;28;01mwith\u001b[39;00m config_context(\n\u001b[1;32m   1385\u001b[0m     skip_parameter_validation\u001b[38;5;241m=\u001b[39m(\n\u001b[1;32m   1386\u001b[0m         prefer_skip_nested_validation \u001b[38;5;129;01mor\u001b[39;00m global_skip_validation\n\u001b[1;32m   1387\u001b[0m     )\n\u001b[1;32m   1388\u001b[0m ):\n\u001b[0;32m-> 1389\u001b[0m     \u001b[38;5;28;01mreturn\u001b[39;00m \u001b[43mfit_method\u001b[49m\u001b[43m(\u001b[49m\u001b[43mestimator\u001b[49m\u001b[43m,\u001b[49m\u001b[43m \u001b[49m\u001b[38;5;241;43m*\u001b[39;49m\u001b[43margs\u001b[49m\u001b[43m,\u001b[49m\u001b[43m \u001b[49m\u001b[38;5;241;43m*\u001b[39;49m\u001b[38;5;241;43m*\u001b[39;49m\u001b[43mkwargs\u001b[49m\u001b[43m)\u001b[49m\n",
      "File \u001b[0;32m~/Library/CloudStorage/OneDrive-VolkswagenAG/Fakultät 73/Data_Science/Hands_on_DataScience/Natural_Language_Processing/.venv/lib/python3.12/site-packages/sklearn/cluster/_kmeans.py:1454\u001b[0m, in \u001b[0;36mKMeans.fit\u001b[0;34m(self, X, y, sample_weight)\u001b[0m\n\u001b[1;32m   1426\u001b[0m \u001b[38;5;129m@_fit_context\u001b[39m(prefer_skip_nested_validation\u001b[38;5;241m=\u001b[39m\u001b[38;5;28;01mTrue\u001b[39;00m)\n\u001b[1;32m   1427\u001b[0m \u001b[38;5;28;01mdef\u001b[39;00m\u001b[38;5;250m \u001b[39m\u001b[38;5;21mfit\u001b[39m(\u001b[38;5;28mself\u001b[39m, X, y\u001b[38;5;241m=\u001b[39m\u001b[38;5;28;01mNone\u001b[39;00m, sample_weight\u001b[38;5;241m=\u001b[39m\u001b[38;5;28;01mNone\u001b[39;00m):\n\u001b[1;32m   1428\u001b[0m \u001b[38;5;250m    \u001b[39m\u001b[38;5;124;03m\"\"\"Compute k-means clustering.\u001b[39;00m\n\u001b[1;32m   1429\u001b[0m \n\u001b[1;32m   1430\u001b[0m \u001b[38;5;124;03m    Parameters\u001b[39;00m\n\u001b[0;32m   (...)\u001b[0m\n\u001b[1;32m   1452\u001b[0m \u001b[38;5;124;03m        Fitted estimator.\u001b[39;00m\n\u001b[1;32m   1453\u001b[0m \u001b[38;5;124;03m    \"\"\"\u001b[39;00m\n\u001b[0;32m-> 1454\u001b[0m     X \u001b[38;5;241m=\u001b[39m \u001b[43mvalidate_data\u001b[49m\u001b[43m(\u001b[49m\n\u001b[1;32m   1455\u001b[0m \u001b[43m        \u001b[49m\u001b[38;5;28;43mself\u001b[39;49m\u001b[43m,\u001b[49m\n\u001b[1;32m   1456\u001b[0m \u001b[43m        \u001b[49m\u001b[43mX\u001b[49m\u001b[43m,\u001b[49m\n\u001b[1;32m   1457\u001b[0m \u001b[43m        \u001b[49m\u001b[43maccept_sparse\u001b[49m\u001b[38;5;241;43m=\u001b[39;49m\u001b[38;5;124;43m\"\u001b[39;49m\u001b[38;5;124;43mcsr\u001b[39;49m\u001b[38;5;124;43m\"\u001b[39;49m\u001b[43m,\u001b[49m\n\u001b[1;32m   1458\u001b[0m \u001b[43m        \u001b[49m\u001b[43mdtype\u001b[49m\u001b[38;5;241;43m=\u001b[39;49m\u001b[43m[\u001b[49m\u001b[43mnp\u001b[49m\u001b[38;5;241;43m.\u001b[39;49m\u001b[43mfloat64\u001b[49m\u001b[43m,\u001b[49m\u001b[43m \u001b[49m\u001b[43mnp\u001b[49m\u001b[38;5;241;43m.\u001b[39;49m\u001b[43mfloat32\u001b[49m\u001b[43m]\u001b[49m\u001b[43m,\u001b[49m\n\u001b[1;32m   1459\u001b[0m \u001b[43m        \u001b[49m\u001b[43morder\u001b[49m\u001b[38;5;241;43m=\u001b[39;49m\u001b[38;5;124;43m\"\u001b[39;49m\u001b[38;5;124;43mC\u001b[39;49m\u001b[38;5;124;43m\"\u001b[39;49m\u001b[43m,\u001b[49m\n\u001b[1;32m   1460\u001b[0m \u001b[43m        \u001b[49m\u001b[43mcopy\u001b[49m\u001b[38;5;241;43m=\u001b[39;49m\u001b[38;5;28;43mself\u001b[39;49m\u001b[38;5;241;43m.\u001b[39;49m\u001b[43mcopy_x\u001b[49m\u001b[43m,\u001b[49m\n\u001b[1;32m   1461\u001b[0m \u001b[43m        \u001b[49m\u001b[43maccept_large_sparse\u001b[49m\u001b[38;5;241;43m=\u001b[39;49m\u001b[38;5;28;43;01mFalse\u001b[39;49;00m\u001b[43m,\u001b[49m\n\u001b[1;32m   1462\u001b[0m \u001b[43m    \u001b[49m\u001b[43m)\u001b[49m\n\u001b[1;32m   1464\u001b[0m     \u001b[38;5;28mself\u001b[39m\u001b[38;5;241m.\u001b[39m_check_params_vs_input(X)\n\u001b[1;32m   1466\u001b[0m     random_state \u001b[38;5;241m=\u001b[39m check_random_state(\u001b[38;5;28mself\u001b[39m\u001b[38;5;241m.\u001b[39mrandom_state)\n",
      "File \u001b[0;32m~/Library/CloudStorage/OneDrive-VolkswagenAG/Fakultät 73/Data_Science/Hands_on_DataScience/Natural_Language_Processing/.venv/lib/python3.12/site-packages/sklearn/utils/validation.py:2944\u001b[0m, in \u001b[0;36mvalidate_data\u001b[0;34m(_estimator, X, y, reset, validate_separately, skip_check_array, **check_params)\u001b[0m\n\u001b[1;32m   2942\u001b[0m         out \u001b[38;5;241m=\u001b[39m X, y\n\u001b[1;32m   2943\u001b[0m \u001b[38;5;28;01melif\u001b[39;00m \u001b[38;5;129;01mnot\u001b[39;00m no_val_X \u001b[38;5;129;01mand\u001b[39;00m no_val_y:\n\u001b[0;32m-> 2944\u001b[0m     out \u001b[38;5;241m=\u001b[39m \u001b[43mcheck_array\u001b[49m\u001b[43m(\u001b[49m\u001b[43mX\u001b[49m\u001b[43m,\u001b[49m\u001b[43m \u001b[49m\u001b[43minput_name\u001b[49m\u001b[38;5;241;43m=\u001b[39;49m\u001b[38;5;124;43m\"\u001b[39;49m\u001b[38;5;124;43mX\u001b[39;49m\u001b[38;5;124;43m\"\u001b[39;49m\u001b[43m,\u001b[49m\u001b[43m \u001b[49m\u001b[38;5;241;43m*\u001b[39;49m\u001b[38;5;241;43m*\u001b[39;49m\u001b[43mcheck_params\u001b[49m\u001b[43m)\u001b[49m\n\u001b[1;32m   2945\u001b[0m \u001b[38;5;28;01melif\u001b[39;00m no_val_X \u001b[38;5;129;01mand\u001b[39;00m \u001b[38;5;129;01mnot\u001b[39;00m no_val_y:\n\u001b[1;32m   2946\u001b[0m     out \u001b[38;5;241m=\u001b[39m _check_y(y, \u001b[38;5;241m*\u001b[39m\u001b[38;5;241m*\u001b[39mcheck_params)\n",
      "File \u001b[0;32m~/Library/CloudStorage/OneDrive-VolkswagenAG/Fakultät 73/Data_Science/Hands_on_DataScience/Natural_Language_Processing/.venv/lib/python3.12/site-packages/sklearn/utils/validation.py:1055\u001b[0m, in \u001b[0;36mcheck_array\u001b[0;34m(array, accept_sparse, accept_large_sparse, dtype, order, copy, force_writeable, force_all_finite, ensure_all_finite, ensure_non_negative, ensure_2d, allow_nd, ensure_min_samples, ensure_min_features, estimator, input_name)\u001b[0m\n\u001b[1;32m   1053\u001b[0m         array \u001b[38;5;241m=\u001b[39m xp\u001b[38;5;241m.\u001b[39mastype(array, dtype, copy\u001b[38;5;241m=\u001b[39m\u001b[38;5;28;01mFalse\u001b[39;00m)\n\u001b[1;32m   1054\u001b[0m     \u001b[38;5;28;01melse\u001b[39;00m:\n\u001b[0;32m-> 1055\u001b[0m         array \u001b[38;5;241m=\u001b[39m \u001b[43m_asarray_with_order\u001b[49m\u001b[43m(\u001b[49m\u001b[43marray\u001b[49m\u001b[43m,\u001b[49m\u001b[43m \u001b[49m\u001b[43morder\u001b[49m\u001b[38;5;241;43m=\u001b[39;49m\u001b[43morder\u001b[49m\u001b[43m,\u001b[49m\u001b[43m \u001b[49m\u001b[43mdtype\u001b[49m\u001b[38;5;241;43m=\u001b[39;49m\u001b[43mdtype\u001b[49m\u001b[43m,\u001b[49m\u001b[43m \u001b[49m\u001b[43mxp\u001b[49m\u001b[38;5;241;43m=\u001b[39;49m\u001b[43mxp\u001b[49m\u001b[43m)\u001b[49m\n\u001b[1;32m   1056\u001b[0m \u001b[38;5;28;01mexcept\u001b[39;00m ComplexWarning \u001b[38;5;28;01mas\u001b[39;00m complex_warning:\n\u001b[1;32m   1057\u001b[0m     \u001b[38;5;28;01mraise\u001b[39;00m \u001b[38;5;167;01mValueError\u001b[39;00m(\n\u001b[1;32m   1058\u001b[0m         \u001b[38;5;124m\"\u001b[39m\u001b[38;5;124mComplex data not supported\u001b[39m\u001b[38;5;130;01m\\n\u001b[39;00m\u001b[38;5;132;01m{}\u001b[39;00m\u001b[38;5;130;01m\\n\u001b[39;00m\u001b[38;5;124m\"\u001b[39m\u001b[38;5;241m.\u001b[39mformat(array)\n\u001b[1;32m   1059\u001b[0m     ) \u001b[38;5;28;01mfrom\u001b[39;00m\u001b[38;5;250m \u001b[39m\u001b[38;5;21;01mcomplex_warning\u001b[39;00m\n",
      "File \u001b[0;32m~/Library/CloudStorage/OneDrive-VolkswagenAG/Fakultät 73/Data_Science/Hands_on_DataScience/Natural_Language_Processing/.venv/lib/python3.12/site-packages/sklearn/utils/_array_api.py:839\u001b[0m, in \u001b[0;36m_asarray_with_order\u001b[0;34m(array, dtype, order, copy, xp, device)\u001b[0m\n\u001b[1;32m    837\u001b[0m     array \u001b[38;5;241m=\u001b[39m numpy\u001b[38;5;241m.\u001b[39marray(array, order\u001b[38;5;241m=\u001b[39morder, dtype\u001b[38;5;241m=\u001b[39mdtype)\n\u001b[1;32m    838\u001b[0m \u001b[38;5;28;01melse\u001b[39;00m:\n\u001b[0;32m--> 839\u001b[0m     array \u001b[38;5;241m=\u001b[39m \u001b[43mnumpy\u001b[49m\u001b[38;5;241;43m.\u001b[39;49m\u001b[43masarray\u001b[49m\u001b[43m(\u001b[49m\u001b[43marray\u001b[49m\u001b[43m,\u001b[49m\u001b[43m \u001b[49m\u001b[43morder\u001b[49m\u001b[38;5;241;43m=\u001b[39;49m\u001b[43morder\u001b[49m\u001b[43m,\u001b[49m\u001b[43m \u001b[49m\u001b[43mdtype\u001b[49m\u001b[38;5;241;43m=\u001b[39;49m\u001b[43mdtype\u001b[49m\u001b[43m)\u001b[49m\n\u001b[1;32m    841\u001b[0m \u001b[38;5;66;03m# At this point array is a NumPy ndarray. We convert it to an array\u001b[39;00m\n\u001b[1;32m    842\u001b[0m \u001b[38;5;66;03m# container that is consistent with the input's namespace.\u001b[39;00m\n\u001b[1;32m    843\u001b[0m \u001b[38;5;28;01mreturn\u001b[39;00m xp\u001b[38;5;241m.\u001b[39masarray(array)\n",
      "File \u001b[0;32m~/Library/CloudStorage/OneDrive-VolkswagenAG/Fakultät 73/Data_Science/Hands_on_DataScience/Natural_Language_Processing/.venv/lib/python3.12/site-packages/pandas/core/series.py:1031\u001b[0m, in \u001b[0;36mSeries.__array__\u001b[0;34m(self, dtype, copy)\u001b[0m\n\u001b[1;32m    981\u001b[0m \u001b[38;5;250m\u001b[39m\u001b[38;5;124;03m\"\"\"\u001b[39;00m\n\u001b[1;32m    982\u001b[0m \u001b[38;5;124;03mReturn the values as a NumPy array.\u001b[39;00m\n\u001b[1;32m    983\u001b[0m \n\u001b[0;32m   (...)\u001b[0m\n\u001b[1;32m   1028\u001b[0m \u001b[38;5;124;03m      dtype='datetime64[ns]')\u001b[39;00m\n\u001b[1;32m   1029\u001b[0m \u001b[38;5;124;03m\"\"\"\u001b[39;00m\n\u001b[1;32m   1030\u001b[0m values \u001b[38;5;241m=\u001b[39m \u001b[38;5;28mself\u001b[39m\u001b[38;5;241m.\u001b[39m_values\n\u001b[0;32m-> 1031\u001b[0m arr \u001b[38;5;241m=\u001b[39m \u001b[43mnp\u001b[49m\u001b[38;5;241;43m.\u001b[39;49m\u001b[43masarray\u001b[49m\u001b[43m(\u001b[49m\u001b[43mvalues\u001b[49m\u001b[43m,\u001b[49m\u001b[43m \u001b[49m\u001b[43mdtype\u001b[49m\u001b[38;5;241;43m=\u001b[39;49m\u001b[43mdtype\u001b[49m\u001b[43m)\u001b[49m\n\u001b[1;32m   1032\u001b[0m \u001b[38;5;28;01mif\u001b[39;00m using_copy_on_write() \u001b[38;5;129;01mand\u001b[39;00m astype_is_view(values\u001b[38;5;241m.\u001b[39mdtype, arr\u001b[38;5;241m.\u001b[39mdtype):\n\u001b[1;32m   1033\u001b[0m     arr \u001b[38;5;241m=\u001b[39m arr\u001b[38;5;241m.\u001b[39mview()\n",
      "\u001b[0;31mValueError\u001b[0m: setting an array element with a sequence."
     ]
    }
   ],
   "source": [
    "num_clusters = 2\n",
    "km = KMeans(n_clusters=num_clusters, random_state=42)\n",
    "clusters = km.fit_predict(df[\"Sätze_vektorisiert\"])"
   ]
  },
  {
   "cell_type": "code",
   "execution_count": 306,
   "metadata": {},
   "outputs": [],
   "source": [
    "import pandas as pd\n",
    "\n",
    "df[\"predicted_clusters\"] = clusters"
   ]
  },
  {
   "cell_type": "code",
   "execution_count": 307,
   "metadata": {},
   "outputs": [
    {
     "data": {
      "text/html": [
       "<div>\n",
       "<style scoped>\n",
       "    .dataframe tbody tr th:only-of-type {\n",
       "        vertical-align: middle;\n",
       "    }\n",
       "\n",
       "    .dataframe tbody tr th {\n",
       "        vertical-align: top;\n",
       "    }\n",
       "\n",
       "    .dataframe thead th {\n",
       "        text-align: right;\n",
       "    }\n",
       "</style>\n",
       "<table border=\"1\" class=\"dataframe\">\n",
       "  <thead>\n",
       "    <tr style=\"text-align: right;\">\n",
       "      <th></th>\n",
       "      <th>Sätze</th>\n",
       "      <th>Cluster</th>\n",
       "      <th>predicted_clusters</th>\n",
       "    </tr>\n",
       "  </thead>\n",
       "  <tbody>\n",
       "    <tr>\n",
       "      <th>0</th>\n",
       "      <td>18.04.2023   Antrag  abgeordneter Marc Bernhar...</td>\n",
       "      <td>Geg</td>\n",
       "      <td>0</td>\n",
       "    </tr>\n",
       "    <tr>\n",
       "      <th>1</th>\n",
       "      <td>Weckruf groß  deutsch Wohnungsbaugesellschaft ...</td>\n",
       "      <td>Geg</td>\n",
       "      <td>0</td>\n",
       "    </tr>\n",
       "    <tr>\n",
       "      <th>2</th>\n",
       "      <td>Referentenentwurf Novellierung Gebäudeenergieg...</td>\n",
       "      <td>Geg</td>\n",
       "      <td>0</td>\n",
       "    </tr>\n",
       "    <tr>\n",
       "      <th>3</th>\n",
       "      <td>2024  eingebaut Heizung mindestens 65 bereitge...</td>\n",
       "      <td>Geg</td>\n",
       "      <td>0</td>\n",
       "    </tr>\n",
       "    <tr>\n",
       "      <th>4</th>\n",
       "      <td>Heizung alt 30  betreiben</td>\n",
       "      <td>Geg</td>\n",
       "      <td>0</td>\n",
       "    </tr>\n",
       "    <tr>\n",
       "      <th>...</th>\n",
       "      <td>...</td>\n",
       "      <td>...</td>\n",
       "      <td>...</td>\n",
       "    </tr>\n",
       "    <tr>\n",
       "      <th>116</th>\n",
       "      <td>2018 laut Bunderegierung mehrere Instit ution ...</td>\n",
       "      <td>Soli</td>\n",
       "      <td>0</td>\n",
       "    </tr>\n",
       "    <tr>\n",
       "      <th>117</th>\n",
       "      <td>Koalitionsvertrag festgeschrieben Verabredung...</td>\n",
       "      <td>Soli</td>\n",
       "      <td>1</td>\n",
       "    </tr>\n",
       "    <tr>\n",
       "      <th>118</th>\n",
       "      <td>Prof. Dr. Hanno  Kube Lehrstuhl Steuerrecht Un...</td>\n",
       "      <td>Soli</td>\n",
       "      <td>0</td>\n",
       "    </tr>\n",
       "    <tr>\n",
       "      <th>119</th>\n",
       "      <td>sprechen ebenfalls selektiv  Abschaffung besti...</td>\n",
       "      <td>Soli</td>\n",
       "      <td>1</td>\n",
       "    </tr>\n",
       "    <tr>\n",
       "      <th>120</th>\n",
       "      <td>Satz Satzweiss.com Print Web Software GmbH Mai...</td>\n",
       "      <td>Soli</td>\n",
       "      <td>0</td>\n",
       "    </tr>\n",
       "  </tbody>\n",
       "</table>\n",
       "<p>121 rows × 3 columns</p>\n",
       "</div>"
      ],
      "text/plain": [
       "                                                 Sätze  ... predicted_clusters\n",
       "0    18.04.2023   Antrag  abgeordneter Marc Bernhar...  ...                  0\n",
       "1    Weckruf groß  deutsch Wohnungsbaugesellschaft ...  ...                  0\n",
       "2    Referentenentwurf Novellierung Gebäudeenergieg...  ...                  0\n",
       "3    2024  eingebaut Heizung mindestens 65 bereitge...  ...                  0\n",
       "4                            Heizung alt 30  betreiben  ...                  0\n",
       "..                                                 ...  ...                ...\n",
       "116  2018 laut Bunderegierung mehrere Instit ution ...  ...                  0\n",
       "117   Koalitionsvertrag festgeschrieben Verabredung...  ...                  1\n",
       "118  Prof. Dr. Hanno  Kube Lehrstuhl Steuerrecht Un...  ...                  0\n",
       "119  sprechen ebenfalls selektiv  Abschaffung besti...  ...                  1\n",
       "120  Satz Satzweiss.com Print Web Software GmbH Mai...  ...                  0\n",
       "\n",
       "[121 rows x 3 columns]"
      ]
     },
     "execution_count": 307,
     "metadata": {},
     "output_type": "execute_result"
    }
   ],
   "source": [
    "df"
   ]
  },
  {
   "cell_type": "code",
   "execution_count": 310,
   "metadata": {},
   "outputs": [
    {
     "name": "stdout",
     "output_type": "stream",
     "text": [
      "predicted_clusters\n",
      "0    88\n",
      "1    33\n",
      "dtype: int64\n"
     ]
    }
   ],
   "source": [
    "print(df.groupby([\"predicted_clusters\"]).size())\n"
   ]
  },
  {
   "cell_type": "code",
   "execution_count": 313,
   "metadata": {},
   "outputs": [
    {
     "name": "stdout",
     "output_type": "stream",
     "text": [
      "\n",
      "🔹 Cluster 0:\n",
      "['ungerechtfertigt Ungleich Behandlung Ausland erzielt Einkünfte  inländisch Einkünfte Folge', 'Experte cha  Rakterisier Vorhaben unzulässig Eingriff Eigentumsrecht', 'Bundesrechnungshof unterschiedlich Behandlung inländisch ausländisch Einkünfte  sachgerecht beanstanden', 'Satz Satzweiss.com Print Web Software GmbH Mainzer Straße 116 66121 Saarbrücken www.satzweiss.com  Druck Printsystem GmbH Schafwäsche 1 3 71296 Heimsheim www.printsystem.de  Vertrieb Bundesanzeiger Verlag GmbH Postfach 10 05 34 50445 Köln Telefon 02 21 97 66 83 40 Fax 02 21 97 66 83 44 www.betrifft-gesetze.de  ISSN 0722 8333', 'Gesamtherstellung H. Heenemann GmbH Co. KG Buch Offsetdruckerei Bessemerstraße 83–91 12103 Berlin www.heenemann-druck.de  Vertrieb Bundesanzeiger Verlag GmbH Postfach 10 05 34 50445 Köln Telefon 02 21 97 66 83 40 Fax 02 21 97 66 83 44 www.bundesanzeiger-verlag.de  ISSN', 'hinzu Verschärfung Wohnungsnot Mieter  Miete zwangssaniert Wohnung zahlen', 'Per polyfluoriert Alkylsubstanz  PFAS gehören persistent Chemikalie', 'deutsch Bundestag 19. Wahlperiode 3 Drucksache 19 4898    2.', 'ent-  sprechen Betriebsverbot Heizung fossil Energieträg unabhän  Gig technisch Zustand', 'Stoff Blut  Gewebe nachweisen stehen Verdacht Mensch Krebs ver  Ursache unfruchtbar Immunsystem schwächen 11. Alter  nativ stehen praktisch Moment Verfügung  Nachteil']\n",
      "\n",
      "🔹 Cluster 1:\n",
      "['halten Argumentation Bundesfinanzhof genannt Entschei  dungen Rechtfertigung Ungleichbehandlung gewerblich Einkünfte sonstig Einkünf-  ten hinsichtlich Bemessungsgrundlage Solidaritätszuschlag verfassungsrechtlich Prüfung  stehen', 'Begünstigung ge  werblich Einkünfte Erhebung Solidaritätszuschlag nichtgewerblich Einkünfte  Gesetzgeber beabsichtigen', 'soweit infolge Einkommensteu  Erermäßigung 35 EStG Bemessungsgrundlage Solidaritätszuschlag gewerblich Ein-  Künft reduzieren Rechtfertigung Ungleichbehandlung besonderer Lastentragung  Gewerbetreibende Betracht', 'gleichzeitig Anhebung Tabak Versicherung Mineralöl  Steuer schnürten Unionspartei FDP befristet Steuererhöhung  Solidaritätszuschlag bezeichnen', 'Feststellung Bundesrechnungshof  Angabe Bundesministerium Finanz einräumen ausländisch Einkünfte  derzeit einschränken Berechnung Solidaritätszuschlag einbeziehen', 'Steueraufkommen Solidaritätszuschlag stark ansteigen  Steuerart stark Gewicht erlangen', 'Ertrag Solidaritätszuschlag 13 Mrd.  Euro 1995 18 Mrd. Euro 2017 angewachsen', 'Solidaritätszuschlag Ergänzungsabgabe Deckung vorübergehend Bedarfsspitz  Bundeshaushalt erheben Ergänzungsabgabe Vergleich sonstig Steuer  Finanzverfassung aufzählen selten Ausnahme Regel verhalten', 'sprechen ebenfalls selektiv  Abschaffung bestimmt Einkommensgruppe mahnen Zweck Solidaritätszuschlag  konkret Finanzbedarf Umverteilung vgl. FAZ S. 15 31.01.2018', 'Solidaritätszuschlag  vorübergehend Zusatzfinanzierung Kosten Zug deutsch Einheit planen Legitima  tion permanent belastend Zusatzsteuer geben']\n"
     ]
    }
   ],
   "source": [
    "for cluster_id in df[\"predicted_clusters\"].unique():\n",
    "    print(f\"\\n🔹 Cluster {cluster_id}:\")\n",
    "    print(df[df[\"predicted_clusters\"] == cluster_id][\"Sätze\"].sample(10).tolist())  # Zeigt zufällige 5 Sätze\n"
   ]
  }
 ],
 "metadata": {
  "kernelspec": {
   "display_name": ".venv",
   "language": "python",
   "name": "python3"
  },
  "language_info": {
   "codemirror_mode": {
    "name": "ipython",
    "version": 3
   },
   "file_extension": ".py",
   "mimetype": "text/x-python",
   "name": "python",
   "nbconvert_exporter": "python",
   "pygments_lexer": "ipython3",
   "version": "3.12.7"
  }
 },
 "nbformat": 4,
 "nbformat_minor": 2
}
