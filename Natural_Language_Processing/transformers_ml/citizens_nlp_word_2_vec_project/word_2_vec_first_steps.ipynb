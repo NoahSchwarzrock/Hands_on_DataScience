{
 "cells": [
  {
   "cell_type": "markdown",
   "metadata": {},
   "source": [
    "## Start"
   ]
  },
  {
   "cell_type": "code",
   "execution_count": 3,
   "metadata": {},
   "outputs": [],
   "source": [
    "import pandas as pd"
   ]
  },
  {
   "cell_type": "code",
   "execution_count": 4,
   "metadata": {},
   "outputs": [],
   "source": [
    "df = pd.read_csv(\"../data/dataset_citizen_participation_training_extended.csv\", sep=\";\")"
   ]
  },
  {
   "cell_type": "code",
   "execution_count": 5,
   "metadata": {},
   "outputs": [],
   "source": [
    "labels_over_500_entries = df[\"label\"].value_counts()[df[\"label\"].value_counts() >= 500].index"
   ]
  },
  {
   "cell_type": "code",
   "execution_count": 6,
   "metadata": {},
   "outputs": [
    {
     "data": {
      "text/html": [
       "<div>\n",
       "<style scoped>\n",
       "    .dataframe tbody tr th:only-of-type {\n",
       "        vertical-align: middle;\n",
       "    }\n",
       "\n",
       "    .dataframe tbody tr th {\n",
       "        vertical-align: top;\n",
       "    }\n",
       "\n",
       "    .dataframe thead th {\n",
       "        text-align: right;\n",
       "    }\n",
       "</style>\n",
       "<table border=\"1\" class=\"dataframe\">\n",
       "  <thead>\n",
       "    <tr style=\"text-align: right;\">\n",
       "      <th></th>\n",
       "      <th>label</th>\n",
       "      <th>sentence</th>\n",
       "    </tr>\n",
       "  </thead>\n",
       "  <tbody>\n",
       "    <tr>\n",
       "      <th>0</th>\n",
       "      <td>0</td>\n",
       "      <td>Veranstaltungen, Entspannung</td>\n",
       "    </tr>\n",
       "    <tr>\n",
       "      <th>1</th>\n",
       "      <td>0</td>\n",
       "      <td>denkabr wäre Kunst und</td>\n",
       "    </tr>\n",
       "    <tr>\n",
       "      <th>2</th>\n",
       "      <td>0</td>\n",
       "      <td>mehr Entspannungs- und Freizeitmöglichkeiten</td>\n",
       "    </tr>\n",
       "    <tr>\n",
       "      <th>3</th>\n",
       "      <td>0</td>\n",
       "      <td>Freizeitmöglichkeit mit Wiese, eventuell Parkä...</td>\n",
       "    </tr>\n",
       "    <tr>\n",
       "      <th>4</th>\n",
       "      <td>0</td>\n",
       "      <td>Nutzungsraum für Feste und Veranstaltungen im ...</td>\n",
       "    </tr>\n",
       "    <tr>\n",
       "      <th>...</th>\n",
       "      <td>...</td>\n",
       "      <td>...</td>\n",
       "    </tr>\n",
       "    <tr>\n",
       "      <th>30438</th>\n",
       "      <td>8</td>\n",
       "      <td>Ich finde, dass wir in unserer Stadt dringend ...</td>\n",
       "    </tr>\n",
       "    <tr>\n",
       "      <th>30439</th>\n",
       "      <td>8</td>\n",
       "      <td>„Ich finde, dass wir mehr Mittel in die Aussta...</td>\n",
       "    </tr>\n",
       "    <tr>\n",
       "      <th>30440</th>\n",
       "      <td>8</td>\n",
       "      <td>Ich finde, dass wir dringend mehr Spiel- und L...</td>\n",
       "    </tr>\n",
       "    <tr>\n",
       "      <th>30441</th>\n",
       "      <td>8</td>\n",
       "      <td>Ich finde, dass wir dringend mehr Plätze in Ki...</td>\n",
       "    </tr>\n",
       "    <tr>\n",
       "      <th>30442</th>\n",
       "      <td>8</td>\n",
       "      <td>Ich finde es wichtig, dass wir in unserer Stad...</td>\n",
       "    </tr>\n",
       "  </tbody>\n",
       "</table>\n",
       "<p>30032 rows × 2 columns</p>\n",
       "</div>"
      ],
      "text/plain": [
       "       label                                           sentence\n",
       "0          0                       Veranstaltungen, Entspannung\n",
       "1          0                            denkabr wäre Kunst und \n",
       "2          0       mehr Entspannungs- und Freizeitmöglichkeiten\n",
       "3          0  Freizeitmöglichkeit mit Wiese, eventuell Parkä...\n",
       "4          0  Nutzungsraum für Feste und Veranstaltungen im ...\n",
       "...      ...                                                ...\n",
       "30438      8  Ich finde, dass wir in unserer Stadt dringend ...\n",
       "30439      8  „Ich finde, dass wir mehr Mittel in die Aussta...\n",
       "30440      8  Ich finde, dass wir dringend mehr Spiel- und L...\n",
       "30441      8  Ich finde, dass wir dringend mehr Plätze in Ki...\n",
       "30442      8  Ich finde es wichtig, dass wir in unserer Stad...\n",
       "\n",
       "[30032 rows x 2 columns]"
      ]
     },
     "execution_count": 6,
     "metadata": {},
     "output_type": "execute_result"
    }
   ],
   "source": [
    "df_over_500_entries = df[df[\"label\"].isin(labels_over_500_entries)]\n",
    "df_over_500_entries"
   ]
  },
  {
   "cell_type": "code",
   "execution_count": 7,
   "metadata": {},
   "outputs": [],
   "source": [
    "import spacy\n",
    "\n",
    "nlp = spacy.load(\"de_core_news_lg\")"
   ]
  },
  {
   "cell_type": "code",
   "execution_count": 8,
   "metadata": {},
   "outputs": [],
   "source": [
    "def lemma_no_punct_no_stop(sentence):\n",
    "    return \" \".join([token.lemma_ for token in nlp(sentence) if not (token.is_punct or token.is_stop)])"
   ]
  },
  {
   "cell_type": "code",
   "execution_count": 9,
   "metadata": {},
   "outputs": [
    {
     "name": "stderr",
     "output_type": "stream",
     "text": [
      "/var/folders/00/02tsycp12q53nd49sw0v4c_00000gq/T/ipykernel_11783/2624650276.py:1: SettingWithCopyWarning: \n",
      "A value is trying to be set on a copy of a slice from a DataFrame.\n",
      "Try using .loc[row_indexer,col_indexer] = value instead\n",
      "\n",
      "See the caveats in the documentation: https://pandas.pydata.org/pandas-docs/stable/user_guide/indexing.html#returning-a-view-versus-a-copy\n",
      "  df_over_500_entries[\"lemmatized_sentence\"] = df_over_500_entries[\"sentence\"].apply(lemma_no_punct_no_stop)\n"
     ]
    }
   ],
   "source": [
    "df_over_500_entries[\"lemmatized_sentence\"] = df_over_500_entries[\"sentence\"].apply(lemma_no_punct_no_stop)"
   ]
  },
  {
   "cell_type": "code",
   "execution_count": 33,
   "metadata": {},
   "outputs": [],
   "source": [
    "import numpy as np\n",
    "from gensim.models import KeyedVectors\n",
    "\n",
    "model = KeyedVectors.load_word2vec_format('w2c_german.model', binary=True)\n",
    "def vectorizer_word_2_vec(sentence):\n",
    "    word_vectors = [model[token] for token in sentence if token in model]\n",
    "    \n",
    "    if not word_vectors:\n",
    "        return np.zeros(model.vector_size)\n",
    "    \n",
    "    return np.mean(word_vectors, axis=0)\n"
   ]
  },
  {
   "cell_type": "code",
   "execution_count": 36,
   "metadata": {},
   "outputs": [
    {
     "name": "stderr",
     "output_type": "stream",
     "text": [
      "/var/folders/00/02tsycp12q53nd49sw0v4c_00000gq/T/ipykernel_11783/217738289.py:1: SettingWithCopyWarning: \n",
      "A value is trying to be set on a copy of a slice from a DataFrame.\n",
      "Try using .loc[row_indexer,col_indexer] = value instead\n",
      "\n",
      "See the caveats in the documentation: https://pandas.pydata.org/pandas-docs/stable/user_guide/indexing.html#returning-a-view-versus-a-copy\n",
      "  df_over_500_entries[\"vectorized_sentence\"] = df_over_500_entries[\"lemmatized_sentence\"].apply(vectorizer_word_2_vec)\n"
     ]
    }
   ],
   "source": [
    "df_over_500_entries[\"vectorized_sentence\"] = df_over_500_entries[\"lemmatized_sentence\"].apply(vectorizer_word_2_vec)"
   ]
  },
  {
   "cell_type": "code",
   "execution_count": 50,
   "metadata": {},
   "outputs": [
    {
     "data": {
      "text/html": [
       "<div>\n",
       "<style scoped>\n",
       "    .dataframe tbody tr th:only-of-type {\n",
       "        vertical-align: middle;\n",
       "    }\n",
       "\n",
       "    .dataframe tbody tr th {\n",
       "        vertical-align: top;\n",
       "    }\n",
       "\n",
       "    .dataframe thead th {\n",
       "        text-align: right;\n",
       "    }\n",
       "</style>\n",
       "<table border=\"1\" class=\"dataframe\">\n",
       "  <thead>\n",
       "    <tr style=\"text-align: right;\">\n",
       "      <th></th>\n",
       "      <th>label</th>\n",
       "      <th>sentence</th>\n",
       "      <th>lemmatized_sentence</th>\n",
       "      <th>vectorized_sentence</th>\n",
       "    </tr>\n",
       "  </thead>\n",
       "  <tbody>\n",
       "    <tr>\n",
       "      <th>0</th>\n",
       "      <td>0</td>\n",
       "      <td>Veranstaltungen, Entspannung</td>\n",
       "      <td>Veranstaltung Entspannung</td>\n",
       "      <td>[-0.16233182, 0.05000949, 0.061412875, 0.20537...</td>\n",
       "    </tr>\n",
       "    <tr>\n",
       "      <th>1</th>\n",
       "      <td>0</td>\n",
       "      <td>denkabr wäre Kunst und</td>\n",
       "      <td>Denkabr Kunst</td>\n",
       "      <td>[-0.050729413, 0.092643626, 0.017704606, 0.177...</td>\n",
       "    </tr>\n",
       "    <tr>\n",
       "      <th>2</th>\n",
       "      <td>0</td>\n",
       "      <td>mehr Entspannungs- und Freizeitmöglichkeiten</td>\n",
       "      <td>Entspannung Freizeitmöglichkeit</td>\n",
       "      <td>[-0.19545369, 0.09129564, 0.0472225, 0.1664562...</td>\n",
       "    </tr>\n",
       "    <tr>\n",
       "      <th>3</th>\n",
       "      <td>0</td>\n",
       "      <td>Freizeitmöglichkeit mit Wiese, eventuell Parkä...</td>\n",
       "      <td>Freizeitmöglichkeit Wiese eventuell Parkähnlich</td>\n",
       "      <td>[-0.13682537, 0.10294958, 0.01084141, 0.164365...</td>\n",
       "    </tr>\n",
       "    <tr>\n",
       "      <th>4</th>\n",
       "      <td>0</td>\n",
       "      <td>Nutzungsraum für Feste und Veranstaltungen im ...</td>\n",
       "      <td>Nutzungsraum Fest Veranstaltung freie</td>\n",
       "      <td>[-0.13489759, 0.073086545, 0.021854544, 0.1971...</td>\n",
       "    </tr>\n",
       "  </tbody>\n",
       "</table>\n",
       "</div>"
      ],
      "text/plain": [
       "   label                                           sentence  \\\n",
       "0      0                       Veranstaltungen, Entspannung   \n",
       "1      0                            denkabr wäre Kunst und    \n",
       "2      0       mehr Entspannungs- und Freizeitmöglichkeiten   \n",
       "3      0  Freizeitmöglichkeit mit Wiese, eventuell Parkä...   \n",
       "4      0  Nutzungsraum für Feste und Veranstaltungen im ...   \n",
       "\n",
       "                               lemmatized_sentence  \\\n",
       "0                        Veranstaltung Entspannung   \n",
       "1                                    Denkabr Kunst   \n",
       "2                  Entspannung Freizeitmöglichkeit   \n",
       "3  Freizeitmöglichkeit Wiese eventuell Parkähnlich   \n",
       "4            Nutzungsraum Fest Veranstaltung freie   \n",
       "\n",
       "                                 vectorized_sentence  \n",
       "0  [-0.16233182, 0.05000949, 0.061412875, 0.20537...  \n",
       "1  [-0.050729413, 0.092643626, 0.017704606, 0.177...  \n",
       "2  [-0.19545369, 0.09129564, 0.0472225, 0.1664562...  \n",
       "3  [-0.13682537, 0.10294958, 0.01084141, 0.164365...  \n",
       "4  [-0.13489759, 0.073086545, 0.021854544, 0.1971...  "
      ]
     },
     "execution_count": 50,
     "metadata": {},
     "output_type": "execute_result"
    }
   ],
   "source": [
    "df_over_500_entries.head()"
   ]
  },
  {
   "cell_type": "code",
   "execution_count": 38,
   "metadata": {},
   "outputs": [],
   "source": [
    "df_test = pd.read_csv(\"../data/output_file_citizen_unique_testdata.csv\", sep=\";\")"
   ]
  },
  {
   "cell_type": "code",
   "execution_count": 51,
   "metadata": {},
   "outputs": [],
   "source": [
    "df_test[\"lemmatized_new_sentences\"] = df_test[\"new_sentences\"].apply(lemma_no_punct_no_stop)"
   ]
  },
  {
   "cell_type": "code",
   "execution_count": 52,
   "metadata": {},
   "outputs": [],
   "source": [
    "df_test[\"vectorized_new_sentences\"] = df_test[\"lemmatized_new_sentences\"].apply(vectorizer_word_2_vec)"
   ]
  },
  {
   "cell_type": "code",
   "execution_count": 53,
   "metadata": {},
   "outputs": [],
   "source": [
    "from imblearn.over_sampling import SMOTE\n",
    "\n",
    "smote = SMOTE(random_state=42)\n",
    "\n",
    "X = np.vstack(df_over_500_entries[\"vectorized_sentence\"])\n",
    "y = df_over_500_entries[\"label\"]\n",
    "\n",
    "X_resampled, y_resampled = smote.fit_resample(X, y)\n",
    "\n",
    "X_test = np.vstack(df_test[\"vectorized_new_sentences\"])\n",
    "y_test = df_test[\"new_labels\"]"
   ]
  },
  {
   "cell_type": "code",
   "execution_count": 54,
   "metadata": {},
   "outputs": [
    {
     "data": {
      "text/plain": [
       "label\n",
       "0    7558\n",
       "1    7558\n",
       "2    7558\n",
       "3    7558\n",
       "4    7558\n",
       "5    7558\n",
       "6    7558\n",
       "7    7558\n",
       "8    7558\n",
       "9    7558\n",
       "Name: count, dtype: int64"
      ]
     },
     "execution_count": 54,
     "metadata": {},
     "output_type": "execute_result"
    }
   ],
   "source": [
    "y_resampled.value_counts()"
   ]
  },
  {
   "cell_type": "code",
   "execution_count": 55,
   "metadata": {},
   "outputs": [],
   "source": [
    "from sklearn.neighbors import KNeighborsClassifier\n",
    "from sklearn import svm\n",
    "from sklearn.metrics import accuracy_score\n",
    "import xgboost as xgb\n",
    "\n",
    "knn_model = KNeighborsClassifier(n_neighbors=5)\n",
    "svm_model = svm.SVC()\n",
    "xgbc = xgb.XGBClassifier(learning_rate=0.3, max_depth=6, n_estimators=200, subsample=1.0, colsample_bytree=1.0, reg_lambda=1)"
   ]
  },
  {
   "cell_type": "code",
   "execution_count": 56,
   "metadata": {},
   "outputs": [],
   "source": [
    "def test_models(models: list, X_train, y_train, X_test ,y_test):\n",
    "\tfor model in models:\n",
    "\t\tmodel.fit(X_train, y_train)\n",
    "\t\ty_pred = model.predict(X_test)\n",
    "\t\tprint(model)\n",
    "\t\tprint(accuracy_score(y_test, y_pred))"
   ]
  },
  {
   "cell_type": "code",
   "execution_count": 57,
   "metadata": {},
   "outputs": [
    {
     "name": "stdout",
     "output_type": "stream",
     "text": [
      "XGBClassifier(base_score=None, booster=None, callbacks=None,\n",
      "              colsample_bylevel=None, colsample_bynode=None,\n",
      "              colsample_bytree=1.0, device=None, early_stopping_rounds=None,\n",
      "              enable_categorical=False, eval_metric=None, feature_types=None,\n",
      "              gamma=None, grow_policy=None, importance_type=None,\n",
      "              interaction_constraints=None, learning_rate=0.3, max_bin=None,\n",
      "              max_cat_threshold=None, max_cat_to_onehot=None,\n",
      "              max_delta_step=None, max_depth=6, max_leaves=None,\n",
      "              min_child_weight=None, missing=nan, monotone_constraints=None,\n",
      "              multi_strategy=None, n_estimators=200, n_jobs=None,\n",
      "              num_parallel_tree=None, objective='multi:softprob', ...)\n",
      "0.8748148148148148\n"
     ]
    }
   ],
   "source": [
    "test_models([xgbc], X_resampled, y_resampled, X_test, y_test)"
   ]
  }
 ],
 "metadata": {
  "kernelspec": {
   "display_name": ".venv",
   "language": "python",
   "name": "python3"
  },
  "language_info": {
   "codemirror_mode": {
    "name": "ipython",
    "version": 3
   },
   "file_extension": ".py",
   "mimetype": "text/x-python",
   "name": "python",
   "nbconvert_exporter": "python",
   "pygments_lexer": "ipython3",
   "version": "3.12.7"
  }
 },
 "nbformat": 4,
 "nbformat_minor": 2
}
