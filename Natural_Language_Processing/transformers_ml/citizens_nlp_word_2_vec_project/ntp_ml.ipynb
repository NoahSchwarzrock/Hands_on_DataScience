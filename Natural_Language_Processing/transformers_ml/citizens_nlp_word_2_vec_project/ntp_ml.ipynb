{
 "cells": [
  {
   "cell_type": "code",
   "execution_count": 4,
   "metadata": {},
   "outputs": [],
   "source": [
    "from sklearn.model_selection import train_test_split, StratifiedKFold, cross_val_score\n",
    "from sklearn import svm\n",
    "from sklearn.tree import DecisionTreeClassifier\n",
    "from sklearn.metrics import accuracy_score, confusion_matrix\n",
    "from sklearn.ensemble import RandomForestClassifier\n",
    "from sklearn.neighbors import KNeighborsClassifier\n",
    "from sklearn.naive_bayes import GaussianNB\n",
    "import numpy as np\n",
    "import pandas as pd\n",
    "from imblearn.over_sampling import SMOTE"
   ]
  },
  {
   "cell_type": "code",
   "execution_count": 5,
   "metadata": {},
   "outputs": [],
   "source": [
    "df = pd.read_csv(\"../data/dataset_citizen_participation_training_extended.csv\", sep=\";\")"
   ]
  },
  {
   "cell_type": "code",
   "execution_count": 6,
   "metadata": {},
   "outputs": [],
   "source": [
    "labels_over_500_entries = df[\"label\"].value_counts()[df[\"label\"].value_counts() >= 500].index"
   ]
  },
  {
   "cell_type": "code",
   "execution_count": 7,
   "metadata": {},
   "outputs": [
    {
     "data": {
      "text/html": [
       "<div>\n",
       "<style scoped>\n",
       "    .dataframe tbody tr th:only-of-type {\n",
       "        vertical-align: middle;\n",
       "    }\n",
       "\n",
       "    .dataframe tbody tr th {\n",
       "        vertical-align: top;\n",
       "    }\n",
       "\n",
       "    .dataframe thead th {\n",
       "        text-align: right;\n",
       "    }\n",
       "</style>\n",
       "<table border=\"1\" class=\"dataframe\">\n",
       "  <thead>\n",
       "    <tr style=\"text-align: right;\">\n",
       "      <th></th>\n",
       "      <th>label</th>\n",
       "      <th>sentence</th>\n",
       "    </tr>\n",
       "  </thead>\n",
       "  <tbody>\n",
       "    <tr>\n",
       "      <th>0</th>\n",
       "      <td>0</td>\n",
       "      <td>Veranstaltungen, Entspannung</td>\n",
       "    </tr>\n",
       "    <tr>\n",
       "      <th>1</th>\n",
       "      <td>0</td>\n",
       "      <td>denkabr wäre Kunst und</td>\n",
       "    </tr>\n",
       "    <tr>\n",
       "      <th>2</th>\n",
       "      <td>0</td>\n",
       "      <td>mehr Entspannungs- und Freizeitmöglichkeiten</td>\n",
       "    </tr>\n",
       "    <tr>\n",
       "      <th>3</th>\n",
       "      <td>0</td>\n",
       "      <td>Freizeitmöglichkeit mit Wiese, eventuell Parkä...</td>\n",
       "    </tr>\n",
       "    <tr>\n",
       "      <th>4</th>\n",
       "      <td>0</td>\n",
       "      <td>Nutzungsraum für Feste und Veranstaltungen im ...</td>\n",
       "    </tr>\n",
       "    <tr>\n",
       "      <th>...</th>\n",
       "      <td>...</td>\n",
       "      <td>...</td>\n",
       "    </tr>\n",
       "    <tr>\n",
       "      <th>30438</th>\n",
       "      <td>8</td>\n",
       "      <td>Ich finde, dass wir in unserer Stadt dringend ...</td>\n",
       "    </tr>\n",
       "    <tr>\n",
       "      <th>30439</th>\n",
       "      <td>8</td>\n",
       "      <td>„Ich finde, dass wir mehr Mittel in die Aussta...</td>\n",
       "    </tr>\n",
       "    <tr>\n",
       "      <th>30440</th>\n",
       "      <td>8</td>\n",
       "      <td>Ich finde, dass wir dringend mehr Spiel- und L...</td>\n",
       "    </tr>\n",
       "    <tr>\n",
       "      <th>30441</th>\n",
       "      <td>8</td>\n",
       "      <td>Ich finde, dass wir dringend mehr Plätze in Ki...</td>\n",
       "    </tr>\n",
       "    <tr>\n",
       "      <th>30442</th>\n",
       "      <td>8</td>\n",
       "      <td>Ich finde es wichtig, dass wir in unserer Stad...</td>\n",
       "    </tr>\n",
       "  </tbody>\n",
       "</table>\n",
       "<p>30032 rows × 2 columns</p>\n",
       "</div>"
      ],
      "text/plain": [
       "       label                                           sentence\n",
       "0          0                       Veranstaltungen, Entspannung\n",
       "1          0                            denkabr wäre Kunst und \n",
       "2          0       mehr Entspannungs- und Freizeitmöglichkeiten\n",
       "3          0  Freizeitmöglichkeit mit Wiese, eventuell Parkä...\n",
       "4          0  Nutzungsraum für Feste und Veranstaltungen im ...\n",
       "...      ...                                                ...\n",
       "30438      8  Ich finde, dass wir in unserer Stadt dringend ...\n",
       "30439      8  „Ich finde, dass wir mehr Mittel in die Aussta...\n",
       "30440      8  Ich finde, dass wir dringend mehr Spiel- und L...\n",
       "30441      8  Ich finde, dass wir dringend mehr Plätze in Ki...\n",
       "30442      8  Ich finde es wichtig, dass wir in unserer Stad...\n",
       "\n",
       "[30032 rows x 2 columns]"
      ]
     },
     "execution_count": 7,
     "metadata": {},
     "output_type": "execute_result"
    }
   ],
   "source": [
    "df_over_500_entries = df[df[\"label\"].isin(labels_over_500_entries)]\n",
    "df_over_500_entries"
   ]
  },
  {
   "cell_type": "code",
   "execution_count": 8,
   "metadata": {},
   "outputs": [
    {
     "data": {
      "text/plain": [
       "label\n",
       "3    7558\n",
       "2    3511\n",
       "5    3316\n",
       "4    2784\n",
       "8    2555\n",
       "6    2237\n",
       "9    2188\n",
       "7    2088\n",
       "0    2042\n",
       "1    1753\n",
       "Name: count, dtype: int64"
      ]
     },
     "execution_count": 8,
     "metadata": {},
     "output_type": "execute_result"
    }
   ],
   "source": [
    "df_over_500_entries[\"label\"].value_counts()"
   ]
  },
  {
   "cell_type": "code",
   "execution_count": 9,
   "metadata": {},
   "outputs": [],
   "source": [
    "import spacy\n",
    "\n",
    "nlp = spacy.load(\"de_core_news_lg\")"
   ]
  },
  {
   "cell_type": "code",
   "execution_count": 10,
   "metadata": {},
   "outputs": [],
   "source": [
    "def lemma_no_punct_no_stop(sentence):\n",
    "    return \" \".join([token.lemma_ for token in nlp(sentence) if not (token.is_punct or token.is_stop)])"
   ]
  },
  {
   "cell_type": "code",
   "execution_count": 11,
   "metadata": {},
   "outputs": [
    {
     "name": "stderr",
     "output_type": "stream",
     "text": [
      "/var/folders/00/02tsycp12q53nd49sw0v4c_00000gq/T/ipykernel_12890/2624650276.py:1: SettingWithCopyWarning: \n",
      "A value is trying to be set on a copy of a slice from a DataFrame.\n",
      "Try using .loc[row_indexer,col_indexer] = value instead\n",
      "\n",
      "See the caveats in the documentation: https://pandas.pydata.org/pandas-docs/stable/user_guide/indexing.html#returning-a-view-versus-a-copy\n",
      "  df_over_500_entries[\"lemmatized_sentence\"] = df_over_500_entries[\"sentence\"].apply(lemma_no_punct_no_stop)\n"
     ]
    }
   ],
   "source": [
    "df_over_500_entries[\"lemmatized_sentence\"] = df_over_500_entries[\"sentence\"].apply(lemma_no_punct_no_stop)"
   ]
  },
  {
   "cell_type": "code",
   "execution_count": 12,
   "metadata": {},
   "outputs": [
    {
     "data": {
      "text/html": [
       "<div>\n",
       "<style scoped>\n",
       "    .dataframe tbody tr th:only-of-type {\n",
       "        vertical-align: middle;\n",
       "    }\n",
       "\n",
       "    .dataframe tbody tr th {\n",
       "        vertical-align: top;\n",
       "    }\n",
       "\n",
       "    .dataframe thead th {\n",
       "        text-align: right;\n",
       "    }\n",
       "</style>\n",
       "<table border=\"1\" class=\"dataframe\">\n",
       "  <thead>\n",
       "    <tr style=\"text-align: right;\">\n",
       "      <th></th>\n",
       "      <th>label</th>\n",
       "      <th>sentence</th>\n",
       "      <th>lemmatized_sentence</th>\n",
       "    </tr>\n",
       "  </thead>\n",
       "  <tbody>\n",
       "    <tr>\n",
       "      <th>0</th>\n",
       "      <td>0</td>\n",
       "      <td>Veranstaltungen, Entspannung</td>\n",
       "      <td>Veranstaltung Entspannung</td>\n",
       "    </tr>\n",
       "    <tr>\n",
       "      <th>1</th>\n",
       "      <td>0</td>\n",
       "      <td>denkabr wäre Kunst und</td>\n",
       "      <td>Denkabr Kunst</td>\n",
       "    </tr>\n",
       "    <tr>\n",
       "      <th>2</th>\n",
       "      <td>0</td>\n",
       "      <td>mehr Entspannungs- und Freizeitmöglichkeiten</td>\n",
       "      <td>Entspannung Freizeitmöglichkeit</td>\n",
       "    </tr>\n",
       "    <tr>\n",
       "      <th>3</th>\n",
       "      <td>0</td>\n",
       "      <td>Freizeitmöglichkeit mit Wiese, eventuell Parkä...</td>\n",
       "      <td>Freizeitmöglichkeit Wiese eventuell Parkähnlich</td>\n",
       "    </tr>\n",
       "    <tr>\n",
       "      <th>4</th>\n",
       "      <td>0</td>\n",
       "      <td>Nutzungsraum für Feste und Veranstaltungen im ...</td>\n",
       "      <td>Nutzungsraum Fest Veranstaltung freie</td>\n",
       "    </tr>\n",
       "  </tbody>\n",
       "</table>\n",
       "</div>"
      ],
      "text/plain": [
       "   label                                           sentence  \\\n",
       "0      0                       Veranstaltungen, Entspannung   \n",
       "1      0                            denkabr wäre Kunst und    \n",
       "2      0       mehr Entspannungs- und Freizeitmöglichkeiten   \n",
       "3      0  Freizeitmöglichkeit mit Wiese, eventuell Parkä...   \n",
       "4      0  Nutzungsraum für Feste und Veranstaltungen im ...   \n",
       "\n",
       "                               lemmatized_sentence  \n",
       "0                        Veranstaltung Entspannung  \n",
       "1                                    Denkabr Kunst  \n",
       "2                  Entspannung Freizeitmöglichkeit  \n",
       "3  Freizeitmöglichkeit Wiese eventuell Parkähnlich  \n",
       "4            Nutzungsraum Fest Veranstaltung freie  "
      ]
     },
     "execution_count": 12,
     "metadata": {},
     "output_type": "execute_result"
    }
   ],
   "source": [
    "df_over_500_entries.head()"
   ]
  },
  {
   "cell_type": "code",
   "execution_count": 13,
   "metadata": {},
   "outputs": [],
   "source": [
    "def vectorize(sentence):\n",
    "    return nlp(sentence).vector"
   ]
  },
  {
   "cell_type": "code",
   "execution_count": 14,
   "metadata": {},
   "outputs": [
    {
     "name": "stderr",
     "output_type": "stream",
     "text": [
      "/var/folders/00/02tsycp12q53nd49sw0v4c_00000gq/T/ipykernel_12890/3113123738.py:1: SettingWithCopyWarning: \n",
      "A value is trying to be set on a copy of a slice from a DataFrame.\n",
      "Try using .loc[row_indexer,col_indexer] = value instead\n",
      "\n",
      "See the caveats in the documentation: https://pandas.pydata.org/pandas-docs/stable/user_guide/indexing.html#returning-a-view-versus-a-copy\n",
      "  df_over_500_entries[\"vectorized_sentence\"] = df_over_500_entries[\"lemmatized_sentence\"].apply(vectorize)\n"
     ]
    }
   ],
   "source": [
    "df_over_500_entries[\"vectorized_sentence\"] = df_over_500_entries[\"lemmatized_sentence\"].apply(vectorize)"
   ]
  },
  {
   "cell_type": "code",
   "execution_count": 15,
   "metadata": {},
   "outputs": [],
   "source": [
    "df_test = pd.read_csv(\"../data/output_file_citizen_unique_testdata.csv\", sep=\";\")"
   ]
  },
  {
   "cell_type": "code",
   "execution_count": 18,
   "metadata": {},
   "outputs": [],
   "source": [
    "df_test[\"lemmatized_new_sentences\"] = df_test[\"new_sentences\"].apply(lemma_no_punct_no_stop)"
   ]
  },
  {
   "cell_type": "code",
   "execution_count": 19,
   "metadata": {},
   "outputs": [],
   "source": [
    "df_test[\"vectorized_new_sentences\"] = df_test[\"lemmatized_new_sentences\"].apply(vectorize)"
   ]
  },
  {
   "cell_type": "code",
   "execution_count": 20,
   "metadata": {},
   "outputs": [
    {
     "data": {
      "text/html": [
       "<div>\n",
       "<style scoped>\n",
       "    .dataframe tbody tr th:only-of-type {\n",
       "        vertical-align: middle;\n",
       "    }\n",
       "\n",
       "    .dataframe tbody tr th {\n",
       "        vertical-align: top;\n",
       "    }\n",
       "\n",
       "    .dataframe thead th {\n",
       "        text-align: right;\n",
       "    }\n",
       "</style>\n",
       "<table border=\"1\" class=\"dataframe\">\n",
       "  <thead>\n",
       "    <tr style=\"text-align: right;\">\n",
       "      <th></th>\n",
       "      <th>new_labels</th>\n",
       "      <th>new_sentences</th>\n",
       "      <th>lemmatized_new_sentences</th>\n",
       "      <th>vectorized_new_sentences</th>\n",
       "    </tr>\n",
       "  </thead>\n",
       "  <tbody>\n",
       "    <tr>\n",
       "      <th>0</th>\n",
       "      <td>9</td>\n",
       "      <td>nix</td>\n",
       "      <td>nix</td>\n",
       "      <td>[-4.8072, 1.9515, 9.36, -1.1409, -2.6833, 5.60...</td>\n",
       "    </tr>\n",
       "    <tr>\n",
       "      <th>1</th>\n",
       "      <td>9</td>\n",
       "      <td>keine</td>\n",
       "      <td></td>\n",
       "      <td>[0.0, 0.0, 0.0, 0.0, 0.0, 0.0, 0.0, 0.0, 0.0, ...</td>\n",
       "    </tr>\n",
       "    <tr>\n",
       "      <th>2</th>\n",
       "      <td>9</td>\n",
       "      <td>i.O.?</td>\n",
       "      <td>i.O.</td>\n",
       "      <td>[-3.0574, 1.1077, 2.1435, -3.6359, -0.94273, 0...</td>\n",
       "    </tr>\n",
       "    <tr>\n",
       "      <th>3</th>\n",
       "      <td>9</td>\n",
       "      <td>Keine.</td>\n",
       "      <td></td>\n",
       "      <td>[0.0, 0.0, 0.0, 0.0, 0.0, 0.0, 0.0, 0.0, 0.0, ...</td>\n",
       "    </tr>\n",
       "    <tr>\n",
       "      <th>4</th>\n",
       "      <td>9</td>\n",
       "      <td>schild</td>\n",
       "      <td>Schild</td>\n",
       "      <td>[-1.1334, -0.88104, 0.49688, -1.1014, 3.2141, ...</td>\n",
       "    </tr>\n",
       "  </tbody>\n",
       "</table>\n",
       "</div>"
      ],
      "text/plain": [
       "   new_labels new_sentences lemmatized_new_sentences  \\\n",
       "0           9           nix                      nix   \n",
       "1           9         keine                            \n",
       "2           9         i.O.?                     i.O.   \n",
       "3           9        Keine.                            \n",
       "4           9        schild                   Schild   \n",
       "\n",
       "                            vectorized_new_sentences  \n",
       "0  [-4.8072, 1.9515, 9.36, -1.1409, -2.6833, 5.60...  \n",
       "1  [0.0, 0.0, 0.0, 0.0, 0.0, 0.0, 0.0, 0.0, 0.0, ...  \n",
       "2  [-3.0574, 1.1077, 2.1435, -3.6359, -0.94273, 0...  \n",
       "3  [0.0, 0.0, 0.0, 0.0, 0.0, 0.0, 0.0, 0.0, 0.0, ...  \n",
       "4  [-1.1334, -0.88104, 0.49688, -1.1014, 3.2141, ...  "
      ]
     },
     "execution_count": 20,
     "metadata": {},
     "output_type": "execute_result"
    }
   ],
   "source": [
    "df_test.head()"
   ]
  },
  {
   "cell_type": "code",
   "execution_count": 21,
   "metadata": {},
   "outputs": [
    {
     "data": {
      "text/html": [
       "<div>\n",
       "<style scoped>\n",
       "    .dataframe tbody tr th:only-of-type {\n",
       "        vertical-align: middle;\n",
       "    }\n",
       "\n",
       "    .dataframe tbody tr th {\n",
       "        vertical-align: top;\n",
       "    }\n",
       "\n",
       "    .dataframe thead th {\n",
       "        text-align: right;\n",
       "    }\n",
       "</style>\n",
       "<table border=\"1\" class=\"dataframe\">\n",
       "  <thead>\n",
       "    <tr style=\"text-align: right;\">\n",
       "      <th></th>\n",
       "      <th>label</th>\n",
       "      <th>sentence</th>\n",
       "      <th>lemmatized_sentence</th>\n",
       "      <th>vectorized_sentence</th>\n",
       "    </tr>\n",
       "  </thead>\n",
       "  <tbody>\n",
       "    <tr>\n",
       "      <th>0</th>\n",
       "      <td>0</td>\n",
       "      <td>Veranstaltungen, Entspannung</td>\n",
       "      <td>Veranstaltung Entspannung</td>\n",
       "      <td>[0.52938, 0.755215, 0.09990001, 0.75145, -1.07...</td>\n",
       "    </tr>\n",
       "    <tr>\n",
       "      <th>1</th>\n",
       "      <td>0</td>\n",
       "      <td>denkabr wäre Kunst und</td>\n",
       "      <td>Denkabr Kunst</td>\n",
       "      <td>[-0.92885, 0.8081, 1.00135, 0.5814, -1.2075, -...</td>\n",
       "    </tr>\n",
       "    <tr>\n",
       "      <th>2</th>\n",
       "      <td>0</td>\n",
       "      <td>mehr Entspannungs- und Freizeitmöglichkeiten</td>\n",
       "      <td>Entspannung Freizeitmöglichkeit</td>\n",
       "      <td>[-0.53087, -0.029850006, 0.53752, 1.377835, -2...</td>\n",
       "    </tr>\n",
       "    <tr>\n",
       "      <th>3</th>\n",
       "      <td>0</td>\n",
       "      <td>Freizeitmöglichkeit mit Wiese, eventuell Parkä...</td>\n",
       "      <td>Freizeitmöglichkeit Wiese eventuell Parkähnlich</td>\n",
       "      <td>[-0.107137516, -0.61556005, -0.090515, -0.4693...</td>\n",
       "    </tr>\n",
       "    <tr>\n",
       "      <th>4</th>\n",
       "      <td>0</td>\n",
       "      <td>Nutzungsraum für Feste und Veranstaltungen im ...</td>\n",
       "      <td>Nutzungsraum Fest Veranstaltung freie</td>\n",
       "      <td>[-0.15308248, -0.776075, -0.36971247, 0.4225, ...</td>\n",
       "    </tr>\n",
       "  </tbody>\n",
       "</table>\n",
       "</div>"
      ],
      "text/plain": [
       "   label                                           sentence  \\\n",
       "0      0                       Veranstaltungen, Entspannung   \n",
       "1      0                            denkabr wäre Kunst und    \n",
       "2      0       mehr Entspannungs- und Freizeitmöglichkeiten   \n",
       "3      0  Freizeitmöglichkeit mit Wiese, eventuell Parkä...   \n",
       "4      0  Nutzungsraum für Feste und Veranstaltungen im ...   \n",
       "\n",
       "                               lemmatized_sentence  \\\n",
       "0                        Veranstaltung Entspannung   \n",
       "1                                    Denkabr Kunst   \n",
       "2                  Entspannung Freizeitmöglichkeit   \n",
       "3  Freizeitmöglichkeit Wiese eventuell Parkähnlich   \n",
       "4            Nutzungsraum Fest Veranstaltung freie   \n",
       "\n",
       "                                 vectorized_sentence  \n",
       "0  [0.52938, 0.755215, 0.09990001, 0.75145, -1.07...  \n",
       "1  [-0.92885, 0.8081, 1.00135, 0.5814, -1.2075, -...  \n",
       "2  [-0.53087, -0.029850006, 0.53752, 1.377835, -2...  \n",
       "3  [-0.107137516, -0.61556005, -0.090515, -0.4693...  \n",
       "4  [-0.15308248, -0.776075, -0.36971247, 0.4225, ...  "
      ]
     },
     "execution_count": 21,
     "metadata": {},
     "output_type": "execute_result"
    }
   ],
   "source": [
    "df_over_500_entries.head()"
   ]
  },
  {
   "cell_type": "code",
   "execution_count": 22,
   "metadata": {},
   "outputs": [
    {
     "name": "stdout",
     "output_type": "stream",
     "text": [
      "0.7467954053604129\n"
     ]
    }
   ],
   "source": [
    "X = np.vstack(df_over_500_entries[\"vectorized_sentence\"])\n",
    "y = df_over_500_entries[\"label\"]\n",
    "\n",
    "X_train, X_test, y_train, y_test = train_test_split(X, y, test_size=0.2)\n",
    "\n",
    "knn_model = KNeighborsClassifier(n_neighbors=5)\n",
    "\n",
    "knn_model.fit(X_train, y_train)\n",
    "\n",
    "y_pred = knn_model.predict(X_test)\n",
    "\n",
    "acc = accuracy_score(y_test, y_pred)\n",
    "\n",
    "print(acc)"
   ]
  },
  {
   "cell_type": "code",
   "execution_count": 23,
   "metadata": {},
   "outputs": [],
   "source": [
    "smote = SMOTE(random_state=42)\n",
    "\n",
    "# X_train, X_test, y_train, y_test = train_test_split(X, y, test_size=0.2)\n",
    "\n",
    "# X = np.vstack(df_over_500_entries[\"vectorized_sentence\"])\n",
    "# y = df_over_500_entries[\"label\"]\n",
    "\n",
    "X_resampled, y_resampled = smote.fit_resample(X, y)\n",
    "\n",
    "X_test = np.vstack(df_test[\"vectorized_new_sentences\"])\n",
    "y_test = df_test[\"new_labels\"]"
   ]
  },
  {
   "cell_type": "code",
   "execution_count": 24,
   "metadata": {},
   "outputs": [
    {
     "data": {
      "text/plain": [
       "label\n",
       "0    7558\n",
       "1    7558\n",
       "2    7558\n",
       "3    7558\n",
       "4    7558\n",
       "5    7558\n",
       "6    7558\n",
       "7    7558\n",
       "8    7558\n",
       "9    7558\n",
       "Name: count, dtype: int64"
      ]
     },
     "execution_count": 24,
     "metadata": {},
     "output_type": "execute_result"
    }
   ],
   "source": [
    "y_resampled.value_counts()"
   ]
  },
  {
   "cell_type": "code",
   "execution_count": 25,
   "metadata": {},
   "outputs": [],
   "source": [
    "import xgboost as xgb\n",
    "\n",
    "knn_model = KNeighborsClassifier(n_neighbors=5)\n",
    "svm_model = svm.SVC()\n",
    "xgbc = xgb.XGBClassifier(learning_rate=0.3, max_depth=6, n_estimators=200, subsample=1.0, colsample_bytree=1.0, reg_lambda=1)"
   ]
  },
  {
   "cell_type": "code",
   "execution_count": 26,
   "metadata": {},
   "outputs": [],
   "source": [
    "def test_models(models: list, X_train, y_train, X_test ,y_test):\n",
    "\tfor model in models:\n",
    "\t\tmodel.fit(X_train, y_train)\n",
    "\t\ty_pred = model.predict(X_test)\n",
    "\t\tprint(model)\n",
    "\t\tprint(accuracy_score(y_test, y_pred))"
   ]
  },
  {
   "cell_type": "code",
   "execution_count": 27,
   "metadata": {},
   "outputs": [
    {
     "name": "stdout",
     "output_type": "stream",
     "text": [
      "XGBClassifier(base_score=None, booster=None, callbacks=None,\n",
      "              colsample_bylevel=None, colsample_bynode=None,\n",
      "              colsample_bytree=1.0, device=None, early_stopping_rounds=None,\n",
      "              enable_categorical=False, eval_metric=None, feature_types=None,\n",
      "              gamma=None, grow_policy=None, importance_type=None,\n",
      "              interaction_constraints=None, learning_rate=0.3, max_bin=None,\n",
      "              max_cat_threshold=None, max_cat_to_onehot=None,\n",
      "              max_delta_step=None, max_depth=6, max_leaves=None,\n",
      "              min_child_weight=None, missing=nan, monotone_constraints=None,\n",
      "              multi_strategy=None, n_estimators=200, n_jobs=None,\n",
      "              num_parallel_tree=None, objective='multi:softprob', ...)\n",
      "0.9233333333333333\n"
     ]
    }
   ],
   "source": [
    "test_models([xgbc], X_resampled, y_resampled, X_test, y_test)"
   ]
  }
 ],
 "metadata": {
  "kernelspec": {
   "display_name": ".venv",
   "language": "python",
   "name": "python3"
  },
  "language_info": {
   "codemirror_mode": {
    "name": "ipython",
    "version": 3
   },
   "file_extension": ".py",
   "mimetype": "text/x-python",
   "name": "python",
   "nbconvert_exporter": "python",
   "pygments_lexer": "ipython3",
   "version": "3.12.7"
  }
 },
 "nbformat": 4,
 "nbformat_minor": 2
}
