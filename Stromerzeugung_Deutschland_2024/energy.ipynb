{
 "cells": [
  {
   "cell_type": "markdown",
   "metadata": {},
   "source": [
    "# Stromerzeugung in Deutschland in 2024\n",
    "\n",
    "### Vorgehen:\n",
    "\n",
    "1. Hypothesen aufstellen\n",
    "   1. Am Tag gibt es mehr Sonnenenergie als Nachts\n",
    "   2. Solar erzeugt viel Strom, wenn Wind wenig Strom erzeugt\n",
    "   3. Die Zeitumstellung hat einen Einfluss auf die Energieerzeugung (Zusatz)\n",
    "   4. Im Jahr liefern die erneuerbaren Energien mehr Strom als die konventionellen Energien\n",
    "   5. Die Energieerzeugung durch Müll ist die meiste Zeit konstant\n",
    "   6. Kohle und Gas werden vor allem dann benötigt, wenn man eine hohe Last hat\n",
    "   7. Wenn viel Energie aus erneuerbaren Energiequellen gewonnen wird, wird weniger Energie konventionell gewonnen\n",
    "   8. In den Dämmerungen wird mehr Windstrom produziert, als in der Mittags- und Mitternachts-zeit (Zusatz)\n",
    "   9. Weitere\n",
    "2. Hypothesen nacheinander prüfen"
   ]
  },
  {
   "cell_type": "markdown",
   "metadata": {},
   "source": [
    "### Imports"
   ]
  },
  {
   "cell_type": "code",
   "execution_count": 27,
   "metadata": {},
   "outputs": [],
   "source": [
    "import pandas as pd\n",
    "import seaborn as sns\n",
    "import matplotlib.pyplot as plt\n",
    "import plotly.express as px"
   ]
  },
  {
   "cell_type": "code",
   "execution_count": 28,
   "metadata": {},
   "outputs": [],
   "source": [
    "energy_data = pd.read_csv(\"./data/energy_chart_Deutschland_2024.csv\", encoding='latin1', sep=',')\n",
    "\n",
    "energy_data = energy_data[1:]\n",
    "\n",
    "for category in energy_data.keys()[1:]:\n",
    "    energy_data[category] = energy_data[category].astype('float')\n",
    "energy_data['Datum (MEZ)'] = pd.to_datetime(energy_data['Datum (MEZ)'], utc=True) + pd.DateOffset(hours=1)"
   ]
  },
  {
   "cell_type": "code",
   "execution_count": 29,
   "metadata": {},
   "outputs": [
    {
     "name": "stdout",
     "output_type": "stream",
     "text": [
      "<class 'pandas.core.frame.DataFrame'>\n",
      "RangeIndex: 30562 entries, 1 to 30562\n",
      "Data columns (total 16 columns):\n",
      " #   Column          Non-Null Count  Dtype              \n",
      "---  ------          --------------  -----              \n",
      " 0   Datum (MEZ)     30562 non-null  datetime64[ns, UTC]\n",
      " 1   Laufwasser      30562 non-null  float64            \n",
      " 2   Biomasse        30562 non-null  float64            \n",
      " 3   Braunkohle      30562 non-null  float64            \n",
      " 4   Steinkohle      30562 non-null  float64            \n",
      " 5   Öl              30562 non-null  float64            \n",
      " 6   Erdgas          30562 non-null  float64            \n",
      " 7   Geothermie      30482 non-null  float64            \n",
      " 8   Speicherwasser  30562 non-null  float64            \n",
      " 9   Pumpspeicher    30562 non-null  float64            \n",
      " 10  Andere          30474 non-null  float64            \n",
      " 11  Müll            30562 non-null  float64            \n",
      " 12  Wind Offshore   30562 non-null  float64            \n",
      " 13  Wind Onshore    30562 non-null  float64            \n",
      " 14  Solar           30562 non-null  float64            \n",
      " 15  Last            30561 non-null  float64            \n",
      "dtypes: datetime64[ns, UTC](1), float64(15)\n",
      "memory usage: 3.7 MB\n"
     ]
    }
   ],
   "source": [
    "energy_data.info()"
   ]
  },
  {
   "cell_type": "code",
   "execution_count": 30,
   "metadata": {},
   "outputs": [
    {
     "data": {
      "text/html": [
       "<div>\n",
       "<style scoped>\n",
       "    .dataframe tbody tr th:only-of-type {\n",
       "        vertical-align: middle;\n",
       "    }\n",
       "\n",
       "    .dataframe tbody tr th {\n",
       "        vertical-align: top;\n",
       "    }\n",
       "\n",
       "    .dataframe thead th {\n",
       "        text-align: right;\n",
       "    }\n",
       "</style>\n",
       "<table border=\"1\" class=\"dataframe\">\n",
       "  <thead>\n",
       "    <tr style=\"text-align: right;\">\n",
       "      <th></th>\n",
       "      <th>Laufwasser</th>\n",
       "      <th>Biomasse</th>\n",
       "      <th>Braunkohle</th>\n",
       "      <th>Steinkohle</th>\n",
       "      <th>Öl</th>\n",
       "      <th>Erdgas</th>\n",
       "      <th>Geothermie</th>\n",
       "      <th>Speicherwasser</th>\n",
       "      <th>Pumpspeicher</th>\n",
       "      <th>Andere</th>\n",
       "      <th>Müll</th>\n",
       "      <th>Wind Offshore</th>\n",
       "      <th>Wind Onshore</th>\n",
       "      <th>Solar</th>\n",
       "      <th>Last</th>\n",
       "    </tr>\n",
       "  </thead>\n",
       "  <tbody>\n",
       "    <tr>\n",
       "      <th>count</th>\n",
       "      <td>30562.000000</td>\n",
       "      <td>30562.000000</td>\n",
       "      <td>30562.000000</td>\n",
       "      <td>30562.000000</td>\n",
       "      <td>30562.000000</td>\n",
       "      <td>30562.000000</td>\n",
       "      <td>30482.000000</td>\n",
       "      <td>30562.000000</td>\n",
       "      <td>30562.000000</td>\n",
       "      <td>30474.000000</td>\n",
       "      <td>30562.000000</td>\n",
       "      <td>30562.000000</td>\n",
       "      <td>30562.000000</td>\n",
       "      <td>30562.000000</td>\n",
       "      <td>30561.000000</td>\n",
       "    </tr>\n",
       "    <tr>\n",
       "      <th>mean</th>\n",
       "      <td>2426.938564</td>\n",
       "      <td>4158.563864</td>\n",
       "      <td>7926.534828</td>\n",
       "      <td>2622.557922</td>\n",
       "      <td>370.715846</td>\n",
       "      <td>5209.983172</td>\n",
       "      <td>17.625254</td>\n",
       "      <td>142.407774</td>\n",
       "      <td>1266.177217</td>\n",
       "      <td>159.679153</td>\n",
       "      <td>1052.003187</td>\n",
       "      <td>2827.030826</td>\n",
       "      <td>11665.830207</td>\n",
       "      <td>7774.229281</td>\n",
       "      <td>52234.339514</td>\n",
       "    </tr>\n",
       "    <tr>\n",
       "      <th>std</th>\n",
       "      <td>314.757939</td>\n",
       "      <td>326.918942</td>\n",
       "      <td>3248.433067</td>\n",
       "      <td>1849.452298</td>\n",
       "      <td>90.279029</td>\n",
       "      <td>2793.181931</td>\n",
       "      <td>3.732722</td>\n",
       "      <td>131.476631</td>\n",
       "      <td>1667.198180</td>\n",
       "      <td>49.238767</td>\n",
       "      <td>168.749259</td>\n",
       "      <td>1884.404468</td>\n",
       "      <td>9254.845105</td>\n",
       "      <td>11162.603360</td>\n",
       "      <td>9141.370843</td>\n",
       "    </tr>\n",
       "    <tr>\n",
       "      <th>min</th>\n",
       "      <td>1154.000000</td>\n",
       "      <td>3302.200000</td>\n",
       "      <td>2501.800000</td>\n",
       "      <td>231.600000</td>\n",
       "      <td>37.000000</td>\n",
       "      <td>1330.800000</td>\n",
       "      <td>5.700000</td>\n",
       "      <td>1.100000</td>\n",
       "      <td>0.000000</td>\n",
       "      <td>111.100000</td>\n",
       "      <td>354.500000</td>\n",
       "      <td>0.000000</td>\n",
       "      <td>44.200000</td>\n",
       "      <td>0.000000</td>\n",
       "      <td>31900.800000</td>\n",
       "    </tr>\n",
       "    <tr>\n",
       "      <th>25%</th>\n",
       "      <td>2191.400000</td>\n",
       "      <td>3926.500000</td>\n",
       "      <td>4986.025000</td>\n",
       "      <td>1224.425000</td>\n",
       "      <td>333.500000</td>\n",
       "      <td>2952.750000</td>\n",
       "      <td>15.400000</td>\n",
       "      <td>46.200000</td>\n",
       "      <td>96.400000</td>\n",
       "      <td>113.500000</td>\n",
       "      <td>945.900000</td>\n",
       "      <td>1143.325000</td>\n",
       "      <td>4581.150000</td>\n",
       "      <td>2.000000</td>\n",
       "      <td>44632.700000</td>\n",
       "    </tr>\n",
       "    <tr>\n",
       "      <th>50%</th>\n",
       "      <td>2423.450000</td>\n",
       "      <td>4179.400000</td>\n",
       "      <td>8023.150000</td>\n",
       "      <td>2059.750000</td>\n",
       "      <td>367.800000</td>\n",
       "      <td>4574.750000</td>\n",
       "      <td>16.400000</td>\n",
       "      <td>93.200000</td>\n",
       "      <td>416.900000</td>\n",
       "      <td>148.400000</td>\n",
       "      <td>1092.700000</td>\n",
       "      <td>2618.500000</td>\n",
       "      <td>9171.950000</td>\n",
       "      <td>482.250000</td>\n",
       "      <td>52135.200000</td>\n",
       "    </tr>\n",
       "    <tr>\n",
       "      <th>75%</th>\n",
       "      <td>2668.300000</td>\n",
       "      <td>4392.000000</td>\n",
       "      <td>10471.350000</td>\n",
       "      <td>3619.800000</td>\n",
       "      <td>377.475000</td>\n",
       "      <td>6743.675000</td>\n",
       "      <td>21.100000</td>\n",
       "      <td>194.700000</td>\n",
       "      <td>1904.525000</td>\n",
       "      <td>189.800000</td>\n",
       "      <td>1172.675000</td>\n",
       "      <td>4378.950000</td>\n",
       "      <td>16434.300000</td>\n",
       "      <td>13713.275000</td>\n",
       "      <td>59466.000000</td>\n",
       "    </tr>\n",
       "    <tr>\n",
       "      <th>max</th>\n",
       "      <td>3180.300000</td>\n",
       "      <td>5013.700000</td>\n",
       "      <td>17158.300000</td>\n",
       "      <td>10022.000000</td>\n",
       "      <td>1191.100000</td>\n",
       "      <td>15355.000000</td>\n",
       "      <td>25.900000</td>\n",
       "      <td>680.800000</td>\n",
       "      <td>7445.200000</td>\n",
       "      <td>324.800000</td>\n",
       "      <td>1366.600000</td>\n",
       "      <td>7389.300000</td>\n",
       "      <td>45941.000000</td>\n",
       "      <td>46942.000000</td>\n",
       "      <td>75766.700000</td>\n",
       "    </tr>\n",
       "  </tbody>\n",
       "</table>\n",
       "</div>"
      ],
      "text/plain": [
       "         Laufwasser      Biomasse    Braunkohle    Steinkohle            Öl  \\\n",
       "count  30562.000000  30562.000000  30562.000000  30562.000000  30562.000000   \n",
       "mean    2426.938564   4158.563864   7926.534828   2622.557922    370.715846   \n",
       "std      314.757939    326.918942   3248.433067   1849.452298     90.279029   \n",
       "min     1154.000000   3302.200000   2501.800000    231.600000     37.000000   \n",
       "25%     2191.400000   3926.500000   4986.025000   1224.425000    333.500000   \n",
       "50%     2423.450000   4179.400000   8023.150000   2059.750000    367.800000   \n",
       "75%     2668.300000   4392.000000  10471.350000   3619.800000    377.475000   \n",
       "max     3180.300000   5013.700000  17158.300000  10022.000000   1191.100000   \n",
       "\n",
       "             Erdgas    Geothermie  Speicherwasser  Pumpspeicher        Andere  \\\n",
       "count  30562.000000  30482.000000    30562.000000  30562.000000  30474.000000   \n",
       "mean    5209.983172     17.625254      142.407774   1266.177217    159.679153   \n",
       "std     2793.181931      3.732722      131.476631   1667.198180     49.238767   \n",
       "min     1330.800000      5.700000        1.100000      0.000000    111.100000   \n",
       "25%     2952.750000     15.400000       46.200000     96.400000    113.500000   \n",
       "50%     4574.750000     16.400000       93.200000    416.900000    148.400000   \n",
       "75%     6743.675000     21.100000      194.700000   1904.525000    189.800000   \n",
       "max    15355.000000     25.900000      680.800000   7445.200000    324.800000   \n",
       "\n",
       "               Müll  Wind Offshore  Wind Onshore         Solar          Last  \n",
       "count  30562.000000   30562.000000  30562.000000  30562.000000  30561.000000  \n",
       "mean    1052.003187    2827.030826  11665.830207   7774.229281  52234.339514  \n",
       "std      168.749259    1884.404468   9254.845105  11162.603360   9141.370843  \n",
       "min      354.500000       0.000000     44.200000      0.000000  31900.800000  \n",
       "25%      945.900000    1143.325000   4581.150000      2.000000  44632.700000  \n",
       "50%     1092.700000    2618.500000   9171.950000    482.250000  52135.200000  \n",
       "75%     1172.675000    4378.950000  16434.300000  13713.275000  59466.000000  \n",
       "max     1366.600000    7389.300000  45941.000000  46942.000000  75766.700000  "
      ]
     },
     "execution_count": 30,
     "metadata": {},
     "output_type": "execute_result"
    }
   ],
   "source": [
    "energy_data.describe()"
   ]
  },
  {
   "cell_type": "code",
   "execution_count": 31,
   "metadata": {},
   "outputs": [
    {
     "data": {
      "text/plain": [
       "<Axes: >"
      ]
     },
     "execution_count": 31,
     "metadata": {},
     "output_type": "execute_result"
    },
    {
     "data": {
      "image/png": "[encoded data removed]",
      "text/plain": [
       "<Figure size 1500x1500 with 2 Axes>"
      ]
     },
     "metadata": {},
     "output_type": "display_data"
    }
   ],
   "source": [
    "energy_data_num = energy_data.corr(numeric_only=True)\n",
    "\n",
    "plt.figure(figsize=(15,15))\n",
    "sns.heatmap(energy_data_num, cmap=\"coolwarm\", annot=True, fmt=\"0.2f\")"
   ]
  },
  {
   "cell_type": "markdown",
   "metadata": {},
   "source": [
    "# Resampling des Dataframes von 15min abschnitten auf Wochen um erstmal eine grobe Übersicht zu bekommen"
   ]
  },
  {
   "cell_type": "code",
   "execution_count": 32,
   "metadata": {},
   "outputs": [
    {
     "data": {
      "text/html": [
       "<div>\n",
       "<style scoped>\n",
       "    .dataframe tbody tr th:only-of-type {\n",
       "        vertical-align: middle;\n",
       "    }\n",
       "\n",
       "    .dataframe tbody tr th {\n",
       "        vertical-align: top;\n",
       "    }\n",
       "\n",
       "    .dataframe thead th {\n",
       "        text-align: right;\n",
       "    }\n",
       "</style>\n",
       "<table border=\"1\" class=\"dataframe\">\n",
       "  <thead>\n",
       "    <tr style=\"text-align: right;\">\n",
       "      <th></th>\n",
       "      <th>Laufwasser</th>\n",
       "      <th>Biomasse</th>\n",
       "      <th>Braunkohle</th>\n",
       "      <th>Steinkohle</th>\n",
       "      <th>Öl</th>\n",
       "      <th>Erdgas</th>\n",
       "      <th>Geothermie</th>\n",
       "      <th>Speicherwasser</th>\n",
       "      <th>Pumpspeicher</th>\n",
       "      <th>Andere</th>\n",
       "      <th>Müll</th>\n",
       "      <th>Wind Offshore</th>\n",
       "      <th>Wind Onshore</th>\n",
       "      <th>Solar</th>\n",
       "      <th>Last</th>\n",
       "    </tr>\n",
       "    <tr>\n",
       "      <th>Datum (MEZ)</th>\n",
       "      <th></th>\n",
       "      <th></th>\n",
       "      <th></th>\n",
       "      <th></th>\n",
       "      <th></th>\n",
       "      <th></th>\n",
       "      <th></th>\n",
       "      <th></th>\n",
       "      <th></th>\n",
       "      <th></th>\n",
       "      <th></th>\n",
       "      <th></th>\n",
       "      <th></th>\n",
       "      <th></th>\n",
       "      <th></th>\n",
       "    </tr>\n",
       "  </thead>\n",
       "  <tbody>\n",
       "    <tr>\n",
       "      <th>2024-01-01 00:00:00+00:00</th>\n",
       "      <td>2223.2</td>\n",
       "      <td>4180.6</td>\n",
       "      <td>3314.0</td>\n",
       "      <td>1566.0</td>\n",
       "      <td>398.4</td>\n",
       "      <td>2680.2</td>\n",
       "      <td>22.9</td>\n",
       "      <td>86.4</td>\n",
       "      <td>791.4</td>\n",
       "      <td>152.4</td>\n",
       "      <td>837.2</td>\n",
       "      <td>5838.9</td>\n",
       "      <td>29367.0</td>\n",
       "      <td>2.4</td>\n",
       "      <td>40592.6</td>\n",
       "    </tr>\n",
       "    <tr>\n",
       "      <th>2024-01-01 00:15:00+00:00</th>\n",
       "      <td>2222.3</td>\n",
       "      <td>4182.8</td>\n",
       "      <td>3436.9</td>\n",
       "      <td>1572.5</td>\n",
       "      <td>397.6</td>\n",
       "      <td>2516.8</td>\n",
       "      <td>22.8</td>\n",
       "      <td>99.7</td>\n",
       "      <td>430.3</td>\n",
       "      <td>152.4</td>\n",
       "      <td>844.0</td>\n",
       "      <td>5747.9</td>\n",
       "      <td>29028.0</td>\n",
       "      <td>2.4</td>\n",
       "      <td>40301.1</td>\n",
       "    </tr>\n",
       "    <tr>\n",
       "      <th>2024-01-01 00:30:00+00:00</th>\n",
       "      <td>2218.7</td>\n",
       "      <td>4185.5</td>\n",
       "      <td>3340.2</td>\n",
       "      <td>1567.0</td>\n",
       "      <td>397.8</td>\n",
       "      <td>2516.7</td>\n",
       "      <td>22.9</td>\n",
       "      <td>90.0</td>\n",
       "      <td>470.4</td>\n",
       "      <td>152.4</td>\n",
       "      <td>836.0</td>\n",
       "      <td>5618.1</td>\n",
       "      <td>29035.8</td>\n",
       "      <td>1.6</td>\n",
       "      <td>40171.7</td>\n",
       "    </tr>\n",
       "    <tr>\n",
       "      <th>2024-01-01 00:45:00+00:00</th>\n",
       "      <td>2216.7</td>\n",
       "      <td>4187.7</td>\n",
       "      <td>3318.9</td>\n",
       "      <td>1577.4</td>\n",
       "      <td>398.4</td>\n",
       "      <td>2496.4</td>\n",
       "      <td>22.8</td>\n",
       "      <td>82.6</td>\n",
       "      <td>358.3</td>\n",
       "      <td>152.4</td>\n",
       "      <td>813.6</td>\n",
       "      <td>5512.0</td>\n",
       "      <td>29440.9</td>\n",
       "      <td>1.7</td>\n",
       "      <td>39615.0</td>\n",
       "    </tr>\n",
       "    <tr>\n",
       "      <th>2024-01-01 01:00:00+00:00</th>\n",
       "      <td>2216.1</td>\n",
       "      <td>4166.3</td>\n",
       "      <td>3322.8</td>\n",
       "      <td>1572.5</td>\n",
       "      <td>398.0</td>\n",
       "      <td>2504.5</td>\n",
       "      <td>22.6</td>\n",
       "      <td>82.8</td>\n",
       "      <td>505.9</td>\n",
       "      <td>152.4</td>\n",
       "      <td>813.2</td>\n",
       "      <td>5463.9</td>\n",
       "      <td>29501.6</td>\n",
       "      <td>2.4</td>\n",
       "      <td>39336.8</td>\n",
       "    </tr>\n",
       "  </tbody>\n",
       "</table>\n",
       "</div>"
      ],
      "text/plain": [
       "                           Laufwasser  Biomasse  Braunkohle  Steinkohle  \\\n",
       "Datum (MEZ)                                                               \n",
       "2024-01-01 00:00:00+00:00      2223.2    4180.6      3314.0      1566.0   \n",
       "2024-01-01 00:15:00+00:00      2222.3    4182.8      3436.9      1572.5   \n",
       "2024-01-01 00:30:00+00:00      2218.7    4185.5      3340.2      1567.0   \n",
       "2024-01-01 00:45:00+00:00      2216.7    4187.7      3318.9      1577.4   \n",
       "2024-01-01 01:00:00+00:00      2216.1    4166.3      3322.8      1572.5   \n",
       "\n",
       "                              Öl  Erdgas  Geothermie  Speicherwasser  \\\n",
       "Datum (MEZ)                                                            \n",
       "2024-01-01 00:00:00+00:00  398.4  2680.2        22.9            86.4   \n",
       "2024-01-01 00:15:00+00:00  397.6  2516.8        22.8            99.7   \n",
       "2024-01-01 00:30:00+00:00  397.8  2516.7        22.9            90.0   \n",
       "2024-01-01 00:45:00+00:00  398.4  2496.4        22.8            82.6   \n",
       "2024-01-01 01:00:00+00:00  398.0  2504.5        22.6            82.8   \n",
       "\n",
       "                           Pumpspeicher  Andere   Müll  Wind Offshore  \\\n",
       "Datum (MEZ)                                                             \n",
       "2024-01-01 00:00:00+00:00         791.4   152.4  837.2         5838.9   \n",
       "2024-01-01 00:15:00+00:00         430.3   152.4  844.0         5747.9   \n",
       "2024-01-01 00:30:00+00:00         470.4   152.4  836.0         5618.1   \n",
       "2024-01-01 00:45:00+00:00         358.3   152.4  813.6         5512.0   \n",
       "2024-01-01 01:00:00+00:00         505.9   152.4  813.2         5463.9   \n",
       "\n",
       "                           Wind Onshore  Solar     Last  \n",
       "Datum (MEZ)                                              \n",
       "2024-01-01 00:00:00+00:00       29367.0    2.4  40592.6  \n",
       "2024-01-01 00:15:00+00:00       29028.0    2.4  40301.1  \n",
       "2024-01-01 00:30:00+00:00       29035.8    1.6  40171.7  \n",
       "2024-01-01 00:45:00+00:00       29440.9    1.7  39615.0  \n",
       "2024-01-01 01:00:00+00:00       29501.6    2.4  39336.8  "
      ]
     },
     "execution_count": 32,
     "metadata": {},
     "output_type": "execute_result"
    }
   ],
   "source": [
    "energy_data = energy_data.set_index(\"Datum (MEZ)\")\n",
    "energy_data.head(5)"
   ]
  },
  {
   "cell_type": "code",
   "execution_count": 33,
   "metadata": {},
   "outputs": [],
   "source": [
    "weekly_mean_df = energy_data.resample(\"W\").mean()\n",
    "weekly_min_df = energy_data.resample(\"W\").min()\n",
    "weekly_max_df = energy_data.resample(\"W\").max()"
   ]
  },
  {
   "cell_type": "code",
   "execution_count": 34,
   "metadata": {},
   "outputs": [
    {
     "data": {
      "text/html": [
       "<div>\n",
       "<style scoped>\n",
       "    .dataframe tbody tr th:only-of-type {\n",
       "        vertical-align: middle;\n",
       "    }\n",
       "\n",
       "    .dataframe tbody tr th {\n",
       "        vertical-align: top;\n",
       "    }\n",
       "\n",
       "    .dataframe thead th {\n",
       "        text-align: right;\n",
       "    }\n",
       "</style>\n",
       "<table border=\"1\" class=\"dataframe\">\n",
       "  <thead>\n",
       "    <tr style=\"text-align: right;\">\n",
       "      <th></th>\n",
       "      <th>Laufwasser_mean</th>\n",
       "      <th>Laufwasser_min</th>\n",
       "      <th>Laufwasser_max</th>\n",
       "      <th>Biomasse_mean</th>\n",
       "      <th>Biomasse_min</th>\n",
       "      <th>Biomasse_max</th>\n",
       "      <th>Braunkohle_mean</th>\n",
       "      <th>Braunkohle_min</th>\n",
       "      <th>Braunkohle_max</th>\n",
       "      <th>Steinkohle_mean</th>\n",
       "      <th>...</th>\n",
       "      <th>Wind Offshore_max</th>\n",
       "      <th>Wind Onshore_mean</th>\n",
       "      <th>Wind Onshore_min</th>\n",
       "      <th>Wind Onshore_max</th>\n",
       "      <th>Solar_mean</th>\n",
       "      <th>Solar_min</th>\n",
       "      <th>Solar_max</th>\n",
       "      <th>Last_mean</th>\n",
       "      <th>Last_min</th>\n",
       "      <th>Last_max</th>\n",
       "    </tr>\n",
       "    <tr>\n",
       "      <th>Datum (MEZ)</th>\n",
       "      <th></th>\n",
       "      <th></th>\n",
       "      <th></th>\n",
       "      <th></th>\n",
       "      <th></th>\n",
       "      <th></th>\n",
       "      <th></th>\n",
       "      <th></th>\n",
       "      <th></th>\n",
       "      <th></th>\n",
       "      <th></th>\n",
       "      <th></th>\n",
       "      <th></th>\n",
       "      <th></th>\n",
       "      <th></th>\n",
       "      <th></th>\n",
       "      <th></th>\n",
       "      <th></th>\n",
       "      <th></th>\n",
       "      <th></th>\n",
       "      <th></th>\n",
       "    </tr>\n",
       "  </thead>\n",
       "  <tbody>\n",
       "    <tr>\n",
       "      <th>2024-01-07 00:00:00+00:00</th>\n",
       "      <td>2191.699405</td>\n",
       "      <td>1154.0</td>\n",
       "      <td>2424.0</td>\n",
       "      <td>4373.359821</td>\n",
       "      <td>4083.4</td>\n",
       "      <td>4726.9</td>\n",
       "      <td>7360.295982</td>\n",
       "      <td>3295.9</td>\n",
       "      <td>12410.6</td>\n",
       "      <td>2332.676190</td>\n",
       "      <td>...</td>\n",
       "      <td>6437.3</td>\n",
       "      <td>22380.229613</td>\n",
       "      <td>5672.8</td>\n",
       "      <td>42850.5</td>\n",
       "      <td>936.530506</td>\n",
       "      <td>1.5</td>\n",
       "      <td>7923.0</td>\n",
       "      <td>52811.657440</td>\n",
       "      <td>36592.6</td>\n",
       "      <td>65872.4</td>\n",
       "    </tr>\n",
       "    <tr>\n",
       "      <th>2024-01-14 00:00:00+00:00</th>\n",
       "      <td>2293.784821</td>\n",
       "      <td>2004.4</td>\n",
       "      <td>2487.9</td>\n",
       "      <td>4481.776339</td>\n",
       "      <td>4189.8</td>\n",
       "      <td>4825.7</td>\n",
       "      <td>12631.270387</td>\n",
       "      <td>6808.2</td>\n",
       "      <td>15789.4</td>\n",
       "      <td>6895.946280</td>\n",
       "      <td>...</td>\n",
       "      <td>6564.9</td>\n",
       "      <td>12257.950893</td>\n",
       "      <td>2036.3</td>\n",
       "      <td>28538.3</td>\n",
       "      <td>1857.787202</td>\n",
       "      <td>1.4</td>\n",
       "      <td>15615.5</td>\n",
       "      <td>61640.776042</td>\n",
       "      <td>45332.1</td>\n",
       "      <td>72802.6</td>\n",
       "    </tr>\n",
       "    <tr>\n",
       "      <th>2024-01-21 00:00:00+00:00</th>\n",
       "      <td>2167.367411</td>\n",
       "      <td>1916.1</td>\n",
       "      <td>2422.7</td>\n",
       "      <td>4477.871726</td>\n",
       "      <td>4189.8</td>\n",
       "      <td>4818.4</td>\n",
       "      <td>11236.998958</td>\n",
       "      <td>3626.8</td>\n",
       "      <td>15975.5</td>\n",
       "      <td>5479.241369</td>\n",
       "      <td>...</td>\n",
       "      <td>6513.3</td>\n",
       "      <td>19597.047768</td>\n",
       "      <td>3430.2</td>\n",
       "      <td>38212.4</td>\n",
       "      <td>1335.627530</td>\n",
       "      <td>1.5</td>\n",
       "      <td>12536.1</td>\n",
       "      <td>62999.312351</td>\n",
       "      <td>46390.6</td>\n",
       "      <td>75766.7</td>\n",
       "    </tr>\n",
       "    <tr>\n",
       "      <th>2024-01-28 00:00:00+00:00</th>\n",
       "      <td>2376.558780</td>\n",
       "      <td>1850.8</td>\n",
       "      <td>2685.1</td>\n",
       "      <td>4429.521577</td>\n",
       "      <td>4096.4</td>\n",
       "      <td>4780.6</td>\n",
       "      <td>5072.276935</td>\n",
       "      <td>3290.9</td>\n",
       "      <td>8605.9</td>\n",
       "      <td>3665.138839</td>\n",
       "      <td>...</td>\n",
       "      <td>6245.3</td>\n",
       "      <td>29218.077827</td>\n",
       "      <td>7325.7</td>\n",
       "      <td>44391.0</td>\n",
       "      <td>2683.066369</td>\n",
       "      <td>1.6</td>\n",
       "      <td>25493.2</td>\n",
       "      <td>59078.982292</td>\n",
       "      <td>40008.5</td>\n",
       "      <td>73104.2</td>\n",
       "    </tr>\n",
       "    <tr>\n",
       "      <th>2024-02-04 00:00:00+00:00</th>\n",
       "      <td>2354.463988</td>\n",
       "      <td>2124.6</td>\n",
       "      <td>2501.7</td>\n",
       "      <td>4457.281399</td>\n",
       "      <td>4149.5</td>\n",
       "      <td>4818.5</td>\n",
       "      <td>6716.299107</td>\n",
       "      <td>3368.6</td>\n",
       "      <td>10843.2</td>\n",
       "      <td>3824.050595</td>\n",
       "      <td>...</td>\n",
       "      <td>6806.6</td>\n",
       "      <td>26043.531994</td>\n",
       "      <td>5218.5</td>\n",
       "      <td>40746.7</td>\n",
       "      <td>2542.674107</td>\n",
       "      <td>1.1</td>\n",
       "      <td>23217.3</td>\n",
       "      <td>58763.772024</td>\n",
       "      <td>43247.5</td>\n",
       "      <td>72138.6</td>\n",
       "    </tr>\n",
       "  </tbody>\n",
       "</table>\n",
       "<p>5 rows × 45 columns</p>\n",
       "</div>"
      ],
      "text/plain": [
       "                           Laufwasser_mean  Laufwasser_min  Laufwasser_max  \\\n",
       "Datum (MEZ)                                                                  \n",
       "2024-01-07 00:00:00+00:00      2191.699405          1154.0          2424.0   \n",
       "2024-01-14 00:00:00+00:00      2293.784821          2004.4          2487.9   \n",
       "2024-01-21 00:00:00+00:00      2167.367411          1916.1          2422.7   \n",
       "2024-01-28 00:00:00+00:00      2376.558780          1850.8          2685.1   \n",
       "2024-02-04 00:00:00+00:00      2354.463988          2124.6          2501.7   \n",
       "\n",
       "                           Biomasse_mean  Biomasse_min  Biomasse_max  \\\n",
       "Datum (MEZ)                                                            \n",
       "2024-01-07 00:00:00+00:00    4373.359821        4083.4        4726.9   \n",
       "2024-01-14 00:00:00+00:00    4481.776339        4189.8        4825.7   \n",
       "2024-01-21 00:00:00+00:00    4477.871726        4189.8        4818.4   \n",
       "2024-01-28 00:00:00+00:00    4429.521577        4096.4        4780.6   \n",
       "2024-02-04 00:00:00+00:00    4457.281399        4149.5        4818.5   \n",
       "\n",
       "                           Braunkohle_mean  Braunkohle_min  Braunkohle_max  \\\n",
       "Datum (MEZ)                                                                  \n",
       "2024-01-07 00:00:00+00:00      7360.295982          3295.9         12410.6   \n",
       "2024-01-14 00:00:00+00:00     12631.270387          6808.2         15789.4   \n",
       "2024-01-21 00:00:00+00:00     11236.998958          3626.8         15975.5   \n",
       "2024-01-28 00:00:00+00:00      5072.276935          3290.9          8605.9   \n",
       "2024-02-04 00:00:00+00:00      6716.299107          3368.6         10843.2   \n",
       "\n",
       "                           Steinkohle_mean  ...  Wind Offshore_max  \\\n",
       "Datum (MEZ)                                 ...                      \n",
       "2024-01-07 00:00:00+00:00      2332.676190  ...             6437.3   \n",
       "2024-01-14 00:00:00+00:00      6895.946280  ...             6564.9   \n",
       "2024-01-21 00:00:00+00:00      5479.241369  ...             6513.3   \n",
       "2024-01-28 00:00:00+00:00      3665.138839  ...             6245.3   \n",
       "2024-02-04 00:00:00+00:00      3824.050595  ...             6806.6   \n",
       "\n",
       "                           Wind Onshore_mean  Wind Onshore_min  \\\n",
       "Datum (MEZ)                                                      \n",
       "2024-01-07 00:00:00+00:00       22380.229613            5672.8   \n",
       "2024-01-14 00:00:00+00:00       12257.950893            2036.3   \n",
       "2024-01-21 00:00:00+00:00       19597.047768            3430.2   \n",
       "2024-01-28 00:00:00+00:00       29218.077827            7325.7   \n",
       "2024-02-04 00:00:00+00:00       26043.531994            5218.5   \n",
       "\n",
       "                           Wind Onshore_max   Solar_mean  Solar_min  \\\n",
       "Datum (MEZ)                                                           \n",
       "2024-01-07 00:00:00+00:00           42850.5   936.530506        1.5   \n",
       "2024-01-14 00:00:00+00:00           28538.3  1857.787202        1.4   \n",
       "2024-01-21 00:00:00+00:00           38212.4  1335.627530        1.5   \n",
       "2024-01-28 00:00:00+00:00           44391.0  2683.066369        1.6   \n",
       "2024-02-04 00:00:00+00:00           40746.7  2542.674107        1.1   \n",
       "\n",
       "                           Solar_max     Last_mean  Last_min  Last_max  \n",
       "Datum (MEZ)                                                             \n",
       "2024-01-07 00:00:00+00:00     7923.0  52811.657440   36592.6   65872.4  \n",
       "2024-01-14 00:00:00+00:00    15615.5  61640.776042   45332.1   72802.6  \n",
       "2024-01-21 00:00:00+00:00    12536.1  62999.312351   46390.6   75766.7  \n",
       "2024-01-28 00:00:00+00:00    25493.2  59078.982292   40008.5   73104.2  \n",
       "2024-02-04 00:00:00+00:00    23217.3  58763.772024   43247.5   72138.6  \n",
       "\n",
       "[5 rows x 45 columns]"
      ]
     },
     "execution_count": 34,
     "metadata": {},
     "output_type": "execute_result"
    }
   ],
   "source": [
    "weekly_df = energy_data.resample('W').agg(['mean', 'min', 'max'])\n",
    "weekly_df.columns = ['_'.join(col).strip() for col in weekly_df.columns]\n",
    "weekly_df.head(5)"
   ]
  },
  {
   "cell_type": "markdown",
   "metadata": {},
   "source": [
    "### Solarstromerzeugung min, mean und max wöchentlich"
   ]
  },
  {
   "cell_type": "code",
   "execution_count": 35,
   "metadata": {},
   "outputs": [
    {
     "data": {
      "application/vnd.plotly.v1+json": {
       "config": {
        "plotlyServerURL": "https://plot.ly"
       },
       "data": [
        {
         "hovertemplate": "variable=Solar_mean<br>Datum (MEZ)=%{x}<br>Stromproduktion in MW=%{y}<extra></extra>",
         "legendgroup": "Solar_mean",
         "line": {
          "color": "#636efa",
          "dash": "solid"
         },
         "marker": {
          "symbol": "circle"
         },
         "mode": "lines",
         "name": "Solar_mean",
         "orientation": "v",
         "showlegend": true,
         "type": "scatter",
         "x": [
          "2024-01-07T00:00:00+00:00",
          "2024-01-14T00:00:00+00:00",
          "2024-01-21T00:00:00+00:00",
          "2024-01-28T00:00:00+00:00",
          "2024-02-04T00:00:00+00:00",
          "2024-02-11T00:00:00+00:00",
          "2024-02-18T00:00:00+00:00",
          "2024-02-25T00:00:00+00:00",
          "2024-03-03T00:00:00+00:00",
          "2024-03-10T00:00:00+00:00",
          "2024-03-17T00:00:00+00:00",
          "2024-03-24T00:00:00+00:00",
          "2024-03-31T00:00:00+00:00",
          "2024-04-07T00:00:00+00:00",
          "2024-04-14T00:00:00+00:00",
          "2024-04-21T00:00:00+00:00",
          "2024-04-28T00:00:00+00:00",
          "2024-05-05T00:00:00+00:00",
          "2024-05-12T00:00:00+00:00",
          "2024-05-19T00:00:00+00:00",
          "2024-05-26T00:00:00+00:00",
          "2024-06-02T00:00:00+00:00",
          "2024-06-09T00:00:00+00:00",
          "2024-06-16T00:00:00+00:00",
          "2024-06-23T00:00:00+00:00",
          "2024-06-30T00:00:00+00:00",
          "2024-07-07T00:00:00+00:00",
          "2024-07-14T00:00:00+00:00",
          "2024-07-21T00:00:00+00:00",
          "2024-07-28T00:00:00+00:00",
          "2024-08-04T00:00:00+00:00",
          "2024-08-11T00:00:00+00:00",
          "2024-08-18T00:00:00+00:00",
          "2024-08-25T00:00:00+00:00",
          "2024-09-01T00:00:00+00:00",
          "2024-09-08T00:00:00+00:00",
          "2024-09-15T00:00:00+00:00",
          "2024-09-22T00:00:00+00:00",
          "2024-09-29T00:00:00+00:00",
          "2024-10-06T00:00:00+00:00",
          "2024-10-13T00:00:00+00:00",
          "2024-10-20T00:00:00+00:00",
          "2024-10-27T00:00:00+00:00",
          "2024-11-03T00:00:00+00:00",
          "2024-11-10T00:00:00+00:00",
          "2024-11-17T00:00:00+00:00"
         ],
         "xaxis": "x",
         "y": [
          936.530505952381,
          1857.7872023809523,
          1335.6275297619047,
          2683.066369047619,
          2542.6741071428573,
          2013.655505952381,
          3260.1869047619048,
          3843.825446428572,
          4928.130505952381,
          5646.743303571428,
          5556.140327380952,
          6239.872172619048,
          7186.105952380953,
          6920.877083333334,
          9250.406101190476,
          7155.28824404762,
          9603.631101190476,
          10995.434375,
          11565.88169642857,
          11610.634375,
          10799.961755952381,
          8706.668005952382,
          11884.44255952381,
          10951.138839285713,
          10819.857589285713,
          13412.246726190477,
          10240.084226190476,
          12751.315476190477,
          13933.913839285713,
          11630.594494047618,
          12948.741220238095,
          12805.269642857142,
          11730.595684523809,
          11434.23318452381,
          12861.915773809524,
          11152.927083333334,
          7220.8501488095235,
          9816.720833333335,
          6677.19255952381,
          5249.386904761905,
          5467.359226190476,
          5294.593005952381,
          4763.011755952381,
          3366.177380952381,
          2024.0188988095238,
          1022.0944099378883
         ],
         "yaxis": "y"
        },
        {
         "hovertemplate": "variable=Solar_min<br>Datum (MEZ)=%{x}<br>Stromproduktion in MW=%{y}<extra></extra>",
         "legendgroup": "Solar_min",
         "line": {
          "color": "#EF553B",
          "dash": "solid"
         },
         "marker": {
          "symbol": "circle"
         },
         "mode": "lines",
         "name": "Solar_min",
         "orientation": "v",
         "showlegend": true,
         "type": "scatter",
         "x": [
          "2024-01-07T00:00:00+00:00",
          "2024-01-14T00:00:00+00:00",
          "2024-01-21T00:00:00+00:00",
          "2024-01-28T00:00:00+00:00",
          "2024-02-04T00:00:00+00:00",
          "2024-02-11T00:00:00+00:00",
          "2024-02-18T00:00:00+00:00",
          "2024-02-25T00:00:00+00:00",
          "2024-03-03T00:00:00+00:00",
          "2024-03-10T00:00:00+00:00",
          "2024-03-17T00:00:00+00:00",
          "2024-03-24T00:00:00+00:00",
          "2024-03-31T00:00:00+00:00",
          "2024-04-07T00:00:00+00:00",
          "2024-04-14T00:00:00+00:00",
          "2024-04-21T00:00:00+00:00",
          "2024-04-28T00:00:00+00:00",
          "2024-05-05T00:00:00+00:00",
          "2024-05-12T00:00:00+00:00",
          "2024-05-19T00:00:00+00:00",
          "2024-05-26T00:00:00+00:00",
          "2024-06-02T00:00:00+00:00",
          "2024-06-09T00:00:00+00:00",
          "2024-06-16T00:00:00+00:00",
          "2024-06-23T00:00:00+00:00",
          "2024-06-30T00:00:00+00:00",
          "2024-07-07T00:00:00+00:00",
          "2024-07-14T00:00:00+00:00",
          "2024-07-21T00:00:00+00:00",
          "2024-07-28T00:00:00+00:00",
          "2024-08-04T00:00:00+00:00",
          "2024-08-11T00:00:00+00:00",
          "2024-08-18T00:00:00+00:00",
          "2024-08-25T00:00:00+00:00",
          "2024-09-01T00:00:00+00:00",
          "2024-09-08T00:00:00+00:00",
          "2024-09-15T00:00:00+00:00",
          "2024-09-22T00:00:00+00:00",
          "2024-09-29T00:00:00+00:00",
          "2024-10-06T00:00:00+00:00",
          "2024-10-13T00:00:00+00:00",
          "2024-10-20T00:00:00+00:00",
          "2024-10-27T00:00:00+00:00",
          "2024-11-03T00:00:00+00:00",
          "2024-11-10T00:00:00+00:00",
          "2024-11-17T00:00:00+00:00"
         ],
         "xaxis": "x",
         "y": [
          1.5,
          1.4,
          1.5,
          1.6,
          1.1,
          1.4,
          1.6,
          1.5,
          1.5,
          1.4,
          1.4,
          1.5,
          1.7,
          1.6,
          1.7,
          1.5,
          1.8,
          1.3,
          1.3,
          1.4,
          1.4,
          1.4,
          1.5,
          1.6,
          1.8,
          1.5,
          1.1,
          1.1,
          1.4,
          1.1,
          1.1,
          1.1,
          1.1,
          1.4,
          0,
          0,
          0,
          0,
          0,
          0,
          0,
          0,
          0,
          0,
          0,
          0
         ],
         "yaxis": "y"
        },
        {
         "hovertemplate": "variable=Solar_max<br>Datum (MEZ)=%{x}<br>Stromproduktion in MW=%{y}<extra></extra>",
         "legendgroup": "Solar_max",
         "line": {
          "color": "#00cc96",
          "dash": "solid"
         },
         "marker": {
          "symbol": "circle"
         },
         "mode": "lines",
         "name": "Solar_max",
         "orientation": "v",
         "showlegend": true,
         "type": "scatter",
         "x": [
          "2024-01-07T00:00:00+00:00",
          "2024-01-14T00:00:00+00:00",
          "2024-01-21T00:00:00+00:00",
          "2024-01-28T00:00:00+00:00",
          "2024-02-04T00:00:00+00:00",
          "2024-02-11T00:00:00+00:00",
          "2024-02-18T00:00:00+00:00",
          "2024-02-25T00:00:00+00:00",
          "2024-03-03T00:00:00+00:00",
          "2024-03-10T00:00:00+00:00",
          "2024-03-17T00:00:00+00:00",
          "2024-03-24T00:00:00+00:00",
          "2024-03-31T00:00:00+00:00",
          "2024-04-07T00:00:00+00:00",
          "2024-04-14T00:00:00+00:00",
          "2024-04-21T00:00:00+00:00",
          "2024-04-28T00:00:00+00:00",
          "2024-05-05T00:00:00+00:00",
          "2024-05-12T00:00:00+00:00",
          "2024-05-19T00:00:00+00:00",
          "2024-05-26T00:00:00+00:00",
          "2024-06-02T00:00:00+00:00",
          "2024-06-09T00:00:00+00:00",
          "2024-06-16T00:00:00+00:00",
          "2024-06-23T00:00:00+00:00",
          "2024-06-30T00:00:00+00:00",
          "2024-07-07T00:00:00+00:00",
          "2024-07-14T00:00:00+00:00",
          "2024-07-21T00:00:00+00:00",
          "2024-07-28T00:00:00+00:00",
          "2024-08-04T00:00:00+00:00",
          "2024-08-11T00:00:00+00:00",
          "2024-08-18T00:00:00+00:00",
          "2024-08-25T00:00:00+00:00",
          "2024-09-01T00:00:00+00:00",
          "2024-09-08T00:00:00+00:00",
          "2024-09-15T00:00:00+00:00",
          "2024-09-22T00:00:00+00:00",
          "2024-09-29T00:00:00+00:00",
          "2024-10-06T00:00:00+00:00",
          "2024-10-13T00:00:00+00:00",
          "2024-10-20T00:00:00+00:00",
          "2024-10-27T00:00:00+00:00",
          "2024-11-03T00:00:00+00:00",
          "2024-11-10T00:00:00+00:00",
          "2024-11-17T00:00:00+00:00"
         ],
         "xaxis": "x",
         "y": [
          7923,
          15615.5,
          12536.1,
          25493.2,
          23217.3,
          16068.5,
          20287.4,
          24336.8,
          26523.6,
          35077.8,
          28126.8,
          30050.6,
          28780.2,
          35575.3,
          34198.4,
          25625.5,
          37889.4,
          39306.9,
          39374.6,
          41687.4,
          36654.5,
          29692.5,
          38540.8,
          33187.5,
          34794.3,
          44271.5,
          34161.4,
          46103.6,
          45110.3,
          42366.4,
          46942,
          45694.6,
          44551.2,
          41336.8,
          44166.1,
          43067.5,
          32076.6,
          41888.2,
          36122.9,
          26916.9,
          27008.3,
          28296.4,
          24728.5,
          24121.3,
          16973.8,
          6211
         ],
         "yaxis": "y"
        }
       ],
       "layout": {
        "legend": {
         "title": {
          "text": "variable"
         },
         "tracegroupgap": 0
        },
        "margin": {
         "t": 60
        },
        "template": {
         "data": {
          "bar": [
           {
            "error_x": {
             "color": "#2a3f5f"
            },
            "error_y": {
             "color": "#2a3f5f"
            },
            "marker": {
             "line": {
              "color": "#E5ECF6",
              "width": 0.5
             },
             "pattern": {
              "fillmode": "overlay",
              "size": 10,
              "solidity": 0.2
             }
            },
            "type": "bar"
           }
          ],
          "barpolar": [
           {
            "marker": {
             "line": {
              "color": "#E5ECF6",
              "width": 0.5
             },
             "pattern": {
              "fillmode": "overlay",
              "size": 10,
              "solidity": 0.2
             }
            },
            "type": "barpolar"
           }
          ],
          "carpet": [
           {
            "aaxis": {
             "endlinecolor": "#2a3f5f",
             "gridcolor": "white",
             "linecolor": "white",
             "minorgridcolor": "white",
             "startlinecolor": "#2a3f5f"
            },
            "baxis": {
             "endlinecolor": "#2a3f5f",
             "gridcolor": "white",
             "linecolor": "white",
             "minorgridcolor": "white",
             "startlinecolor": "#2a3f5f"
            },
            "type": "carpet"
           }
          ],
          "choropleth": [
           {
            "colorbar": {
             "outlinewidth": 0,
             "ticks": ""
            },
            "type": "choropleth"
           }
          ],
          "contour": [
           {
            "colorbar": {
             "outlinewidth": 0,
             "ticks": ""
            },
            "colorscale": [
             [
              0,
              "#0d0887"
             ],
             [
              0.1111111111111111,
              "#46039f"
             ],
             [
              0.2222222222222222,
              "#7201a8"
             ],
             [
              0.3333333333333333,
              "#9c179e"
             ],
             [
              0.4444444444444444,
              "#bd3786"
             ],
             [
              0.5555555555555556,
              "#d8576b"
             ],
             [
              0.6666666666666666,
              "#ed7953"
             ],
             [
              0.7777777777777778,
              "#fb9f3a"
             ],
             [
              0.8888888888888888,
              "#fdca26"
             ],
             [
              1,
              "#f0f921"
             ]
            ],
            "type": "contour"
           }
          ],
          "contourcarpet": [
           {
            "colorbar": {
             "outlinewidth": 0,
             "ticks": ""
            },
            "type": "contourcarpet"
           }
          ],
          "heatmap": [
           {
            "colorbar": {
             "outlinewidth": 0,
             "ticks": ""
            },
            "colorscale": [
             [
              0,
              "#0d0887"
             ],
             [
              0.1111111111111111,
              "#46039f"
             ],
             [
              0.2222222222222222,
              "#7201a8"
             ],
             [
              0.3333333333333333,
              "#9c179e"
             ],
             [
              0.4444444444444444,
              "#bd3786"
             ],
             [
              0.5555555555555556,
              "#d8576b"
             ],
             [
              0.6666666666666666,
              "#ed7953"
             ],
             [
              0.7777777777777778,
              "#fb9f3a"
             ],
             [
              0.8888888888888888,
              "#fdca26"
             ],
             [
              1,
              "#f0f921"
             ]
            ],
            "type": "heatmap"
           }
          ],
          "heatmapgl": [
           {
            "colorbar": {
             "outlinewidth": 0,
             "ticks": ""
            },
            "colorscale": [
             [
              0,
              "#0d0887"
             ],
             [
              0.1111111111111111,
              "#46039f"
             ],
             [
              0.2222222222222222,
              "#7201a8"
             ],
             [
              0.3333333333333333,
              "#9c179e"
             ],
             [
              0.4444444444444444,
              "#bd3786"
             ],
             [
              0.5555555555555556,
              "#d8576b"
             ],
             [
              0.6666666666666666,
              "#ed7953"
             ],
             [
              0.7777777777777778,
              "#fb9f3a"
             ],
             [
              0.8888888888888888,
              "#fdca26"
             ],
             [
              1,
              "#f0f921"
             ]
            ],
            "type": "heatmapgl"
           }
          ],
          "histogram": [
           {
            "marker": {
             "pattern": {
              "fillmode": "overlay",
              "size": 10,
              "solidity": 0.2
             }
            },
            "type": "histogram"
           }
          ],
          "histogram2d": [
           {
            "colorbar": {
             "outlinewidth": 0,
             "ticks": ""
            },
            "colorscale": [
             [
              0,
              "#0d0887"
             ],
             [
              0.1111111111111111,
              "#46039f"
             ],
             [
              0.2222222222222222,
              "#7201a8"
             ],
             [
              0.3333333333333333,
              "#9c179e"
             ],
             [
              0.4444444444444444,
              "#bd3786"
             ],
             [
              0.5555555555555556,
              "#d8576b"
             ],
             [
              0.6666666666666666,
              "#ed7953"
             ],
             [
              0.7777777777777778,
              "#fb9f3a"
             ],
             [
              0.8888888888888888,
              "#fdca26"
             ],
             [
              1,
              "#f0f921"
             ]
            ],
            "type": "histogram2d"
           }
          ],
          "histogram2dcontour": [
           {
            "colorbar": {
             "outlinewidth": 0,
             "ticks": ""
            },
            "colorscale": [
             [
              0,
              "#0d0887"
             ],
             [
              0.1111111111111111,
              "#46039f"
             ],
             [
              0.2222222222222222,
              "#7201a8"
             ],
             [
              0.3333333333333333,
              "#9c179e"
             ],
             [
              0.4444444444444444,
              "#bd3786"
             ],
             [
              0.5555555555555556,
              "#d8576b"
             ],
             [
              0.6666666666666666,
              "#ed7953"
             ],
             [
              0.7777777777777778,
              "#fb9f3a"
             ],
             [
              0.8888888888888888,
              "#fdca26"
             ],
             [
              1,
              "#f0f921"
             ]
            ],
            "type": "histogram2dcontour"
           }
          ],
          "mesh3d": [
           {
            "colorbar": {
             "outlinewidth": 0,
             "ticks": ""
            },
            "type": "mesh3d"
           }
          ],
          "parcoords": [
           {
            "line": {
             "colorbar": {
              "outlinewidth": 0,
              "ticks": ""
             }
            },
            "type": "parcoords"
           }
          ],
          "pie": [
           {
            "automargin": true,
            "type": "pie"
           }
          ],
          "scatter": [
           {
            "fillpattern": {
             "fillmode": "overlay",
             "size": 10,
             "solidity": 0.2
            },
            "type": "scatter"
           }
          ],
          "scatter3d": [
           {
            "line": {
             "colorbar": {
              "outlinewidth": 0,
              "ticks": ""
             }
            },
            "marker": {
             "colorbar": {
              "outlinewidth": 0,
              "ticks": ""
             }
            },
            "type": "scatter3d"
           }
          ],
          "scattercarpet": [
           {
            "marker": {
             "colorbar": {
              "outlinewidth": 0,
              "ticks": ""
             }
            },
            "type": "scattercarpet"
           }
          ],
          "scattergeo": [
           {
            "marker": {
             "colorbar": {
              "outlinewidth": 0,
              "ticks": ""
             }
            },
            "type": "scattergeo"
           }
          ],
          "scattergl": [
           {
            "marker": {
             "colorbar": {
              "outlinewidth": 0,
              "ticks": ""
             }
            },
            "type": "scattergl"
           }
          ],
          "scattermapbox": [
           {
            "marker": {
             "colorbar": {
              "outlinewidth": 0,
              "ticks": ""
             }
            },
            "type": "scattermapbox"
           }
          ],
          "scatterpolar": [
           {
            "marker": {
             "colorbar": {
              "outlinewidth": 0,
              "ticks": ""
             }
            },
            "type": "scatterpolar"
           }
          ],
          "scatterpolargl": [
           {
            "marker": {
             "colorbar": {
              "outlinewidth": 0,
              "ticks": ""
             }
            },
            "type": "scatterpolargl"
           }
          ],
          "scatterternary": [
           {
            "marker": {
             "colorbar": {
              "outlinewidth": 0,
              "ticks": ""
             }
            },
            "type": "scatterternary"
           }
          ],
          "surface": [
           {
            "colorbar": {
             "outlinewidth": 0,
             "ticks": ""
            },
            "colorscale": [
             [
              0,
              "#0d0887"
             ],
             [
              0.1111111111111111,
              "#46039f"
             ],
             [
              0.2222222222222222,
              "#7201a8"
             ],
             [
              0.3333333333333333,
              "#9c179e"
             ],
             [
              0.4444444444444444,
              "#bd3786"
             ],
             [
              0.5555555555555556,
              "#d8576b"
             ],
             [
              0.6666666666666666,
              "#ed7953"
             ],
             [
              0.7777777777777778,
              "#fb9f3a"
             ],
             [
              0.8888888888888888,
              "#fdca26"
             ],
             [
              1,
              "#f0f921"
             ]
            ],
            "type": "surface"
           }
          ],
          "table": [
           {
            "cells": {
             "fill": {
              "color": "#EBF0F8"
             },
             "line": {
              "color": "white"
             }
            },
            "header": {
             "fill": {
              "color": "#C8D4E3"
             },
             "line": {
              "color": "white"
             }
            },
            "type": "table"
           }
          ]
         },
         "layout": {
          "annotationdefaults": {
           "arrowcolor": "#2a3f5f",
           "arrowhead": 0,
           "arrowwidth": 1
          },
          "autotypenumbers": "strict",
          "coloraxis": {
           "colorbar": {
            "outlinewidth": 0,
            "ticks": ""
           }
          },
          "colorscale": {
           "diverging": [
            [
             0,
             "#8e0152"
            ],
            [
             0.1,
             "#c51b7d"
            ],
            [
             0.2,
             "#de77ae"
            ],
            [
             0.3,
             "#f1b6da"
            ],
            [
             0.4,
             "#fde0ef"
            ],
            [
             0.5,
             "#f7f7f7"
            ],
            [
             0.6,
             "#e6f5d0"
            ],
            [
             0.7,
             "#b8e186"
            ],
            [
             0.8,
             "#7fbc41"
            ],
            [
             0.9,
             "#4d9221"
            ],
            [
             1,
             "#276419"
            ]
           ],
           "sequential": [
            [
             0,
             "#0d0887"
            ],
            [
             0.1111111111111111,
             "#46039f"
            ],
            [
             0.2222222222222222,
             "#7201a8"
            ],
            [
             0.3333333333333333,
             "#9c179e"
            ],
            [
             0.4444444444444444,
             "#bd3786"
            ],
            [
             0.5555555555555556,
             "#d8576b"
            ],
            [
             0.6666666666666666,
             "#ed7953"
            ],
            [
             0.7777777777777778,
             "#fb9f3a"
            ],
            [
             0.8888888888888888,
             "#fdca26"
            ],
            [
             1,
             "#f0f921"
            ]
           ],
           "sequentialminus": [
            [
             0,
             "#0d0887"
            ],
            [
             0.1111111111111111,
             "#46039f"
            ],
            [
             0.2222222222222222,
             "#7201a8"
            ],
            [
             0.3333333333333333,
             "#9c179e"
            ],
            [
             0.4444444444444444,
             "#bd3786"
            ],
            [
             0.5555555555555556,
             "#d8576b"
            ],
            [
             0.6666666666666666,
             "#ed7953"
            ],
            [
             0.7777777777777778,
             "#fb9f3a"
            ],
            [
             0.8888888888888888,
             "#fdca26"
            ],
            [
             1,
             "#f0f921"
            ]
           ]
          },
          "colorway": [
           "#636efa",
           "#EF553B",
           "#00cc96",
           "#ab63fa",
           "#FFA15A",
           "#19d3f3",
           "#FF6692",
           "#B6E880",
           "#FF97FF",
           "#FECB52"
          ],
          "font": {
           "color": "#2a3f5f"
          },
          "geo": {
           "bgcolor": "white",
           "lakecolor": "white",
           "landcolor": "#E5ECF6",
           "showlakes": true,
           "showland": true,
           "subunitcolor": "white"
          },
          "hoverlabel": {
           "align": "left"
          },
          "hovermode": "closest",
          "mapbox": {
           "style": "light"
          },
          "paper_bgcolor": "white",
          "plot_bgcolor": "#E5ECF6",
          "polar": {
           "angularaxis": {
            "gridcolor": "white",
            "linecolor": "white",
            "ticks": ""
           },
           "bgcolor": "#E5ECF6",
           "radialaxis": {
            "gridcolor": "white",
            "linecolor": "white",
            "ticks": ""
           }
          },
          "scene": {
           "xaxis": {
            "backgroundcolor": "#E5ECF6",
            "gridcolor": "white",
            "gridwidth": 2,
            "linecolor": "white",
            "showbackground": true,
            "ticks": "",
            "zerolinecolor": "white"
           },
           "yaxis": {
            "backgroundcolor": "#E5ECF6",
            "gridcolor": "white",
            "gridwidth": 2,
            "linecolor": "white",
            "showbackground": true,
            "ticks": "",
            "zerolinecolor": "white"
           },
           "zaxis": {
            "backgroundcolor": "#E5ECF6",
            "gridcolor": "white",
            "gridwidth": 2,
            "linecolor": "white",
            "showbackground": true,
            "ticks": "",
            "zerolinecolor": "white"
           }
          },
          "shapedefaults": {
           "line": {
            "color": "#2a3f5f"
           }
          },
          "ternary": {
           "aaxis": {
            "gridcolor": "white",
            "linecolor": "white",
            "ticks": ""
           },
           "baxis": {
            "gridcolor": "white",
            "linecolor": "white",
            "ticks": ""
           },
           "bgcolor": "#E5ECF6",
           "caxis": {
            "gridcolor": "white",
            "linecolor": "white",
            "ticks": ""
           }
          },
          "title": {
           "x": 0.05
          },
          "xaxis": {
           "automargin": true,
           "gridcolor": "white",
           "linecolor": "white",
           "ticks": "",
           "title": {
            "standoff": 15
           },
           "zerolinecolor": "white",
           "zerolinewidth": 2
          },
          "yaxis": {
           "automargin": true,
           "gridcolor": "white",
           "linecolor": "white",
           "ticks": "",
           "title": {
            "standoff": 15
           },
           "zerolinecolor": "white",
           "zerolinewidth": 2
          }
         }
        },
        "xaxis": {
         "anchor": "y",
         "domain": [
          0,
          1
         ],
         "title": {
          "text": "Datum (MEZ)"
         }
        },
        "yaxis": {
         "anchor": "x",
         "domain": [
          0,
          1
         ],
         "title": {
          "text": "Stromproduktion in MW"
         }
        }
       }
      }
     },
     "metadata": {},
     "output_type": "display_data"
    }
   ],
   "source": [
    "px.line(weekly_df, y=[\"Solar_mean\", \"Solar_min\", \"Solar_max\"], labels={\"value\": \"Stromproduktion in MW\"})"
   ]
  },
  {
   "cell_type": "markdown",
   "metadata": {},
   "source": []
  },
  {
   "cell_type": "code",
   "execution_count": 36,
   "metadata": {},
   "outputs": [
    {
     "data": {
      "text/html": [
       "<div>\n",
       "<style scoped>\n",
       "    .dataframe tbody tr th:only-of-type {\n",
       "        vertical-align: middle;\n",
       "    }\n",
       "\n",
       "    .dataframe tbody tr th {\n",
       "        vertical-align: top;\n",
       "    }\n",
       "\n",
       "    .dataframe thead th {\n",
       "        text-align: right;\n",
       "    }\n",
       "</style>\n",
       "<table border=\"1\" class=\"dataframe\">\n",
       "  <thead>\n",
       "    <tr style=\"text-align: right;\">\n",
       "      <th></th>\n",
       "      <th>Datum (MEZ)</th>\n",
       "      <th>Laufwasser_mean</th>\n",
       "      <th>Laufwasser_min</th>\n",
       "      <th>Laufwasser_max</th>\n",
       "      <th>Biomasse_mean</th>\n",
       "      <th>Biomasse_min</th>\n",
       "      <th>Biomasse_max</th>\n",
       "      <th>Braunkohle_mean</th>\n",
       "      <th>Braunkohle_min</th>\n",
       "      <th>Braunkohle_max</th>\n",
       "      <th>...</th>\n",
       "      <th>Wind Offshore_max</th>\n",
       "      <th>Wind Onshore_mean</th>\n",
       "      <th>Wind Onshore_min</th>\n",
       "      <th>Wind Onshore_max</th>\n",
       "      <th>Solar_mean</th>\n",
       "      <th>Solar_min</th>\n",
       "      <th>Solar_max</th>\n",
       "      <th>Last_mean</th>\n",
       "      <th>Last_min</th>\n",
       "      <th>Last_max</th>\n",
       "    </tr>\n",
       "  </thead>\n",
       "  <tbody>\n",
       "    <tr>\n",
       "      <th>0</th>\n",
       "      <td>2024-01-01 00:00:00+00:00</td>\n",
       "      <td>2220.225</td>\n",
       "      <td>2216.7</td>\n",
       "      <td>2223.2</td>\n",
       "      <td>4184.150</td>\n",
       "      <td>4180.6</td>\n",
       "      <td>4187.7</td>\n",
       "      <td>3352.500</td>\n",
       "      <td>3314.0</td>\n",
       "      <td>3436.9</td>\n",
       "      <td>...</td>\n",
       "      <td>5838.9</td>\n",
       "      <td>29217.925</td>\n",
       "      <td>29028.0</td>\n",
       "      <td>29440.9</td>\n",
       "      <td>2.025</td>\n",
       "      <td>1.6</td>\n",
       "      <td>2.4</td>\n",
       "      <td>40170.100</td>\n",
       "      <td>39615.0</td>\n",
       "      <td>40592.6</td>\n",
       "    </tr>\n",
       "    <tr>\n",
       "      <th>1</th>\n",
       "      <td>2024-01-01 01:00:00+00:00</td>\n",
       "      <td>2218.450</td>\n",
       "      <td>2216.1</td>\n",
       "      <td>2222.0</td>\n",
       "      <td>4157.200</td>\n",
       "      <td>4148.6</td>\n",
       "      <td>4166.3</td>\n",
       "      <td>3333.575</td>\n",
       "      <td>3322.8</td>\n",
       "      <td>3348.9</td>\n",
       "      <td>...</td>\n",
       "      <td>5463.9</td>\n",
       "      <td>29335.150</td>\n",
       "      <td>29110.8</td>\n",
       "      <td>29501.6</td>\n",
       "      <td>1.875</td>\n",
       "      <td>1.7</td>\n",
       "      <td>2.4</td>\n",
       "      <td>38818.125</td>\n",
       "      <td>38328.8</td>\n",
       "      <td>39336.8</td>\n",
       "    </tr>\n",
       "    <tr>\n",
       "      <th>2</th>\n",
       "      <td>2024-01-01 02:00:00+00:00</td>\n",
       "      <td>2229.175</td>\n",
       "      <td>2223.6</td>\n",
       "      <td>2232.8</td>\n",
       "      <td>4142.925</td>\n",
       "      <td>4136.7</td>\n",
       "      <td>4153.2</td>\n",
       "      <td>3334.550</td>\n",
       "      <td>3330.2</td>\n",
       "      <td>3342.1</td>\n",
       "      <td>...</td>\n",
       "      <td>5360.1</td>\n",
       "      <td>29316.350</td>\n",
       "      <td>29271.8</td>\n",
       "      <td>29388.6</td>\n",
       "      <td>1.825</td>\n",
       "      <td>1.6</td>\n",
       "      <td>2.4</td>\n",
       "      <td>37847.550</td>\n",
       "      <td>37285.7</td>\n",
       "      <td>38408.0</td>\n",
       "    </tr>\n",
       "    <tr>\n",
       "      <th>3</th>\n",
       "      <td>2024-01-01 03:00:00+00:00</td>\n",
       "      <td>2224.950</td>\n",
       "      <td>2220.8</td>\n",
       "      <td>2228.8</td>\n",
       "      <td>4120.125</td>\n",
       "      <td>4116.6</td>\n",
       "      <td>4126.4</td>\n",
       "      <td>3353.625</td>\n",
       "      <td>3342.6</td>\n",
       "      <td>3365.8</td>\n",
       "      <td>...</td>\n",
       "      <td>4763.0</td>\n",
       "      <td>28860.025</td>\n",
       "      <td>28673.7</td>\n",
       "      <td>29150.7</td>\n",
       "      <td>1.975</td>\n",
       "      <td>1.6</td>\n",
       "      <td>2.4</td>\n",
       "      <td>37123.225</td>\n",
       "      <td>37031.1</td>\n",
       "      <td>37307.9</td>\n",
       "    </tr>\n",
       "    <tr>\n",
       "      <th>4</th>\n",
       "      <td>2024-01-01 04:00:00+00:00</td>\n",
       "      <td>2212.475</td>\n",
       "      <td>2210.2</td>\n",
       "      <td>2215.7</td>\n",
       "      <td>4124.925</td>\n",
       "      <td>4118.9</td>\n",
       "      <td>4133.6</td>\n",
       "      <td>3354.325</td>\n",
       "      <td>3352.2</td>\n",
       "      <td>3357.5</td>\n",
       "      <td>...</td>\n",
       "      <td>4579.0</td>\n",
       "      <td>28953.975</td>\n",
       "      <td>28736.3</td>\n",
       "      <td>29213.9</td>\n",
       "      <td>1.625</td>\n",
       "      <td>1.6</td>\n",
       "      <td>1.7</td>\n",
       "      <td>36753.525</td>\n",
       "      <td>36612.8</td>\n",
       "      <td>36984.6</td>\n",
       "    </tr>\n",
       "  </tbody>\n",
       "</table>\n",
       "<p>5 rows × 46 columns</p>\n",
       "</div>"
      ],
      "text/plain": [
       "                Datum (MEZ)  Laufwasser_mean  Laufwasser_min  Laufwasser_max  \\\n",
       "0 2024-01-01 00:00:00+00:00         2220.225          2216.7          2223.2   \n",
       "1 2024-01-01 01:00:00+00:00         2218.450          2216.1          2222.0   \n",
       "2 2024-01-01 02:00:00+00:00         2229.175          2223.6          2232.8   \n",
       "3 2024-01-01 03:00:00+00:00         2224.950          2220.8          2228.8   \n",
       "4 2024-01-01 04:00:00+00:00         2212.475          2210.2          2215.7   \n",
       "\n",
       "   Biomasse_mean  Biomasse_min  Biomasse_max  Braunkohle_mean  Braunkohle_min  \\\n",
       "0       4184.150        4180.6        4187.7         3352.500          3314.0   \n",
       "1       4157.200        4148.6        4166.3         3333.575          3322.8   \n",
       "2       4142.925        4136.7        4153.2         3334.550          3330.2   \n",
       "3       4120.125        4116.6        4126.4         3353.625          3342.6   \n",
       "4       4124.925        4118.9        4133.6         3354.325          3352.2   \n",
       "\n",
       "   Braunkohle_max  ...  Wind Offshore_max  Wind Onshore_mean  \\\n",
       "0          3436.9  ...             5838.9          29217.925   \n",
       "1          3348.9  ...             5463.9          29335.150   \n",
       "2          3342.1  ...             5360.1          29316.350   \n",
       "3          3365.8  ...             4763.0          28860.025   \n",
       "4          3357.5  ...             4579.0          28953.975   \n",
       "\n",
       "   Wind Onshore_min  Wind Onshore_max  Solar_mean  Solar_min  Solar_max  \\\n",
       "0           29028.0           29440.9       2.025        1.6        2.4   \n",
       "1           29110.8           29501.6       1.875        1.7        2.4   \n",
       "2           29271.8           29388.6       1.825        1.6        2.4   \n",
       "3           28673.7           29150.7       1.975        1.6        2.4   \n",
       "4           28736.3           29213.9       1.625        1.6        1.7   \n",
       "\n",
       "   Last_mean  Last_min  Last_max  \n",
       "0  40170.100   39615.0   40592.6  \n",
       "1  38818.125   38328.8   39336.8  \n",
       "2  37847.550   37285.7   38408.0  \n",
       "3  37123.225   37031.1   37307.9  \n",
       "4  36753.525   36612.8   36984.6  \n",
       "\n",
       "[5 rows x 46 columns]"
      ]
     },
     "execution_count": 36,
     "metadata": {},
     "output_type": "execute_result"
    }
   ],
   "source": [
    "hourly_df = energy_data.resample(\"h\").agg([\"mean\", \"min\", \"max\"])\n",
    "hourly_df.columns = ['_'.join(col).strip() for col in hourly_df.columns]\n",
    "hourly_df = hourly_df.reset_index()\n",
    "hourly_df.head(5)"
   ]
  },
  {
   "cell_type": "code",
   "execution_count": 37,
   "metadata": {},
   "outputs": [
    {
     "data": {
      "application/vnd.plotly.v1+json": {
       "config": {
        "plotlyServerURL": "https://plot.ly"
       },
       "data": [
        {
         "hovertemplate": "variable=Solar_mean<br>Datum (MEZ)=%{x}<br>Stromproduktion in MW=%{y}<extra></extra>",
         "legendgroup": "Solar_mean",
         "line": {
          "color": "#636efa",
          "dash": "solid"
         },
         "marker": {
          "symbol": "circle"
         },
         "mode": "lines",
         "name": "Solar_mean",
         "orientation": "v",
         "showlegend": true,
         "type": "scatter",
         "x": [
          "2024-06-01T00:00:00+00:00",
          "2024-06-01T01:00:00+00:00",
          "2024-06-01T02:00:00+00:00",
          "2024-06-01T03:00:00+00:00",
          "2024-06-01T04:00:00+00:00",
          "2024-06-01T05:00:00+00:00",
          "2024-06-01T06:00:00+00:00",
          "2024-06-01T07:00:00+00:00",
          "2024-06-01T08:00:00+00:00",
          "2024-06-01T09:00:00+00:00",
          "2024-06-01T10:00:00+00:00",
          "2024-06-01T11:00:00+00:00",
          "2024-06-01T12:00:00+00:00",
          "2024-06-01T13:00:00+00:00",
          "2024-06-01T14:00:00+00:00",
          "2024-06-01T15:00:00+00:00",
          "2024-06-01T16:00:00+00:00",
          "2024-06-01T17:00:00+00:00",
          "2024-06-01T18:00:00+00:00",
          "2024-06-01T19:00:00+00:00",
          "2024-06-01T20:00:00+00:00",
          "2024-06-01T21:00:00+00:00",
          "2024-06-01T22:00:00+00:00",
          "2024-06-01T23:00:00+00:00",
          "2024-06-02T00:00:00+00:00",
          "2024-06-02T01:00:00+00:00",
          "2024-06-02T02:00:00+00:00",
          "2024-06-02T03:00:00+00:00",
          "2024-06-02T04:00:00+00:00",
          "2024-06-02T05:00:00+00:00",
          "2024-06-02T06:00:00+00:00",
          "2024-06-02T07:00:00+00:00",
          "2024-06-02T08:00:00+00:00",
          "2024-06-02T09:00:00+00:00",
          "2024-06-02T10:00:00+00:00",
          "2024-06-02T11:00:00+00:00",
          "2024-06-02T12:00:00+00:00",
          "2024-06-02T13:00:00+00:00",
          "2024-06-02T14:00:00+00:00",
          "2024-06-02T15:00:00+00:00",
          "2024-06-02T16:00:00+00:00",
          "2024-06-02T17:00:00+00:00",
          "2024-06-02T18:00:00+00:00",
          "2024-06-02T19:00:00+00:00",
          "2024-06-02T20:00:00+00:00",
          "2024-06-02T21:00:00+00:00",
          "2024-06-02T22:00:00+00:00",
          "2024-06-02T23:00:00+00:00",
          "2024-06-03T00:00:00+00:00",
          "2024-06-03T01:00:00+00:00",
          "2024-06-03T02:00:00+00:00",
          "2024-06-03T03:00:00+00:00",
          "2024-06-03T04:00:00+00:00",
          "2024-06-03T05:00:00+00:00",
          "2024-06-03T06:00:00+00:00",
          "2024-06-03T07:00:00+00:00",
          "2024-06-03T08:00:00+00:00",
          "2024-06-03T09:00:00+00:00",
          "2024-06-03T10:00:00+00:00",
          "2024-06-03T11:00:00+00:00",
          "2024-06-03T12:00:00+00:00",
          "2024-06-03T13:00:00+00:00",
          "2024-06-03T14:00:00+00:00",
          "2024-06-03T15:00:00+00:00",
          "2024-06-03T16:00:00+00:00",
          "2024-06-03T17:00:00+00:00",
          "2024-06-03T18:00:00+00:00",
          "2024-06-03T19:00:00+00:00",
          "2024-06-03T20:00:00+00:00",
          "2024-06-03T21:00:00+00:00",
          "2024-06-03T22:00:00+00:00",
          "2024-06-03T23:00:00+00:00",
          "2024-06-04T00:00:00+00:00",
          "2024-06-04T01:00:00+00:00",
          "2024-06-04T02:00:00+00:00",
          "2024-06-04T03:00:00+00:00",
          "2024-06-04T04:00:00+00:00",
          "2024-06-04T05:00:00+00:00",
          "2024-06-04T06:00:00+00:00",
          "2024-06-04T07:00:00+00:00",
          "2024-06-04T08:00:00+00:00",
          "2024-06-04T09:00:00+00:00",
          "2024-06-04T10:00:00+00:00",
          "2024-06-04T11:00:00+00:00",
          "2024-06-04T12:00:00+00:00",
          "2024-06-04T13:00:00+00:00",
          "2024-06-04T14:00:00+00:00",
          "2024-06-04T15:00:00+00:00",
          "2024-06-04T16:00:00+00:00",
          "2024-06-04T17:00:00+00:00",
          "2024-06-04T18:00:00+00:00",
          "2024-06-04T19:00:00+00:00",
          "2024-06-04T20:00:00+00:00",
          "2024-06-04T21:00:00+00:00",
          "2024-06-04T22:00:00+00:00",
          "2024-06-04T23:00:00+00:00",
          "2024-06-05T00:00:00+00:00",
          "2024-06-05T01:00:00+00:00",
          "2024-06-05T02:00:00+00:00",
          "2024-06-05T03:00:00+00:00",
          "2024-06-05T04:00:00+00:00",
          "2024-06-05T05:00:00+00:00",
          "2024-06-05T06:00:00+00:00",
          "2024-06-05T07:00:00+00:00",
          "2024-06-05T08:00:00+00:00",
          "2024-06-05T09:00:00+00:00",
          "2024-06-05T10:00:00+00:00",
          "2024-06-05T11:00:00+00:00",
          "2024-06-05T12:00:00+00:00",
          "2024-06-05T13:00:00+00:00",
          "2024-06-05T14:00:00+00:00",
          "2024-06-05T15:00:00+00:00",
          "2024-06-05T16:00:00+00:00",
          "2024-06-05T17:00:00+00:00",
          "2024-06-05T18:00:00+00:00",
          "2024-06-05T19:00:00+00:00",
          "2024-06-05T20:00:00+00:00",
          "2024-06-05T21:00:00+00:00",
          "2024-06-05T22:00:00+00:00",
          "2024-06-05T23:00:00+00:00",
          "2024-06-06T00:00:00+00:00",
          "2024-06-06T01:00:00+00:00",
          "2024-06-06T02:00:00+00:00",
          "2024-06-06T03:00:00+00:00",
          "2024-06-06T04:00:00+00:00",
          "2024-06-06T05:00:00+00:00",
          "2024-06-06T06:00:00+00:00",
          "2024-06-06T07:00:00+00:00",
          "2024-06-06T08:00:00+00:00",
          "2024-06-06T09:00:00+00:00",
          "2024-06-06T10:00:00+00:00",
          "2024-06-06T11:00:00+00:00",
          "2024-06-06T12:00:00+00:00",
          "2024-06-06T13:00:00+00:00",
          "2024-06-06T14:00:00+00:00",
          "2024-06-06T15:00:00+00:00",
          "2024-06-06T16:00:00+00:00",
          "2024-06-06T17:00:00+00:00",
          "2024-06-06T18:00:00+00:00",
          "2024-06-06T19:00:00+00:00",
          "2024-06-06T20:00:00+00:00",
          "2024-06-06T21:00:00+00:00",
          "2024-06-06T22:00:00+00:00",
          "2024-06-06T23:00:00+00:00",
          "2024-06-07T00:00:00+00:00",
          "2024-06-07T01:00:00+00:00",
          "2024-06-07T02:00:00+00:00",
          "2024-06-07T03:00:00+00:00",
          "2024-06-07T04:00:00+00:00",
          "2024-06-07T05:00:00+00:00",
          "2024-06-07T06:00:00+00:00",
          "2024-06-07T07:00:00+00:00",
          "2024-06-07T08:00:00+00:00",
          "2024-06-07T09:00:00+00:00",
          "2024-06-07T10:00:00+00:00",
          "2024-06-07T11:00:00+00:00",
          "2024-06-07T12:00:00+00:00",
          "2024-06-07T13:00:00+00:00",
          "2024-06-07T14:00:00+00:00",
          "2024-06-07T15:00:00+00:00",
          "2024-06-07T16:00:00+00:00",
          "2024-06-07T17:00:00+00:00",
          "2024-06-07T18:00:00+00:00",
          "2024-06-07T19:00:00+00:00",
          "2024-06-07T20:00:00+00:00",
          "2024-06-07T21:00:00+00:00",
          "2024-06-07T22:00:00+00:00",
          "2024-06-07T23:00:00+00:00",
          "2024-06-08T00:00:00+00:00",
          "2024-06-08T01:00:00+00:00",
          "2024-06-08T02:00:00+00:00",
          "2024-06-08T03:00:00+00:00",
          "2024-06-08T04:00:00+00:00",
          "2024-06-08T05:00:00+00:00",
          "2024-06-08T06:00:00+00:00",
          "2024-06-08T07:00:00+00:00",
          "2024-06-08T08:00:00+00:00",
          "2024-06-08T09:00:00+00:00",
          "2024-06-08T10:00:00+00:00",
          "2024-06-08T11:00:00+00:00",
          "2024-06-08T12:00:00+00:00",
          "2024-06-08T13:00:00+00:00",
          "2024-06-08T14:00:00+00:00",
          "2024-06-08T15:00:00+00:00",
          "2024-06-08T16:00:00+00:00",
          "2024-06-08T17:00:00+00:00",
          "2024-06-08T18:00:00+00:00",
          "2024-06-08T19:00:00+00:00",
          "2024-06-08T20:00:00+00:00",
          "2024-06-08T21:00:00+00:00",
          "2024-06-08T22:00:00+00:00",
          "2024-06-08T23:00:00+00:00",
          "2024-06-09T00:00:00+00:00",
          "2024-06-09T01:00:00+00:00",
          "2024-06-09T02:00:00+00:00",
          "2024-06-09T03:00:00+00:00",
          "2024-06-09T04:00:00+00:00",
          "2024-06-09T05:00:00+00:00",
          "2024-06-09T06:00:00+00:00",
          "2024-06-09T07:00:00+00:00",
          "2024-06-09T08:00:00+00:00",
          "2024-06-09T09:00:00+00:00",
          "2024-06-09T10:00:00+00:00",
          "2024-06-09T11:00:00+00:00",
          "2024-06-09T12:00:00+00:00",
          "2024-06-09T13:00:00+00:00",
          "2024-06-09T14:00:00+00:00",
          "2024-06-09T15:00:00+00:00",
          "2024-06-09T16:00:00+00:00",
          "2024-06-09T17:00:00+00:00",
          "2024-06-09T18:00:00+00:00",
          "2024-06-09T19:00:00+00:00",
          "2024-06-09T20:00:00+00:00",
          "2024-06-09T21:00:00+00:00",
          "2024-06-09T22:00:00+00:00",
          "2024-06-09T23:00:00+00:00",
          "2024-06-10T00:00:00+00:00",
          "2024-06-10T01:00:00+00:00",
          "2024-06-10T02:00:00+00:00",
          "2024-06-10T03:00:00+00:00",
          "2024-06-10T04:00:00+00:00",
          "2024-06-10T05:00:00+00:00",
          "2024-06-10T06:00:00+00:00",
          "2024-06-10T07:00:00+00:00",
          "2024-06-10T08:00:00+00:00",
          "2024-06-10T09:00:00+00:00",
          "2024-06-10T10:00:00+00:00",
          "2024-06-10T11:00:00+00:00",
          "2024-06-10T12:00:00+00:00",
          "2024-06-10T13:00:00+00:00",
          "2024-06-10T14:00:00+00:00",
          "2024-06-10T15:00:00+00:00",
          "2024-06-10T16:00:00+00:00",
          "2024-06-10T17:00:00+00:00",
          "2024-06-10T18:00:00+00:00",
          "2024-06-10T19:00:00+00:00",
          "2024-06-10T20:00:00+00:00",
          "2024-06-10T21:00:00+00:00",
          "2024-06-10T22:00:00+00:00",
          "2024-06-10T23:00:00+00:00",
          "2024-06-11T00:00:00+00:00",
          "2024-06-11T01:00:00+00:00",
          "2024-06-11T02:00:00+00:00",
          "2024-06-11T03:00:00+00:00",
          "2024-06-11T04:00:00+00:00",
          "2024-06-11T05:00:00+00:00",
          "2024-06-11T06:00:00+00:00",
          "2024-06-11T07:00:00+00:00",
          "2024-06-11T08:00:00+00:00",
          "2024-06-11T09:00:00+00:00",
          "2024-06-11T10:00:00+00:00",
          "2024-06-11T11:00:00+00:00",
          "2024-06-11T12:00:00+00:00",
          "2024-06-11T13:00:00+00:00",
          "2024-06-11T14:00:00+00:00",
          "2024-06-11T15:00:00+00:00",
          "2024-06-11T16:00:00+00:00",
          "2024-06-11T17:00:00+00:00",
          "2024-06-11T18:00:00+00:00",
          "2024-06-11T19:00:00+00:00",
          "2024-06-11T20:00:00+00:00",
          "2024-06-11T21:00:00+00:00",
          "2024-06-11T22:00:00+00:00",
          "2024-06-11T23:00:00+00:00",
          "2024-06-12T00:00:00+00:00",
          "2024-06-12T01:00:00+00:00",
          "2024-06-12T02:00:00+00:00",
          "2024-06-12T03:00:00+00:00",
          "2024-06-12T04:00:00+00:00",
          "2024-06-12T05:00:00+00:00",
          "2024-06-12T06:00:00+00:00",
          "2024-06-12T07:00:00+00:00",
          "2024-06-12T08:00:00+00:00",
          "2024-06-12T09:00:00+00:00",
          "2024-06-12T10:00:00+00:00",
          "2024-06-12T11:00:00+00:00",
          "2024-06-12T12:00:00+00:00",
          "2024-06-12T13:00:00+00:00",
          "2024-06-12T14:00:00+00:00",
          "2024-06-12T15:00:00+00:00",
          "2024-06-12T16:00:00+00:00",
          "2024-06-12T17:00:00+00:00",
          "2024-06-12T18:00:00+00:00",
          "2024-06-12T19:00:00+00:00",
          "2024-06-12T20:00:00+00:00",
          "2024-06-12T21:00:00+00:00",
          "2024-06-12T22:00:00+00:00",
          "2024-06-12T23:00:00+00:00",
          "2024-06-13T00:00:00+00:00",
          "2024-06-13T01:00:00+00:00",
          "2024-06-13T02:00:00+00:00",
          "2024-06-13T03:00:00+00:00",
          "2024-06-13T04:00:00+00:00",
          "2024-06-13T05:00:00+00:00",
          "2024-06-13T06:00:00+00:00",
          "2024-06-13T07:00:00+00:00",
          "2024-06-13T08:00:00+00:00",
          "2024-06-13T09:00:00+00:00",
          "2024-06-13T10:00:00+00:00",
          "2024-06-13T11:00:00+00:00",
          "2024-06-13T12:00:00+00:00",
          "2024-06-13T13:00:00+00:00",
          "2024-06-13T14:00:00+00:00",
          "2024-06-13T15:00:00+00:00",
          "2024-06-13T16:00:00+00:00",
          "2024-06-13T17:00:00+00:00",
          "2024-06-13T18:00:00+00:00",
          "2024-06-13T19:00:00+00:00",
          "2024-06-13T20:00:00+00:00",
          "2024-06-13T21:00:00+00:00",
          "2024-06-13T22:00:00+00:00",
          "2024-06-13T23:00:00+00:00",
          "2024-06-14T00:00:00+00:00",
          "2024-06-14T01:00:00+00:00",
          "2024-06-14T02:00:00+00:00",
          "2024-06-14T03:00:00+00:00",
          "2024-06-14T04:00:00+00:00",
          "2024-06-14T05:00:00+00:00",
          "2024-06-14T06:00:00+00:00",
          "2024-06-14T07:00:00+00:00",
          "2024-06-14T08:00:00+00:00",
          "2024-06-14T09:00:00+00:00",
          "2024-06-14T10:00:00+00:00",
          "2024-06-14T11:00:00+00:00",
          "2024-06-14T12:00:00+00:00",
          "2024-06-14T13:00:00+00:00",
          "2024-06-14T14:00:00+00:00",
          "2024-06-14T15:00:00+00:00",
          "2024-06-14T16:00:00+00:00",
          "2024-06-14T17:00:00+00:00",
          "2024-06-14T18:00:00+00:00",
          "2024-06-14T19:00:00+00:00",
          "2024-06-14T20:00:00+00:00",
          "2024-06-14T21:00:00+00:00",
          "2024-06-14T22:00:00+00:00",
          "2024-06-14T23:00:00+00:00",
          "2024-06-15T00:00:00+00:00",
          "2024-06-15T01:00:00+00:00",
          "2024-06-15T02:00:00+00:00",
          "2024-06-15T03:00:00+00:00",
          "2024-06-15T04:00:00+00:00",
          "2024-06-15T05:00:00+00:00",
          "2024-06-15T06:00:00+00:00",
          "2024-06-15T07:00:00+00:00",
          "2024-06-15T08:00:00+00:00",
          "2024-06-15T09:00:00+00:00",
          "2024-06-15T10:00:00+00:00",
          "2024-06-15T11:00:00+00:00",
          "2024-06-15T12:00:00+00:00",
          "2024-06-15T13:00:00+00:00",
          "2024-06-15T14:00:00+00:00",
          "2024-06-15T15:00:00+00:00",
          "2024-06-15T16:00:00+00:00",
          "2024-06-15T17:00:00+00:00",
          "2024-06-15T18:00:00+00:00",
          "2024-06-15T19:00:00+00:00",
          "2024-06-15T20:00:00+00:00",
          "2024-06-15T21:00:00+00:00",
          "2024-06-15T22:00:00+00:00",
          "2024-06-15T23:00:00+00:00",
          "2024-06-16T00:00:00+00:00",
          "2024-06-16T01:00:00+00:00",
          "2024-06-16T02:00:00+00:00",
          "2024-06-16T03:00:00+00:00",
          "2024-06-16T04:00:00+00:00",
          "2024-06-16T05:00:00+00:00",
          "2024-06-16T06:00:00+00:00",
          "2024-06-16T07:00:00+00:00",
          "2024-06-16T08:00:00+00:00",
          "2024-06-16T09:00:00+00:00",
          "2024-06-16T10:00:00+00:00",
          "2024-06-16T11:00:00+00:00",
          "2024-06-16T12:00:00+00:00",
          "2024-06-16T13:00:00+00:00",
          "2024-06-16T14:00:00+00:00",
          "2024-06-16T15:00:00+00:00",
          "2024-06-16T16:00:00+00:00",
          "2024-06-16T17:00:00+00:00",
          "2024-06-16T18:00:00+00:00",
          "2024-06-16T19:00:00+00:00",
          "2024-06-16T20:00:00+00:00",
          "2024-06-16T21:00:00+00:00",
          "2024-06-16T22:00:00+00:00",
          "2024-06-16T23:00:00+00:00",
          "2024-06-17T00:00:00+00:00",
          "2024-06-17T01:00:00+00:00",
          "2024-06-17T02:00:00+00:00",
          "2024-06-17T03:00:00+00:00",
          "2024-06-17T04:00:00+00:00",
          "2024-06-17T05:00:00+00:00",
          "2024-06-17T06:00:00+00:00",
          "2024-06-17T07:00:00+00:00",
          "2024-06-17T08:00:00+00:00",
          "2024-06-17T09:00:00+00:00",
          "2024-06-17T10:00:00+00:00",
          "2024-06-17T11:00:00+00:00",
          "2024-06-17T12:00:00+00:00",
          "2024-06-17T13:00:00+00:00",
          "2024-06-17T14:00:00+00:00",
          "2024-06-17T15:00:00+00:00",
          "2024-06-17T16:00:00+00:00",
          "2024-06-17T17:00:00+00:00",
          "2024-06-17T18:00:00+00:00",
          "2024-06-17T19:00:00+00:00",
          "2024-06-17T20:00:00+00:00",
          "2024-06-17T21:00:00+00:00",
          "2024-06-17T22:00:00+00:00",
          "2024-06-17T23:00:00+00:00",
          "2024-06-18T00:00:00+00:00",
          "2024-06-18T01:00:00+00:00",
          "2024-06-18T02:00:00+00:00",
          "2024-06-18T03:00:00+00:00",
          "2024-06-18T04:00:00+00:00",
          "2024-06-18T05:00:00+00:00",
          "2024-06-18T06:00:00+00:00",
          "2024-06-18T07:00:00+00:00",
          "2024-06-18T08:00:00+00:00",
          "2024-06-18T09:00:00+00:00",
          "2024-06-18T10:00:00+00:00",
          "2024-06-18T11:00:00+00:00",
          "2024-06-18T12:00:00+00:00",
          "2024-06-18T13:00:00+00:00",
          "2024-06-18T14:00:00+00:00",
          "2024-06-18T15:00:00+00:00",
          "2024-06-18T16:00:00+00:00",
          "2024-06-18T17:00:00+00:00",
          "2024-06-18T18:00:00+00:00",
          "2024-06-18T19:00:00+00:00",
          "2024-06-18T20:00:00+00:00",
          "2024-06-18T21:00:00+00:00",
          "2024-06-18T22:00:00+00:00",
          "2024-06-18T23:00:00+00:00",
          "2024-06-19T00:00:00+00:00",
          "2024-06-19T01:00:00+00:00",
          "2024-06-19T02:00:00+00:00",
          "2024-06-19T03:00:00+00:00",
          "2024-06-19T04:00:00+00:00",
          "2024-06-19T05:00:00+00:00",
          "2024-06-19T06:00:00+00:00",
          "2024-06-19T07:00:00+00:00",
          "2024-06-19T08:00:00+00:00",
          "2024-06-19T09:00:00+00:00",
          "2024-06-19T10:00:00+00:00",
          "2024-06-19T11:00:00+00:00",
          "2024-06-19T12:00:00+00:00",
          "2024-06-19T13:00:00+00:00",
          "2024-06-19T14:00:00+00:00",
          "2024-06-19T15:00:00+00:00",
          "2024-06-19T16:00:00+00:00",
          "2024-06-19T17:00:00+00:00",
          "2024-06-19T18:00:00+00:00",
          "2024-06-19T19:00:00+00:00",
          "2024-06-19T20:00:00+00:00",
          "2024-06-19T21:00:00+00:00",
          "2024-06-19T22:00:00+00:00",
          "2024-06-19T23:00:00+00:00",
          "2024-06-20T00:00:00+00:00",
          "2024-06-20T01:00:00+00:00",
          "2024-06-20T02:00:00+00:00",
          "2024-06-20T03:00:00+00:00",
          "2024-06-20T04:00:00+00:00",
          "2024-06-20T05:00:00+00:00",
          "2024-06-20T06:00:00+00:00",
          "2024-06-20T07:00:00+00:00",
          "2024-06-20T08:00:00+00:00",
          "2024-06-20T09:00:00+00:00",
          "2024-06-20T10:00:00+00:00",
          "2024-06-20T11:00:00+00:00",
          "2024-06-20T12:00:00+00:00",
          "2024-06-20T13:00:00+00:00",
          "2024-06-20T14:00:00+00:00",
          "2024-06-20T15:00:00+00:00",
          "2024-06-20T16:00:00+00:00",
          "2024-06-20T17:00:00+00:00",
          "2024-06-20T18:00:00+00:00",
          "2024-06-20T19:00:00+00:00",
          "2024-06-20T20:00:00+00:00",
          "2024-06-20T21:00:00+00:00",
          "2024-06-20T22:00:00+00:00",
          "2024-06-20T23:00:00+00:00",
          "2024-06-21T00:00:00+00:00",
          "2024-06-21T01:00:00+00:00",
          "2024-06-21T02:00:00+00:00",
          "2024-06-21T03:00:00+00:00",
          "2024-06-21T04:00:00+00:00",
          "2024-06-21T05:00:00+00:00",
          "2024-06-21T06:00:00+00:00",
          "2024-06-21T07:00:00+00:00",
          "2024-06-21T08:00:00+00:00",
          "2024-06-21T09:00:00+00:00",
          "2024-06-21T10:00:00+00:00",
          "2024-06-21T11:00:00+00:00",
          "2024-06-21T12:00:00+00:00",
          "2024-06-21T13:00:00+00:00",
          "2024-06-21T14:00:00+00:00",
          "2024-06-21T15:00:00+00:00",
          "2024-06-21T16:00:00+00:00",
          "2024-06-21T17:00:00+00:00",
          "2024-06-21T18:00:00+00:00",
          "2024-06-21T19:00:00+00:00",
          "2024-06-21T20:00:00+00:00",
          "2024-06-21T21:00:00+00:00",
          "2024-06-21T22:00:00+00:00",
          "2024-06-21T23:00:00+00:00",
          "2024-06-22T00:00:00+00:00",
          "2024-06-22T01:00:00+00:00",
          "2024-06-22T02:00:00+00:00",
          "2024-06-22T03:00:00+00:00",
          "2024-06-22T04:00:00+00:00",
          "2024-06-22T05:00:00+00:00",
          "2024-06-22T06:00:00+00:00",
          "2024-06-22T07:00:00+00:00",
          "2024-06-22T08:00:00+00:00",
          "2024-06-22T09:00:00+00:00",
          "2024-06-22T10:00:00+00:00",
          "2024-06-22T11:00:00+00:00",
          "2024-06-22T12:00:00+00:00",
          "2024-06-22T13:00:00+00:00",
          "2024-06-22T14:00:00+00:00",
          "2024-06-22T15:00:00+00:00",
          "2024-06-22T16:00:00+00:00",
          "2024-06-22T17:00:00+00:00",
          "2024-06-22T18:00:00+00:00",
          "2024-06-22T19:00:00+00:00",
          "2024-06-22T20:00:00+00:00",
          "2024-06-22T21:00:00+00:00",
          "2024-06-22T22:00:00+00:00",
          "2024-06-22T23:00:00+00:00",
          "2024-06-23T00:00:00+00:00",
          "2024-06-23T01:00:00+00:00",
          "2024-06-23T02:00:00+00:00",
          "2024-06-23T03:00:00+00:00",
          "2024-06-23T04:00:00+00:00",
          "2024-06-23T05:00:00+00:00",
          "2024-06-23T06:00:00+00:00",
          "2024-06-23T07:00:00+00:00",
          "2024-06-23T08:00:00+00:00",
          "2024-06-23T09:00:00+00:00",
          "2024-06-23T10:00:00+00:00",
          "2024-06-23T11:00:00+00:00",
          "2024-06-23T12:00:00+00:00",
          "2024-06-23T13:00:00+00:00",
          "2024-06-23T14:00:00+00:00",
          "2024-06-23T15:00:00+00:00",
          "2024-06-23T16:00:00+00:00",
          "2024-06-23T17:00:00+00:00",
          "2024-06-23T18:00:00+00:00",
          "2024-06-23T19:00:00+00:00",
          "2024-06-23T20:00:00+00:00",
          "2024-06-23T21:00:00+00:00",
          "2024-06-23T22:00:00+00:00",
          "2024-06-23T23:00:00+00:00",
          "2024-06-24T00:00:00+00:00",
          "2024-06-24T01:00:00+00:00",
          "2024-06-24T02:00:00+00:00",
          "2024-06-24T03:00:00+00:00",
          "2024-06-24T04:00:00+00:00",
          "2024-06-24T05:00:00+00:00",
          "2024-06-24T06:00:00+00:00",
          "2024-06-24T07:00:00+00:00",
          "2024-06-24T08:00:00+00:00",
          "2024-06-24T09:00:00+00:00",
          "2024-06-24T10:00:00+00:00",
          "2024-06-24T11:00:00+00:00",
          "2024-06-24T12:00:00+00:00",
          "2024-06-24T13:00:00+00:00",
          "2024-06-24T14:00:00+00:00",
          "2024-06-24T15:00:00+00:00",
          "2024-06-24T16:00:00+00:00",
          "2024-06-24T17:00:00+00:00",
          "2024-06-24T18:00:00+00:00",
          "2024-06-24T19:00:00+00:00",
          "2024-06-24T20:00:00+00:00",
          "2024-06-24T21:00:00+00:00",
          "2024-06-24T22:00:00+00:00",
          "2024-06-24T23:00:00+00:00",
          "2024-06-25T00:00:00+00:00",
          "2024-06-25T01:00:00+00:00",
          "2024-06-25T02:00:00+00:00",
          "2024-06-25T03:00:00+00:00",
          "2024-06-25T04:00:00+00:00",
          "2024-06-25T05:00:00+00:00",
          "2024-06-25T06:00:00+00:00",
          "2024-06-25T07:00:00+00:00",
          "2024-06-25T08:00:00+00:00",
          "2024-06-25T09:00:00+00:00",
          "2024-06-25T10:00:00+00:00",
          "2024-06-25T11:00:00+00:00",
          "2024-06-25T12:00:00+00:00",
          "2024-06-25T13:00:00+00:00",
          "2024-06-25T14:00:00+00:00",
          "2024-06-25T15:00:00+00:00",
          "2024-06-25T16:00:00+00:00",
          "2024-06-25T17:00:00+00:00",
          "2024-06-25T18:00:00+00:00",
          "2024-06-25T19:00:00+00:00",
          "2024-06-25T20:00:00+00:00",
          "2024-06-25T21:00:00+00:00",
          "2024-06-25T22:00:00+00:00",
          "2024-06-25T23:00:00+00:00",
          "2024-06-26T00:00:00+00:00",
          "2024-06-26T01:00:00+00:00",
          "2024-06-26T02:00:00+00:00",
          "2024-06-26T03:00:00+00:00",
          "2024-06-26T04:00:00+00:00",
          "2024-06-26T05:00:00+00:00",
          "2024-06-26T06:00:00+00:00",
          "2024-06-26T07:00:00+00:00",
          "2024-06-26T08:00:00+00:00",
          "2024-06-26T09:00:00+00:00",
          "2024-06-26T10:00:00+00:00",
          "2024-06-26T11:00:00+00:00",
          "2024-06-26T12:00:00+00:00",
          "2024-06-26T13:00:00+00:00",
          "2024-06-26T14:00:00+00:00",
          "2024-06-26T15:00:00+00:00",
          "2024-06-26T16:00:00+00:00",
          "2024-06-26T17:00:00+00:00",
          "2024-06-26T18:00:00+00:00",
          "2024-06-26T19:00:00+00:00",
          "2024-06-26T20:00:00+00:00",
          "2024-06-26T21:00:00+00:00",
          "2024-06-26T22:00:00+00:00",
          "2024-06-26T23:00:00+00:00",
          "2024-06-27T00:00:00+00:00",
          "2024-06-27T01:00:00+00:00",
          "2024-06-27T02:00:00+00:00",
          "2024-06-27T03:00:00+00:00",
          "2024-06-27T04:00:00+00:00",
          "2024-06-27T05:00:00+00:00",
          "2024-06-27T06:00:00+00:00",
          "2024-06-27T07:00:00+00:00",
          "2024-06-27T08:00:00+00:00",
          "2024-06-27T09:00:00+00:00",
          "2024-06-27T10:00:00+00:00",
          "2024-06-27T11:00:00+00:00",
          "2024-06-27T12:00:00+00:00",
          "2024-06-27T13:00:00+00:00",
          "2024-06-27T14:00:00+00:00",
          "2024-06-27T15:00:00+00:00",
          "2024-06-27T16:00:00+00:00",
          "2024-06-27T17:00:00+00:00",
          "2024-06-27T18:00:00+00:00",
          "2024-06-27T19:00:00+00:00",
          "2024-06-27T20:00:00+00:00",
          "2024-06-27T21:00:00+00:00",
          "2024-06-27T22:00:00+00:00",
          "2024-06-27T23:00:00+00:00",
          "2024-06-28T00:00:00+00:00",
          "2024-06-28T01:00:00+00:00",
          "2024-06-28T02:00:00+00:00",
          "2024-06-28T03:00:00+00:00",
          "2024-06-28T04:00:00+00:00",
          "2024-06-28T05:00:00+00:00",
          "2024-06-28T06:00:00+00:00",
          "2024-06-28T07:00:00+00:00",
          "2024-06-28T08:00:00+00:00",
          "2024-06-28T09:00:00+00:00",
          "2024-06-28T10:00:00+00:00",
          "2024-06-28T11:00:00+00:00",
          "2024-06-28T12:00:00+00:00",
          "2024-06-28T13:00:00+00:00",
          "2024-06-28T14:00:00+00:00",
          "2024-06-28T15:00:00+00:00",
          "2024-06-28T16:00:00+00:00",
          "2024-06-28T17:00:00+00:00",
          "2024-06-28T18:00:00+00:00",
          "2024-06-28T19:00:00+00:00",
          "2024-06-28T20:00:00+00:00",
          "2024-06-28T21:00:00+00:00",
          "2024-06-28T22:00:00+00:00",
          "2024-06-28T23:00:00+00:00",
          "2024-06-29T00:00:00+00:00",
          "2024-06-29T01:00:00+00:00",
          "2024-06-29T02:00:00+00:00",
          "2024-06-29T03:00:00+00:00",
          "2024-06-29T04:00:00+00:00",
          "2024-06-29T05:00:00+00:00",
          "2024-06-29T06:00:00+00:00",
          "2024-06-29T07:00:00+00:00",
          "2024-06-29T08:00:00+00:00",
          "2024-06-29T09:00:00+00:00",
          "2024-06-29T10:00:00+00:00",
          "2024-06-29T11:00:00+00:00",
          "2024-06-29T12:00:00+00:00",
          "2024-06-29T13:00:00+00:00",
          "2024-06-29T14:00:00+00:00",
          "2024-06-29T15:00:00+00:00",
          "2024-06-29T16:00:00+00:00",
          "2024-06-29T17:00:00+00:00",
          "2024-06-29T18:00:00+00:00",
          "2024-06-29T19:00:00+00:00",
          "2024-06-29T20:00:00+00:00",
          "2024-06-29T21:00:00+00:00",
          "2024-06-29T22:00:00+00:00",
          "2024-06-29T23:00:00+00:00",
          "2024-06-30T00:00:00+00:00",
          "2024-06-30T01:00:00+00:00",
          "2024-06-30T02:00:00+00:00",
          "2024-06-30T03:00:00+00:00",
          "2024-06-30T04:00:00+00:00",
          "2024-06-30T05:00:00+00:00",
          "2024-06-30T06:00:00+00:00",
          "2024-06-30T07:00:00+00:00",
          "2024-06-30T08:00:00+00:00",
          "2024-06-30T09:00:00+00:00",
          "2024-06-30T10:00:00+00:00",
          "2024-06-30T11:00:00+00:00",
          "2024-06-30T12:00:00+00:00",
          "2024-06-30T13:00:00+00:00",
          "2024-06-30T14:00:00+00:00",
          "2024-06-30T15:00:00+00:00",
          "2024-06-30T16:00:00+00:00",
          "2024-06-30T17:00:00+00:00",
          "2024-06-30T18:00:00+00:00",
          "2024-06-30T19:00:00+00:00",
          "2024-06-30T20:00:00+00:00",
          "2024-06-30T21:00:00+00:00",
          "2024-06-30T22:00:00+00:00",
          "2024-06-30T23:00:00+00:00"
         ],
         "xaxis": "x",
         "y": [
          1.75,
          1.725,
          1.675,
          5.325,
          281.05,
          1519.2250000000001,
          3935.625,
          7103.625,
          11096.975,
          15816.474999999999,
          19530.375,
          21357.55,
          22285.075,
          21806.625,
          19718.825,
          16220.55,
          11776.8,
          6993.275,
          3276.625,
          1039.075,
          74.525,
          1.775,
          1.55,
          1.975,
          1.65,
          1.7,
          1.625,
          5.175000000000001,
          324.15,
          1767.475,
          4199.775,
          7257.875,
          10474.425,
          13635.225,
          16880.375,
          19885.65,
          21474.4,
          21778.5,
          20317.375,
          17415.8,
          13349.2,
          8352.6,
          4016.4750000000004,
          1228.075,
          72.675,
          2.2,
          1.925,
          1.725,
          2,
          1.65,
          1.5750000000000002,
          4.575,
          276.75,
          1540.625,
          3836.3999999999996,
          6648.4,
          9995.825,
          13294.475,
          16649.300000000003,
          19410.75,
          21223.85,
          21317.7,
          19993.65,
          17015,
          12904.475,
          8116.75,
          3859.05,
          1137.2,
          57.525,
          2.05,
          1.8,
          2,
          1.875,
          1.9,
          1.8,
          4.9,
          382.3,
          2530.225,
          7090.425,
          13753.875,
          20435.85,
          24627.325,
          27353.9,
          30281.175,
          31717,
          31911.225,
          30257.975,
          26298.325,
          20580.85,
          13089.25,
          6017.95,
          1782.875,
          95.89999999999999,
          3.05,
          2.25,
          2.1750000000000003,
          2.075,
          2,
          2.125,
          6.075,
          492.57500000000005,
          2996.525,
          7598.85,
          13830.275,
          19865.35,
          24077.55,
          25490.175,
          25180.85,
          25091.8,
          24712.975,
          23588.875,
          20362.625,
          15375.099999999999,
          9450.625,
          4523.6,
          1461.675,
          116.1,
          2.65,
          2.275,
          2.425,
          1.875,
          2.7,
          1.7,
          8.925,
          581.325,
          3604.85,
          9970.35,
          18054.55,
          26087.975,
          31914.7,
          35323.15,
          36694.675,
          36346.525,
          34921.875,
          32066.975000000002,
          26961.2,
          20509.075,
          12638.7,
          5879.375,
          1852.75,
          149.275,
          2.525,
          1.8,
          1.725,
          1.85,
          1.65,
          1.6500000000000001,
          7.975,
          549.2,
          3313.075,
          9210.625,
          17132,
          25714.9,
          32081.949999999997,
          35898.725,
          36586.175,
          36135.175,
          34196.225,
          31034.825,
          26706.05,
          20203.6,
          13033.55,
          6127.625,
          1900.5,
          142.20000000000002,
          2.2,
          2.05,
          1.85,
          1.9,
          1.775,
          1.7,
          7.825,
          601.45,
          3631.975,
          10769.575,
          20305.15,
          29115.05,
          35133.149999999994,
          38093.675,
          37830.6,
          36080.8,
          32373.175,
          27051.9,
          20964.975,
          15204.975,
          9213.5,
          4500.2,
          1477.775,
          131.2,
          3.025,
          1.925,
          1.95,
          1.825,
          1.725,
          1.725,
          9.525,
          536.525,
          3186.8,
          9583.85,
          17954.225,
          25263.85,
          29937.45,
          31969.525,
          32324.525,
          32011.800000000003,
          30303.425,
          27427.025,
          23528.575,
          18005.375,
          11231.775,
          5390.2,
          1916.925,
          178,
          1.95,
          1.775,
          1.65,
          1.725,
          1.7,
          1.775,
          9.25,
          504.9,
          2874.825,
          8177.1,
          15698.35,
          23502.8,
          28931.7,
          30952.35,
          30874.9,
          30203.575,
          27737.575,
          24200.575,
          19783.25,
          14405.325,
          8737.675,
          4004.175,
          1114.9,
          70.5,
          1.8,
          2.1,
          2.075,
          2.05,
          1.7,
          1.65,
          6.8999999999999995,
          376.425,
          2323.175,
          6193.325,
          11386.625,
          16507.1,
          20846.45,
          24160.675,
          26067.7,
          27098.975,
          27292.35,
          25903.850000000002,
          22254.8,
          16865.225,
          10775.725,
          5365.375,
          1898.8000000000002,
          169.5,
          2.9,
          2.025,
          3.25,
          4.1,
          3.475,
          3.15,
          10.7,
          565.825,
          3407.825,
          9748.975,
          18253.95,
          25653.6,
          29459.350000000002,
          30493.35,
          31066.4,
          31392.175,
          31030.5,
          28057.6,
          23563.9,
          18099.3,
          11343.175,
          5397.35,
          1756.275,
          140.05,
          9.725000000000001,
          8,
          4.6,
          4.35,
          2.725,
          2.775,
          10.15,
          556.375,
          3207.6,
          8731.65,
          16613.225,
          24035.525,
          29326.475,
          31823.6,
          32700.1,
          32797.15,
          31479.9,
          28896.875,
          25154.65,
          19760.325,
          12957,
          6184.475,
          1901.525,
          136.925,
          4.1,
          2.625,
          2.6500000000000004,
          2.425,
          2.475,
          2.225,
          5.975,
          382,
          2383.8,
          5293.6,
          8791.65,
          12639.15,
          16166.95,
          19173.274999999998,
          21475.875,
          21576.275,
          20601.225,
          18686.875,
          15997.35,
          12713.75,
          8599.65,
          4448.425,
          1444.125,
          115.175,
          2.425,
          2.15,
          2,
          2.7,
          2.225,
          2.7,
          10.45,
          440.775,
          1984.15,
          4097,
          7150.05,
          11547.4,
          17097.575,
          23027.25,
          26823.675000000003,
          28971.45,
          29202.75,
          27525.7,
          24565.325,
          19401.025,
          12615.849999999999,
          6000.7,
          1982.125,
          167.2,
          3.8499999999999996,
          2.225,
          3.05,
          2.4,
          2.15,
          2.125,
          10.899999999999999,
          511.54999999999995,
          3076.825,
          8594.4,
          15642.675,
          22527.425,
          28155.1,
          30922.6,
          31588.550000000003,
          30775.5,
          29390.225,
          26270.975,
          21924.175,
          16811.2,
          10699.1,
          4931.025,
          1593.35,
          146.075,
          4.925,
          2.525,
          1.975,
          1.9249999999999998,
          2.05,
          2.5,
          10.525,
          519.9,
          2776.2,
          6723.075,
          12253.75,
          19038.35,
          24808.85,
          28196.8,
          29542.2,
          29883.475,
          28453.375,
          25802.925,
          21457.475,
          16236.125,
          10390.3,
          5359.475,
          1960.225,
          176.025,
          7.7,
          3.5,
          2.5,
          3.025,
          2.1,
          2.75,
          12.5,
          632.65,
          3669.7250000000004,
          9861.55,
          18554.4,
          26984.2,
          32561.575,
          34558.775,
          34300.8,
          32138.125,
          29066.725,
          25581.85,
          20661.3,
          14337.025,
          8419.1,
          3750,
          1043.35,
          65.1,
          9.625,
          5.3,
          1.975,
          2.4,
          2.075,
          2.1500000000000004,
          7.075,
          338.825,
          2257.25,
          5650.55,
          10327.85,
          15343.974999999999,
          19732.275,
          22857.225,
          24844.4,
          26008.4,
          25433.8,
          23251.45,
          20609.475,
          16987.15,
          11667.25,
          6095.525,
          2040.575,
          205.825,
          3.625,
          2,
          2.325,
          3.05,
          3.125,
          4.6,
          13.375,
          503.85,
          2988.875,
          8209.325,
          15407.575,
          22666.5,
          28961.4,
          33308.65,
          33782.85,
          30701.350000000002,
          26846.5,
          23149.025,
          19128.55,
          14243.125,
          9571.55,
          4861.8,
          1514.15,
          124,
          3.75,
          2.225,
          2.2,
          2.125,
          1.8,
          2.25,
          8.05,
          506.07500000000005,
          2879.175,
          6357.9,
          9785,
          12951.975,
          16623.625,
          19563.975,
          19944,
          19393.15,
          19147.55,
          16675.649999999998,
          13037.325,
          9021.625,
          6239.075,
          3457.6,
          1187.6,
          114.15,
          8.95,
          2.35,
          2.225,
          2.875,
          2.675,
          3.575,
          5.9,
          269.25,
          2322.7,
          6674.925,
          13090.475,
          19990.875,
          26345.8,
          30413.9,
          32844.45,
          32642.975,
          30435.825,
          27055.699999999997,
          23002.149999999998,
          17466.275,
          11424.175,
          5712.575,
          1935.75,
          190.25,
          4.325,
          3.15,
          3.15,
          3.5250000000000004,
          2.7750000000000004,
          3.4,
          9.725,
          453.85,
          2826.825,
          8010.575,
          14802,
          21382.9,
          26569.475,
          29640.975,
          31726.525,
          32282.2,
          31041.325,
          28044.125,
          23994.2,
          18382.350000000002,
          11937.1,
          6108.625,
          2036.6,
          201.45,
          3.825,
          3.325,
          3.9,
          3.5,
          3.5,
          3.775,
          10.8,
          566.25,
          3631.5,
          10535.975,
          19561.475,
          28676.875,
          35268.850000000006,
          38433.825,
          39300.675,
          38842.525,
          37963.275,
          35305.5,
          31160.225,
          24438.15,
          15698.175000000001,
          7407.95,
          2343.575,
          227.07500000000002,
          4.775,
          3.325,
          2.7,
          1.85,
          1.75,
          1.775,
          9.45,
          574.9,
          3666.375,
          10832.95,
          20598.600000000002,
          30147.525,
          37341.55,
          41536.05,
          43777.05,
          44117.6,
          42620.125,
          38805.925,
          33176.75,
          25298.825,
          15934.975,
          7326.325,
          2322.95,
          220.75,
          4.6,
          4.85,
          3.225,
          2.5,
          1.925,
          1.825,
          9.024999999999999,
          549,
          3478.05,
          10058.05,
          19001.35,
          28155.125,
          34964.05,
          38934.025,
          40237.9,
          39892.775,
          37368.7,
          32584.025,
          26426.45,
          19460.225,
          11891.3,
          5606.6,
          1939.65,
          249.275,
          7.65,
          6.075,
          1.825,
          1.8,
          1.7,
          1.875,
          7.324999999999999,
          478.95000000000005,
          2884.425,
          7807.099999999999,
          15343.975,
          23461.25,
          30024.175,
          33992.3,
          34875.3,
          33516.3,
          31049.05,
          27055.65,
          22701.325,
          17215.925,
          10909.625,
          5450.65,
          1869.65,
          205.875,
          12.325,
          4.975,
          3.125,
          2.25,
          1.85,
          1.9,
          7.25,
          494.05,
          3181.2,
          8560.224999999999,
          15972.300000000001,
          23831.4,
          30741.25,
          34030.675,
          34430.850000000006,
          34311,
          33908.175,
          32167.525,
          28048.8,
          22936,
          15034.25,
          7223.4,
          2336.325,
          206.9,
          7.425,
          2.2,
          1.925,
          2.55,
          1.725,
          1.6,
          10.175,
          558.75,
          3595.625,
          10135.425,
          19016.275,
          27544.975,
          34000.825,
          38350.5,
          40641.45,
          40721.25,
          38210.85,
          33298.875,
          26664.825,
          19155.5,
          11223.325,
          4934.2,
          1534.1750000000002,
          125.3,
          5.975,
          2.35,
          3,
          2.625,
          2.025,
          1.95,
          4.5,
          246.8,
          1477.925,
          3669.5,
          7244.7,
          10806.7,
          13587.675,
          16709.075,
          19050.25,
          19943.325,
          17920.975,
          16298.975,
          12786.125,
          8598.05,
          5983.7,
          3148.225,
          1063.8500000000001,
          101.05,
          3.775,
          2.1,
          1.95
         ],
         "yaxis": "y"
        }
       ],
       "layout": {
        "legend": {
         "title": {
          "text": "variable"
         },
         "tracegroupgap": 0
        },
        "template": {
         "data": {
          "bar": [
           {
            "error_x": {
             "color": "#2a3f5f"
            },
            "error_y": {
             "color": "#2a3f5f"
            },
            "marker": {
             "line": {
              "color": "#E5ECF6",
              "width": 0.5
             },
             "pattern": {
              "fillmode": "overlay",
              "size": 10,
              "solidity": 0.2
             }
            },
            "type": "bar"
           }
          ],
          "barpolar": [
           {
            "marker": {
             "line": {
              "color": "#E5ECF6",
              "width": 0.5
             },
             "pattern": {
              "fillmode": "overlay",
              "size": 10,
              "solidity": 0.2
             }
            },
            "type": "barpolar"
           }
          ],
          "carpet": [
           {
            "aaxis": {
             "endlinecolor": "#2a3f5f",
             "gridcolor": "white",
             "linecolor": "white",
             "minorgridcolor": "white",
             "startlinecolor": "#2a3f5f"
            },
            "baxis": {
             "endlinecolor": "#2a3f5f",
             "gridcolor": "white",
             "linecolor": "white",
             "minorgridcolor": "white",
             "startlinecolor": "#2a3f5f"
            },
            "type": "carpet"
           }
          ],
          "choropleth": [
           {
            "colorbar": {
             "outlinewidth": 0,
             "ticks": ""
            },
            "type": "choropleth"
           }
          ],
          "contour": [
           {
            "colorbar": {
             "outlinewidth": 0,
             "ticks": ""
            },
            "colorscale": [
             [
              0,
              "#0d0887"
             ],
             [
              0.1111111111111111,
              "#46039f"
             ],
             [
              0.2222222222222222,
              "#7201a8"
             ],
             [
              0.3333333333333333,
              "#9c179e"
             ],
             [
              0.4444444444444444,
              "#bd3786"
             ],
             [
              0.5555555555555556,
              "#d8576b"
             ],
             [
              0.6666666666666666,
              "#ed7953"
             ],
             [
              0.7777777777777778,
              "#fb9f3a"
             ],
             [
              0.8888888888888888,
              "#fdca26"
             ],
             [
              1,
              "#f0f921"
             ]
            ],
            "type": "contour"
           }
          ],
          "contourcarpet": [
           {
            "colorbar": {
             "outlinewidth": 0,
             "ticks": ""
            },
            "type": "contourcarpet"
           }
          ],
          "heatmap": [
           {
            "colorbar": {
             "outlinewidth": 0,
             "ticks": ""
            },
            "colorscale": [
             [
              0,
              "#0d0887"
             ],
             [
              0.1111111111111111,
              "#46039f"
             ],
             [
              0.2222222222222222,
              "#7201a8"
             ],
             [
              0.3333333333333333,
              "#9c179e"
             ],
             [
              0.4444444444444444,
              "#bd3786"
             ],
             [
              0.5555555555555556,
              "#d8576b"
             ],
             [
              0.6666666666666666,
              "#ed7953"
             ],
             [
              0.7777777777777778,
              "#fb9f3a"
             ],
             [
              0.8888888888888888,
              "#fdca26"
             ],
             [
              1,
              "#f0f921"
             ]
            ],
            "type": "heatmap"
           }
          ],
          "heatmapgl": [
           {
            "colorbar": {
             "outlinewidth": 0,
             "ticks": ""
            },
            "colorscale": [
             [
              0,
              "#0d0887"
             ],
             [
              0.1111111111111111,
              "#46039f"
             ],
             [
              0.2222222222222222,
              "#7201a8"
             ],
             [
              0.3333333333333333,
              "#9c179e"
             ],
             [
              0.4444444444444444,
              "#bd3786"
             ],
             [
              0.5555555555555556,
              "#d8576b"
             ],
             [
              0.6666666666666666,
              "#ed7953"
             ],
             [
              0.7777777777777778,
              "#fb9f3a"
             ],
             [
              0.8888888888888888,
              "#fdca26"
             ],
             [
              1,
              "#f0f921"
             ]
            ],
            "type": "heatmapgl"
           }
          ],
          "histogram": [
           {
            "marker": {
             "pattern": {
              "fillmode": "overlay",
              "size": 10,
              "solidity": 0.2
             }
            },
            "type": "histogram"
           }
          ],
          "histogram2d": [
           {
            "colorbar": {
             "outlinewidth": 0,
             "ticks": ""
            },
            "colorscale": [
             [
              0,
              "#0d0887"
             ],
             [
              0.1111111111111111,
              "#46039f"
             ],
             [
              0.2222222222222222,
              "#7201a8"
             ],
             [
              0.3333333333333333,
              "#9c179e"
             ],
             [
              0.4444444444444444,
              "#bd3786"
             ],
             [
              0.5555555555555556,
              "#d8576b"
             ],
             [
              0.6666666666666666,
              "#ed7953"
             ],
             [
              0.7777777777777778,
              "#fb9f3a"
             ],
             [
              0.8888888888888888,
              "#fdca26"
             ],
             [
              1,
              "#f0f921"
             ]
            ],
            "type": "histogram2d"
           }
          ],
          "histogram2dcontour": [
           {
            "colorbar": {
             "outlinewidth": 0,
             "ticks": ""
            },
            "colorscale": [
             [
              0,
              "#0d0887"
             ],
             [
              0.1111111111111111,
              "#46039f"
             ],
             [
              0.2222222222222222,
              "#7201a8"
             ],
             [
              0.3333333333333333,
              "#9c179e"
             ],
             [
              0.4444444444444444,
              "#bd3786"
             ],
             [
              0.5555555555555556,
              "#d8576b"
             ],
             [
              0.6666666666666666,
              "#ed7953"
             ],
             [
              0.7777777777777778,
              "#fb9f3a"
             ],
             [
              0.8888888888888888,
              "#fdca26"
             ],
             [
              1,
              "#f0f921"
             ]
            ],
            "type": "histogram2dcontour"
           }
          ],
          "mesh3d": [
           {
            "colorbar": {
             "outlinewidth": 0,
             "ticks": ""
            },
            "type": "mesh3d"
           }
          ],
          "parcoords": [
           {
            "line": {
             "colorbar": {
              "outlinewidth": 0,
              "ticks": ""
             }
            },
            "type": "parcoords"
           }
          ],
          "pie": [
           {
            "automargin": true,
            "type": "pie"
           }
          ],
          "scatter": [
           {
            "fillpattern": {
             "fillmode": "overlay",
             "size": 10,
             "solidity": 0.2
            },
            "type": "scatter"
           }
          ],
          "scatter3d": [
           {
            "line": {
             "colorbar": {
              "outlinewidth": 0,
              "ticks": ""
             }
            },
            "marker": {
             "colorbar": {
              "outlinewidth": 0,
              "ticks": ""
             }
            },
            "type": "scatter3d"
           }
          ],
          "scattercarpet": [
           {
            "marker": {
             "colorbar": {
              "outlinewidth": 0,
              "ticks": ""
             }
            },
            "type": "scattercarpet"
           }
          ],
          "scattergeo": [
           {
            "marker": {
             "colorbar": {
              "outlinewidth": 0,
              "ticks": ""
             }
            },
            "type": "scattergeo"
           }
          ],
          "scattergl": [
           {
            "marker": {
             "colorbar": {
              "outlinewidth": 0,
              "ticks": ""
             }
            },
            "type": "scattergl"
           }
          ],
          "scattermapbox": [
           {
            "marker": {
             "colorbar": {
              "outlinewidth": 0,
              "ticks": ""
             }
            },
            "type": "scattermapbox"
           }
          ],
          "scatterpolar": [
           {
            "marker": {
             "colorbar": {
              "outlinewidth": 0,
              "ticks": ""
             }
            },
            "type": "scatterpolar"
           }
          ],
          "scatterpolargl": [
           {
            "marker": {
             "colorbar": {
              "outlinewidth": 0,
              "ticks": ""
             }
            },
            "type": "scatterpolargl"
           }
          ],
          "scatterternary": [
           {
            "marker": {
             "colorbar": {
              "outlinewidth": 0,
              "ticks": ""
             }
            },
            "type": "scatterternary"
           }
          ],
          "surface": [
           {
            "colorbar": {
             "outlinewidth": 0,
             "ticks": ""
            },
            "colorscale": [
             [
              0,
              "#0d0887"
             ],
             [
              0.1111111111111111,
              "#46039f"
             ],
             [
              0.2222222222222222,
              "#7201a8"
             ],
             [
              0.3333333333333333,
              "#9c179e"
             ],
             [
              0.4444444444444444,
              "#bd3786"
             ],
             [
              0.5555555555555556,
              "#d8576b"
             ],
             [
              0.6666666666666666,
              "#ed7953"
             ],
             [
              0.7777777777777778,
              "#fb9f3a"
             ],
             [
              0.8888888888888888,
              "#fdca26"
             ],
             [
              1,
              "#f0f921"
             ]
            ],
            "type": "surface"
           }
          ],
          "table": [
           {
            "cells": {
             "fill": {
              "color": "#EBF0F8"
             },
             "line": {
              "color": "white"
             }
            },
            "header": {
             "fill": {
              "color": "#C8D4E3"
             },
             "line": {
              "color": "white"
             }
            },
            "type": "table"
           }
          ]
         },
         "layout": {
          "annotationdefaults": {
           "arrowcolor": "#2a3f5f",
           "arrowhead": 0,
           "arrowwidth": 1
          },
          "autotypenumbers": "strict",
          "coloraxis": {
           "colorbar": {
            "outlinewidth": 0,
            "ticks": ""
           }
          },
          "colorscale": {
           "diverging": [
            [
             0,
             "#8e0152"
            ],
            [
             0.1,
             "#c51b7d"
            ],
            [
             0.2,
             "#de77ae"
            ],
            [
             0.3,
             "#f1b6da"
            ],
            [
             0.4,
             "#fde0ef"
            ],
            [
             0.5,
             "#f7f7f7"
            ],
            [
             0.6,
             "#e6f5d0"
            ],
            [
             0.7,
             "#b8e186"
            ],
            [
             0.8,
             "#7fbc41"
            ],
            [
             0.9,
             "#4d9221"
            ],
            [
             1,
             "#276419"
            ]
           ],
           "sequential": [
            [
             0,
             "#0d0887"
            ],
            [
             0.1111111111111111,
             "#46039f"
            ],
            [
             0.2222222222222222,
             "#7201a8"
            ],
            [
             0.3333333333333333,
             "#9c179e"
            ],
            [
             0.4444444444444444,
             "#bd3786"
            ],
            [
             0.5555555555555556,
             "#d8576b"
            ],
            [
             0.6666666666666666,
             "#ed7953"
            ],
            [
             0.7777777777777778,
             "#fb9f3a"
            ],
            [
             0.8888888888888888,
             "#fdca26"
            ],
            [
             1,
             "#f0f921"
            ]
           ],
           "sequentialminus": [
            [
             0,
             "#0d0887"
            ],
            [
             0.1111111111111111,
             "#46039f"
            ],
            [
             0.2222222222222222,
             "#7201a8"
            ],
            [
             0.3333333333333333,
             "#9c179e"
            ],
            [
             0.4444444444444444,
             "#bd3786"
            ],
            [
             0.5555555555555556,
             "#d8576b"
            ],
            [
             0.6666666666666666,
             "#ed7953"
            ],
            [
             0.7777777777777778,
             "#fb9f3a"
            ],
            [
             0.8888888888888888,
             "#fdca26"
            ],
            [
             1,
             "#f0f921"
            ]
           ]
          },
          "colorway": [
           "#636efa",
           "#EF553B",
           "#00cc96",
           "#ab63fa",
           "#FFA15A",
           "#19d3f3",
           "#FF6692",
           "#B6E880",
           "#FF97FF",
           "#FECB52"
          ],
          "font": {
           "color": "#2a3f5f"
          },
          "geo": {
           "bgcolor": "white",
           "lakecolor": "white",
           "landcolor": "#E5ECF6",
           "showlakes": true,
           "showland": true,
           "subunitcolor": "white"
          },
          "hoverlabel": {
           "align": "left"
          },
          "hovermode": "closest",
          "mapbox": {
           "style": "light"
          },
          "paper_bgcolor": "white",
          "plot_bgcolor": "#E5ECF6",
          "polar": {
           "angularaxis": {
            "gridcolor": "white",
            "linecolor": "white",
            "ticks": ""
           },
           "bgcolor": "#E5ECF6",
           "radialaxis": {
            "gridcolor": "white",
            "linecolor": "white",
            "ticks": ""
           }
          },
          "scene": {
           "xaxis": {
            "backgroundcolor": "#E5ECF6",
            "gridcolor": "white",
            "gridwidth": 2,
            "linecolor": "white",
            "showbackground": true,
            "ticks": "",
            "zerolinecolor": "white"
           },
           "yaxis": {
            "backgroundcolor": "#E5ECF6",
            "gridcolor": "white",
            "gridwidth": 2,
            "linecolor": "white",
            "showbackground": true,
            "ticks": "",
            "zerolinecolor": "white"
           },
           "zaxis": {
            "backgroundcolor": "#E5ECF6",
            "gridcolor": "white",
            "gridwidth": 2,
            "linecolor": "white",
            "showbackground": true,
            "ticks": "",
            "zerolinecolor": "white"
           }
          },
          "shapedefaults": {
           "line": {
            "color": "#2a3f5f"
           }
          },
          "ternary": {
           "aaxis": {
            "gridcolor": "white",
            "linecolor": "white",
            "ticks": ""
           },
           "baxis": {
            "gridcolor": "white",
            "linecolor": "white",
            "ticks": ""
           },
           "bgcolor": "#E5ECF6",
           "caxis": {
            "gridcolor": "white",
            "linecolor": "white",
            "ticks": ""
           }
          },
          "title": {
           "x": 0.05
          },
          "xaxis": {
           "automargin": true,
           "gridcolor": "white",
           "linecolor": "white",
           "ticks": "",
           "title": {
            "standoff": 15
           },
           "zerolinecolor": "white",
           "zerolinewidth": 2
          },
          "yaxis": {
           "automargin": true,
           "gridcolor": "white",
           "linecolor": "white",
           "ticks": "",
           "title": {
            "standoff": 15
           },
           "zerolinecolor": "white",
           "zerolinewidth": 2
          }
         }
        },
        "title": {
         "text": "Solarstromerzeugung im Juni"
        },
        "xaxis": {
         "anchor": "y",
         "domain": [
          0,
          1
         ],
         "title": {
          "text": "Datum (MEZ)"
         }
        },
        "yaxis": {
         "anchor": "x",
         "domain": [
          0,
          1
         ],
         "title": {
          "text": "Stromproduktion in MW"
         }
        }
       }
      }
     },
     "metadata": {},
     "output_type": "display_data"
    }
   ],
   "source": [
    "june_df = hourly_df[hourly_df[\"Datum (MEZ)\"].dt.month == 6]\n",
    "\n",
    "px.line(june_df, y=[\"Solar_mean\"], x=\"Datum (MEZ)\", title=\"Solarstromerzeugung im Juni\", labels={\"value\": \"Stromproduktion in MW\"})\n"
   ]
  }
 ],
 "metadata": {
  "kernelspec": {
   "display_name": ".venv",
   "language": "python",
   "name": "python3"
  },
  "language_info": {
   "codemirror_mode": {
    "name": "ipython",
    "version": 3
   },
   "file_extension": ".py",
   "mimetype": "text/x-python",
   "name": "python",
   "nbconvert_exporter": "python",
   "pygments_lexer": "ipython3",
   "version": "3.13.0"
  }
 },
 "nbformat": 4,
 "nbformat_minor": 2
}
