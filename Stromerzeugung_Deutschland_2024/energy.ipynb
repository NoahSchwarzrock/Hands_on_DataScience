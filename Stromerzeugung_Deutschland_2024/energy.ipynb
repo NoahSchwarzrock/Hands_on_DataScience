{
 "cells": [
  {
   "cell_type": "markdown",
   "metadata": {},
   "source": [
    "# Stromerzeugung in Deutschland in 2024\n",
    "\n",
    "### Vorgehen:\n",
    "\n",
    "1. Hypothesen aufstellen\n",
    "   1. Am Tag gibt es mehr Sonnenenergie als Nachts\n",
    "   2. Solar erzeugt viel Strom, wenn Wind wenig Strom erzeugt\n",
    "   3. Die Zeitumstellung hat einen Einfluss auf die Energieerzeugung (Zusatz)\n",
    "   4. Im Jahr liefern die erneuerbaren Energien mehr Strom als die konventionellen Energien\n",
    "   5. Die Energieerzeugung durch Müll ist die meiste Zeit konstant\n",
    "   6. Kohle und Gas werden vor allem dann benötigt, wenn man eine hohe Last hat\n",
    "   7. Wenn viel Energie aus erneuerbaren Energiequellen gewonnen wird, wird weniger Energie konventionell gewonnen\n",
    "   8. In den Dämmerungen wird mehr Windstrom produziert, als in der Mittags- und Mitternachts-zeit (Zusatz)\n",
    "   9. Weitere\n",
    "2. Hypothesen nacheinander prüfen"
   ]
  }
 ],
 "metadata": {
  "language_info": {
   "name": "python"
  }
 },
 "nbformat": 4,
 "nbformat_minor": 2
}
