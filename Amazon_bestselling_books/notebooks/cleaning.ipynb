{
 "cells": [
  {
   "cell_type": "markdown",
   "metadata": {},
   "source": [
    "# Frage: Was sind interessante Eigenschaften der Bücher?"
   ]
  },
  {
   "cell_type": "code",
   "execution_count": 44,
   "metadata": {},
   "outputs": [],
   "source": [
    "import sys\n",
    "sys.path.append(\"..\")\n",
    "\n",
    "from scripts.helper_funcs import get_encoding"
   ]
  },
  {
   "cell_type": "code",
   "execution_count": 45,
   "metadata": {},
   "outputs": [
    {
     "name": "stdout",
     "output_type": "stream",
     "text": [
      "utf-8\n"
     ]
    }
   ],
   "source": [
    "loc = \"../data/raw/bestsellers_with_categories.csv\"\n",
    "encoding = get_encoding(loc)\n",
    "print(encoding)"
   ]
  },
  {
   "cell_type": "code",
   "execution_count": 46,
   "metadata": {},
   "outputs": [],
   "source": [
    "import pandas as pd\n",
    "import matplotlib.pyplot as plt\n",
    "import seaborn as sns\n",
    "import plotly.express as px"
   ]
  },
  {
   "cell_type": "markdown",
   "metadata": {},
   "source": [
    "# Daten einlesen"
   ]
  },
  {
   "cell_type": "code",
   "execution_count": 47,
   "metadata": {},
   "outputs": [],
   "source": [
    "data = pd.read_csv(loc, encoding=encoding)\n",
    "df = pd.DataFrame(data)"
   ]
  },
  {
   "cell_type": "code",
   "execution_count": 48,
   "metadata": {},
   "outputs": [
    {
     "data": {
      "text/html": [
       "<div>\n",
       "<style scoped>\n",
       "    .dataframe tbody tr th:only-of-type {\n",
       "        vertical-align: middle;\n",
       "    }\n",
       "\n",
       "    .dataframe tbody tr th {\n",
       "        vertical-align: top;\n",
       "    }\n",
       "\n",
       "    .dataframe thead th {\n",
       "        text-align: right;\n",
       "    }\n",
       "</style>\n",
       "<table border=\"1\" class=\"dataframe\">\n",
       "  <thead>\n",
       "    <tr style=\"text-align: right;\">\n",
       "      <th></th>\n",
       "      <th>Name</th>\n",
       "      <th>Author</th>\n",
       "      <th>User Rating</th>\n",
       "      <th>Reviews</th>\n",
       "      <th>Price</th>\n",
       "      <th>Year</th>\n",
       "      <th>Genre</th>\n",
       "    </tr>\n",
       "  </thead>\n",
       "  <tbody>\n",
       "    <tr>\n",
       "      <th>0</th>\n",
       "      <td>10-Day Green Smoothie Cleanse</td>\n",
       "      <td>JJ Smith</td>\n",
       "      <td>4.7</td>\n",
       "      <td>17350</td>\n",
       "      <td>8</td>\n",
       "      <td>2016</td>\n",
       "      <td>Non Fiction</td>\n",
       "    </tr>\n",
       "    <tr>\n",
       "      <th>1</th>\n",
       "      <td>11/22/63: A Novel</td>\n",
       "      <td>Stephen King</td>\n",
       "      <td>4.6</td>\n",
       "      <td>2052</td>\n",
       "      <td>22</td>\n",
       "      <td>2011</td>\n",
       "      <td>Fiction</td>\n",
       "    </tr>\n",
       "    <tr>\n",
       "      <th>2</th>\n",
       "      <td>12 Rules for Life: An Antidote to Chaos</td>\n",
       "      <td>Jordan B. Peterson</td>\n",
       "      <td>4.7</td>\n",
       "      <td>18979</td>\n",
       "      <td>15</td>\n",
       "      <td>2018</td>\n",
       "      <td>Non Fiction</td>\n",
       "    </tr>\n",
       "    <tr>\n",
       "      <th>3</th>\n",
       "      <td>1984 (Signet Classics)</td>\n",
       "      <td>George Orwell</td>\n",
       "      <td>4.7</td>\n",
       "      <td>21424</td>\n",
       "      <td>6</td>\n",
       "      <td>2017</td>\n",
       "      <td>Fiction</td>\n",
       "    </tr>\n",
       "    <tr>\n",
       "      <th>4</th>\n",
       "      <td>5,000 Awesome Facts (About Everything!) (Natio...</td>\n",
       "      <td>National Geographic Kids</td>\n",
       "      <td>4.8</td>\n",
       "      <td>7665</td>\n",
       "      <td>12</td>\n",
       "      <td>2019</td>\n",
       "      <td>Non Fiction</td>\n",
       "    </tr>\n",
       "  </tbody>\n",
       "</table>\n",
       "</div>"
      ],
      "text/plain": [
       "                                                Name  \\\n",
       "0                      10-Day Green Smoothie Cleanse   \n",
       "1                                  11/22/63: A Novel   \n",
       "2            12 Rules for Life: An Antidote to Chaos   \n",
       "3                             1984 (Signet Classics)   \n",
       "4  5,000 Awesome Facts (About Everything!) (Natio...   \n",
       "\n",
       "                     Author  User Rating  Reviews  Price  Year        Genre  \n",
       "0                  JJ Smith          4.7    17350      8  2016  Non Fiction  \n",
       "1              Stephen King          4.6     2052     22  2011      Fiction  \n",
       "2        Jordan B. Peterson          4.7    18979     15  2018  Non Fiction  \n",
       "3             George Orwell          4.7    21424      6  2017      Fiction  \n",
       "4  National Geographic Kids          4.8     7665     12  2019  Non Fiction  "
      ]
     },
     "execution_count": 48,
     "metadata": {},
     "output_type": "execute_result"
    }
   ],
   "source": [
    "df.head()"
   ]
  },
  {
   "cell_type": "code",
   "execution_count": 49,
   "metadata": {},
   "outputs": [
    {
     "name": "stdout",
     "output_type": "stream",
     "text": [
      "<class 'pandas.core.frame.DataFrame'>\n",
      "RangeIndex: 550 entries, 0 to 549\n",
      "Data columns (total 7 columns):\n",
      " #   Column       Non-Null Count  Dtype  \n",
      "---  ------       --------------  -----  \n",
      " 0   Name         550 non-null    object \n",
      " 1   Author       550 non-null    object \n",
      " 2   User Rating  550 non-null    float64\n",
      " 3   Reviews      550 non-null    int64  \n",
      " 4   Price        550 non-null    int64  \n",
      " 5   Year         550 non-null    int64  \n",
      " 6   Genre        550 non-null    object \n",
      "dtypes: float64(1), int64(3), object(3)\n",
      "memory usage: 30.2+ KB\n"
     ]
    }
   ],
   "source": [
    "df.info()"
   ]
  },
  {
   "cell_type": "code",
   "execution_count": 50,
   "metadata": {},
   "outputs": [
    {
     "data": {
      "text/html": [
       "<div>\n",
       "<style scoped>\n",
       "    .dataframe tbody tr th:only-of-type {\n",
       "        vertical-align: middle;\n",
       "    }\n",
       "\n",
       "    .dataframe tbody tr th {\n",
       "        vertical-align: top;\n",
       "    }\n",
       "\n",
       "    .dataframe thead th {\n",
       "        text-align: right;\n",
       "    }\n",
       "</style>\n",
       "<table border=\"1\" class=\"dataframe\">\n",
       "  <thead>\n",
       "    <tr style=\"text-align: right;\">\n",
       "      <th></th>\n",
       "      <th>User Rating</th>\n",
       "      <th>Reviews</th>\n",
       "      <th>Price</th>\n",
       "      <th>Year</th>\n",
       "    </tr>\n",
       "  </thead>\n",
       "  <tbody>\n",
       "    <tr>\n",
       "      <th>count</th>\n",
       "      <td>550.000000</td>\n",
       "      <td>550.000000</td>\n",
       "      <td>550.000000</td>\n",
       "      <td>550.000000</td>\n",
       "    </tr>\n",
       "    <tr>\n",
       "      <th>mean</th>\n",
       "      <td>4.618364</td>\n",
       "      <td>11953.281818</td>\n",
       "      <td>13.100000</td>\n",
       "      <td>2014.000000</td>\n",
       "    </tr>\n",
       "    <tr>\n",
       "      <th>std</th>\n",
       "      <td>0.226980</td>\n",
       "      <td>11731.132017</td>\n",
       "      <td>10.842262</td>\n",
       "      <td>3.165156</td>\n",
       "    </tr>\n",
       "    <tr>\n",
       "      <th>min</th>\n",
       "      <td>3.300000</td>\n",
       "      <td>37.000000</td>\n",
       "      <td>0.000000</td>\n",
       "      <td>2009.000000</td>\n",
       "    </tr>\n",
       "    <tr>\n",
       "      <th>25%</th>\n",
       "      <td>4.500000</td>\n",
       "      <td>4058.000000</td>\n",
       "      <td>7.000000</td>\n",
       "      <td>2011.000000</td>\n",
       "    </tr>\n",
       "    <tr>\n",
       "      <th>50%</th>\n",
       "      <td>4.700000</td>\n",
       "      <td>8580.000000</td>\n",
       "      <td>11.000000</td>\n",
       "      <td>2014.000000</td>\n",
       "    </tr>\n",
       "    <tr>\n",
       "      <th>75%</th>\n",
       "      <td>4.800000</td>\n",
       "      <td>17253.250000</td>\n",
       "      <td>16.000000</td>\n",
       "      <td>2017.000000</td>\n",
       "    </tr>\n",
       "    <tr>\n",
       "      <th>max</th>\n",
       "      <td>4.900000</td>\n",
       "      <td>87841.000000</td>\n",
       "      <td>105.000000</td>\n",
       "      <td>2019.000000</td>\n",
       "    </tr>\n",
       "  </tbody>\n",
       "</table>\n",
       "</div>"
      ],
      "text/plain": [
       "       User Rating       Reviews       Price         Year\n",
       "count   550.000000    550.000000  550.000000   550.000000\n",
       "mean      4.618364  11953.281818   13.100000  2014.000000\n",
       "std       0.226980  11731.132017   10.842262     3.165156\n",
       "min       3.300000     37.000000    0.000000  2009.000000\n",
       "25%       4.500000   4058.000000    7.000000  2011.000000\n",
       "50%       4.700000   8580.000000   11.000000  2014.000000\n",
       "75%       4.800000  17253.250000   16.000000  2017.000000\n",
       "max       4.900000  87841.000000  105.000000  2019.000000"
      ]
     },
     "execution_count": 50,
     "metadata": {},
     "output_type": "execute_result"
    }
   ],
   "source": [
    "df.describe()"
   ]
  },
  {
   "cell_type": "code",
   "execution_count": 51,
   "metadata": {},
   "outputs": [
    {
     "data": {
      "text/plain": [
       "np.int64(199)"
      ]
     },
     "execution_count": 51,
     "metadata": {},
     "output_type": "execute_result"
    }
   ],
   "source": [
    "df.duplicated(\"Name\").sum()"
   ]
  },
  {
   "cell_type": "code",
   "execution_count": 52,
   "metadata": {},
   "outputs": [
    {
     "data": {
      "text/plain": [
       "np.int64(3)"
      ]
     },
     "execution_count": 52,
     "metadata": {},
     "output_type": "execute_result"
    }
   ],
   "source": [
    "df.duplicated(subset=[\"Name\", \"Author\", \"Year\"]).sum()"
   ]
  },
  {
   "cell_type": "code",
   "execution_count": 53,
   "metadata": {},
   "outputs": [
    {
     "data": {
      "text/plain": [
       "Name           0\n",
       "Author         0\n",
       "User Rating    0\n",
       "Reviews        0\n",
       "Price          0\n",
       "Year           0\n",
       "Genre          0\n",
       "dtype: int64"
      ]
     },
     "execution_count": 53,
     "metadata": {},
     "output_type": "execute_result"
    }
   ],
   "source": [
    "df.isna().sum()"
   ]
  },
  {
   "cell_type": "code",
   "execution_count": 54,
   "metadata": {},
   "outputs": [
    {
     "data": {
      "text/plain": [
       "(550, 7)"
      ]
     },
     "execution_count": 54,
     "metadata": {},
     "output_type": "execute_result"
    }
   ],
   "source": [
    "df.shape"
   ]
  },
  {
   "cell_type": "markdown",
   "metadata": {},
   "source": [
    "# Den namen von sonderzeichen entfernen um zu schauen ob es doch die selben Bücher gibt nur leiocht unterschiedlich geschrieben"
   ]
  },
  {
   "cell_type": "code",
   "execution_count": 55,
   "metadata": {},
   "outputs": [],
   "source": [
    "df[\"name_code\"] = df[\"Name\"].str.lower().str.replace(r\"[^a-z0-9]\", \"\")"
   ]
  },
  {
   "cell_type": "code",
   "execution_count": 56,
   "metadata": {},
   "outputs": [
    {
     "data": {
      "text/plain": [
       "np.int64(200)"
      ]
     },
     "execution_count": 56,
     "metadata": {},
     "output_type": "execute_result"
    }
   ],
   "source": [
    "df.duplicated(\"name_code\").sum()"
   ]
  },
  {
   "cell_type": "markdown",
   "metadata": {},
   "source": [
    "# Duplikate auf andere weise erkennen"
   ]
  },
  {
   "cell_type": "code",
   "execution_count": 57,
   "metadata": {},
   "outputs": [
    {
     "data": {
      "text/html": [
       "<div>\n",
       "<style scoped>\n",
       "    .dataframe tbody tr th:only-of-type {\n",
       "        vertical-align: middle;\n",
       "    }\n",
       "\n",
       "    .dataframe tbody tr th {\n",
       "        vertical-align: top;\n",
       "    }\n",
       "\n",
       "    .dataframe thead th {\n",
       "        text-align: right;\n",
       "    }\n",
       "</style>\n",
       "<table border=\"1\" class=\"dataframe\">\n",
       "  <thead>\n",
       "    <tr style=\"text-align: right;\">\n",
       "      <th></th>\n",
       "      <th>Name</th>\n",
       "      <th>Author</th>\n",
       "      <th>User Rating</th>\n",
       "      <th>Reviews</th>\n",
       "      <th>Price</th>\n",
       "      <th>Year</th>\n",
       "      <th>Genre</th>\n",
       "      <th>name_code</th>\n",
       "    </tr>\n",
       "  </thead>\n",
       "  <tbody>\n",
       "    <tr>\n",
       "      <th>95</th>\n",
       "      <td>Eclipse (Twilight Sagas)</td>\n",
       "      <td>Stephenie Meyer</td>\n",
       "      <td>4.7</td>\n",
       "      <td>5505</td>\n",
       "      <td>7</td>\n",
       "      <td>2009</td>\n",
       "      <td>Fiction</td>\n",
       "      <td>eclipse (twilight sagas)</td>\n",
       "    </tr>\n",
       "    <tr>\n",
       "      <th>96</th>\n",
       "      <td>Eclipse (Twilight)</td>\n",
       "      <td>Stephenie Meyer</td>\n",
       "      <td>4.7</td>\n",
       "      <td>5505</td>\n",
       "      <td>18</td>\n",
       "      <td>2009</td>\n",
       "      <td>Fiction</td>\n",
       "      <td>eclipse (twilight)</td>\n",
       "    </tr>\n",
       "    <tr>\n",
       "      <th>367</th>\n",
       "      <td>The Fault in Our Stars</td>\n",
       "      <td>John Green</td>\n",
       "      <td>4.7</td>\n",
       "      <td>50482</td>\n",
       "      <td>7</td>\n",
       "      <td>2014</td>\n",
       "      <td>Fiction</td>\n",
       "      <td>the fault in our stars</td>\n",
       "    </tr>\n",
       "    <tr>\n",
       "      <th>368</th>\n",
       "      <td>The Fault in Our Stars</td>\n",
       "      <td>John Green</td>\n",
       "      <td>4.7</td>\n",
       "      <td>50482</td>\n",
       "      <td>13</td>\n",
       "      <td>2014</td>\n",
       "      <td>Fiction</td>\n",
       "      <td>the fault in our stars</td>\n",
       "    </tr>\n",
       "    <tr>\n",
       "      <th>404</th>\n",
       "      <td>The Help</td>\n",
       "      <td>Kathryn Stockett</td>\n",
       "      <td>4.8</td>\n",
       "      <td>13871</td>\n",
       "      <td>8</td>\n",
       "      <td>2011</td>\n",
       "      <td>Fiction</td>\n",
       "      <td>the help</td>\n",
       "    </tr>\n",
       "    <tr>\n",
       "      <th>405</th>\n",
       "      <td>The Help</td>\n",
       "      <td>Kathryn Stockett</td>\n",
       "      <td>4.8</td>\n",
       "      <td>13871</td>\n",
       "      <td>7</td>\n",
       "      <td>2011</td>\n",
       "      <td>Fiction</td>\n",
       "      <td>the help</td>\n",
       "    </tr>\n",
       "    <tr>\n",
       "      <th>518</th>\n",
       "      <td>Unbroken: A World War II Story of Survival, Re...</td>\n",
       "      <td>Laura Hillenbrand</td>\n",
       "      <td>4.8</td>\n",
       "      <td>29673</td>\n",
       "      <td>13</td>\n",
       "      <td>2014</td>\n",
       "      <td>Non Fiction</td>\n",
       "      <td>unbroken: a world war ii story of survival, re...</td>\n",
       "    </tr>\n",
       "    <tr>\n",
       "      <th>519</th>\n",
       "      <td>Unbroken: A World War II Story of Survival, Re...</td>\n",
       "      <td>Laura Hillenbrand</td>\n",
       "      <td>4.8</td>\n",
       "      <td>29673</td>\n",
       "      <td>16</td>\n",
       "      <td>2014</td>\n",
       "      <td>Non Fiction</td>\n",
       "      <td>unbroken: a world war ii story of survival, re...</td>\n",
       "    </tr>\n",
       "  </tbody>\n",
       "</table>\n",
       "</div>"
      ],
      "text/plain": [
       "                                                  Name             Author  \\\n",
       "95                            Eclipse (Twilight Sagas)    Stephenie Meyer   \n",
       "96                                  Eclipse (Twilight)    Stephenie Meyer   \n",
       "367                             The Fault in Our Stars         John Green   \n",
       "368                             The Fault in Our Stars         John Green   \n",
       "404                                           The Help   Kathryn Stockett   \n",
       "405                                           The Help   Kathryn Stockett   \n",
       "518  Unbroken: A World War II Story of Survival, Re...  Laura Hillenbrand   \n",
       "519  Unbroken: A World War II Story of Survival, Re...  Laura Hillenbrand   \n",
       "\n",
       "     User Rating  Reviews  Price  Year        Genre  \\\n",
       "95           4.7     5505      7  2009      Fiction   \n",
       "96           4.7     5505     18  2009      Fiction   \n",
       "367          4.7    50482      7  2014      Fiction   \n",
       "368          4.7    50482     13  2014      Fiction   \n",
       "404          4.8    13871      8  2011      Fiction   \n",
       "405          4.8    13871      7  2011      Fiction   \n",
       "518          4.8    29673     13  2014  Non Fiction   \n",
       "519          4.8    29673     16  2014  Non Fiction   \n",
       "\n",
       "                                             name_code  \n",
       "95                            eclipse (twilight sagas)  \n",
       "96                                  eclipse (twilight)  \n",
       "367                             the fault in our stars  \n",
       "368                             the fault in our stars  \n",
       "404                                           the help  \n",
       "405                                           the help  \n",
       "518  unbroken: a world war ii story of survival, re...  \n",
       "519  unbroken: a world war ii story of survival, re...  "
      ]
     },
     "execution_count": 57,
     "metadata": {},
     "output_type": "execute_result"
    }
   ],
   "source": [
    "df[df.duplicated(subset=[\"Author\", \"Year\", \"User Rating\", \"Reviews\"], keep=False)]"
   ]
  },
  {
   "cell_type": "code",
   "execution_count": 58,
   "metadata": {},
   "outputs": [
    {
     "data": {
      "text/html": [
       "<div>\n",
       "<style scoped>\n",
       "    .dataframe tbody tr th:only-of-type {\n",
       "        vertical-align: middle;\n",
       "    }\n",
       "\n",
       "    .dataframe tbody tr th {\n",
       "        vertical-align: top;\n",
       "    }\n",
       "\n",
       "    .dataframe thead th {\n",
       "        text-align: right;\n",
       "    }\n",
       "</style>\n",
       "<table border=\"1\" class=\"dataframe\">\n",
       "  <thead>\n",
       "    <tr style=\"text-align: right;\">\n",
       "      <th></th>\n",
       "      <th>Author</th>\n",
       "      <th>Year</th>\n",
       "      <th>User Rating</th>\n",
       "      <th>Reviews</th>\n",
       "      <th>Name</th>\n",
       "      <th>Price</th>\n",
       "      <th>Genre</th>\n",
       "    </tr>\n",
       "  </thead>\n",
       "  <tbody>\n",
       "    <tr>\n",
       "      <th>0</th>\n",
       "      <td>Abraham Verghese</td>\n",
       "      <td>2010</td>\n",
       "      <td>4.6</td>\n",
       "      <td>4866</td>\n",
       "      <td>Cutting for Stone</td>\n",
       "      <td>11.0</td>\n",
       "      <td>Fiction</td>\n",
       "    </tr>\n",
       "    <tr>\n",
       "      <th>1</th>\n",
       "      <td>Abraham Verghese</td>\n",
       "      <td>2011</td>\n",
       "      <td>4.6</td>\n",
       "      <td>4866</td>\n",
       "      <td>Cutting for Stone</td>\n",
       "      <td>11.0</td>\n",
       "      <td>Fiction</td>\n",
       "    </tr>\n",
       "    <tr>\n",
       "      <th>2</th>\n",
       "      <td>Adam Gasiewski</td>\n",
       "      <td>2017</td>\n",
       "      <td>4.4</td>\n",
       "      <td>3113</td>\n",
       "      <td>Milk and Vine: Inspirational Quotes From Class...</td>\n",
       "      <td>6.0</td>\n",
       "      <td>Non Fiction</td>\n",
       "    </tr>\n",
       "    <tr>\n",
       "      <th>3</th>\n",
       "      <td>Adam Mansbach</td>\n",
       "      <td>2011</td>\n",
       "      <td>4.8</td>\n",
       "      <td>9568</td>\n",
       "      <td>Go the F**k to Sleep</td>\n",
       "      <td>9.0</td>\n",
       "      <td>Fiction</td>\n",
       "    </tr>\n",
       "    <tr>\n",
       "      <th>4</th>\n",
       "      <td>Adir Levy</td>\n",
       "      <td>2019</td>\n",
       "      <td>4.8</td>\n",
       "      <td>8170</td>\n",
       "      <td>What Should Danny Do? (The Power to Choose Ser...</td>\n",
       "      <td>13.0</td>\n",
       "      <td>Fiction</td>\n",
       "    </tr>\n",
       "    <tr>\n",
       "      <th>...</th>\n",
       "      <td>...</td>\n",
       "      <td>...</td>\n",
       "      <td>...</td>\n",
       "      <td>...</td>\n",
       "      <td>...</td>\n",
       "      <td>...</td>\n",
       "      <td>...</td>\n",
       "    </tr>\n",
       "    <tr>\n",
       "      <th>541</th>\n",
       "      <td>Wizards RPG Team</td>\n",
       "      <td>2017</td>\n",
       "      <td>4.8</td>\n",
       "      <td>16990</td>\n",
       "      <td>Player's Handbook (Dungeons &amp; Dragons)</td>\n",
       "      <td>27.0</td>\n",
       "      <td>Fiction</td>\n",
       "    </tr>\n",
       "    <tr>\n",
       "      <th>542</th>\n",
       "      <td>Wizards RPG Team</td>\n",
       "      <td>2018</td>\n",
       "      <td>4.8</td>\n",
       "      <td>16990</td>\n",
       "      <td>Player's Handbook (Dungeons &amp; Dragons)</td>\n",
       "      <td>27.0</td>\n",
       "      <td>Fiction</td>\n",
       "    </tr>\n",
       "    <tr>\n",
       "      <th>543</th>\n",
       "      <td>Wizards RPG Team</td>\n",
       "      <td>2019</td>\n",
       "      <td>4.8</td>\n",
       "      <td>16990</td>\n",
       "      <td>Player's Handbook (Dungeons &amp; Dragons)</td>\n",
       "      <td>27.0</td>\n",
       "      <td>Fiction</td>\n",
       "    </tr>\n",
       "    <tr>\n",
       "      <th>544</th>\n",
       "      <td>Zhi Gang Sha</td>\n",
       "      <td>2009</td>\n",
       "      <td>4.6</td>\n",
       "      <td>37</td>\n",
       "      <td>Divine Soul Mind Body Healing and Transmission...</td>\n",
       "      <td>6.0</td>\n",
       "      <td>Non Fiction</td>\n",
       "    </tr>\n",
       "    <tr>\n",
       "      <th>545</th>\n",
       "      <td>Zhi Gang Sha</td>\n",
       "      <td>2013</td>\n",
       "      <td>4.6</td>\n",
       "      <td>220</td>\n",
       "      <td>Soul Healing Miracles: Ancient and New Sacred ...</td>\n",
       "      <td>17.0</td>\n",
       "      <td>Non Fiction</td>\n",
       "    </tr>\n",
       "  </tbody>\n",
       "</table>\n",
       "<p>546 rows × 7 columns</p>\n",
       "</div>"
      ],
      "text/plain": [
       "               Author  Year  User Rating  Reviews  \\\n",
       "0    Abraham Verghese  2010          4.6     4866   \n",
       "1    Abraham Verghese  2011          4.6     4866   \n",
       "2      Adam Gasiewski  2017          4.4     3113   \n",
       "3       Adam Mansbach  2011          4.8     9568   \n",
       "4           Adir Levy  2019          4.8     8170   \n",
       "..                ...   ...          ...      ...   \n",
       "541  Wizards RPG Team  2017          4.8    16990   \n",
       "542  Wizards RPG Team  2018          4.8    16990   \n",
       "543  Wizards RPG Team  2019          4.8    16990   \n",
       "544      Zhi Gang Sha  2009          4.6       37   \n",
       "545      Zhi Gang Sha  2013          4.6      220   \n",
       "\n",
       "                                                  Name  Price        Genre  \n",
       "0                                    Cutting for Stone   11.0      Fiction  \n",
       "1                                    Cutting for Stone   11.0      Fiction  \n",
       "2    Milk and Vine: Inspirational Quotes From Class...    6.0  Non Fiction  \n",
       "3                                 Go the F**k to Sleep    9.0      Fiction  \n",
       "4    What Should Danny Do? (The Power to Choose Ser...   13.0      Fiction  \n",
       "..                                                 ...    ...          ...  \n",
       "541             Player's Handbook (Dungeons & Dragons)   27.0      Fiction  \n",
       "542             Player's Handbook (Dungeons & Dragons)   27.0      Fiction  \n",
       "543             Player's Handbook (Dungeons & Dragons)   27.0      Fiction  \n",
       "544  Divine Soul Mind Body Healing and Transmission...    6.0  Non Fiction  \n",
       "545  Soul Healing Miracles: Ancient and New Sacred ...   17.0  Non Fiction  \n",
       "\n",
       "[546 rows x 7 columns]"
      ]
     },
     "execution_count": 58,
     "metadata": {},
     "output_type": "execute_result"
    }
   ],
   "source": [
    "df_unique_names_per_year_df = df.groupby([\"Author\", \"Year\", \"User Rating\", \"Reviews\"], as_index=False).agg({\"Name\": \"first\", \"Price\": \"mean\", \"Genre\": \"first\"})\n",
    "df_unique_names_per_year_df"
   ]
  },
  {
   "cell_type": "markdown",
   "metadata": {},
   "source": [
    "# Preise überprüfen"
   ]
  },
  {
   "cell_type": "code",
   "execution_count": 59,
   "metadata": {},
   "outputs": [
    {
     "data": {
      "text/html": [
       "<div>\n",
       "<style scoped>\n",
       "    .dataframe tbody tr th:only-of-type {\n",
       "        vertical-align: middle;\n",
       "    }\n",
       "\n",
       "    .dataframe tbody tr th {\n",
       "        vertical-align: top;\n",
       "    }\n",
       "\n",
       "    .dataframe thead th {\n",
       "        text-align: right;\n",
       "    }\n",
       "</style>\n",
       "<table border=\"1\" class=\"dataframe\">\n",
       "  <thead>\n",
       "    <tr style=\"text-align: right;\">\n",
       "      <th></th>\n",
       "      <th>User Rating</th>\n",
       "      <th>Reviews</th>\n",
       "      <th>Price</th>\n",
       "      <th>Year</th>\n",
       "    </tr>\n",
       "  </thead>\n",
       "  <tbody>\n",
       "    <tr>\n",
       "      <th>count</th>\n",
       "      <td>550.000000</td>\n",
       "      <td>550.000000</td>\n",
       "      <td>550.000000</td>\n",
       "      <td>550.000000</td>\n",
       "    </tr>\n",
       "    <tr>\n",
       "      <th>mean</th>\n",
       "      <td>4.618364</td>\n",
       "      <td>11953.281818</td>\n",
       "      <td>13.100000</td>\n",
       "      <td>2014.000000</td>\n",
       "    </tr>\n",
       "    <tr>\n",
       "      <th>std</th>\n",
       "      <td>0.226980</td>\n",
       "      <td>11731.132017</td>\n",
       "      <td>10.842262</td>\n",
       "      <td>3.165156</td>\n",
       "    </tr>\n",
       "    <tr>\n",
       "      <th>min</th>\n",
       "      <td>3.300000</td>\n",
       "      <td>37.000000</td>\n",
       "      <td>0.000000</td>\n",
       "      <td>2009.000000</td>\n",
       "    </tr>\n",
       "    <tr>\n",
       "      <th>25%</th>\n",
       "      <td>4.500000</td>\n",
       "      <td>4058.000000</td>\n",
       "      <td>7.000000</td>\n",
       "      <td>2011.000000</td>\n",
       "    </tr>\n",
       "    <tr>\n",
       "      <th>50%</th>\n",
       "      <td>4.700000</td>\n",
       "      <td>8580.000000</td>\n",
       "      <td>11.000000</td>\n",
       "      <td>2014.000000</td>\n",
       "    </tr>\n",
       "    <tr>\n",
       "      <th>75%</th>\n",
       "      <td>4.800000</td>\n",
       "      <td>17253.250000</td>\n",
       "      <td>16.000000</td>\n",
       "      <td>2017.000000</td>\n",
       "    </tr>\n",
       "    <tr>\n",
       "      <th>max</th>\n",
       "      <td>4.900000</td>\n",
       "      <td>87841.000000</td>\n",
       "      <td>105.000000</td>\n",
       "      <td>2019.000000</td>\n",
       "    </tr>\n",
       "  </tbody>\n",
       "</table>\n",
       "</div>"
      ],
      "text/plain": [
       "       User Rating       Reviews       Price         Year\n",
       "count   550.000000    550.000000  550.000000   550.000000\n",
       "mean      4.618364  11953.281818   13.100000  2014.000000\n",
       "std       0.226980  11731.132017   10.842262     3.165156\n",
       "min       3.300000     37.000000    0.000000  2009.000000\n",
       "25%       4.500000   4058.000000    7.000000  2011.000000\n",
       "50%       4.700000   8580.000000   11.000000  2014.000000\n",
       "75%       4.800000  17253.250000   16.000000  2017.000000\n",
       "max       4.900000  87841.000000  105.000000  2019.000000"
      ]
     },
     "execution_count": 59,
     "metadata": {},
     "output_type": "execute_result"
    }
   ],
   "source": [
    "df.describe()"
   ]
  },
  {
   "cell_type": "markdown",
   "metadata": {},
   "source": [
    "# Es gibt bücher die kostenlos sind? Fehler?"
   ]
  },
  {
   "cell_type": "code",
   "execution_count": 60,
   "metadata": {},
   "outputs": [
    {
     "data": {
      "text/html": [
       "<div>\n",
       "<style scoped>\n",
       "    .dataframe tbody tr th:only-of-type {\n",
       "        vertical-align: middle;\n",
       "    }\n",
       "\n",
       "    .dataframe tbody tr th {\n",
       "        vertical-align: top;\n",
       "    }\n",
       "\n",
       "    .dataframe thead th {\n",
       "        text-align: right;\n",
       "    }\n",
       "</style>\n",
       "<table border=\"1\" class=\"dataframe\">\n",
       "  <thead>\n",
       "    <tr style=\"text-align: right;\">\n",
       "      <th></th>\n",
       "      <th>Author</th>\n",
       "      <th>Year</th>\n",
       "      <th>User Rating</th>\n",
       "      <th>Reviews</th>\n",
       "      <th>Name</th>\n",
       "      <th>Price</th>\n",
       "      <th>Genre</th>\n",
       "    </tr>\n",
       "  </thead>\n",
       "  <tbody>\n",
       "    <tr>\n",
       "      <th>9</th>\n",
       "      <td>Alice Schertle</td>\n",
       "      <td>2014</td>\n",
       "      <td>4.9</td>\n",
       "      <td>1884</td>\n",
       "      <td>Little Blue Truck</td>\n",
       "      <td>0.0</td>\n",
       "      <td>Fiction</td>\n",
       "    </tr>\n",
       "    <tr>\n",
       "      <th>118</th>\n",
       "      <td>Delegates of the Constitutional</td>\n",
       "      <td>2016</td>\n",
       "      <td>4.8</td>\n",
       "      <td>2774</td>\n",
       "      <td>The Constitution of the United States</td>\n",
       "      <td>0.0</td>\n",
       "      <td>Non Fiction</td>\n",
       "    </tr>\n",
       "    <tr>\n",
       "      <th>225</th>\n",
       "      <td>Harper Lee</td>\n",
       "      <td>2013</td>\n",
       "      <td>4.8</td>\n",
       "      <td>26234</td>\n",
       "      <td>To Kill a Mockingbird</td>\n",
       "      <td>0.0</td>\n",
       "      <td>Fiction</td>\n",
       "    </tr>\n",
       "    <tr>\n",
       "      <th>226</th>\n",
       "      <td>Harper Lee</td>\n",
       "      <td>2014</td>\n",
       "      <td>4.8</td>\n",
       "      <td>26234</td>\n",
       "      <td>To Kill a Mockingbird</td>\n",
       "      <td>0.0</td>\n",
       "      <td>Fiction</td>\n",
       "    </tr>\n",
       "    <tr>\n",
       "      <th>228</th>\n",
       "      <td>Harper Lee</td>\n",
       "      <td>2015</td>\n",
       "      <td>4.8</td>\n",
       "      <td>26234</td>\n",
       "      <td>To Kill a Mockingbird</td>\n",
       "      <td>0.0</td>\n",
       "      <td>Fiction</td>\n",
       "    </tr>\n",
       "    <tr>\n",
       "      <th>229</th>\n",
       "      <td>Harper Lee</td>\n",
       "      <td>2016</td>\n",
       "      <td>4.8</td>\n",
       "      <td>26234</td>\n",
       "      <td>To Kill a Mockingbird</td>\n",
       "      <td>0.0</td>\n",
       "      <td>Fiction</td>\n",
       "    </tr>\n",
       "    <tr>\n",
       "      <th>259</th>\n",
       "      <td>Jeff Kinney</td>\n",
       "      <td>2011</td>\n",
       "      <td>4.8</td>\n",
       "      <td>4505</td>\n",
       "      <td>Cabin Fever (Diary of a Wimpy Kid, Book 6)</td>\n",
       "      <td>0.0</td>\n",
       "      <td>Fiction</td>\n",
       "    </tr>\n",
       "    <tr>\n",
       "      <th>261</th>\n",
       "      <td>Jeff Kinney</td>\n",
       "      <td>2013</td>\n",
       "      <td>4.8</td>\n",
       "      <td>6812</td>\n",
       "      <td>Diary of a Wimpy Kid: Hard Luck, Book 8</td>\n",
       "      <td>0.0</td>\n",
       "      <td>Fiction</td>\n",
       "    </tr>\n",
       "    <tr>\n",
       "      <th>265</th>\n",
       "      <td>Jeff Kinney</td>\n",
       "      <td>2017</td>\n",
       "      <td>4.8</td>\n",
       "      <td>5836</td>\n",
       "      <td>The Getaway</td>\n",
       "      <td>0.0</td>\n",
       "      <td>Fiction</td>\n",
       "    </tr>\n",
       "    <tr>\n",
       "      <th>387</th>\n",
       "      <td>RH Disney</td>\n",
       "      <td>2014</td>\n",
       "      <td>4.6</td>\n",
       "      <td>978</td>\n",
       "      <td>JOURNEY TO THE ICE P</td>\n",
       "      <td>0.0</td>\n",
       "      <td>Fiction</td>\n",
       "    </tr>\n",
       "    <tr>\n",
       "      <th>388</th>\n",
       "      <td>RH Disney</td>\n",
       "      <td>2014</td>\n",
       "      <td>4.7</td>\n",
       "      <td>3642</td>\n",
       "      <td>Frozen (Little Golden Book)</td>\n",
       "      <td>0.0</td>\n",
       "      <td>Fiction</td>\n",
       "    </tr>\n",
       "    <tr>\n",
       "      <th>481</th>\n",
       "      <td>Stephenie Meyer</td>\n",
       "      <td>2010</td>\n",
       "      <td>4.6</td>\n",
       "      <td>2122</td>\n",
       "      <td>The Short Second Life of Bree Tanner: An Eclip...</td>\n",
       "      <td>0.0</td>\n",
       "      <td>Fiction</td>\n",
       "    </tr>\n",
       "  </tbody>\n",
       "</table>\n",
       "</div>"
      ],
      "text/plain": [
       "                               Author  Year  User Rating  Reviews  \\\n",
       "9                      Alice Schertle  2014          4.9     1884   \n",
       "118  Delegates of the Constitutional\n",
       "  2016          4.8     2774   \n",
       "225                        Harper Lee  2013          4.8    26234   \n",
       "226                        Harper Lee  2014          4.8    26234   \n",
       "228                        Harper Lee  2015          4.8    26234   \n",
       "229                        Harper Lee  2016          4.8    26234   \n",
       "259                       Jeff Kinney  2011          4.8     4505   \n",
       "261                       Jeff Kinney  2013          4.8     6812   \n",
       "265                       Jeff Kinney  2017          4.8     5836   \n",
       "387                         RH Disney  2014          4.6      978   \n",
       "388                         RH Disney  2014          4.7     3642   \n",
       "481                   Stephenie Meyer  2010          4.6     2122   \n",
       "\n",
       "                                                  Name  Price        Genre  \n",
       "9                                    Little Blue Truck    0.0      Fiction  \n",
       "118              The Constitution of the United States    0.0  Non Fiction  \n",
       "225                              To Kill a Mockingbird    0.0      Fiction  \n",
       "226                              To Kill a Mockingbird    0.0      Fiction  \n",
       "228                              To Kill a Mockingbird    0.0      Fiction  \n",
       "229                              To Kill a Mockingbird    0.0      Fiction  \n",
       "259         Cabin Fever (Diary of a Wimpy Kid, Book 6)    0.0      Fiction  \n",
       "261            Diary of a Wimpy Kid: Hard Luck, Book 8    0.0      Fiction  \n",
       "265                                        The Getaway    0.0      Fiction  \n",
       "387                               JOURNEY TO THE ICE P    0.0      Fiction  \n",
       "388                        Frozen (Little Golden Book)    0.0      Fiction  \n",
       "481  The Short Second Life of Bree Tanner: An Eclip...    0.0      Fiction  "
      ]
     },
     "execution_count": 60,
     "metadata": {},
     "output_type": "execute_result"
    }
   ],
   "source": [
    "df_unique_names_per_year_df[df_unique_names_per_year_df[\"Price\"] == 0]"
   ]
  },
  {
   "cell_type": "markdown",
   "metadata": {},
   "source": [
    "# Kostenlose identifizieren"
   ]
  },
  {
   "cell_type": "code",
   "execution_count": 61,
   "metadata": {},
   "outputs": [
    {
     "data": {
      "text/html": [
       "<div>\n",
       "<style scoped>\n",
       "    .dataframe tbody tr th:only-of-type {\n",
       "        vertical-align: middle;\n",
       "    }\n",
       "\n",
       "    .dataframe tbody tr th {\n",
       "        vertical-align: top;\n",
       "    }\n",
       "\n",
       "    .dataframe thead th {\n",
       "        text-align: right;\n",
       "    }\n",
       "</style>\n",
       "<table border=\"1\" class=\"dataframe\">\n",
       "  <thead>\n",
       "    <tr style=\"text-align: right;\">\n",
       "      <th></th>\n",
       "      <th>Author</th>\n",
       "      <th>User Rating</th>\n",
       "      <th>Reviews</th>\n",
       "      <th>Name</th>\n",
       "      <th>Genre</th>\n",
       "    </tr>\n",
       "  </thead>\n",
       "  <tbody>\n",
       "    <tr>\n",
       "      <th>9</th>\n",
       "      <td>Alice Schertle</td>\n",
       "      <td>4.9</td>\n",
       "      <td>1884</td>\n",
       "      <td>Little Blue Truck</td>\n",
       "      <td>Fiction</td>\n",
       "    </tr>\n",
       "    <tr>\n",
       "      <th>118</th>\n",
       "      <td>Delegates of the Constitutional</td>\n",
       "      <td>4.8</td>\n",
       "      <td>2774</td>\n",
       "      <td>The Constitution of the United States</td>\n",
       "      <td>Non Fiction</td>\n",
       "    </tr>\n",
       "    <tr>\n",
       "      <th>225</th>\n",
       "      <td>Harper Lee</td>\n",
       "      <td>4.8</td>\n",
       "      <td>26234</td>\n",
       "      <td>To Kill a Mockingbird</td>\n",
       "      <td>Fiction</td>\n",
       "    </tr>\n",
       "    <tr>\n",
       "      <th>226</th>\n",
       "      <td>Harper Lee</td>\n",
       "      <td>4.8</td>\n",
       "      <td>26234</td>\n",
       "      <td>To Kill a Mockingbird</td>\n",
       "      <td>Fiction</td>\n",
       "    </tr>\n",
       "    <tr>\n",
       "      <th>228</th>\n",
       "      <td>Harper Lee</td>\n",
       "      <td>4.8</td>\n",
       "      <td>26234</td>\n",
       "      <td>To Kill a Mockingbird</td>\n",
       "      <td>Fiction</td>\n",
       "    </tr>\n",
       "    <tr>\n",
       "      <th>229</th>\n",
       "      <td>Harper Lee</td>\n",
       "      <td>4.8</td>\n",
       "      <td>26234</td>\n",
       "      <td>To Kill a Mockingbird</td>\n",
       "      <td>Fiction</td>\n",
       "    </tr>\n",
       "    <tr>\n",
       "      <th>259</th>\n",
       "      <td>Jeff Kinney</td>\n",
       "      <td>4.8</td>\n",
       "      <td>4505</td>\n",
       "      <td>Cabin Fever (Diary of a Wimpy Kid, Book 6)</td>\n",
       "      <td>Fiction</td>\n",
       "    </tr>\n",
       "    <tr>\n",
       "      <th>261</th>\n",
       "      <td>Jeff Kinney</td>\n",
       "      <td>4.8</td>\n",
       "      <td>6812</td>\n",
       "      <td>Diary of a Wimpy Kid: Hard Luck, Book 8</td>\n",
       "      <td>Fiction</td>\n",
       "    </tr>\n",
       "    <tr>\n",
       "      <th>265</th>\n",
       "      <td>Jeff Kinney</td>\n",
       "      <td>4.8</td>\n",
       "      <td>5836</td>\n",
       "      <td>The Getaway</td>\n",
       "      <td>Fiction</td>\n",
       "    </tr>\n",
       "    <tr>\n",
       "      <th>387</th>\n",
       "      <td>RH Disney</td>\n",
       "      <td>4.6</td>\n",
       "      <td>978</td>\n",
       "      <td>JOURNEY TO THE ICE P</td>\n",
       "      <td>Fiction</td>\n",
       "    </tr>\n",
       "    <tr>\n",
       "      <th>388</th>\n",
       "      <td>RH Disney</td>\n",
       "      <td>4.7</td>\n",
       "      <td>3642</td>\n",
       "      <td>Frozen (Little Golden Book)</td>\n",
       "      <td>Fiction</td>\n",
       "    </tr>\n",
       "    <tr>\n",
       "      <th>481</th>\n",
       "      <td>Stephenie Meyer</td>\n",
       "      <td>4.6</td>\n",
       "      <td>2122</td>\n",
       "      <td>The Short Second Life of Bree Tanner: An Eclip...</td>\n",
       "      <td>Fiction</td>\n",
       "    </tr>\n",
       "  </tbody>\n",
       "</table>\n",
       "</div>"
      ],
      "text/plain": [
       "                               Author  User Rating  Reviews  \\\n",
       "9                      Alice Schertle          4.9     1884   \n",
       "118  Delegates of the Constitutional\n",
       "          4.8     2774   \n",
       "225                        Harper Lee          4.8    26234   \n",
       "226                        Harper Lee          4.8    26234   \n",
       "228                        Harper Lee          4.8    26234   \n",
       "229                        Harper Lee          4.8    26234   \n",
       "259                       Jeff Kinney          4.8     4505   \n",
       "261                       Jeff Kinney          4.8     6812   \n",
       "265                       Jeff Kinney          4.8     5836   \n",
       "387                         RH Disney          4.6      978   \n",
       "388                         RH Disney          4.7     3642   \n",
       "481                   Stephenie Meyer          4.6     2122   \n",
       "\n",
       "                                                  Name        Genre  \n",
       "9                                    Little Blue Truck      Fiction  \n",
       "118              The Constitution of the United States  Non Fiction  \n",
       "225                              To Kill a Mockingbird      Fiction  \n",
       "226                              To Kill a Mockingbird      Fiction  \n",
       "228                              To Kill a Mockingbird      Fiction  \n",
       "229                              To Kill a Mockingbird      Fiction  \n",
       "259         Cabin Fever (Diary of a Wimpy Kid, Book 6)      Fiction  \n",
       "261            Diary of a Wimpy Kid: Hard Luck, Book 8      Fiction  \n",
       "265                                        The Getaway      Fiction  \n",
       "387                               JOURNEY TO THE ICE P      Fiction  \n",
       "388                        Frozen (Little Golden Book)      Fiction  \n",
       "481  The Short Second Life of Bree Tanner: An Eclip...      Fiction  "
      ]
     },
     "execution_count": 61,
     "metadata": {},
     "output_type": "execute_result"
    }
   ],
   "source": [
    "free_books = df_unique_names_per_year_df[df_unique_names_per_year_df[\"Price\"] == 0].drop([\"Price\", \"Year\"], axis=1)\n",
    "free_books"
   ]
  },
  {
   "cell_type": "markdown",
   "metadata": {},
   "source": [
    "# In den original Daten nachschauen ob es Bücher gibt mit den gleiche Einträgen aber dass der Preis enthalten ist um diesen Preis auf die Einträge mit 0€ zu überschreiben, die restlichen bleiben bei 0€"
   ]
  },
  {
   "cell_type": "code",
   "execution_count": 62,
   "metadata": {},
   "outputs": [
    {
     "data": {
      "text/html": [
       "<div>\n",
       "<style scoped>\n",
       "    .dataframe tbody tr th:only-of-type {\n",
       "        vertical-align: middle;\n",
       "    }\n",
       "\n",
       "    .dataframe tbody tr th {\n",
       "        vertical-align: top;\n",
       "    }\n",
       "\n",
       "    .dataframe thead th {\n",
       "        text-align: right;\n",
       "    }\n",
       "</style>\n",
       "<table border=\"1\" class=\"dataframe\">\n",
       "  <thead>\n",
       "    <tr style=\"text-align: right;\">\n",
       "      <th></th>\n",
       "      <th>Author</th>\n",
       "      <th>Year</th>\n",
       "      <th>User Rating</th>\n",
       "      <th>Reviews</th>\n",
       "      <th>Name</th>\n",
       "      <th>Price</th>\n",
       "      <th>Genre</th>\n",
       "    </tr>\n",
       "  </thead>\n",
       "  <tbody>\n",
       "    <tr>\n",
       "      <th>0</th>\n",
       "      <td>Alice Schertle</td>\n",
       "      <td>2014</td>\n",
       "      <td>4.9</td>\n",
       "      <td>1884</td>\n",
       "      <td>Little Blue Truck</td>\n",
       "      <td>0.0</td>\n",
       "      <td>Fiction</td>\n",
       "    </tr>\n",
       "    <tr>\n",
       "      <th>1</th>\n",
       "      <td>Delegates of the Constitutional</td>\n",
       "      <td>2016</td>\n",
       "      <td>4.8</td>\n",
       "      <td>2774</td>\n",
       "      <td>The Constitution of the United States</td>\n",
       "      <td>0.0</td>\n",
       "      <td>Non Fiction</td>\n",
       "    </tr>\n",
       "    <tr>\n",
       "      <th>2</th>\n",
       "      <td>Harper Lee</td>\n",
       "      <td>2013</td>\n",
       "      <td>4.8</td>\n",
       "      <td>26234</td>\n",
       "      <td>To Kill a Mockingbird</td>\n",
       "      <td>0.0</td>\n",
       "      <td>Fiction</td>\n",
       "    </tr>\n",
       "    <tr>\n",
       "      <th>3</th>\n",
       "      <td>Harper Lee</td>\n",
       "      <td>2014</td>\n",
       "      <td>4.8</td>\n",
       "      <td>26234</td>\n",
       "      <td>To Kill a Mockingbird</td>\n",
       "      <td>0.0</td>\n",
       "      <td>Fiction</td>\n",
       "    </tr>\n",
       "    <tr>\n",
       "      <th>4</th>\n",
       "      <td>Harper Lee</td>\n",
       "      <td>2015</td>\n",
       "      <td>4.8</td>\n",
       "      <td>26234</td>\n",
       "      <td>To Kill a Mockingbird</td>\n",
       "      <td>0.0</td>\n",
       "      <td>Fiction</td>\n",
       "    </tr>\n",
       "    <tr>\n",
       "      <th>5</th>\n",
       "      <td>Harper Lee</td>\n",
       "      <td>2016</td>\n",
       "      <td>4.8</td>\n",
       "      <td>26234</td>\n",
       "      <td>To Kill a Mockingbird</td>\n",
       "      <td>0.0</td>\n",
       "      <td>Fiction</td>\n",
       "    </tr>\n",
       "    <tr>\n",
       "      <th>6</th>\n",
       "      <td>Harper Lee</td>\n",
       "      <td>2019</td>\n",
       "      <td>4.8</td>\n",
       "      <td>26234</td>\n",
       "      <td>To Kill a Mockingbird</td>\n",
       "      <td>7.0</td>\n",
       "      <td>Fiction</td>\n",
       "    </tr>\n",
       "    <tr>\n",
       "      <th>22</th>\n",
       "      <td>Jeff Kinney</td>\n",
       "      <td>2011</td>\n",
       "      <td>4.8</td>\n",
       "      <td>4505</td>\n",
       "      <td>Cabin Fever (Diary of a Wimpy Kid, Book 6)</td>\n",
       "      <td>0.0</td>\n",
       "      <td>Fiction</td>\n",
       "    </tr>\n",
       "    <tr>\n",
       "      <th>23</th>\n",
       "      <td>Jeff Kinney</td>\n",
       "      <td>2013</td>\n",
       "      <td>4.8</td>\n",
       "      <td>6812</td>\n",
       "      <td>Diary of a Wimpy Kid: Hard Luck, Book 8</td>\n",
       "      <td>0.0</td>\n",
       "      <td>Fiction</td>\n",
       "    </tr>\n",
       "    <tr>\n",
       "      <th>24</th>\n",
       "      <td>Jeff Kinney</td>\n",
       "      <td>2017</td>\n",
       "      <td>4.8</td>\n",
       "      <td>5836</td>\n",
       "      <td>The Getaway</td>\n",
       "      <td>0.0</td>\n",
       "      <td>Fiction</td>\n",
       "    </tr>\n",
       "    <tr>\n",
       "      <th>25</th>\n",
       "      <td>RH Disney</td>\n",
       "      <td>2014</td>\n",
       "      <td>4.6</td>\n",
       "      <td>978</td>\n",
       "      <td>JOURNEY TO THE ICE P</td>\n",
       "      <td>0.0</td>\n",
       "      <td>Fiction</td>\n",
       "    </tr>\n",
       "    <tr>\n",
       "      <th>26</th>\n",
       "      <td>RH Disney</td>\n",
       "      <td>2014</td>\n",
       "      <td>4.7</td>\n",
       "      <td>3642</td>\n",
       "      <td>Frozen (Little Golden Book)</td>\n",
       "      <td>0.0</td>\n",
       "      <td>Fiction</td>\n",
       "    </tr>\n",
       "    <tr>\n",
       "      <th>27</th>\n",
       "      <td>Stephenie Meyer</td>\n",
       "      <td>2010</td>\n",
       "      <td>4.6</td>\n",
       "      <td>2122</td>\n",
       "      <td>The Short Second Life of Bree Tanner: An Eclip...</td>\n",
       "      <td>0.0</td>\n",
       "      <td>Fiction</td>\n",
       "    </tr>\n",
       "  </tbody>\n",
       "</table>\n",
       "</div>"
      ],
      "text/plain": [
       "                              Author  Year  User Rating  Reviews  \\\n",
       "0                     Alice Schertle  2014          4.9     1884   \n",
       "1   Delegates of the Constitutional\n",
       "  2016          4.8     2774   \n",
       "2                         Harper Lee  2013          4.8    26234   \n",
       "3                         Harper Lee  2014          4.8    26234   \n",
       "4                         Harper Lee  2015          4.8    26234   \n",
       "5                         Harper Lee  2016          4.8    26234   \n",
       "6                         Harper Lee  2019          4.8    26234   \n",
       "22                       Jeff Kinney  2011          4.8     4505   \n",
       "23                       Jeff Kinney  2013          4.8     6812   \n",
       "24                       Jeff Kinney  2017          4.8     5836   \n",
       "25                         RH Disney  2014          4.6      978   \n",
       "26                         RH Disney  2014          4.7     3642   \n",
       "27                   Stephenie Meyer  2010          4.6     2122   \n",
       "\n",
       "                                                 Name  Price        Genre  \n",
       "0                                   Little Blue Truck    0.0      Fiction  \n",
       "1               The Constitution of the United States    0.0  Non Fiction  \n",
       "2                               To Kill a Mockingbird    0.0      Fiction  \n",
       "3                               To Kill a Mockingbird    0.0      Fiction  \n",
       "4                               To Kill a Mockingbird    0.0      Fiction  \n",
       "5                               To Kill a Mockingbird    0.0      Fiction  \n",
       "6                               To Kill a Mockingbird    7.0      Fiction  \n",
       "22         Cabin Fever (Diary of a Wimpy Kid, Book 6)    0.0      Fiction  \n",
       "23            Diary of a Wimpy Kid: Hard Luck, Book 8    0.0      Fiction  \n",
       "24                                        The Getaway    0.0      Fiction  \n",
       "25                               JOURNEY TO THE ICE P    0.0      Fiction  \n",
       "26                        Frozen (Little Golden Book)    0.0      Fiction  \n",
       "27  The Short Second Life of Bree Tanner: An Eclip...    0.0      Fiction  "
      ]
     },
     "execution_count": 62,
     "metadata": {},
     "output_type": "execute_result"
    }
   ],
   "source": [
    "df_unique_names_per_year_df.merge(free_books, how=\"right\").drop_duplicates()"
   ]
  },
  {
   "cell_type": "markdown",
   "metadata": {},
   "source": [
    "# Alternative mit Masking"
   ]
  },
  {
   "cell_type": "code",
   "execution_count": 63,
   "metadata": {},
   "outputs": [
    {
     "data": {
      "text/html": [
       "<div>\n",
       "<style scoped>\n",
       "    .dataframe tbody tr th:only-of-type {\n",
       "        vertical-align: middle;\n",
       "    }\n",
       "\n",
       "    .dataframe tbody tr th {\n",
       "        vertical-align: top;\n",
       "    }\n",
       "\n",
       "    .dataframe thead th {\n",
       "        text-align: right;\n",
       "    }\n",
       "</style>\n",
       "<table border=\"1\" class=\"dataframe\">\n",
       "  <thead>\n",
       "    <tr style=\"text-align: right;\">\n",
       "      <th></th>\n",
       "      <th>Author</th>\n",
       "      <th>Year</th>\n",
       "      <th>User Rating</th>\n",
       "      <th>Reviews</th>\n",
       "      <th>Name</th>\n",
       "      <th>Price</th>\n",
       "      <th>Genre</th>\n",
       "    </tr>\n",
       "  </thead>\n",
       "  <tbody>\n",
       "    <tr>\n",
       "      <th>9</th>\n",
       "      <td>Alice Schertle</td>\n",
       "      <td>2014</td>\n",
       "      <td>4.9</td>\n",
       "      <td>1884</td>\n",
       "      <td>Little Blue Truck</td>\n",
       "      <td>0.0</td>\n",
       "      <td>Fiction</td>\n",
       "    </tr>\n",
       "    <tr>\n",
       "      <th>118</th>\n",
       "      <td>Delegates of the Constitutional</td>\n",
       "      <td>2016</td>\n",
       "      <td>4.8</td>\n",
       "      <td>2774</td>\n",
       "      <td>The Constitution of the United States</td>\n",
       "      <td>0.0</td>\n",
       "      <td>Non Fiction</td>\n",
       "    </tr>\n",
       "    <tr>\n",
       "      <th>225</th>\n",
       "      <td>Harper Lee</td>\n",
       "      <td>2013</td>\n",
       "      <td>4.8</td>\n",
       "      <td>26234</td>\n",
       "      <td>To Kill a Mockingbird</td>\n",
       "      <td>0.0</td>\n",
       "      <td>Fiction</td>\n",
       "    </tr>\n",
       "    <tr>\n",
       "      <th>226</th>\n",
       "      <td>Harper Lee</td>\n",
       "      <td>2014</td>\n",
       "      <td>4.8</td>\n",
       "      <td>26234</td>\n",
       "      <td>To Kill a Mockingbird</td>\n",
       "      <td>0.0</td>\n",
       "      <td>Fiction</td>\n",
       "    </tr>\n",
       "    <tr>\n",
       "      <th>228</th>\n",
       "      <td>Harper Lee</td>\n",
       "      <td>2015</td>\n",
       "      <td>4.8</td>\n",
       "      <td>26234</td>\n",
       "      <td>To Kill a Mockingbird</td>\n",
       "      <td>0.0</td>\n",
       "      <td>Fiction</td>\n",
       "    </tr>\n",
       "    <tr>\n",
       "      <th>229</th>\n",
       "      <td>Harper Lee</td>\n",
       "      <td>2016</td>\n",
       "      <td>4.8</td>\n",
       "      <td>26234</td>\n",
       "      <td>To Kill a Mockingbird</td>\n",
       "      <td>0.0</td>\n",
       "      <td>Fiction</td>\n",
       "    </tr>\n",
       "    <tr>\n",
       "      <th>230</th>\n",
       "      <td>Harper Lee</td>\n",
       "      <td>2019</td>\n",
       "      <td>4.8</td>\n",
       "      <td>26234</td>\n",
       "      <td>To Kill a Mockingbird</td>\n",
       "      <td>7.0</td>\n",
       "      <td>Fiction</td>\n",
       "    </tr>\n",
       "    <tr>\n",
       "      <th>259</th>\n",
       "      <td>Jeff Kinney</td>\n",
       "      <td>2011</td>\n",
       "      <td>4.8</td>\n",
       "      <td>4505</td>\n",
       "      <td>Cabin Fever (Diary of a Wimpy Kid, Book 6)</td>\n",
       "      <td>0.0</td>\n",
       "      <td>Fiction</td>\n",
       "    </tr>\n",
       "    <tr>\n",
       "      <th>261</th>\n",
       "      <td>Jeff Kinney</td>\n",
       "      <td>2013</td>\n",
       "      <td>4.8</td>\n",
       "      <td>6812</td>\n",
       "      <td>Diary of a Wimpy Kid: Hard Luck, Book 8</td>\n",
       "      <td>0.0</td>\n",
       "      <td>Fiction</td>\n",
       "    </tr>\n",
       "    <tr>\n",
       "      <th>265</th>\n",
       "      <td>Jeff Kinney</td>\n",
       "      <td>2017</td>\n",
       "      <td>4.8</td>\n",
       "      <td>5836</td>\n",
       "      <td>The Getaway</td>\n",
       "      <td>0.0</td>\n",
       "      <td>Fiction</td>\n",
       "    </tr>\n",
       "    <tr>\n",
       "      <th>387</th>\n",
       "      <td>RH Disney</td>\n",
       "      <td>2014</td>\n",
       "      <td>4.6</td>\n",
       "      <td>978</td>\n",
       "      <td>JOURNEY TO THE ICE P</td>\n",
       "      <td>0.0</td>\n",
       "      <td>Fiction</td>\n",
       "    </tr>\n",
       "    <tr>\n",
       "      <th>388</th>\n",
       "      <td>RH Disney</td>\n",
       "      <td>2014</td>\n",
       "      <td>4.7</td>\n",
       "      <td>3642</td>\n",
       "      <td>Frozen (Little Golden Book)</td>\n",
       "      <td>0.0</td>\n",
       "      <td>Fiction</td>\n",
       "    </tr>\n",
       "    <tr>\n",
       "      <th>481</th>\n",
       "      <td>Stephenie Meyer</td>\n",
       "      <td>2010</td>\n",
       "      <td>4.6</td>\n",
       "      <td>2122</td>\n",
       "      <td>The Short Second Life of Bree Tanner: An Eclip...</td>\n",
       "      <td>0.0</td>\n",
       "      <td>Fiction</td>\n",
       "    </tr>\n",
       "  </tbody>\n",
       "</table>\n",
       "</div>"
      ],
      "text/plain": [
       "                               Author  Year  User Rating  Reviews  \\\n",
       "9                      Alice Schertle  2014          4.9     1884   \n",
       "118  Delegates of the Constitutional\n",
       "  2016          4.8     2774   \n",
       "225                        Harper Lee  2013          4.8    26234   \n",
       "226                        Harper Lee  2014          4.8    26234   \n",
       "228                        Harper Lee  2015          4.8    26234   \n",
       "229                        Harper Lee  2016          4.8    26234   \n",
       "230                        Harper Lee  2019          4.8    26234   \n",
       "259                       Jeff Kinney  2011          4.8     4505   \n",
       "261                       Jeff Kinney  2013          4.8     6812   \n",
       "265                       Jeff Kinney  2017          4.8     5836   \n",
       "387                         RH Disney  2014          4.6      978   \n",
       "388                         RH Disney  2014          4.7     3642   \n",
       "481                   Stephenie Meyer  2010          4.6     2122   \n",
       "\n",
       "                                                  Name  Price        Genre  \n",
       "9                                    Little Blue Truck    0.0      Fiction  \n",
       "118              The Constitution of the United States    0.0  Non Fiction  \n",
       "225                              To Kill a Mockingbird    0.0      Fiction  \n",
       "226                              To Kill a Mockingbird    0.0      Fiction  \n",
       "228                              To Kill a Mockingbird    0.0      Fiction  \n",
       "229                              To Kill a Mockingbird    0.0      Fiction  \n",
       "230                              To Kill a Mockingbird    7.0      Fiction  \n",
       "259         Cabin Fever (Diary of a Wimpy Kid, Book 6)    0.0      Fiction  \n",
       "261            Diary of a Wimpy Kid: Hard Luck, Book 8    0.0      Fiction  \n",
       "265                                        The Getaway    0.0      Fiction  \n",
       "387                               JOURNEY TO THE ICE P    0.0      Fiction  \n",
       "388                        Frozen (Little Golden Book)    0.0      Fiction  \n",
       "481  The Short Second Life of Bree Tanner: An Eclip...    0.0      Fiction  "
      ]
     },
     "execution_count": 63,
     "metadata": {},
     "output_type": "execute_result"
    }
   ],
   "source": [
    "df_unique_names_per_year_df[df_unique_names_per_year_df[\"Name\"].isin(free_books[\"Name\"])]"
   ]
  },
  {
   "cell_type": "markdown",
   "metadata": {},
   "source": [
    "# Preisanpassung von Mocking Bird"
   ]
  },
  {
   "cell_type": "code",
   "execution_count": 71,
   "metadata": {},
   "outputs": [
    {
     "data": {
      "text/html": [
       "<div>\n",
       "<style scoped>\n",
       "    .dataframe tbody tr th:only-of-type {\n",
       "        vertical-align: middle;\n",
       "    }\n",
       "\n",
       "    .dataframe tbody tr th {\n",
       "        vertical-align: top;\n",
       "    }\n",
       "\n",
       "    .dataframe thead th {\n",
       "        text-align: right;\n",
       "    }\n",
       "</style>\n",
       "<table border=\"1\" class=\"dataframe\">\n",
       "  <thead>\n",
       "    <tr style=\"text-align: right;\">\n",
       "      <th></th>\n",
       "      <th>Author</th>\n",
       "      <th>Year</th>\n",
       "      <th>User Rating</th>\n",
       "      <th>Reviews</th>\n",
       "      <th>Name</th>\n",
       "      <th>Price</th>\n",
       "      <th>Genre</th>\n",
       "    </tr>\n",
       "  </thead>\n",
       "  <tbody>\n",
       "    <tr>\n",
       "      <th>225</th>\n",
       "      <td>Harper Lee</td>\n",
       "      <td>2013</td>\n",
       "      <td>4.8</td>\n",
       "      <td>26234</td>\n",
       "      <td>To Kill a Mockingbird</td>\n",
       "      <td>7.0</td>\n",
       "      <td>Fiction</td>\n",
       "    </tr>\n",
       "    <tr>\n",
       "      <th>226</th>\n",
       "      <td>Harper Lee</td>\n",
       "      <td>2014</td>\n",
       "      <td>4.8</td>\n",
       "      <td>26234</td>\n",
       "      <td>To Kill a Mockingbird</td>\n",
       "      <td>7.0</td>\n",
       "      <td>Fiction</td>\n",
       "    </tr>\n",
       "    <tr>\n",
       "      <th>228</th>\n",
       "      <td>Harper Lee</td>\n",
       "      <td>2015</td>\n",
       "      <td>4.8</td>\n",
       "      <td>26234</td>\n",
       "      <td>To Kill a Mockingbird</td>\n",
       "      <td>7.0</td>\n",
       "      <td>Fiction</td>\n",
       "    </tr>\n",
       "    <tr>\n",
       "      <th>229</th>\n",
       "      <td>Harper Lee</td>\n",
       "      <td>2016</td>\n",
       "      <td>4.8</td>\n",
       "      <td>26234</td>\n",
       "      <td>To Kill a Mockingbird</td>\n",
       "      <td>7.0</td>\n",
       "      <td>Fiction</td>\n",
       "    </tr>\n",
       "    <tr>\n",
       "      <th>230</th>\n",
       "      <td>Harper Lee</td>\n",
       "      <td>2019</td>\n",
       "      <td>4.8</td>\n",
       "      <td>26234</td>\n",
       "      <td>To Kill a Mockingbird</td>\n",
       "      <td>7.0</td>\n",
       "      <td>Fiction</td>\n",
       "    </tr>\n",
       "  </tbody>\n",
       "</table>\n",
       "</div>"
      ],
      "text/plain": [
       "         Author  Year  User Rating  Reviews                   Name  Price  \\\n",
       "225  Harper Lee  2013          4.8    26234  To Kill a Mockingbird    7.0   \n",
       "226  Harper Lee  2014          4.8    26234  To Kill a Mockingbird    7.0   \n",
       "228  Harper Lee  2015          4.8    26234  To Kill a Mockingbird    7.0   \n",
       "229  Harper Lee  2016          4.8    26234  To Kill a Mockingbird    7.0   \n",
       "230  Harper Lee  2019          4.8    26234  To Kill a Mockingbird    7.0   \n",
       "\n",
       "       Genre  \n",
       "225  Fiction  \n",
       "226  Fiction  \n",
       "228  Fiction  \n",
       "229  Fiction  \n",
       "230  Fiction  "
      ]
     },
     "execution_count": 71,
     "metadata": {},
     "output_type": "execute_result"
    }
   ],
   "source": [
    "df_unique_names_per_year_df.loc[df_unique_names_per_year_df[\"Name\"] == \"To Kill a Mockingbird\", \"Price\"] = 7\n",
    "df_unique_names_per_year_df[df_unique_names_per_year_df[\"Name\"] == \"To Kill a Mockingbird\"]"
   ]
  },
  {
   "cell_type": "markdown",
   "metadata": {},
   "source": [
    "# Restliche Bücher mit einem Preis von 0€ entfernen"
   ]
  },
  {
   "cell_type": "code",
   "execution_count": 73,
   "metadata": {},
   "outputs": [
    {
     "data": {
      "text/html": [
       "<div>\n",
       "<style scoped>\n",
       "    .dataframe tbody tr th:only-of-type {\n",
       "        vertical-align: middle;\n",
       "    }\n",
       "\n",
       "    .dataframe tbody tr th {\n",
       "        vertical-align: top;\n",
       "    }\n",
       "\n",
       "    .dataframe thead th {\n",
       "        text-align: right;\n",
       "    }\n",
       "</style>\n",
       "<table border=\"1\" class=\"dataframe\">\n",
       "  <thead>\n",
       "    <tr style=\"text-align: right;\">\n",
       "      <th></th>\n",
       "      <th>Author</th>\n",
       "      <th>Year</th>\n",
       "      <th>User Rating</th>\n",
       "      <th>Reviews</th>\n",
       "      <th>Name</th>\n",
       "      <th>Price</th>\n",
       "      <th>Genre</th>\n",
       "    </tr>\n",
       "  </thead>\n",
       "  <tbody>\n",
       "    <tr>\n",
       "      <th>0</th>\n",
       "      <td>Abraham Verghese</td>\n",
       "      <td>2010</td>\n",
       "      <td>4.6</td>\n",
       "      <td>4866</td>\n",
       "      <td>Cutting for Stone</td>\n",
       "      <td>11.0</td>\n",
       "      <td>Fiction</td>\n",
       "    </tr>\n",
       "    <tr>\n",
       "      <th>1</th>\n",
       "      <td>Abraham Verghese</td>\n",
       "      <td>2011</td>\n",
       "      <td>4.6</td>\n",
       "      <td>4866</td>\n",
       "      <td>Cutting for Stone</td>\n",
       "      <td>11.0</td>\n",
       "      <td>Fiction</td>\n",
       "    </tr>\n",
       "    <tr>\n",
       "      <th>2</th>\n",
       "      <td>Adam Gasiewski</td>\n",
       "      <td>2017</td>\n",
       "      <td>4.4</td>\n",
       "      <td>3113</td>\n",
       "      <td>Milk and Vine: Inspirational Quotes From Class...</td>\n",
       "      <td>6.0</td>\n",
       "      <td>Non Fiction</td>\n",
       "    </tr>\n",
       "    <tr>\n",
       "      <th>3</th>\n",
       "      <td>Adam Mansbach</td>\n",
       "      <td>2011</td>\n",
       "      <td>4.8</td>\n",
       "      <td>9568</td>\n",
       "      <td>Go the F**k to Sleep</td>\n",
       "      <td>9.0</td>\n",
       "      <td>Fiction</td>\n",
       "    </tr>\n",
       "    <tr>\n",
       "      <th>4</th>\n",
       "      <td>Adir Levy</td>\n",
       "      <td>2019</td>\n",
       "      <td>4.8</td>\n",
       "      <td>8170</td>\n",
       "      <td>What Should Danny Do? (The Power to Choose Ser...</td>\n",
       "      <td>13.0</td>\n",
       "      <td>Fiction</td>\n",
       "    </tr>\n",
       "    <tr>\n",
       "      <th>...</th>\n",
       "      <td>...</td>\n",
       "      <td>...</td>\n",
       "      <td>...</td>\n",
       "      <td>...</td>\n",
       "      <td>...</td>\n",
       "      <td>...</td>\n",
       "      <td>...</td>\n",
       "    </tr>\n",
       "    <tr>\n",
       "      <th>541</th>\n",
       "      <td>Wizards RPG Team</td>\n",
       "      <td>2017</td>\n",
       "      <td>4.8</td>\n",
       "      <td>16990</td>\n",
       "      <td>Player's Handbook (Dungeons &amp; Dragons)</td>\n",
       "      <td>27.0</td>\n",
       "      <td>Fiction</td>\n",
       "    </tr>\n",
       "    <tr>\n",
       "      <th>542</th>\n",
       "      <td>Wizards RPG Team</td>\n",
       "      <td>2018</td>\n",
       "      <td>4.8</td>\n",
       "      <td>16990</td>\n",
       "      <td>Player's Handbook (Dungeons &amp; Dragons)</td>\n",
       "      <td>27.0</td>\n",
       "      <td>Fiction</td>\n",
       "    </tr>\n",
       "    <tr>\n",
       "      <th>543</th>\n",
       "      <td>Wizards RPG Team</td>\n",
       "      <td>2019</td>\n",
       "      <td>4.8</td>\n",
       "      <td>16990</td>\n",
       "      <td>Player's Handbook (Dungeons &amp; Dragons)</td>\n",
       "      <td>27.0</td>\n",
       "      <td>Fiction</td>\n",
       "    </tr>\n",
       "    <tr>\n",
       "      <th>544</th>\n",
       "      <td>Zhi Gang Sha</td>\n",
       "      <td>2009</td>\n",
       "      <td>4.6</td>\n",
       "      <td>37</td>\n",
       "      <td>Divine Soul Mind Body Healing and Transmission...</td>\n",
       "      <td>6.0</td>\n",
       "      <td>Non Fiction</td>\n",
       "    </tr>\n",
       "    <tr>\n",
       "      <th>545</th>\n",
       "      <td>Zhi Gang Sha</td>\n",
       "      <td>2013</td>\n",
       "      <td>4.6</td>\n",
       "      <td>220</td>\n",
       "      <td>Soul Healing Miracles: Ancient and New Sacred ...</td>\n",
       "      <td>17.0</td>\n",
       "      <td>Non Fiction</td>\n",
       "    </tr>\n",
       "  </tbody>\n",
       "</table>\n",
       "<p>538 rows × 7 columns</p>\n",
       "</div>"
      ],
      "text/plain": [
       "               Author  Year  User Rating  Reviews  \\\n",
       "0    Abraham Verghese  2010          4.6     4866   \n",
       "1    Abraham Verghese  2011          4.6     4866   \n",
       "2      Adam Gasiewski  2017          4.4     3113   \n",
       "3       Adam Mansbach  2011          4.8     9568   \n",
       "4           Adir Levy  2019          4.8     8170   \n",
       "..                ...   ...          ...      ...   \n",
       "541  Wizards RPG Team  2017          4.8    16990   \n",
       "542  Wizards RPG Team  2018          4.8    16990   \n",
       "543  Wizards RPG Team  2019          4.8    16990   \n",
       "544      Zhi Gang Sha  2009          4.6       37   \n",
       "545      Zhi Gang Sha  2013          4.6      220   \n",
       "\n",
       "                                                  Name  Price        Genre  \n",
       "0                                    Cutting for Stone   11.0      Fiction  \n",
       "1                                    Cutting for Stone   11.0      Fiction  \n",
       "2    Milk and Vine: Inspirational Quotes From Class...    6.0  Non Fiction  \n",
       "3                                 Go the F**k to Sleep    9.0      Fiction  \n",
       "4    What Should Danny Do? (The Power to Choose Ser...   13.0      Fiction  \n",
       "..                                                 ...    ...          ...  \n",
       "541             Player's Handbook (Dungeons & Dragons)   27.0      Fiction  \n",
       "542             Player's Handbook (Dungeons & Dragons)   27.0      Fiction  \n",
       "543             Player's Handbook (Dungeons & Dragons)   27.0      Fiction  \n",
       "544  Divine Soul Mind Body Healing and Transmission...    6.0  Non Fiction  \n",
       "545  Soul Healing Miracles: Ancient and New Sacred ...   17.0  Non Fiction  \n",
       "\n",
       "[538 rows x 7 columns]"
      ]
     },
     "execution_count": 73,
     "metadata": {},
     "output_type": "execute_result"
    }
   ],
   "source": [
    "df_unique_names_per_year_df = df_unique_names_per_year_df[df_unique_names_per_year_df[\"Price\"] != 0]\n",
    "df_unique_names_per_year_df"
   ]
  },
  {
   "cell_type": "code",
   "execution_count": 65,
   "metadata": {},
   "outputs": [],
   "source": [
    "df_unique_names_per_year_df.to_csv(\"../data/cleaned/cleaned_bestseller.csv\", index=False)"
   ]
  },
  {
   "cell_type": "markdown",
   "metadata": {},
   "source": [
    "# Hypothese: \n",
    "1. Ein hohes Review Rating ist sehr wichtig um ein Best Selling Book bei Amazon zu sein\n",
    "\n",
    "2. Es ist gut viele reviews zu haben"
   ]
  },
  {
   "cell_type": "code",
   "execution_count": 66,
   "metadata": {},
   "outputs": [
    {
     "data": {
      "application/vnd.plotly.v1+json": {
       "config": {
        "plotlyServerURL": "https://plot.ly"
       },
       "data": [
        {
         "domain": {
          "x": [
           0,
           1
          ],
          "y": [
           0,
           1
          ]
         },
         "hovertemplate": "Genre=%{label}<extra></extra>",
         "labels": [
          "Non Fiction",
          "Fiction",
          "Non Fiction",
          "Fiction",
          "Non Fiction",
          "Fiction",
          "Fiction",
          "Fiction",
          "Non Fiction",
          "Fiction",
          "Fiction",
          "Non Fiction",
          "Non Fiction",
          "Fiction",
          "Non Fiction",
          "Non Fiction",
          "Non Fiction",
          "Non Fiction",
          "Non Fiction",
          "Non Fiction",
          "Fiction",
          "Fiction",
          "Fiction",
          "Non Fiction",
          "Fiction",
          "Non Fiction",
          "Non Fiction",
          "Non Fiction",
          "Non Fiction",
          "Non Fiction",
          "Non Fiction",
          "Non Fiction",
          "Non Fiction",
          "Non Fiction",
          "Non Fiction",
          "Non Fiction",
          "Non Fiction",
          "Non Fiction",
          "Fiction",
          "Non Fiction",
          "Fiction",
          "Fiction",
          "Fiction",
          "Non Fiction",
          "Non Fiction",
          "Non Fiction",
          "Fiction",
          "Fiction",
          "Fiction",
          "Non Fiction",
          "Non Fiction",
          "Non Fiction",
          "Non Fiction",
          "Fiction",
          "Non Fiction",
          "Non Fiction",
          "Fiction",
          "Fiction",
          "Non Fiction",
          "Non Fiction",
          "Fiction",
          "Fiction",
          "Fiction",
          "Fiction",
          "Fiction",
          "Fiction",
          "Fiction",
          "Non Fiction",
          "Non Fiction",
          "Non Fiction",
          "Non Fiction",
          "Fiction",
          "Fiction",
          "Fiction",
          "Non Fiction",
          "Fiction",
          "Fiction",
          "Fiction",
          "Non Fiction",
          "Fiction",
          "Fiction",
          "Fiction",
          "Fiction",
          "Fiction",
          "Fiction",
          "Fiction",
          "Fiction",
          "Fiction",
          "Fiction",
          "Non Fiction",
          "Non Fiction",
          "Non Fiction",
          "Non Fiction",
          "Non Fiction",
          "Non Fiction",
          "Fiction",
          "Fiction",
          "Non Fiction",
          "Non Fiction",
          "Non Fiction",
          "Fiction",
          "Fiction",
          "Fiction",
          "Non Fiction",
          "Fiction",
          "Fiction",
          "Fiction",
          "Fiction",
          "Fiction",
          "Non Fiction",
          "Non Fiction",
          "Non Fiction",
          "Non Fiction",
          "Non Fiction",
          "Non Fiction",
          "Non Fiction",
          "Fiction",
          "Non Fiction",
          "Fiction",
          "Fiction",
          "Fiction",
          "Non Fiction",
          "Non Fiction",
          "Fiction",
          "Fiction",
          "Fiction",
          "Fiction",
          "Fiction",
          "Non Fiction",
          "Non Fiction",
          "Non Fiction",
          "Non Fiction",
          "Fiction",
          "Fiction",
          "Non Fiction",
          "Fiction",
          "Fiction",
          "Fiction",
          "Non Fiction",
          "Non Fiction",
          "Non Fiction",
          "Non Fiction",
          "Non Fiction",
          "Fiction",
          "Fiction",
          "Fiction",
          "Fiction",
          "Fiction",
          "Non Fiction",
          "Fiction",
          "Non Fiction",
          "Non Fiction",
          "Non Fiction",
          "Fiction",
          "Fiction",
          "Fiction",
          "Fiction",
          "Fiction",
          "Non Fiction",
          "Fiction",
          "Non Fiction",
          "Non Fiction",
          "Non Fiction",
          "Non Fiction",
          "Non Fiction",
          "Non Fiction",
          "Non Fiction",
          "Non Fiction",
          "Non Fiction",
          "Non Fiction",
          "Non Fiction",
          "Non Fiction",
          "Non Fiction",
          "Non Fiction",
          "Non Fiction",
          "Non Fiction",
          "Non Fiction",
          "Fiction",
          "Fiction",
          "Fiction",
          "Fiction",
          "Non Fiction",
          "Fiction",
          "Fiction",
          "Non Fiction",
          "Non Fiction",
          "Non Fiction",
          "Non Fiction",
          "Non Fiction",
          "Non Fiction",
          "Non Fiction",
          "Non Fiction",
          "Non Fiction",
          "Fiction",
          "Fiction",
          "Non Fiction",
          "Non Fiction",
          "Non Fiction",
          "Non Fiction",
          "Non Fiction",
          "Non Fiction",
          "Non Fiction",
          "Non Fiction",
          "Non Fiction",
          "Non Fiction",
          "Non Fiction",
          "Non Fiction",
          "Fiction",
          "Non Fiction",
          "Non Fiction",
          "Non Fiction",
          "Non Fiction",
          "Non Fiction",
          "Non Fiction",
          "Non Fiction",
          "Non Fiction",
          "Non Fiction",
          "Non Fiction",
          "Fiction",
          "Fiction",
          "Fiction",
          "Fiction",
          "Non Fiction",
          "Fiction",
          "Fiction",
          "Non Fiction",
          "Non Fiction",
          "Non Fiction",
          "Non Fiction",
          "Non Fiction",
          "Non Fiction",
          "Non Fiction",
          "Non Fiction",
          "Non Fiction",
          "Non Fiction",
          "Non Fiction",
          "Fiction",
          "Fiction",
          "Fiction",
          "Non Fiction",
          "Non Fiction",
          "Fiction",
          "Non Fiction",
          "Non Fiction",
          "Non Fiction",
          "Fiction",
          "Fiction",
          "Fiction",
          "Fiction",
          "Fiction",
          "Fiction",
          "Fiction",
          "Fiction",
          "Fiction",
          "Fiction",
          "Non Fiction",
          "Non Fiction",
          "Non Fiction",
          "Fiction",
          "Fiction",
          "Non Fiction",
          "Non Fiction",
          "Non Fiction",
          "Non Fiction",
          "Fiction",
          "Fiction",
          "Fiction",
          "Fiction",
          "Fiction",
          "Non Fiction",
          "Non Fiction",
          "Non Fiction",
          "Non Fiction",
          "Non Fiction",
          "Non Fiction",
          "Non Fiction",
          "Non Fiction",
          "Non Fiction",
          "Non Fiction",
          "Non Fiction",
          "Non Fiction",
          "Fiction",
          "Non Fiction",
          "Non Fiction",
          "Non Fiction",
          "Non Fiction",
          "Fiction",
          "Fiction",
          "Fiction",
          "Fiction",
          "Non Fiction",
          "Non Fiction",
          "Fiction",
          "Non Fiction",
          "Non Fiction",
          "Non Fiction",
          "Non Fiction",
          "Non Fiction",
          "Non Fiction",
          "Fiction",
          "Non Fiction",
          "Non Fiction",
          "Non Fiction",
          "Fiction",
          "Non Fiction",
          "Non Fiction",
          "Non Fiction",
          "Non Fiction",
          "Non Fiction",
          "Non Fiction",
          "Non Fiction",
          "Non Fiction",
          "Non Fiction",
          "Non Fiction",
          "Non Fiction",
          "Fiction",
          "Non Fiction",
          "Non Fiction",
          "Non Fiction",
          "Non Fiction",
          "Non Fiction",
          "Non Fiction",
          "Non Fiction",
          "Non Fiction",
          "Non Fiction",
          "Non Fiction",
          "Non Fiction",
          "Non Fiction",
          "Non Fiction",
          "Non Fiction",
          "Non Fiction",
          "Non Fiction",
          "Non Fiction",
          "Non Fiction",
          "Non Fiction",
          "Non Fiction",
          "Non Fiction",
          "Non Fiction",
          "Fiction",
          "Non Fiction",
          "Fiction",
          "Fiction",
          "Non Fiction",
          "Fiction",
          "Non Fiction",
          "Non Fiction",
          "Non Fiction",
          "Fiction",
          "Fiction",
          "Fiction",
          "Fiction",
          "Non Fiction",
          "Non Fiction",
          "Fiction",
          "Non Fiction",
          "Non Fiction",
          "Non Fiction",
          "Fiction",
          "Non Fiction",
          "Non Fiction",
          "Fiction",
          "Fiction",
          "Fiction",
          "Non Fiction",
          "Fiction",
          "Fiction",
          "Fiction",
          "Fiction",
          "Fiction",
          "Non Fiction",
          "Non Fiction",
          "Non Fiction",
          "Non Fiction",
          "Non Fiction",
          "Non Fiction",
          "Non Fiction",
          "Non Fiction",
          "Non Fiction",
          "Non Fiction",
          "Non Fiction",
          "Non Fiction",
          "Fiction",
          "Fiction",
          "Fiction",
          "Fiction",
          "Fiction",
          "Fiction",
          "Fiction",
          "Fiction",
          "Fiction",
          "Fiction",
          "Fiction",
          "Fiction",
          "Fiction",
          "Fiction",
          "Fiction",
          "Fiction",
          "Fiction",
          "Fiction",
          "Fiction",
          "Fiction",
          "Fiction",
          "Fiction",
          "Fiction",
          "Fiction",
          "Fiction",
          "Fiction",
          "Fiction",
          "Fiction",
          "Fiction",
          "Fiction",
          "Fiction",
          "Non Fiction",
          "Non Fiction",
          "Non Fiction",
          "Non Fiction",
          "Non Fiction",
          "Non Fiction",
          "Fiction",
          "Fiction",
          "Fiction",
          "Non Fiction",
          "Non Fiction",
          "Non Fiction",
          "Non Fiction",
          "Non Fiction",
          "Non Fiction",
          "Fiction",
          "Fiction",
          "Fiction",
          "Non Fiction",
          "Non Fiction",
          "Fiction",
          "Fiction",
          "Fiction",
          "Fiction",
          "Non Fiction",
          "Fiction",
          "Fiction",
          "Non Fiction",
          "Non Fiction",
          "Non Fiction",
          "Non Fiction",
          "Non Fiction",
          "Non Fiction",
          "Fiction",
          "Non Fiction",
          "Non Fiction",
          "Non Fiction",
          "Non Fiction",
          "Non Fiction",
          "Fiction",
          "Fiction",
          "Non Fiction",
          "Fiction",
          "Fiction",
          "Fiction",
          "Non Fiction",
          "Fiction",
          "Fiction",
          "Fiction",
          "Fiction",
          "Fiction",
          "Fiction",
          "Non Fiction",
          "Non Fiction",
          "Non Fiction",
          "Non Fiction",
          "Fiction",
          "Fiction",
          "Fiction",
          "Non Fiction",
          "Non Fiction",
          "Fiction",
          "Fiction",
          "Non Fiction",
          "Fiction",
          "Fiction",
          "Fiction",
          "Fiction",
          "Fiction",
          "Fiction",
          "Fiction",
          "Non Fiction",
          "Non Fiction",
          "Non Fiction",
          "Fiction",
          "Fiction",
          "Fiction",
          "Fiction",
          "Fiction",
          "Fiction",
          "Non Fiction",
          "Non Fiction",
          "Non Fiction",
          "Non Fiction",
          "Fiction",
          "Non Fiction",
          "Non Fiction",
          "Non Fiction",
          "Non Fiction",
          "Non Fiction",
          "Non Fiction",
          "Non Fiction",
          "Non Fiction",
          "Fiction",
          "Fiction",
          "Fiction",
          "Fiction",
          "Fiction",
          "Non Fiction",
          "Fiction",
          "Non Fiction",
          "Fiction",
          "Fiction",
          "Non Fiction",
          "Non Fiction",
          "Non Fiction",
          "Non Fiction",
          "Non Fiction",
          "Fiction",
          "Non Fiction",
          "Non Fiction",
          "Non Fiction",
          "Fiction",
          "Fiction",
          "Non Fiction",
          "Non Fiction",
          "Fiction",
          "Fiction",
          "Non Fiction",
          "Non Fiction",
          "Non Fiction",
          "Non Fiction",
          "Fiction",
          "Fiction",
          "Non Fiction",
          "Non Fiction",
          "Fiction",
          "Non Fiction",
          "Fiction",
          "Fiction",
          "Fiction",
          "Fiction",
          "Fiction",
          "Fiction",
          "Non Fiction",
          "Non Fiction",
          "Non Fiction",
          "Non Fiction"
         ],
         "legendgroup": "",
         "name": "",
         "showlegend": true,
         "type": "pie"
        }
       ],
       "layout": {
        "legend": {
         "tracegroupgap": 0
        },
        "margin": {
         "t": 60
        },
        "template": {
         "data": {
          "bar": [
           {
            "error_x": {
             "color": "#2a3f5f"
            },
            "error_y": {
             "color": "#2a3f5f"
            },
            "marker": {
             "line": {
              "color": "#E5ECF6",
              "width": 0.5
             },
             "pattern": {
              "fillmode": "overlay",
              "size": 10,
              "solidity": 0.2
             }
            },
            "type": "bar"
           }
          ],
          "barpolar": [
           {
            "marker": {
             "line": {
              "color": "#E5ECF6",
              "width": 0.5
             },
             "pattern": {
              "fillmode": "overlay",
              "size": 10,
              "solidity": 0.2
             }
            },
            "type": "barpolar"
           }
          ],
          "carpet": [
           {
            "aaxis": {
             "endlinecolor": "#2a3f5f",
             "gridcolor": "white",
             "linecolor": "white",
             "minorgridcolor": "white",
             "startlinecolor": "#2a3f5f"
            },
            "baxis": {
             "endlinecolor": "#2a3f5f",
             "gridcolor": "white",
             "linecolor": "white",
             "minorgridcolor": "white",
             "startlinecolor": "#2a3f5f"
            },
            "type": "carpet"
           }
          ],
          "choropleth": [
           {
            "colorbar": {
             "outlinewidth": 0,
             "ticks": ""
            },
            "type": "choropleth"
           }
          ],
          "contour": [
           {
            "colorbar": {
             "outlinewidth": 0,
             "ticks": ""
            },
            "colorscale": [
             [
              0,
              "#0d0887"
             ],
             [
              0.1111111111111111,
              "#46039f"
             ],
             [
              0.2222222222222222,
              "#7201a8"
             ],
             [
              0.3333333333333333,
              "#9c179e"
             ],
             [
              0.4444444444444444,
              "#bd3786"
             ],
             [
              0.5555555555555556,
              "#d8576b"
             ],
             [
              0.6666666666666666,
              "#ed7953"
             ],
             [
              0.7777777777777778,
              "#fb9f3a"
             ],
             [
              0.8888888888888888,
              "#fdca26"
             ],
             [
              1,
              "#f0f921"
             ]
            ],
            "type": "contour"
           }
          ],
          "contourcarpet": [
           {
            "colorbar": {
             "outlinewidth": 0,
             "ticks": ""
            },
            "type": "contourcarpet"
           }
          ],
          "heatmap": [
           {
            "colorbar": {
             "outlinewidth": 0,
             "ticks": ""
            },
            "colorscale": [
             [
              0,
              "#0d0887"
             ],
             [
              0.1111111111111111,
              "#46039f"
             ],
             [
              0.2222222222222222,
              "#7201a8"
             ],
             [
              0.3333333333333333,
              "#9c179e"
             ],
             [
              0.4444444444444444,
              "#bd3786"
             ],
             [
              0.5555555555555556,
              "#d8576b"
             ],
             [
              0.6666666666666666,
              "#ed7953"
             ],
             [
              0.7777777777777778,
              "#fb9f3a"
             ],
             [
              0.8888888888888888,
              "#fdca26"
             ],
             [
              1,
              "#f0f921"
             ]
            ],
            "type": "heatmap"
           }
          ],
          "heatmapgl": [
           {
            "colorbar": {
             "outlinewidth": 0,
             "ticks": ""
            },
            "colorscale": [
             [
              0,
              "#0d0887"
             ],
             [
              0.1111111111111111,
              "#46039f"
             ],
             [
              0.2222222222222222,
              "#7201a8"
             ],
             [
              0.3333333333333333,
              "#9c179e"
             ],
             [
              0.4444444444444444,
              "#bd3786"
             ],
             [
              0.5555555555555556,
              "#d8576b"
             ],
             [
              0.6666666666666666,
              "#ed7953"
             ],
             [
              0.7777777777777778,
              "#fb9f3a"
             ],
             [
              0.8888888888888888,
              "#fdca26"
             ],
             [
              1,
              "#f0f921"
             ]
            ],
            "type": "heatmapgl"
           }
          ],
          "histogram": [
           {
            "marker": {
             "pattern": {
              "fillmode": "overlay",
              "size": 10,
              "solidity": 0.2
             }
            },
            "type": "histogram"
           }
          ],
          "histogram2d": [
           {
            "colorbar": {
             "outlinewidth": 0,
             "ticks": ""
            },
            "colorscale": [
             [
              0,
              "#0d0887"
             ],
             [
              0.1111111111111111,
              "#46039f"
             ],
             [
              0.2222222222222222,
              "#7201a8"
             ],
             [
              0.3333333333333333,
              "#9c179e"
             ],
             [
              0.4444444444444444,
              "#bd3786"
             ],
             [
              0.5555555555555556,
              "#d8576b"
             ],
             [
              0.6666666666666666,
              "#ed7953"
             ],
             [
              0.7777777777777778,
              "#fb9f3a"
             ],
             [
              0.8888888888888888,
              "#fdca26"
             ],
             [
              1,
              "#f0f921"
             ]
            ],
            "type": "histogram2d"
           }
          ],
          "histogram2dcontour": [
           {
            "colorbar": {
             "outlinewidth": 0,
             "ticks": ""
            },
            "colorscale": [
             [
              0,
              "#0d0887"
             ],
             [
              0.1111111111111111,
              "#46039f"
             ],
             [
              0.2222222222222222,
              "#7201a8"
             ],
             [
              0.3333333333333333,
              "#9c179e"
             ],
             [
              0.4444444444444444,
              "#bd3786"
             ],
             [
              0.5555555555555556,
              "#d8576b"
             ],
             [
              0.6666666666666666,
              "#ed7953"
             ],
             [
              0.7777777777777778,
              "#fb9f3a"
             ],
             [
              0.8888888888888888,
              "#fdca26"
             ],
             [
              1,
              "#f0f921"
             ]
            ],
            "type": "histogram2dcontour"
           }
          ],
          "mesh3d": [
           {
            "colorbar": {
             "outlinewidth": 0,
             "ticks": ""
            },
            "type": "mesh3d"
           }
          ],
          "parcoords": [
           {
            "line": {
             "colorbar": {
              "outlinewidth": 0,
              "ticks": ""
             }
            },
            "type": "parcoords"
           }
          ],
          "pie": [
           {
            "automargin": true,
            "type": "pie"
           }
          ],
          "scatter": [
           {
            "fillpattern": {
             "fillmode": "overlay",
             "size": 10,
             "solidity": 0.2
            },
            "type": "scatter"
           }
          ],
          "scatter3d": [
           {
            "line": {
             "colorbar": {
              "outlinewidth": 0,
              "ticks": ""
             }
            },
            "marker": {
             "colorbar": {
              "outlinewidth": 0,
              "ticks": ""
             }
            },
            "type": "scatter3d"
           }
          ],
          "scattercarpet": [
           {
            "marker": {
             "colorbar": {
              "outlinewidth": 0,
              "ticks": ""
             }
            },
            "type": "scattercarpet"
           }
          ],
          "scattergeo": [
           {
            "marker": {
             "colorbar": {
              "outlinewidth": 0,
              "ticks": ""
             }
            },
            "type": "scattergeo"
           }
          ],
          "scattergl": [
           {
            "marker": {
             "colorbar": {
              "outlinewidth": 0,
              "ticks": ""
             }
            },
            "type": "scattergl"
           }
          ],
          "scattermapbox": [
           {
            "marker": {
             "colorbar": {
              "outlinewidth": 0,
              "ticks": ""
             }
            },
            "type": "scattermapbox"
           }
          ],
          "scatterpolar": [
           {
            "marker": {
             "colorbar": {
              "outlinewidth": 0,
              "ticks": ""
             }
            },
            "type": "scatterpolar"
           }
          ],
          "scatterpolargl": [
           {
            "marker": {
             "colorbar": {
              "outlinewidth": 0,
              "ticks": ""
             }
            },
            "type": "scatterpolargl"
           }
          ],
          "scatterternary": [
           {
            "marker": {
             "colorbar": {
              "outlinewidth": 0,
              "ticks": ""
             }
            },
            "type": "scatterternary"
           }
          ],
          "surface": [
           {
            "colorbar": {
             "outlinewidth": 0,
             "ticks": ""
            },
            "colorscale": [
             [
              0,
              "#0d0887"
             ],
             [
              0.1111111111111111,
              "#46039f"
             ],
             [
              0.2222222222222222,
              "#7201a8"
             ],
             [
              0.3333333333333333,
              "#9c179e"
             ],
             [
              0.4444444444444444,
              "#bd3786"
             ],
             [
              0.5555555555555556,
              "#d8576b"
             ],
             [
              0.6666666666666666,
              "#ed7953"
             ],
             [
              0.7777777777777778,
              "#fb9f3a"
             ],
             [
              0.8888888888888888,
              "#fdca26"
             ],
             [
              1,
              "#f0f921"
             ]
            ],
            "type": "surface"
           }
          ],
          "table": [
           {
            "cells": {
             "fill": {
              "color": "#EBF0F8"
             },
             "line": {
              "color": "white"
             }
            },
            "header": {
             "fill": {
              "color": "#C8D4E3"
             },
             "line": {
              "color": "white"
             }
            },
            "type": "table"
           }
          ]
         },
         "layout": {
          "annotationdefaults": {
           "arrowcolor": "#2a3f5f",
           "arrowhead": 0,
           "arrowwidth": 1
          },
          "autotypenumbers": "strict",
          "coloraxis": {
           "colorbar": {
            "outlinewidth": 0,
            "ticks": ""
           }
          },
          "colorscale": {
           "diverging": [
            [
             0,
             "#8e0152"
            ],
            [
             0.1,
             "#c51b7d"
            ],
            [
             0.2,
             "#de77ae"
            ],
            [
             0.3,
             "#f1b6da"
            ],
            [
             0.4,
             "#fde0ef"
            ],
            [
             0.5,
             "#f7f7f7"
            ],
            [
             0.6,
             "#e6f5d0"
            ],
            [
             0.7,
             "#b8e186"
            ],
            [
             0.8,
             "#7fbc41"
            ],
            [
             0.9,
             "#4d9221"
            ],
            [
             1,
             "#276419"
            ]
           ],
           "sequential": [
            [
             0,
             "#0d0887"
            ],
            [
             0.1111111111111111,
             "#46039f"
            ],
            [
             0.2222222222222222,
             "#7201a8"
            ],
            [
             0.3333333333333333,
             "#9c179e"
            ],
            [
             0.4444444444444444,
             "#bd3786"
            ],
            [
             0.5555555555555556,
             "#d8576b"
            ],
            [
             0.6666666666666666,
             "#ed7953"
            ],
            [
             0.7777777777777778,
             "#fb9f3a"
            ],
            [
             0.8888888888888888,
             "#fdca26"
            ],
            [
             1,
             "#f0f921"
            ]
           ],
           "sequentialminus": [
            [
             0,
             "#0d0887"
            ],
            [
             0.1111111111111111,
             "#46039f"
            ],
            [
             0.2222222222222222,
             "#7201a8"
            ],
            [
             0.3333333333333333,
             "#9c179e"
            ],
            [
             0.4444444444444444,
             "#bd3786"
            ],
            [
             0.5555555555555556,
             "#d8576b"
            ],
            [
             0.6666666666666666,
             "#ed7953"
            ],
            [
             0.7777777777777778,
             "#fb9f3a"
            ],
            [
             0.8888888888888888,
             "#fdca26"
            ],
            [
             1,
             "#f0f921"
            ]
           ]
          },
          "colorway": [
           "#636efa",
           "#EF553B",
           "#00cc96",
           "#ab63fa",
           "#FFA15A",
           "#19d3f3",
           "#FF6692",
           "#B6E880",
           "#FF97FF",
           "#FECB52"
          ],
          "font": {
           "color": "#2a3f5f"
          },
          "geo": {
           "bgcolor": "white",
           "lakecolor": "white",
           "landcolor": "#E5ECF6",
           "showlakes": true,
           "showland": true,
           "subunitcolor": "white"
          },
          "hoverlabel": {
           "align": "left"
          },
          "hovermode": "closest",
          "mapbox": {
           "style": "light"
          },
          "paper_bgcolor": "white",
          "plot_bgcolor": "#E5ECF6",
          "polar": {
           "angularaxis": {
            "gridcolor": "white",
            "linecolor": "white",
            "ticks": ""
           },
           "bgcolor": "#E5ECF6",
           "radialaxis": {
            "gridcolor": "white",
            "linecolor": "white",
            "ticks": ""
           }
          },
          "scene": {
           "xaxis": {
            "backgroundcolor": "#E5ECF6",
            "gridcolor": "white",
            "gridwidth": 2,
            "linecolor": "white",
            "showbackground": true,
            "ticks": "",
            "zerolinecolor": "white"
           },
           "yaxis": {
            "backgroundcolor": "#E5ECF6",
            "gridcolor": "white",
            "gridwidth": 2,
            "linecolor": "white",
            "showbackground": true,
            "ticks": "",
            "zerolinecolor": "white"
           },
           "zaxis": {
            "backgroundcolor": "#E5ECF6",
            "gridcolor": "white",
            "gridwidth": 2,
            "linecolor": "white",
            "showbackground": true,
            "ticks": "",
            "zerolinecolor": "white"
           }
          },
          "shapedefaults": {
           "line": {
            "color": "#2a3f5f"
           }
          },
          "ternary": {
           "aaxis": {
            "gridcolor": "white",
            "linecolor": "white",
            "ticks": ""
           },
           "baxis": {
            "gridcolor": "white",
            "linecolor": "white",
            "ticks": ""
           },
           "bgcolor": "#E5ECF6",
           "caxis": {
            "gridcolor": "white",
            "linecolor": "white",
            "ticks": ""
           }
          },
          "title": {
           "x": 0.05
          },
          "xaxis": {
           "automargin": true,
           "gridcolor": "white",
           "linecolor": "white",
           "ticks": "",
           "title": {
            "standoff": 15
           },
           "zerolinecolor": "white",
           "zerolinewidth": 2
          },
          "yaxis": {
           "automargin": true,
           "gridcolor": "white",
           "linecolor": "white",
           "ticks": "",
           "title": {
            "standoff": 15
           },
           "zerolinecolor": "white",
           "zerolinewidth": 2
          }
         }
        }
       }
      }
     },
     "metadata": {},
     "output_type": "display_data"
    }
   ],
   "source": [
    "px.pie(df, names=\"Genre\")"
   ]
  },
  {
   "cell_type": "code",
   "execution_count": 67,
   "metadata": {},
   "outputs": [
    {
     "data": {
      "text/plain": [
       "<Axes: xlabel='Year', ylabel='Price'>"
      ]
     },
     "execution_count": 67,
     "metadata": {},
     "output_type": "execute_result"
    },
    {
     "data": {
      "image/png": "[encoded data removed]",
      "text/plain": [
       "<Figure size 640x480 with 1 Axes>"
      ]
     },
     "metadata": {},
     "output_type": "display_data"
    }
   ],
   "source": [
    "sns.lineplot(df, x=\"Year\", y=\"Price\")"
   ]
  },
  {
   "cell_type": "code",
   "execution_count": 68,
   "metadata": {},
   "outputs": [
    {
     "data": {
      "text/html": [
       "<div>\n",
       "<style scoped>\n",
       "    .dataframe tbody tr th:only-of-type {\n",
       "        vertical-align: middle;\n",
       "    }\n",
       "\n",
       "    .dataframe tbody tr th {\n",
       "        vertical-align: top;\n",
       "    }\n",
       "\n",
       "    .dataframe thead th {\n",
       "        text-align: right;\n",
       "    }\n",
       "</style>\n",
       "<table border=\"1\" class=\"dataframe\">\n",
       "  <thead>\n",
       "    <tr style=\"text-align: right;\">\n",
       "      <th></th>\n",
       "      <th>User Rating</th>\n",
       "      <th>Name</th>\n",
       "    </tr>\n",
       "  </thead>\n",
       "  <tbody>\n",
       "    <tr>\n",
       "      <th>0</th>\n",
       "      <td>3.3</td>\n",
       "      <td>1</td>\n",
       "    </tr>\n",
       "    <tr>\n",
       "      <th>1</th>\n",
       "      <td>3.6</td>\n",
       "      <td>1</td>\n",
       "    </tr>\n",
       "    <tr>\n",
       "      <th>2</th>\n",
       "      <td>3.8</td>\n",
       "      <td>2</td>\n",
       "    </tr>\n",
       "    <tr>\n",
       "      <th>3</th>\n",
       "      <td>3.9</td>\n",
       "      <td>3</td>\n",
       "    </tr>\n",
       "    <tr>\n",
       "      <th>4</th>\n",
       "      <td>4.0</td>\n",
       "      <td>14</td>\n",
       "    </tr>\n",
       "    <tr>\n",
       "      <th>5</th>\n",
       "      <td>4.1</td>\n",
       "      <td>6</td>\n",
       "    </tr>\n",
       "    <tr>\n",
       "      <th>6</th>\n",
       "      <td>4.2</td>\n",
       "      <td>8</td>\n",
       "    </tr>\n",
       "    <tr>\n",
       "      <th>7</th>\n",
       "      <td>4.3</td>\n",
       "      <td>25</td>\n",
       "    </tr>\n",
       "    <tr>\n",
       "      <th>8</th>\n",
       "      <td>4.4</td>\n",
       "      <td>38</td>\n",
       "    </tr>\n",
       "    <tr>\n",
       "      <th>9</th>\n",
       "      <td>4.5</td>\n",
       "      <td>60</td>\n",
       "    </tr>\n",
       "    <tr>\n",
       "      <th>10</th>\n",
       "      <td>4.6</td>\n",
       "      <td>105</td>\n",
       "    </tr>\n",
       "    <tr>\n",
       "      <th>11</th>\n",
       "      <td>4.7</td>\n",
       "      <td>108</td>\n",
       "    </tr>\n",
       "    <tr>\n",
       "      <th>12</th>\n",
       "      <td>4.8</td>\n",
       "      <td>127</td>\n",
       "    </tr>\n",
       "    <tr>\n",
       "      <th>13</th>\n",
       "      <td>4.9</td>\n",
       "      <td>52</td>\n",
       "    </tr>\n",
       "  </tbody>\n",
       "</table>\n",
       "</div>"
      ],
      "text/plain": [
       "    User Rating  Name\n",
       "0           3.3     1\n",
       "1           3.6     1\n",
       "2           3.8     2\n",
       "3           3.9     3\n",
       "4           4.0    14\n",
       "5           4.1     6\n",
       "6           4.2     8\n",
       "7           4.3    25\n",
       "8           4.4    38\n",
       "9           4.5    60\n",
       "10          4.6   105\n",
       "11          4.7   108\n",
       "12          4.8   127\n",
       "13          4.9    52"
      ]
     },
     "execution_count": 68,
     "metadata": {},
     "output_type": "execute_result"
    }
   ],
   "source": [
    "rating_grouped = df.groupby(by=\"User Rating\").agg({\"Name\": \"count\"}).reset_index()\n",
    "rating_grouped"
   ]
  },
  {
   "cell_type": "code",
   "execution_count": 69,
   "metadata": {},
   "outputs": [
    {
     "data": {
      "image/png": "[encoded data removed]",
      "text/plain": [
       "<Figure size 1000x600 with 1 Axes>"
      ]
     },
     "metadata": {},
     "output_type": "display_data"
    }
   ],
   "source": [
    "plt.figure(figsize=(10, 6))\n",
    "sns.barplot(rating_grouped, x=\"User Rating\", y=\"Name\")\n",
    "plt.ylabel(\"Anzahl\")\n",
    "\n",
    "plt.show()"
   ]
  }
 ],
 "metadata": {
  "kernelspec": {
   "display_name": ".venv",
   "language": "python",
   "name": "python3"
  },
  "language_info": {
   "codemirror_mode": {
    "name": "ipython",
    "version": 3
   },
   "file_extension": ".py",
   "mimetype": "text/x-python",
   "name": "python",
   "nbconvert_exporter": "python",
   "pygments_lexer": "ipython3",
   "version": "3.13.0"
  }
 },
 "nbformat": 4,
 "nbformat_minor": 2
}
